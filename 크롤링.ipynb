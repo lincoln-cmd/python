{
 "cells": [
  {
   "cell_type": "code",
   "execution_count": 4,
   "metadata": {},
   "outputs": [],
   "source": [
    "import requests\n",
    "from bs4 import BeautifulSoup"
   ]
  },
  {
   "cell_type": "code",
   "execution_count": 18,
   "metadata": {},
   "outputs": [
    {
     "name": "stdout",
     "output_type": "stream",
     "text": [
      "<Response [200]>\n"
     ]
    }
   ],
   "source": [
    "# 주소 받아오는 방법\n",
    "res = requests.get(\"https://news.v.daum.net/v/20200805203903921\")\n",
    "print(res)\n",
    "# Response [200] -> 서버를 잘 받아오고 있음\n",
    "# Response [404] -> 페이지를 찾을 수 없음"
   ]
  },
  {
   "cell_type": "code",
   "execution_count": 19,
   "metadata": {},
   "outputs": [
    {
     "name": "stdout",
     "output_type": "stream",
     "text": [
      "\"죽고 싶지 않아요\" 폭발음 속 아이부터 감싼 아버지\n"
     ]
    }
   ],
   "source": [
    "soup = BeautifulSoup(res.content, 'html.parser')\n",
    "# print(soup)\n",
    "data = soup.find('title')\n",
    "print(data.get_text())"
   ]
  },
  {
   "cell_type": "code",
   "execution_count": 20,
   "metadata": {},
   "outputs": [
    {
     "data": {
      "text/plain": [
       "'\\n본문 바로가기\\n메뉴 바로가기\\n'"
      ]
     },
     "execution_count": 20,
     "metadata": {},
     "output_type": "execute_result"
    }
   ],
   "source": [
    "soup.find('div').get_text()"
   ]
  },
  {
   "cell_type": "code",
   "execution_count": 23,
   "metadata": {},
   "outputs": [
    {
     "name": "stdout",
     "output_type": "stream",
     "text": [
      "None\n",
      "<앵커>\n",
      "보신대로 도시를 순식간에 잿더미로 만든 건 폭탄이 아니라 창고에 쌓여있었던 질산암모늄으로 추정됩니다. 주로 비료를 만들 때 쓰이는 질산암모늄은 흰색 고체로, 가연성 물질과 만나면 쉽게 폭발하는 성질이 있습니다. 그래서 화약이나 폭탄 원료로도 사용됩니다. 지난 2004년 150명 이상 숨졌던 북한 용천역 열차 폭발 사고 역시 질산암모늄이 원인이었습니다.\n",
      "이렇게 폭발성 있는 물질이 대량으로 그것도 오랫동안 도심과 가까운 곳에 쌓여있었던 게 피해를 키웠다는 지적이 나오는데, 폭발 당시 상황을 김영아 기자가 전하겠습니다.\n",
      "<기자>\n",
      "[맙소사!]\n",
      "시뻘건 불길에 이어, 거대한 폭발음이 집 전체를 울립니다.\n",
      "리히터 규모 4.5 지진에 맞먹는 진동이 땅을 뒤흔들고 아이들은 겁에 질려 울부짖습니다.\n",
      "[죽고 싶지 않아요!]\n",
      "떨고 있는 아이를 안고 있던 이 아버지는 폭발이 계속되자 건물이 무너지지나 않을까 아이부터 안전한 책상 밑으로 밀어 넣습니다.\n",
      "유리벽 옆에서 놀고 있던 이 아이는 무너지는 유리 사이로 몸을 던진 여성 덕분에 화를 면했습니다.\n",
      "건물 잔해와 깨진 유리 조각으로 뒤덮인 먼지 구덩이 속에서 피투성이가 된 사람들이 길을 잃고 헤맵니다.\n",
      "부상한 아이를 안고 발을 구르는 아버지, 피를 흘리며 몸을 가누지 못하는 여성.\n",
      "None\n",
      "None\n",
      "[샤라위/베이루트 주민 : 첫 번째 폭발음을 듣고 무슨 일이 일어났나 보러 나갔습니다. 두 번째 폭발이 또 있을 줄은 몰랐습니다.]\n",
      "수많은 환자들은 치료조차 받지 못하고 병원 문 앞에서 밤을 새워야 했습니다.\n",
      "(영상출처 : 트위터)  \n",
      "None\n"
     ]
    }
   ],
   "source": [
    "data = soup.find_all('p')\n",
    "for item in data:\n",
    "#     print(item.get_text())\n",
    "    print(item.string)"
   ]
  },
  {
   "cell_type": "code",
   "execution_count": 27,
   "metadata": {},
   "outputs": [
    {
     "name": "stdout",
     "output_type": "stream",
     "text": [
      "\n",
      "\n",
      "\n",
      "\n",
      "\n",
      "\n",
      "\n",
      "\n",
      "<앵커>\n",
      "보신대로 도시를 순식간에 잿더미로 만든 건 폭탄이 아니라 창고에 쌓여있었던 질산암모늄으로 추정됩니다. 주로 비료를 만들 때 쓰이는 질산암모늄은 흰색 고체로, 가연성 물질과 만나면 쉽게 폭발하는 성질이 있습니다. 그래서 화약이나 폭탄 원료로도 사용됩니다. 지난 2004년 150명 이상 숨졌던 북한 용천역 열차 폭발 사고 역시 질산암모늄이 원인이었습니다.\n",
      "이렇게 폭발성 있는 물질이 대량으로 그것도 오랫동안 도심과 가까운 곳에 쌓여있었던 게 피해를 키웠다는 지적이 나오는데, 폭발 당시 상황을 김영아 기자가 전하겠습니다.\n",
      "<기자>\n",
      "[맙소사!]\n",
      "시뻘건 불길에 이어, 거대한 폭발음이 집 전체를 울립니다.\n",
      "리히터 규모 4.5 지진에 맞먹는 진동이 땅을 뒤흔들고 아이들은 겁에 질려 울부짖습니다.\n",
      "[죽고 싶지 않아요!]\n",
      "떨고 있는 아이를 안고 있던 이 아버지는 폭발이 계속되자 건물이 무너지지나 않을까 아이부터 안전한 책상 밑으로 밀어 넣습니다.\n",
      "유리벽 옆에서 놀고 있던 이 아이는 무너지는 유리 사이로 몸을 던진 여성 덕분에 화를 면했습니다.\n",
      "건물 잔해와 깨진 유리 조각으로 뒤덮인 먼지 구덩이 속에서 피투성이가 된 사람들이 길을 잃고 헤맵니다.\n",
      "부상한 아이를 안고 발을 구르는 아버지, 피를 흘리며 몸을 가누지 못하는 여성.\n",
      "\n",
      "\n",
      "\n",
      " 한꺼번에 몰려든 환자들로 병원은 순식간에 북새통이 됐습니다.\n",
      "[샤라위/베이루트 주민 : 첫 번째 폭발음을 듣고 무슨 일이 일어났나 보러 나갔습니다. 두 번째 폭발이 또 있을 줄은 몰랐습니다.]\n",
      "수많은 환자들은 치료조차 받지 못하고 병원 문 앞에서 밤을 새워야 했습니다.\n",
      "(영상출처 : 트위터)  \n",
      "김영아 기자youngah@sbs.co.kr\n",
      "\n"
     ]
    }
   ],
   "source": [
    "# selector\n",
    "# css selector 기능을 사용해서 html 데이터를 선택할 수 있다.\n",
    "# tag\n",
    "# tag + class이름\n",
    "# tag + 다수의 class이름\n",
    "# class이름\n",
    "data = soup.select('section')\n",
    "for item in data:\n",
    "    print(item.get_text())"
   ]
  },
  {
   "cell_type": "code",
   "execution_count": 37,
   "metadata": {},
   "outputs": [],
   "source": [
    "res = requests.get('https://news.daum.net/')\n",
    "soup = BeautifulSoup(res.content, 'html.parser')\n",
    "data = soup.select('list_headline')\n",
    "for item in data:\n",
    "    print(item.get_text())"
   ]
  },
  {
   "cell_type": "code",
   "execution_count": 41,
   "metadata": {},
   "outputs": [
    {
     "name": "stdout",
     "output_type": "stream",
     "text": [
      "Apple 에어팟 프로 (MWP22KH/A)\n",
      "EFM네트웍스 아이피타임 A3004NS-M\n",
      "EFM네트웍스 아이피타임 A604R\n",
      "삼성전자 삼성 DDR4 PC4-21300\n",
      "EFM네트웍스 아이피타임 A2004MU\n",
      "닌텐도 스위치 배터리개선\n",
      "Apple 아이패드 7세대 WIFI 32G\n",
      "마이크로소프트 Windows 10 Home\n",
      "삼성전자 갤럭시 버즈 플러스\n",
      "브리츠 BA-R9 SoundBar 블랙\n",
      "닌텐도 스위치 모여봐요 동물의 숲 에디션\n",
      "베리어 고속 충전 아이폰 케이블\n",
      "베리어 LED C타입 고속충전 케이블\n",
      "삼성전자 삼성 갤럭시 버즈\n",
      "QCY T5\n",
      "마이크로소프트 오피스 2019 Home & Busine...\n",
      "EFM네트웍스 아이피타임 A8004T\n",
      "다이슨 에어랩 스타일러 컴플리트\n",
      "삼성전자 삼성 microSDXC Class10 EVO Plus...\n",
      "EFM네트웍스 아이피타임 N704BCM\n",
      "팅크웨어 아이나비 QXD3000 mini S (2채널)\n",
      "삼성전자 삼성 S27R350\n",
      "샌디스크 Extreme Portable SSD E60\n",
      "AMD 라이젠 7 3700X 마티스\n",
      "샤오미 미밴드4\n",
      "다이슨 슈퍼소닉 HD03\n",
      "EFM네트웍스 아이피타임 A3000UA\n",
      "WD GREEN\n",
      "후지필름 인스탁스 미니 필름\n",
      "Apple 아이패드 에어 3세대 WIFI 64G\n",
      "삼성전자 삼성 U32J590\n",
      "샌디스크 Ultra Flair CZ73\n",
      "EFM네트웍스 아이피타임 A9004M\n",
      "한글과컴퓨터 한컴오피스 2020\n",
      "WD BLUE SATA3\n",
      "주파집 아이폰 11 프로용 더스트넷 5D 풀커...\n",
      "샌디스크 Cruzer Blade Z50\n",
      "WD NEW My Passport Gen3\n",
      "EFM네트웍스 아이피타임 A2004NS-MU\n",
      "EFM네트웍스 아이피타임 A3008-MU\n",
      "베리어 2.1 HDMI 케이블\n",
      "씨게이트 New Backup Plus Slim +Rescue\n",
      "닌텐도 모여봐요 동물의 숲 (SWITCH)\n",
      "브리츠 BZ-SP600X 커브드 게이밍 사운드바\n",
      "삼성전자 삼성 J3 Portable USB3.0\n",
      "Apple 아이패드 에어 3세대 WIFI 256G\n",
      "씨게이트 Barracuda HDD 3.5\n",
      "Apple 아이폰 SE2 64GB [자급제]\n",
      "WD BLUE 3D NAND SATA SSD\n",
      "닌텐도 스위치 라이트\n",
      "벤큐 XL2546 아이케어\n",
      "주파집 3in1 C타입 아이폰 케이블\n",
      "삼성전자 삼성 갤럭시 워치 액티브2 40mm 알...\n",
      "삼성전자 삼성 정품 보조배터리 10000mAh (...\n",
      "EFM네트웍스 아이피타임 A1004NS\n",
      "소니 알파 A6000\n",
      "EFM네트웍스 아이피타임 Extender N3\n",
      "리버네트워크 넥시 CAT.5e UTP 랜케이블\n",
      "삼성전자 갤럭시 A31 SM-A315N 64GB [자급제...\n",
      "EFM네트웍스 아이피타임 H6008\n",
      "LG전자 27ML600SW\n",
      "삼성전자 삼성 KU75UT8070FXKR\n",
      "Apple 에어팟 2세대 유선충전 모델 (MV7N2K...\n",
      "삼성전자 삼성 C32F397\n",
      "파인디지털 파인뷰 X700\n",
      "주파집 C타입 매쉬 고속 충전 케이블\n",
      "닌텐도 링 피트 어드벤처 (SWITCH)\n",
      "Apple 맥북 프로 16형 2019년형 1T 스페이스...\n",
      "마이크로소프트 Windows 10 Pro\n",
      "LG전자 24V50N-GR56K\n",
      "LG전자 그램17 17ZD90N-VX70K\n",
      "도시바 CANVIO ADVANCE USB3.0\n",
      "Apple 아이패드 미니 5세대 WIFI 64G\n",
      "베리어 아이폰 11 프로용 네오 케이스\n",
      "EFM네트웍스 아이피타임 A604G-MU\n",
      "벨킨 F4U092bt\n",
      "EFM네트웍스 아이피타임 N150UA Solo\n",
      "디씨네트워크 블루투스 셀카봉 삼각대 1세대\n",
      "Apple 애플 펜슬 2세대 (MU8F2KH/A)\n",
      "AMD 라이젠 5 3600 마티스\n",
      "삼성전자 갤럭시탭A 8.0 (2019) LTE 32G\n",
      "삼성전자 삼성 U32R590\n",
      "LG전자 75UN7850KNA\n",
      "소니 ICD-TX650\n",
      "주파집 갤럭시S10 5G용 실리콘 정품 케이스\n",
      "후지필름 인스탁스 미니11\n",
      "한성컴퓨터 ULTRON 3254C 커브드 게이밍\n",
      "주파집 갤럭시노트9용 정품 실리콘 케이스\n",
      "한성컴퓨터 ULTRON 3257 커브드 144\n",
      "주파집 4세대 블루투스 삼각대 셀카봉 JU-S...\n",
      "EFM네트웍스 아이피타임 Extender-GIGA\n",
      "브리츠 BA-C1\n",
      "로지텍 HD웹캠 C270\n",
      "후지필름 후지컬러 C200-36장\n",
      "LG전자 톤플러스 HBS-510\n",
      "EFM네트웍스 아이피타임 A9004M-X2\n",
      "EFM네트웍스 아이피타임 H608\n",
      "후지필름 인스탁스 미니90\n",
      "삼성전자 갤럭시탭A 10.1 (2019) WiFi 32G\n",
      "앱코 APC930\n"
     ]
    }
   ],
   "source": [
    "res = requests.get('https://search.shopping.naver.com/best100v2/detail.nhn?catId=50000003')\n",
    "soup = BeautifulSoup(res.content, 'html.parser')\n",
    "data = soup.select('ul > li > p > a')\n",
    "for item in data:\n",
    "    print(item.get_text())"
   ]
  },
  {
   "cell_type": "code",
   "execution_count": 5,
   "metadata": {},
   "outputs": [
    {
     "ename": "TypeError",
     "evalue": "select() missing 1 required positional argument: 'selector'",
     "output_type": "error",
     "traceback": [
      "\u001b[1;31m---------------------------------------------------------------------------\u001b[0m",
      "\u001b[1;31mTypeError\u001b[0m                                 Traceback (most recent call last)",
      "\u001b[1;32m<ipython-input-5-6dbd589f91fe>\u001b[0m in \u001b[0;36m<module>\u001b[1;34m\u001b[0m\n\u001b[0;32m      1\u001b[0m \u001b[0mres\u001b[0m \u001b[1;33m=\u001b[0m \u001b[0mrequests\u001b[0m\u001b[1;33m.\u001b[0m\u001b[0mget\u001b[0m\u001b[1;33m(\u001b[0m\u001b[1;34m'https://search.shopping.naver.com/best100v2/detail.nhn?catId=50000000'\u001b[0m\u001b[1;33m)\u001b[0m\u001b[1;33m\u001b[0m\u001b[1;33m\u001b[0m\u001b[0m\n\u001b[0;32m      2\u001b[0m \u001b[0msoup\u001b[0m \u001b[1;33m=\u001b[0m \u001b[0mBeautifulSoup\u001b[0m\u001b[1;33m(\u001b[0m\u001b[0mres\u001b[0m\u001b[1;33m.\u001b[0m\u001b[0mcontent\u001b[0m\u001b[1;33m,\u001b[0m \u001b[1;34m'html.parser'\u001b[0m\u001b[1;33m)\u001b[0m\u001b[1;33m\u001b[0m\u001b[1;33m\u001b[0m\u001b[0m\n\u001b[1;32m----> 3\u001b[1;33m \u001b[0mdata\u001b[0m \u001b[1;33m=\u001b[0m \u001b[0msoup\u001b[0m\u001b[1;33m.\u001b[0m\u001b[0mselect\u001b[0m\u001b[1;33m(\u001b[0m\u001b[1;33m)\u001b[0m\u001b[1;33m\u001b[0m\u001b[1;33m\u001b[0m\u001b[0m\n\u001b[0m",
      "\u001b[1;31mTypeError\u001b[0m: select() missing 1 required positional argument: 'selector'"
     ]
    }
   ],
   "source": [
    "res = requests.get('https://search.shopping.naver.com/best100v2/detail.nhn?catId=50000000')\n",
    "soup = BeautifulSoup(res.content, 'html.parser')\n",
    "data = soup.select()"
   ]
  },
  {
   "cell_type": "code",
   "execution_count": 4,
   "metadata": {},
   "outputs": [
    {
     "ename": "NameError",
     "evalue": "name 'soup' is not defined",
     "output_type": "error",
     "traceback": [
      "\u001b[1;31m---------------------------------------------------------------------------\u001b[0m",
      "\u001b[1;31mNameError\u001b[0m                                 Traceback (most recent call last)",
      "\u001b[1;32m<ipython-input-4-6d4ab0fb5c52>\u001b[0m in \u001b[0;36m<module>\u001b[1;34m\u001b[0m\n\u001b[0;32m      3\u001b[0m \u001b[0mres\u001b[0m \u001b[1;33m=\u001b[0m \u001b[0mrequests\u001b[0m\u001b[1;33m.\u001b[0m\u001b[0mget\u001b[0m\u001b[1;33m(\u001b[0m\u001b[1;34m'https://search.shopping.naver.com/best100v2/main.nhn'\u001b[0m\u001b[1;33m)\u001b[0m\u001b[1;33m\u001b[0m\u001b[1;33m\u001b[0m\u001b[0m\n\u001b[0;32m      4\u001b[0m \u001b[0msite_list\u001b[0m \u001b[1;33m=\u001b[0m \u001b[0mrequests\u001b[0m\u001b[1;33m.\u001b[0m\u001b[0mget\u001b[0m\u001b[1;33m(\u001b[0m\u001b[1;34m'https://search.shopping.naver.com/best100v2/main.nhn'\u001b[0m\u001b[1;33m)\u001b[0m\u001b[1;33m\u001b[0m\u001b[1;33m\u001b[0m\u001b[0m\n\u001b[1;32m----> 5\u001b[1;33m \u001b[0msite_data\u001b[0m \u001b[1;33m=\u001b[0m \u001b[0msoup\u001b[0m\u001b[1;33m.\u001b[0m\u001b[0mselect\u001b[0m\u001b[1;33m(\u001b[0m\u001b[1;34m'div > ul.category_area > li > a'\u001b[0m\u001b[1;33m)\u001b[0m\u001b[1;33m\u001b[0m\u001b[1;33m\u001b[0m\u001b[0m\n\u001b[0m\u001b[0;32m      6\u001b[0m \u001b[1;32mfor\u001b[0m \u001b[0msite\u001b[0m \u001b[1;32min\u001b[0m \u001b[0msite_data\u001b[0m\u001b[1;33m:\u001b[0m\u001b[1;33m\u001b[0m\u001b[1;33m\u001b[0m\u001b[0m\n\u001b[0;32m      7\u001b[0m     \u001b[0mprint\u001b[0m\u001b[1;33m(\u001b[0m\u001b[0msite\u001b[0m\u001b[1;33m.\u001b[0m\u001b[0mget_text\u001b[0m\u001b[1;33m(\u001b[0m\u001b[1;33m)\u001b[0m\u001b[1;33m)\u001b[0m\u001b[1;33m\u001b[0m\u001b[1;33m\u001b[0m\u001b[0m\n",
      "\u001b[1;31mNameError\u001b[0m: name 'soup' is not defined"
     ]
    }
   ],
   "source": [
    "import requests\n",
    "from bs4 import BeautifulSoup\n",
    "res = requests.get('https://search.shopping.naver.com/best100v2/main.nhn')\n",
    "site_list = requests.get('https://search.shopping.naver.com/best100v2/main.nhn')\n",
    "site_data = soup.select('div > ul.category_area > li > a')\n",
    "for site in site_data:\n",
    "    print(site.get_text())\n",
    "# soup = BeautifulSoup(res.content, 'html.parser')\n",
    "# data = soup.select('')"
   ]
  },
  {
   "cell_type": "code",
   "execution_count": 5,
   "metadata": {},
   "outputs": [
    {
     "name": "stdout",
     "output_type": "stream",
     "text": [
      "https://search.shopping.naver.com/best100v2/main.nhn\n",
      "https://search.shopping.naver.com/best100v2/detail.nhn?catId=50000000\n"
     ]
    },
    {
     "ename": "TypeError",
     "evalue": "unsupported operand type(s) for +: 'int' and 'str'",
     "output_type": "error",
     "traceback": [
      "\u001b[1;31m---------------------------------------------------------------------------\u001b[0m",
      "\u001b[1;31mTypeError\u001b[0m                                 Traceback (most recent call last)",
      "\u001b[1;32m<ipython-input-5-441fada47542>\u001b[0m in \u001b[0;36m<module>\u001b[1;34m\u001b[0m\n\u001b[0;32m      7\u001b[0m     \u001b[0mi\u001b[0m \u001b[1;33m=\u001b[0m \u001b[1;36m1\u001b[0m\u001b[1;33m\u001b[0m\u001b[1;33m\u001b[0m\u001b[0m\n\u001b[0;32m      8\u001b[0m     \u001b[1;32mfor\u001b[0m \u001b[0mdata\u001b[0m \u001b[1;32min\u001b[0m \u001b[0mdata_list\u001b[0m\u001b[1;33m:\u001b[0m\u001b[1;33m\u001b[0m\u001b[1;33m\u001b[0m\u001b[0m\n\u001b[1;32m----> 9\u001b[1;33m         \u001b[0mprint\u001b[0m\u001b[1;33m(\u001b[0m\u001b[0mi\u001b[0m \u001b[1;33m+\u001b[0m \u001b[1;34m':'\u001b[0m \u001b[1;33m+\u001b[0m \u001b[0mdata\u001b[0m\u001b[1;33m.\u001b[0m\u001b[0mget_text\u001b[0m\u001b[1;33m(\u001b[0m\u001b[1;33m)\u001b[0m\u001b[1;33m)\u001b[0m\u001b[1;33m\u001b[0m\u001b[1;33m\u001b[0m\u001b[0m\n\u001b[0m\u001b[0;32m     10\u001b[0m         \u001b[0mi\u001b[0m \u001b[1;33m+=\u001b[0m \u001b[1;36m1\u001b[0m\u001b[1;33m\u001b[0m\u001b[1;33m\u001b[0m\u001b[0m\n",
      "\u001b[1;31mTypeError\u001b[0m: unsupported operand type(s) for +: 'int' and 'str'"
     ]
    }
   ],
   "source": [
    "site_list = ['https://search.shopping.naver.com/best100v2/main.nhn','https://search.shopping.naver.com/best100v2/detail.nhn?catId=50000000']\n",
    "for site in site_list:\n",
    "    print(site)\n",
    "    res = requests.get(site)\n",
    "    soup = BeautifulSoup(res.content, 'html.parser')\n",
    "    data_list = soup.select('#productListArea > ul > li > p > a')\n",
    "    i = 1\n",
    "    for data in data_list:\n",
    "        print(i + ':' + data.get_text())\n",
    "        i += 1"
   ]
  },
  {
   "cell_type": "code",
   "execution_count": null,
   "metadata": {},
   "outputs": [],
   "source": []
  },
  {
   "cell_type": "code",
   "execution_count": null,
   "metadata": {},
   "outputs": [],
   "source": []
  },
  {
   "cell_type": "code",
   "execution_count": null,
   "metadata": {},
   "outputs": [],
   "source": []
  },
  {
   "cell_type": "code",
   "execution_count": 1,
   "metadata": {},
   "outputs": [],
   "source": [
    "# 숙제\n",
    "# 네이버 쇼핑 -> 패션의류, 패션잡화, 화장품/미용..... -> 목록, 링크 -> 각 목록 내 물건 이름 추출"
   ]
  },
  {
   "cell_type": "code",
   "execution_count": 2,
   "metadata": {},
   "outputs": [],
   "source": [
    "# 네이버 기상청 -> 강수량"
   ]
  },
  {
   "cell_type": "code",
   "execution_count": null,
   "metadata": {},
   "outputs": [],
   "source": []
  }
 ],
 "metadata": {
  "kernelspec": {
   "display_name": "Python 3",
   "language": "python",
   "name": "python3"
  },
  "language_info": {
   "codemirror_mode": {
    "name": "ipython",
    "version": 3
   },
   "file_extension": ".py",
   "mimetype": "text/x-python",
   "name": "python",
   "nbconvert_exporter": "python",
   "pygments_lexer": "ipython3",
   "version": "3.7.6"
  }
 },
 "nbformat": 4,
 "nbformat_minor": 4
}
