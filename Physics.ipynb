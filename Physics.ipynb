{
 "cells": [
  {
   "cell_type": "markdown",
   "metadata": {},
   "source": [
    "# 김동훈"
   ]
  },
  {
   "cell_type": "markdown",
   "metadata": {},
   "source": [
    "# 일반물리 & 수학\n",
    "> 역학\n",
    "  - 일차원 운동\n",
    "    - 위치, 속도, 가속도\n",
    "    - 자유 낙하\n",
    "  - 이차원 운동\n",
    "    - 위치, 속도, 가속도\n",
    "    - 포물체 운동\n",
    "    - 원운동\n",
    "  - 운동 법칙\n",
    "    - 힘\n",
    "    - 뉴턴 1,2,3법칙\n",
    "    - 마찰력\n",
    "  - 원운동 및 뉴턴 법칙 응용\n",
    "  - 에너지\n",
    "    - 운동 에너지, 위치 에너지\n",
    "    - 보존력, 비보존력\n",
    "  - 에너지 보존\n",
    "    - 고립계, 비고립계\n",
    "    - 일률\n",
    "    - 비보존 -> 역학적 에너지 변화\n",
    "  - 선운동량 및 충돌\n",
    "    - 선운동량\n",
    "    - 고립계, 비고립계\n",
    "    - 일차 및 이차원 충돌\n",
    "    - 질량 중심\n",
    "    - 다입자계\n",
    "    - 로켓 추진\n",
    "  - 강체 회전\n",
    "    - 각위치, 각속도, 각가속도\n",
    "    - 회전 및 병진 운동\n",
    "    - 관성 모멘트\n",
    "    - 토크\n",
    "    - 굴림 운동\n",
    "  - 각운동량\n",
    "    - 자이로스코프\n",
    "  - 정적 평형, 탄성\n",
    "    - 무게 중심\n",
    "    - 고체 탄성\n",
    "  - 만유인력\n",
    "    - 만유인력 법칙\n",
    "    - 자유낙하 가속도, 중력\n",
    "    - 케플러 법칙\n",
    "    - 중력장\n",
    "    - 행성, 위성 운동\n",
    "\n",
    "\n",
    "\n",
    "> 유체 역학\n",
    "  - 유체 역학\n",
    "    - 압력 및 변화\n",
    "    - 유체 동역학\n",
    "    - 베르누이 방정식\n",
    "    \n",
    "    \n",
    "    \n",
    "> 진동, 파동\n",
    "  - 진동\n",
    "    - 용수철\n",
    "    - 단조화 진동\n",
    "    - 진자\n",
    "    - 감쇠 진동\n",
    "    - 강제 진동\n",
    "  - 파동\n",
    "    - 진행파\n",
    "    - 반사, 투과\n",
    "    - 사인형 파동 -> 에너지 전달률\n",
    "    - 선형 파동 방정식\n",
    "  - 음파\n",
    "    - 음파에서 압력 변화\n",
    "    - 도플러 효과\n",
    "  - 중첩 및 정상파\n",
    "    - 파동의 간섭\n",
    "    - 정상파\n",
    "    - 경계 조건하의 파동\n",
    "    - 맥놀이(시간적 간섭)\n",
    "    - 비사인형 파동\n",
    "    \n",
    "    \n",
    "    \n",
    "> 열역학\n",
    "  - 온도\n",
    "    - 열역학 제 0법칙\n",
    "    -  고체 및 액체 열팽창\n",
    "    - 이상 기체의 거시적 기술\n",
    "  - 열역학 제 1법칙\n",
    "    - 열과 내부 에너지\n",
    "    - 비열, 열량\n",
    "    - 숨은열\n",
    "  - 열기관, 엔트로피, 열역학 제 2법칙\n",
    "    - 열펌프, 냉장고\n",
    "    - 가역, 비가역 과정\n",
    "    - 카르노 기관\n",
    "    - 엔트로피\n",
    "    - 미시적 크기에서의 엔트로피\n",
    "    \n",
    "    \n",
    "    \n",
    "> 전자기학\n",
    "  - 전기장\n",
    "    - 쿨롱 법칙\n",
    "    - 전기장\n",
    "    - 대전입자의 운동\n",
    "  - 가우스 법칙\n",
    "    - 정전기정 평형 상태의 도체\n",
    "  - 전위\n",
    "    - 전위, 전위차\n",
    "    - 전위, 위치 에너지\n",
    "  - 전기용량, 유전체\n",
    "    - 전기용량\n",
    "    - 축전기\n",
    "    - 유전체 축전기\n",
    "    - 전기 쌍극자\n",
    "  - 전류와 저항\n",
    "    - 전류\n",
    "    - 저항\n",
    "    - 저항과 온도\n",
    "    - 초전도체\n",
    "    - 전력\n",
    "  - 직류 회로\n",
    "    - 기전력\n",
    "    - 직렬, 병렬 연결\n",
    "    - RC회로\n",
    "  - 자기장\n",
    "    - 자기장, 자기력\n",
    "    - 대전 입자의 운동\n",
    "    - 홀 효과\n",
    "  - 자기장의 원천\n",
    "    - 비오-사바르 법칙\n",
    "    - 앙페르의 법칙\n",
    "    - 솔레노이드 자기장\n",
    "  - 패러데이 법칙\n",
    "    - 운동 기전력\n",
    "    - 렌츠의 법칙\n",
    "    - 발전기, 전동기\n",
    "    - 맴돌이 전류\n",
    "  - 유도 계수\n",
    "    - 자체 유도 계수\n",
    "    - RL회로\n",
    "    - 자기장 내의 에너지\n",
    "    - 상호 유도 계수\n",
    "    - LC회로 진동\n",
    "    - RLC회로\n",
    "  - 교류 회록\n",
    "    - RLC회로 -> 저항기, 인덕터, 축전기\n",
    "    - RLC회로 공명\n",
    "    - 변압기, 전력 전송\n",
    "    - 정류기, 여과기\n",
    "  - 전자기파\n",
    "    - 평면 전가기파\n",
    "    - 전자기파 에너지\n",
    "    - 윤동량, 복사압\n",
    "    - 전자기파 스펙트럼\n",
    "    \n",
    "    \n",
    "    \n",
    "> 광학\n",
    "  - 상의 형성\n",
    "    - 평면, 구면 거울\n",
    "    - 굴절\n",
    "    - 렌즈, 확대경, 현미경, 망원경\n",
    "  - 파동 광학\n",
    "    - 영의 이중 슬릿\n",
    "    - 간섭무늬의 세기 분포\n",
    "    - 박막 간섭\n",
    "    - 마이컬슨 간섭계\n",
    "  - 회절 무늬, 편광\n",
    "    - 좁은 슬릿 회절 무늬\n",
    "    - 단일 슬릿, 원형 구멍 분해능\n",
    "    - 회절 격자\n",
    "    - 결정에 의한 X선 회절\n",
    "    - 편광\n",
    "\n",
    "\n",
    "\n",
    "> 상대성 이론\n",
    "  - 상대성 이론\n",
    "    - 특수 상대성 이론\n",
    "    - 로렌츠 변환식\n",
    "    - 상대론적 선운동량\n",
    "    - 상대론적 에너지\n",
    "    - 일반 상대성 이론\n",
    "\n",
    "\n",
    "\n",
    "> 양자론\n",
    "  - 양자 물리학\n",
    "    - 흑체 복사\n",
    "    - 광전 효과\n",
    "    - 콤프턴 효과\n",
    "    - 불확정성 원리\n",
    "  - 양자 역학\n",
    "    - 파동 함수\n",
    "    - 슈뢰딩거 방정식\n",
    "    - 유한한 높이의 우물\n",
    "    - 퍼텐셜 에너지, 터널링\n",
    "  - 원자 물리\n",
    "    - 기체 원자 스펙트럼\n",
    "    - 수소에 대한 파동 함수\n",
    "    - 배타 원리\n",
    "    - 자발전이, 유도 전이\n",
    "\n",
    "\n",
    "\n",
    "> 핵물리학\n",
    "  - 핵물리학\n",
    "    - 결합 에너지\n",
    "    - 방사능\n",
    "    - 붕괴\n",
    "    - 핵반응\n",
    "    - 핵자기 공명, 자기 공명\n",
    "\n",
    "\n",
    "\n",
    "> 미적분\n",
    "  - 미분, 적분\n",
    "  - 2차, 3차원 미분\n",
    "  - 편미분\n",
    "  - 중적분, 3중적\n",
    "  \n",
    "  \n",
    "  \n",
    "> 선형 대수\n",
    "  - 벡터와 행렬"
   ]
  },
  {
   "cell_type": "markdown",
   "metadata": {},
   "source": [
    "# 역학"
   ]
  },
  {
   "cell_type": "code",
   "execution_count": 17,
   "metadata": {},
   "outputs": [],
   "source": [
    "# 이동 거리 구하기\n",
    "# 속도(v)와 총 이동 시간(t)가 주어졌을 때 총 이동 거리(x)\n",
    "def XVT_x(v, t):\n",
    "    return v * t"
   ]
  },
  {
   "cell_type": "code",
   "execution_count": 18,
   "metadata": {},
   "outputs": [
    {
     "data": {
      "text/plain": [
       "100"
      ]
     },
     "execution_count": 18,
     "metadata": {},
     "output_type": "execute_result"
    }
   ],
   "source": [
    "XVT_x(10, 10)"
   ]
  },
  {
   "cell_type": "code",
   "execution_count": 12,
   "metadata": {},
   "outputs": [],
   "source": [
    "# 속도 구하기\n",
    "# 이동 거리(x)와 이동 시간(t)가 주어졌을 때 속도(v)\n",
    "def XVT_v(x, t):\n",
    "    return x / t"
   ]
  },
  {
   "cell_type": "code",
   "execution_count": 13,
   "metadata": {},
   "outputs": [
    {
     "data": {
      "text/plain": [
       "10.0"
      ]
     },
     "execution_count": 13,
     "metadata": {},
     "output_type": "execute_result"
    }
   ],
   "source": [
    "XVT_v(100,10)"
   ]
  },
  {
   "cell_type": "code",
   "execution_count": 14,
   "metadata": {},
   "outputs": [],
   "source": [
    "# 시간 구하기\n",
    "# 이동 거리(x)와 속도(v)가 주어졌을 때 총 이동 시간(t)\n",
    "def XVT_t(x, v):\n",
    "    return x / v"
   ]
  },
  {
   "cell_type": "code",
   "execution_count": 15,
   "metadata": {
    "scrolled": true
   },
   "outputs": [
    {
     "data": {
      "text/plain": [
       "10.0"
      ]
     },
     "execution_count": 15,
     "metadata": {},
     "output_type": "execute_result"
    }
   ],
   "source": [
    "XVT_t(100, 10)"
   ]
  },
  {
   "cell_type": "code",
   "execution_count": 1,
   "metadata": {},
   "outputs": [],
   "source": [
    "# 속도 구하기\n",
    "# 처음 속도(v0)와 가속도(a), 총 이동 시간(t)이 주어졌을 때 나중 속도(v)\n",
    "def Vel_1(v0, a, t):\n",
    "    return v0 + (a * t)"
   ]
  },
  {
   "cell_type": "code",
   "execution_count": 2,
   "metadata": {},
   "outputs": [
    {
     "data": {
      "text/plain": [
       "20"
      ]
     },
     "execution_count": 2,
     "metadata": {},
     "output_type": "execute_result"
    }
   ],
   "source": [
    "Vel_t(10,1,10)"
   ]
  },
  {
   "cell_type": "code",
   "execution_count": 5,
   "metadata": {},
   "outputs": [],
   "source": [
    "# 속도의 제곱으로 나중 속도 구하기\n",
    "# 처음 속도(v0), 가속도(a), 이동 거리(x)가 주어졌을 때 나중 속도(v)\n",
    "def Vel_2(v0, a, x):\n",
    "    import math\n",
    "    v = math.sqrt(v0**2 + 2*a*x)\n",
    "    return v"
   ]
  },
  {
   "cell_type": "code",
   "execution_count": 6,
   "metadata": {},
   "outputs": [
    {
     "data": {
      "text/plain": [
       "10.954451150103322"
      ]
     },
     "execution_count": 6,
     "metadata": {},
     "output_type": "execute_result"
    }
   ],
   "source": [
    "Vel_2(10, 1, 10)"
   ]
  },
  {
   "cell_type": "code",
   "execution_count": 8,
   "metadata": {},
   "outputs": [],
   "source": [
    "# 이동 거리 구하기\n",
    "# 초기 위치(x0), 초기 속도(v0), 총 이동 시간(t), 가속도(a)가 주어졌을 때 이동 거리(x)\n",
    "def Loca_1(x0, v0, t, a):\n",
    "    x = (x0) + (v0 * t) + (0.5 * a * t**2)\n",
    "    return x"
   ]
  },
  {
   "cell_type": "code",
   "execution_count": 9,
   "metadata": {},
   "outputs": [
    {
     "data": {
      "text/plain": [
       "150.0"
      ]
     },
     "execution_count": 9,
     "metadata": {},
     "output_type": "execute_result"
    }
   ],
   "source": [
    "Loca(0, 10, 10, 1)"
   ]
  },
  {
   "cell_type": "code",
   "execution_count": 23,
   "metadata": {},
   "outputs": [],
   "source": [
    "# 가속도 구하기\n",
    "# 속도의 변화량(dv)와 시간 변화량(dt)가 주어졌을 때 가속도(a)\n",
    "def Accel_1(dv, dt):\n",
    "    return dv / dt"
   ]
  },
  {
   "cell_type": "code",
   "execution_count": 24,
   "metadata": {},
   "outputs": [
    {
     "data": {
      "text/plain": [
       "5.0"
      ]
     },
     "execution_count": 24,
     "metadata": {},
     "output_type": "execute_result"
    }
   ],
   "source": [
    "Accel_1(10,2)"
   ]
  },
  {
   "cell_type": "code",
   "execution_count": 25,
   "metadata": {},
   "outputs": [],
   "source": [
    "# 처음 속도(v0), 나중 속도(v), 처음 시간(t0)과 나중 시간(t)가 주어졌을 때 가속도(a)\n",
    "def Accel_2(v0, v, t0, t):\n",
    "    return (v - v0) / (t - t0)"
   ]
  },
  {
   "cell_type": "code",
   "execution_count": 26,
   "metadata": {},
   "outputs": [
    {
     "data": {
      "text/plain": [
       "5.0"
      ]
     },
     "execution_count": 26,
     "metadata": {},
     "output_type": "execute_result"
    }
   ],
   "source": [
    "Accel_2(0, 10, 0, 2)"
   ]
  },
  {
   "cell_type": "code",
   "execution_count": 33,
   "metadata": {},
   "outputs": [],
   "source": [
    "# 등속도 운도에서 시간 경과에 따른 거리 변화 -> 그래프, 표\n",
    "# 처음 속도(v0), 처음 시간(t0), 나중 시간(t1)이 주어졌을 때 시간경과에 따른 이동 거리\n",
    "def chart_x_UniMot(v0, t0, t1):\n",
    "    import matplotlib.pyplot as plt\n",
    "    import pandas as pd\n",
    "    vel = ['v = {0}'.format(v0), '2v = {0}'.format(v0*2)]\n",
    "    dis = []\n",
    "    time = []\n",
    "    t = t0\n",
    "    while t < t1 + 1:\n",
    "        x = v0 * t\n",
    "        x2 = v0 * 2 * t\n",
    "        dis.append((x,x2))\n",
    "        time.append(t)\n",
    "        t += 1\n",
    "    chart = pd.DataFrame(dis, index = time, columns = vel)\n",
    "    grape = plt.plot(dis, label='v=5')\n",
    "    plt.xlabel('time') # 그래프 x축 이름\n",
    "    plt.ylabel('distance') # 그래프 Y축 이름\n",
    "    plt.title('x-t grape') # 그래프 이름\n",
    "    plt.legend(['v = {0}'.format(v0), '2v = {0}'.format(v0*2)]) # 그래프에 표시된 두 선분의 이름 구분\n",
    "    return chart"
   ]
  },
  {
   "cell_type": "code",
   "execution_count": 34,
   "metadata": {},
   "outputs": [
    {
     "data": {
      "text/html": [
       "<div>\n",
       "<style scoped>\n",
       "    .dataframe tbody tr th:only-of-type {\n",
       "        vertical-align: middle;\n",
       "    }\n",
       "\n",
       "    .dataframe tbody tr th {\n",
       "        vertical-align: top;\n",
       "    }\n",
       "\n",
       "    .dataframe thead th {\n",
       "        text-align: right;\n",
       "    }\n",
       "</style>\n",
       "<table border=\"1\" class=\"dataframe\">\n",
       "  <thead>\n",
       "    <tr style=\"text-align: right;\">\n",
       "      <th></th>\n",
       "      <th>v = 5</th>\n",
       "      <th>2v = 10</th>\n",
       "    </tr>\n",
       "  </thead>\n",
       "  <tbody>\n",
       "    <tr>\n",
       "      <th>10</th>\n",
       "      <td>50</td>\n",
       "      <td>100</td>\n",
       "    </tr>\n",
       "    <tr>\n",
       "      <th>11</th>\n",
       "      <td>55</td>\n",
       "      <td>110</td>\n",
       "    </tr>\n",
       "    <tr>\n",
       "      <th>12</th>\n",
       "      <td>60</td>\n",
       "      <td>120</td>\n",
       "    </tr>\n",
       "    <tr>\n",
       "      <th>13</th>\n",
       "      <td>65</td>\n",
       "      <td>130</td>\n",
       "    </tr>\n",
       "    <tr>\n",
       "      <th>14</th>\n",
       "      <td>70</td>\n",
       "      <td>140</td>\n",
       "    </tr>\n",
       "    <tr>\n",
       "      <th>15</th>\n",
       "      <td>75</td>\n",
       "      <td>150</td>\n",
       "    </tr>\n",
       "    <tr>\n",
       "      <th>16</th>\n",
       "      <td>80</td>\n",
       "      <td>160</td>\n",
       "    </tr>\n",
       "    <tr>\n",
       "      <th>17</th>\n",
       "      <td>85</td>\n",
       "      <td>170</td>\n",
       "    </tr>\n",
       "    <tr>\n",
       "      <th>18</th>\n",
       "      <td>90</td>\n",
       "      <td>180</td>\n",
       "    </tr>\n",
       "    <tr>\n",
       "      <th>19</th>\n",
       "      <td>95</td>\n",
       "      <td>190</td>\n",
       "    </tr>\n",
       "    <tr>\n",
       "      <th>20</th>\n",
       "      <td>100</td>\n",
       "      <td>200</td>\n",
       "    </tr>\n",
       "  </tbody>\n",
       "</table>\n",
       "</div>"
      ],
      "text/plain": [
       "    v = 5  2v = 10\n",
       "10     50      100\n",
       "11     55      110\n",
       "12     60      120\n",
       "13     65      130\n",
       "14     70      140\n",
       "15     75      150\n",
       "16     80      160\n",
       "17     85      170\n",
       "18     90      180\n",
       "19     95      190\n",
       "20    100      200"
      ]
     },
     "execution_count": 34,
     "metadata": {},
     "output_type": "execute_result"
    },
    {
     "data": {
      "image/png": "[encoded data removed]",
      "text/plain": [
       "<Figure size 432x288 with 1 Axes>"
      ]
     },
     "metadata": {
      "needs_background": "light"
     },
     "output_type": "display_data"
    }
   ],
   "source": [
    "chart_x_UniMot(5, 10, 20)"
   ]
  },
  {
   "cell_type": "code",
   "execution_count": 31,
   "metadata": {},
   "outputs": [],
   "source": [
    "# 등가속도 운동을 하는 물체의 시간에 따른 이동 거리 -> 그래프, 표\n",
    "# 초기 위치(x0), 처음 속도(v0), 가속도(a), 처음 시간(t0), 나중 시간(t1) 가 주어졌을 때 시간에 따른 물체의 이동거리(x)\n",
    "def chart_x_UniAccel(x0, v0, a, t0, t1):\n",
    "    import pandas as pd\n",
    "    import matplotlib.pyplot as plt\n",
    "    dis = []\n",
    "    vel = []\n",
    "    values = []\n",
    "    time = []\n",
    "    i = 0\n",
    "    while t0 < t1+1:\n",
    "        x = x0 + (v0*t0) + (0.5 * a * (t0**2))\n",
    "        v = v0 + a * t0\n",
    "        dis.append(x)\n",
    "        vel.append(v)\n",
    "        values.append((vel[i], dis[i]))\n",
    "        time.append(t0)\n",
    "        t0 += 1\n",
    "        i += 1\n",
    "    chart = pd.DataFrame(values, index = time, columns = ['Velocity', 'Position'])\n",
    "    grpae = plt.plot(dis)\n",
    "    plt.xlabel('time')\n",
    "    plt.ylabel('distance')\n",
    "    plt.title('Constant Acceleration')\n",
    "    return chart"
   ]
  },
  {
   "cell_type": "code",
   "execution_count": 32,
   "metadata": {},
   "outputs": [
    {
     "data": {
      "text/html": [
       "<div>\n",
       "<style scoped>\n",
       "    .dataframe tbody tr th:only-of-type {\n",
       "        vertical-align: middle;\n",
       "    }\n",
       "\n",
       "    .dataframe tbody tr th {\n",
       "        vertical-align: top;\n",
       "    }\n",
       "\n",
       "    .dataframe thead th {\n",
       "        text-align: right;\n",
       "    }\n",
       "</style>\n",
       "<table border=\"1\" class=\"dataframe\">\n",
       "  <thead>\n",
       "    <tr style=\"text-align: right;\">\n",
       "      <th></th>\n",
       "      <th>Velocity</th>\n",
       "      <th>Position</th>\n",
       "    </tr>\n",
       "  </thead>\n",
       "  <tbody>\n",
       "    <tr>\n",
       "      <th>0</th>\n",
       "      <td>0</td>\n",
       "      <td>0.0</td>\n",
       "    </tr>\n",
       "    <tr>\n",
       "      <th>1</th>\n",
       "      <td>1</td>\n",
       "      <td>0.5</td>\n",
       "    </tr>\n",
       "    <tr>\n",
       "      <th>2</th>\n",
       "      <td>2</td>\n",
       "      <td>2.0</td>\n",
       "    </tr>\n",
       "    <tr>\n",
       "      <th>3</th>\n",
       "      <td>3</td>\n",
       "      <td>4.5</td>\n",
       "    </tr>\n",
       "    <tr>\n",
       "      <th>4</th>\n",
       "      <td>4</td>\n",
       "      <td>8.0</td>\n",
       "    </tr>\n",
       "    <tr>\n",
       "      <th>5</th>\n",
       "      <td>5</td>\n",
       "      <td>12.5</td>\n",
       "    </tr>\n",
       "    <tr>\n",
       "      <th>6</th>\n",
       "      <td>6</td>\n",
       "      <td>18.0</td>\n",
       "    </tr>\n",
       "    <tr>\n",
       "      <th>7</th>\n",
       "      <td>7</td>\n",
       "      <td>24.5</td>\n",
       "    </tr>\n",
       "    <tr>\n",
       "      <th>8</th>\n",
       "      <td>8</td>\n",
       "      <td>32.0</td>\n",
       "    </tr>\n",
       "    <tr>\n",
       "      <th>9</th>\n",
       "      <td>9</td>\n",
       "      <td>40.5</td>\n",
       "    </tr>\n",
       "    <tr>\n",
       "      <th>10</th>\n",
       "      <td>10</td>\n",
       "      <td>50.0</td>\n",
       "    </tr>\n",
       "  </tbody>\n",
       "</table>\n",
       "</div>"
      ],
      "text/plain": [
       "    Velocity  Position\n",
       "0          0       0.0\n",
       "1          1       0.5\n",
       "2          2       2.0\n",
       "3          3       4.5\n",
       "4          4       8.0\n",
       "5          5      12.5\n",
       "6          6      18.0\n",
       "7          7      24.5\n",
       "8          8      32.0\n",
       "9          9      40.5\n",
       "10        10      50.0"
      ]
     },
     "execution_count": 32,
     "metadata": {},
     "output_type": "execute_result"
    },
    {
     "data": {
      "image/png": "[encoded data removed]",
      "text/plain": [
       "<Figure size 432x288 with 1 Axes>"
      ]
     },
     "metadata": {
      "needs_background": "light"
     },
     "output_type": "display_data"
    }
   ],
   "source": [
    "chart_x_UniAccel(0, 0, 1, 0, 10)"
   ]
  },
  {
   "cell_type": "code",
   "execution_count": null,
   "metadata": {},
   "outputs": [],
   "source": [
    "# 자유낙하"
   ]
  },
  {
   "cell_type": "code",
   "execution_count": null,
   "metadata": {},
   "outputs": [],
   "source": []
  },
  {
   "cell_type": "code",
   "execution_count": null,
   "metadata": {},
   "outputs": [],
   "source": []
  },
  {
   "cell_type": "code",
   "execution_count": null,
   "metadata": {},
   "outputs": [],
   "source": []
  },
  {
   "cell_type": "code",
   "execution_count": 9,
   "metadata": {},
   "outputs": [],
   "source": [
    "# 질량(m)과 속도(v)가 주어졌을 때 운동 에너지\n",
    "def KE(m, v):\n",
    "    ke = 1 / 2 * m * v **2\n",
    "    return ke\n",
    "\n",
    "# 운동 에너지(KE)와 속도(v)가 주어졌을 때 질량(m)\n",
    "def KE_m(ke, v):\n",
    "    m = 2 * ke / v ** 2\n",
    "    return m\n",
    "\n",
    "# 운동 에너지(KE)와 질량(m)이 주어졌을 때 속도(v)\n",
    "def KE_v(ke, m):\n",
    "    from math import sqrt\n",
    "    v = sqrt(2 * ke / m)\n",
    "    return v"
   ]
  },
  {
   "cell_type": "code",
   "execution_count": 10,
   "metadata": {},
   "outputs": [
    {
     "data": {
      "text/plain": [
       "20.0"
      ]
     },
     "execution_count": 10,
     "metadata": {},
     "output_type": "execute_result"
    }
   ],
   "source": [
    "KE(10,20)\n",
    "KE_m(2000, 20)\n",
    "KE_v(2000, 10)"
   ]
  },
  {
   "cell_type": "code",
   "execution_count": 10,
   "metadata": {},
   "outputs": [],
   "source": [
    "# 만유인력 법칙(Law of Universal Gravity)\n",
    "# 행성1의 질량(m_1)과 행성2의 질량(m_2), 두 행성간의 거리(r)가 주어졌을 때 작용하는 힘(F_g)\n",
    "def F_g(m1, m2, r): # G = 6.674 * 10 ** -11 : 중력 상수(만유인력 상수)\n",
    "    F = (6.674 * 10 ** -11) * m1 * m2 / r ** 2\n",
    "    return F"
   ]
  },
  {
   "cell_type": "code",
   "execution_count": 11,
   "metadata": {},
   "outputs": [
    {
     "data": {
      "text/plain": [
       "2.50275e-10"
      ]
     },
     "execution_count": 11,
     "metadata": {},
     "output_type": "execute_result"
    }
   ],
   "source": [
    "F_g(5000, 300000, 20000)"
   ]
  },
  {
   "cell_type": "code",
   "execution_count": 26,
   "metadata": {},
   "outputs": [],
   "source": [
    "# 만유 인력(F_g), 행성1의 질량(m1), 행성2의 질량(m2)가 주어졌을 때 두 행성간의 거리(r)\n",
    "def UniGrav_r(F_g, m1, m2):\n",
    "    import math\n",
    "    r = math.sqrt( (6.674 * 10**-11) * m1 * m2 / F_g)\n",
    "    return r"
   ]
  },
  {
   "cell_type": "code",
   "execution_count": 27,
   "metadata": {},
   "outputs": [
    {
     "data": {
      "text/plain": [
       "20000.0"
      ]
     },
     "execution_count": 27,
     "metadata": {},
     "output_type": "execute_result"
    }
   ],
   "source": [
    "UniGrav_r(2.50275*10**-10, 300000, 5000)"
   ]
  },
  {
   "cell_type": "code",
   "execution_count": 30,
   "metadata": {},
   "outputs": [],
   "source": [
    "# 만유인력(F_g), 행성 하나의의 질량(m), 두 행성간의 거리(r)이 주어졌을 때 다른 행성의 질량\n",
    "def UniGrav_m(F_g, m, r):\n",
    "    M = F_g * r**2 / ((6.674e-11) * m)\n",
    "    return M"
   ]
  },
  {
   "cell_type": "code",
   "execution_count": 32,
   "metadata": {},
   "outputs": [
    {
     "data": {
      "text/plain": [
       "5000.000000000001"
      ]
     },
     "execution_count": 32,
     "metadata": {},
     "output_type": "execute_result"
    }
   ],
   "source": [
    "UniGrav_m(2.50275e-10, 300000, 20000)"
   ]
  },
  {
   "cell_type": "code",
   "execution_count": null,
   "metadata": {},
   "outputs": [],
   "source": []
  },
  {
   "cell_type": "code",
   "execution_count": null,
   "metadata": {},
   "outputs": [],
   "source": []
  },
  {
   "cell_type": "code",
   "execution_count": 91,
   "metadata": {},
   "outputs": [],
   "source": [
    "# 산술 평균(Arithmetic mean)\n",
    "def A_mean(x): # x = list, array, or tuple\n",
    "    k = 0\n",
    "    i = 0\n",
    "    while i < len(x):\n",
    "        j = x[i]\n",
    "        k += j\n",
    "        i += 1\n",
    "    return k / len(x)\n",
    "    \n",
    "# 기하 평균(Geometric mean)\n",
    "def G_mean(x):\n",
    "    i, k = 0, 1\n",
    "    while i < len(x):\n",
    "        j = x[i]\n",
    "        k = k * j\n",
    "        i += 1\n",
    "    return k ** (1/len(x))"
   ]
  },
  {
   "cell_type": "code",
   "execution_count": 96,
   "metadata": {},
   "outputs": [
    {
     "name": "stdout",
     "output_type": "stream",
     "text": [
      "61.666666666666664\n",
      "46.967020410159954\n"
     ]
    }
   ],
   "source": [
    "x = [48,9,45,132,47,89]\n",
    "print(A_mean(x))\n",
    "print(G_mean(x))"
   ]
  },
  {
   "cell_type": "code",
   "execution_count": 95,
   "metadata": {},
   "outputs": [
    {
     "data": {
      "text/plain": [
       "46.967020410159954"
      ]
     },
     "execution_count": 95,
     "metadata": {},
     "output_type": "execute_result"
    }
   ],
   "source": [
    "(48*9*45*132*47*89) ** (1/6)"
   ]
  },
  {
   "cell_type": "markdown",
   "metadata": {},
   "source": [
    "# 각운동"
   ]
  },
  {
   "cell_type": "code",
   "execution_count": 1,
   "metadata": {},
   "outputs": [],
   "source": [
    "# 각운동량(Angular Momentum) = L\n",
    "# 각속도(w), 반지름(r), 질량(m)이 주어졌을 때 각운동량(L)\n",
    "def AM_L(w,r,m):\n",
    "    L = (r**2) * m * w\n",
    "    return L"
   ]
  },
  {
   "cell_type": "code",
   "execution_count": 2,
   "metadata": {},
   "outputs": [
    {
     "data": {
      "text/plain": [
       "10000"
      ]
     },
     "execution_count": 2,
     "metadata": {},
     "output_type": "execute_result"
    }
   ],
   "source": [
    "AM_L(10,10,10)"
   ]
  },
  {
   "cell_type": "markdown",
   "metadata": {},
   "source": [
    "### 포사체 운동(투사체 운동)"
   ]
  },
  {
   "cell_type": "code",
   "execution_count": 27,
   "metadata": {},
   "outputs": [],
   "source": [
    "# 포사체의 수평거리 구하기(공기 저항이 없을 때)\n",
    "# 처음속도(v0), 각도(a)가 주어졌을 때 수평 이동 거리(R)\n",
    "def Projec_R(v0, a):\n",
    "    import numpy as np\n",
    "    return (2 * v0**2 * np.sin(a) * np.cos(a)) / 9.81"
   ]
  },
  {
   "cell_type": "code",
   "execution_count": 28,
   "metadata": {},
   "outputs": [
    {
     "data": {
      "text/plain": [
       "9.113115836906807"
      ]
     },
     "execution_count": 28,
     "metadata": {},
     "output_type": "execute_result"
    }
   ],
   "source": [
    "Projec_R(10, 45)"
   ]
  },
  {
   "cell_type": "code",
   "execution_count": 5,
   "metadata": {},
   "outputs": [],
   "source": [
    "# 포사체의 수직축 속력 구하기\n",
    "# 초기 속력(v0), 각도(a[rad]), 경과 시간(t)가 주어졌을 때 수직축 성분의 속도(v)\n",
    "def Projec_v_y(v0, a, t):\n",
    "    import numpy as np\n",
    "    return ((v0 * np.sin(a)) - (9.81 * t))\n",
    "'''\n",
    "라디안 값으로 나옴.\n",
    "'''"
   ]
  },
  {
   "cell_type": "code",
   "execution_count": 6,
   "metadata": {},
   "outputs": [
    {
     "data": {
      "text/plain": [
       "-89.59096475465883"
      ]
     },
     "execution_count": 6,
     "metadata": {},
     "output_type": "execute_result"
    }
   ],
   "source": [
    "Projec_v_y(10, 45, 10)"
   ]
  },
  {
   "cell_type": "code",
   "execution_count": 1,
   "metadata": {},
   "outputs": [],
   "source": [
    "# 포사체가 최고점 높이까지 도달하는데 걸리는 시간\n",
    "# 초기 속도(v0), 각도(a[rad])이 주어졌을 때 걸린 시간(t_h)\n",
    "def Projec_t_h(v0, a):\n",
    "    import numpy as np\n",
    "    return (v0 * np.sin(a)) / 9.81"
   ]
  },
  {
   "cell_type": "code",
   "execution_count": 2,
   "metadata": {},
   "outputs": [
    {
     "data": {
      "text/plain": [
       "0.8673838170582246"
      ]
     },
     "execution_count": 2,
     "metadata": {},
     "output_type": "execute_result"
    }
   ],
   "source": [
    "Projec_t_h(10, 45)"
   ]
  },
  {
   "cell_type": "code",
   "execution_count": 19,
   "metadata": {},
   "outputs": [],
   "source": [
    "# 포사체의 최대 높이\n",
    "# 처음 위치(y0), 초기 속도(v0), 각도(a[rad])이 주어졌을 때 최대 높이(H)\n",
    "def Projec_H(y0, v0, a):\n",
    "    import numpy as np\n",
    "    return y0 + ((v0**2) * np.sin(a) / 9.81) - ((v0**2) * ((np.sin(a))**2) / 2 * 9.81)\n",
    "'''\n",
    "오답\n",
    "'''"
   ]
  },
  {
   "cell_type": "code",
   "execution_count": 20,
   "metadata": {},
   "outputs": [
    {
     "data": {
      "text/plain": [
       "-346.46621618509675"
      ]
     },
     "execution_count": 20,
     "metadata": {},
     "output_type": "execute_result"
    }
   ],
   "source": [
    "Projec_H(0, 10, 45)\n",
    "'''\n",
    "오답\n",
    "'''"
   ]
  },
  {
   "cell_type": "code",
   "execution_count": 14,
   "metadata": {},
   "outputs": [],
   "source": [
    "# 포사체의 최대 높이2(시간을 이용)\n",
    "# 처음 위치(y0), 초기 속도(v0), 각도(a[rad]), 최고 높이 도달 시간(t_h)가 주어졌을 때 최대 높이(H)\n",
    "def Projec_H2(y0, v0, a, t_h):\n",
    "    import numpy as np\n",
    "    return y0 + (v0 * np.sin(a) * t_h)  - (0.5 * 9.81 * t_h**2)"
   ]
  },
  {
   "cell_type": "code",
   "execution_count": 15,
   "metadata": {},
   "outputs": [
    {
     "data": {
      "text/plain": [
       "3.6902997352935025"
      ]
     },
     "execution_count": 15,
     "metadata": {},
     "output_type": "execute_result"
    }
   ],
   "source": [
    "Projec_H2(0, 10, 45, 0.8673838170582246)"
   ]
  },
  {
   "cell_type": "markdown",
   "metadata": {},
   "source": [
    "# 유체역학"
   ]
  },
  {
   "cell_type": "code",
   "execution_count": 10,
   "metadata": {},
   "outputs": [],
   "source": [
    "# 이상기체 상태 방정식(Ideal Gas Equation)\n",
    "# 기체의 몰수(n), 온도(T)가 주어졌을 때 압력 x 부피\n",
    "def IGE_pv(n,T, t =('k' or 'c' or 'f')): # k = 절대온도, c = 섭씨온도, f = 화씨온도\n",
    "    if t == 'k':\n",
    "        T = T\n",
    "    elif t == 'c':\n",
    "        T = T + 273.15\n",
    "    elif t == 'f':\n",
    "        T = 5 / 9 * (T - 32) + 273.15\n",
    "    \n",
    "    return n * 8.314 * T # 8.314 = R(기체상수)"
   ]
  },
  {
   "cell_type": "code",
   "execution_count": 16,
   "metadata": {},
   "outputs": [
    {
     "data": {
      "text/plain": [
       "3508.8313222222223"
      ]
     },
     "execution_count": 16,
     "metadata": {},
     "output_type": "execute_result"
    }
   ],
   "source": [
    "IGE_pv(1,300,'f')"
   ]
  },
  {
   "cell_type": "code",
   "execution_count": 17,
   "metadata": {},
   "outputs": [],
   "source": [
    "# 기체의 몰수(n), 온도(T), 부피(V)가 주어졌을 때 압력\n",
    "def IGE_p(n, T, V, t = 'k' or 'c' or 'f'):\n",
    "    if t == 'k':\n",
    "        T = T\n",
    "    elif t == 'c':\n",
    "        T = T + 273.15\n",
    "    elif t == 'f':\n",
    "        T = 5 / 9 * (T - 32) + 273.15\n",
    "        \n",
    "    return (n * 8.314 * T) / V"
   ]
  },
  {
   "cell_type": "code",
   "execution_count": 41,
   "metadata": {},
   "outputs": [
    {
     "data": {
      "text/plain": [
       "175.44156611111111"
      ]
     },
     "execution_count": 41,
     "metadata": {},
     "output_type": "execute_result"
    }
   ],
   "source": [
    "IGE_p(1,300, 20, 'f')"
   ]
  },
  {
   "cell_type": "code",
   "execution_count": 21,
   "metadata": {},
   "outputs": [],
   "source": [
    "# 기체의 몰수(n), 온도(T), 압력(P)가 주어졌을 때 부피\n",
    "def IGE_v(n, T, P, t = 'k' or 'c' or 'f'):\n",
    "    if t == 'k':\n",
    "        T = T\n",
    "    elif t == 'c':\n",
    "        T = T + 273.15\n",
    "    elif t == 'f':\n",
    "        T = 5 / 9 * (T - 32) + 273.15\n",
    "        \n",
    "    return (n * 8.314 * T) / P"
   ]
  },
  {
   "cell_type": "code",
   "execution_count": 28,
   "metadata": {},
   "outputs": [
    {
     "data": {
      "text/plain": [
       "20.000000000000014"
      ]
     },
     "execution_count": 28,
     "metadata": {},
     "output_type": "execute_result"
    }
   ],
   "source": [
    "IGE_v(1,300,175.441566111111, 'f')"
   ]
  },
  {
   "cell_type": "code",
   "execution_count": 35,
   "metadata": {},
   "outputs": [],
   "source": [
    "# 기체의 몰수(n), 압력(P), 부피(V)가 주어졌을 때 온도\n",
    "def IGE_t(n, P, V, t = 'k' or 'c' or 'f'):\n",
    "    i = (P * V) / (n * 8.314)\n",
    "    \n",
    "    if t == 'k':\n",
    "        T = i\n",
    "    elif t == 'c':\n",
    "        T = i - 273.15\n",
    "    elif t == 'f':\n",
    "        T = (9 / 5) * (i - 273.15) + 32\n",
    "    \n",
    "    return T"
   ]
  },
  {
   "cell_type": "code",
   "execution_count": 42,
   "metadata": {},
   "outputs": [
    {
     "data": {
      "text/plain": [
       "299.99999999999994"
      ]
     },
     "execution_count": 42,
     "metadata": {},
     "output_type": "execute_result"
    }
   ],
   "source": [
    "IGE_t(1, 175.4415661111111, 20, 'f')"
   ]
  },
  {
   "cell_type": "markdown",
   "metadata": {},
   "source": [
    "# 전자기학"
   ]
  },
  {
   "cell_type": "code",
   "execution_count": 3,
   "metadata": {},
   "outputs": [],
   "source": [
    "# 쿨롱의 법칙(Coulomb's law)\n",
    "# 두 전하의 전하량(q1, q2)과 거리(r)이 주어졌을 때 전기력(F_e)\n",
    "def Coul_F(q1, q2, r):\n",
    "    import math\n",
    "    # 1 / (4 * 3.1415926 * 8.8542e-12) : 쿨롱 상수(k_e) = 8.9876e9 [N*m^2/c^2]\n",
    "    return (q1 * q2) / (4 * math.pi * 8.8542e-12 * (r**2))"
   ]
  },
  {
   "cell_type": "code",
   "execution_count": 4,
   "metadata": {},
   "outputs": [
    {
     "data": {
      "text/plain": [
       "25628507.912805513"
      ]
     },
     "execution_count": 4,
     "metadata": {},
     "output_type": "execute_result"
    }
   ],
   "source": [
    "Coul_F(1.602,1.602, 30)"
   ]
  },
  {
   "cell_type": "code",
   "execution_count": 5,
   "metadata": {},
   "outputs": [],
   "source": [
    "# 전기력(F_e)와 두 전하의 전하량(q1, q2)가 주어졌을 때 두 전하 사이의 거리(r)\n",
    "def Coul_r(F_e, q1, q2):\n",
    "    import math\n",
    "    return math.sqrt((q1 * q2) / (4 * math.pi * 8.8542e-12 * F_e))"
   ]
  },
  {
   "cell_type": "code",
   "execution_count": 7,
   "metadata": {},
   "outputs": [
    {
     "data": {
      "text/plain": [
       "30.0"
      ]
     },
     "execution_count": 7,
     "metadata": {},
     "output_type": "execute_result"
    }
   ],
   "source": [
    "Coul_r(25628507.912805513, 1.602, 1.602)"
   ]
  },
  {
   "cell_type": "code",
   "execution_count": 10,
   "metadata": {},
   "outputs": [],
   "source": [
    "# 자기장(Magnetic Field)\n",
    "# 전기력(F_e)와 전하의 전하량이 주어졌을 때 자기장(E)\n",
    "def Coul_E(F_e, q):\n",
    "    return F_e / q"
   ]
  },
  {
   "cell_type": "code",
   "execution_count": 11,
   "metadata": {},
   "outputs": [
    {
     "data": {
      "text/plain": [
       "15997820.170290582"
      ]
     },
     "execution_count": 11,
     "metadata": {},
     "output_type": "execute_result"
    }
   ],
   "source": [
    "Coul_E(25628507.912805513, 1.602)"
   ]
  },
  {
   "cell_type": "code",
   "execution_count": 8,
   "metadata": {},
   "outputs": [],
   "source": [
    "# 전하의 전하량(q), 전하와 떨어진 거리(r)가 주어졌을 때 전기장(E)\n",
    "def MagF(q, r):\n",
    "    import math\n",
    "    return q / (4 * math.pi * 8.8542e-12 * r ** 2)"
   ]
  },
  {
   "cell_type": "code",
   "execution_count": 12,
   "metadata": {},
   "outputs": [
    {
     "data": {
      "text/plain": [
       "15997820.170290582"
      ]
     },
     "execution_count": 12,
     "metadata": {},
     "output_type": "execute_result"
    }
   ],
   "source": [
    "MagF(1.602, 30)"
   ]
  },
  {
   "cell_type": "code",
   "execution_count": null,
   "metadata": {},
   "outputs": [],
   "source": []
  }
 ],
 "metadata": {
  "kernelspec": {
   "display_name": "Python 3",
   "language": "python",
   "name": "python3"
  },
  "language_info": {
   "codemirror_mode": {
    "name": "ipython",
    "version": 3
   },
   "file_extension": ".py",
   "mimetype": "text/x-python",
   "name": "python",
   "nbconvert_exporter": "python",
   "pygments_lexer": "ipython3",
   "version": "3.7.6"
  }
 },
 "nbformat": 4,
 "nbformat_minor": 4
}
