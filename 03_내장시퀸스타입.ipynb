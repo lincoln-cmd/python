{
 "cells": [
  {
   "cell_type": "markdown",
   "metadata": {},
   "source": [
    "# 내장 시퀸스 타입\n",
    "- 문자열, 튜플, 리스트, 바이트, 바이트배열\n",
    "    - 멤버십 연산 : in 키워드 사용\n",
    "    - 크기 함수 : len()\n",
    "    - 슬라이싱 속성 : 변수이름[0:3]\n",
    "    - 반복성 : 반복문에 있는 데이터를 순회할 수 있음"
   ]
  },
  {
   "cell_type": "code",
   "execution_count": 7,
   "metadata": {},
   "outputs": [
    {
     "name": "stdout",
     "output_type": "stream",
     "text": [
      "안녕하세요."
     ]
    },
    {
     "data": {
      "text/plain": [
       "6"
      ]
     },
     "execution_count": 7,
     "metadata": {},
     "output_type": "execute_result"
    }
   ],
   "source": [
    "word = \"안녕하세요.\"\n",
    "data_list= [1,2,3,4,5,6]\n",
    "# 멤버십 연산 & 반복성\n",
    "for i in word:\n",
    "    print(i, end=\"\")\n",
    "# 크기 함수\n",
    "len(word)    \n",
    "len(data_list)"
   ]
  },
  {
   "cell_type": "code",
   "execution_count": 8,
   "metadata": {},
   "outputs": [
    {
     "data": {
      "text/plain": [
       "[1, 2, 3]"
      ]
     },
     "execution_count": 8,
     "metadata": {},
     "output_type": "execute_result"
    }
   ],
   "source": [
    "#슬라이싱 속성\n",
    "data_list[0:3]"
   ]
  },
  {
   "cell_type": "code",
   "execution_count": 9,
   "metadata": {},
   "outputs": [
    {
     "data": {
      "text/plain": [
       "'안녕하'"
      ]
     },
     "execution_count": 9,
     "metadata": {},
     "output_type": "execute_result"
    }
   ],
   "source": [
    "#슬라이싱 속성\n",
    "word[0:3]"
   ]
  },
  {
   "cell_type": "code",
   "execution_count": 16,
   "metadata": {},
   "outputs": [
    {
     "name": "stdout",
     "output_type": "stream",
     "text": [
      "[1, 2, 3, 4]\n",
      "[1, 400, 3, 4]\n",
      "[1, 400, 3, 4]\n",
      "2391925396040\n",
      "2391925396040\n"
     ]
    }
   ],
   "source": [
    "# 가변성\n",
    "# 튜플, 문자열, 바이트 -> 불변 객체 타입\n",
    "# 리스트, 바이트배열 -> 가변 객체 타입\n",
    "# 깊은 복사, 얕은복사\n",
    "# 복제\n",
    "a = [1,2,3,4]\n",
    "b = a # 얕은 복사\n",
    "print(b)\n",
    "b[1] = 400\n",
    "print(b)\n",
    "print(a)\n",
    "print(id(b))\n",
    "print(id(a))"
   ]
  },
  {
   "cell_type": "code",
   "execution_count": 14,
   "metadata": {},
   "outputs": [
    {
     "name": "stdout",
     "output_type": "stream",
     "text": [
      "[1, 2, 3, 4]\n",
      "[1, 2, 3, 100000]\n",
      "2391924670664\n",
      "2391924250760\n"
     ]
    }
   ],
   "source": [
    "import copy\n",
    "a = [1,2,3,4]\n",
    "b = copy.copy(a) # 얕은 복사\n",
    "b[3] = 100000\n",
    "print(a)\n",
    "print(b)\n",
    "# 복합객체(리스트) 껍데기 복사, 그 내용은 동일함\n",
    "print(id(a))\n",
    "print(id(b))"
   ]
  },
  {
   "cell_type": "code",
   "execution_count": 15,
   "metadata": {},
   "outputs": [
    {
     "name": "stdout",
     "output_type": "stream",
     "text": [
      "[30, 2, 3, 4, 5]\n",
      "[1, 2, 3, 4]\n",
      "2391925397064\n",
      "2391926522952\n"
     ]
    }
   ],
   "source": [
    "a = [1,2,3,4]\n",
    "b = copy.deepcopy(a) # 깊은 복사\n",
    "b[0] = 30\n",
    "b.append(5)\n",
    "print(b)\n",
    "print(a)\n",
    "# 복합객체(리스트) 복사, 내용도 재귀적으로 복사\n",
    "print(id(b))\n",
    "print(id(a))"
   ]
  },
  {
   "cell_type": "markdown",
   "metadata": {},
   "source": [
    "# 슬라이싱\n",
    "- 잘라서 특정 요소만 출력\n",
    "- seq[시작]\n",
    "- seq[시작 : 끝]\n",
    "- seq[시작 : 끝 : 스텝]"
   ]
  },
  {
   "cell_type": "code",
   "execution_count": 17,
   "metadata": {},
   "outputs": [
    {
     "data": {
      "text/plain": [
       "[1, 2, 3, 4, 5, 6, 7, 8, 9, 10, 11, 12, 13, 14, 15, 16, 17, 18, 19, 20]"
      ]
     },
     "execution_count": 17,
     "metadata": {},
     "output_type": "execute_result"
    }
   ],
   "source": [
    "data = [1,2,3,4,5,6,7,8,9,10,11,12,13,14,15,16,17,18,19,20]\n",
    "data[::]"
   ]
  },
  {
   "cell_type": "code",
   "execution_count": 18,
   "metadata": {},
   "outputs": [
    {
     "data": {
      "text/plain": [
       "6"
      ]
     },
     "execution_count": 18,
     "metadata": {},
     "output_type": "execute_result"
    }
   ],
   "source": [
    "data[5]"
   ]
  },
  {
   "cell_type": "code",
   "execution_count": 19,
   "metadata": {},
   "outputs": [
    {
     "data": {
      "text/plain": [
       "[1, 2, 3, 4, 5, 6, 7, 8, 9, 10, 11]"
      ]
     },
     "execution_count": 19,
     "metadata": {},
     "output_type": "execute_result"
    }
   ],
   "source": [
    "data[0:11]"
   ]
  },
  {
   "cell_type": "code",
   "execution_count": 23,
   "metadata": {},
   "outputs": [
    {
     "data": {
      "text/plain": [
       "[20, 10]"
      ]
     },
     "execution_count": 23,
     "metadata": {},
     "output_type": "execute_result"
    }
   ],
   "source": [
    "data[::-10]"
   ]
  },
  {
   "cell_type": "markdown",
   "metadata": {},
   "source": [
    "# 문자열\n",
    "- str -> 불변 타입, 사용자에게 출력을 해주는 출력 형식(문자열 형식)\n",
    "- 문자열 앞에 u를 붙이면 된다. -> 유니코드 문자열을 만드는 방법\n",
    "    - u'문자열을 이렇게 써주면 됩니다.'\n",
    "    - 파이썬은 기본 내장 문자인코딩 : 한글 유니코드-> CP949, 영어 ASCII -> 선택적\n",
    "        - 파이썬 3.3 이후부터는 -> 유니코드 사용"
   ]
  },
  {
   "cell_type": "code",
   "execution_count": 28,
   "metadata": {},
   "outputs": [
    {
     "name": "stdout",
     "output_type": "stream",
     "text": [
      "박진혁입니다.그의 차는 오늘 유리가 깨졌습니다.입니다.그의 차는 오늘 유리가 깨졌습니다.\n"
     ]
    }
   ],
   "source": [
    "# join() : 문자열을 단일 문자열로 결합을 해주는 역할\n",
    "# '+' : 많은 양의 문자열이 있을 경우 비 효율적이기 때문에, join()을 사용하면 된다.\n",
    "name = \"박진혁입니다.그의 차는 오늘 유리가 깨졌습니다.\"\n",
    "print(name + \"입니다.\" + \"그의 차는 오늘 유리가 깨졌습니다.\")"
   ]
  },
  {
   "cell_type": "code",
   "execution_count": 32,
   "metadata": {},
   "outputs": [
    {
     "data": {
      "text/plain": [
       "'비타민, 검색, 잔스, 진혁'"
      ]
     },
     "execution_count": 32,
     "metadata": {},
     "output_type": "execute_result"
    }
   ],
   "source": [
    "\"\".join(name)\n",
    "data = [\"진혁\", \"잔스\", \"검색\", \"비타민\"]\n",
    "\" \".join(data)\n",
    "# - 역순 : reversed()\n",
    "\", \".join(reversed(data))"
   ]
  },
  {
   "cell_type": "code",
   "execution_count": 39,
   "metadata": {},
   "outputs": [
    {
     "name": "stdout",
     "output_type": "stream",
     "text": [
      "진혁************************************************\n",
      "************************************************진혁\n"
     ]
    }
   ],
   "source": [
    "name = \"진혁\"\n",
    "# ljust(width, fillchar) : width => 맨 처음의 문자열을 포함한 길이\n",
    "# fillchar : width의 길이만큼 문자 fillchar를 채웁니다.\n",
    "print(name.ljust(50, '*'))\n",
    "print(name.rjust(50, '*'))\n",
    "#print(name)"
   ]
  },
  {
   "cell_type": "code",
   "execution_count": 42,
   "metadata": {},
   "outputs": [
    {
     "data": {
      "text/plain": [
       "'집에 가고 싶다.'"
      ]
     },
     "execution_count": 42,
     "metadata": {},
     "output_type": "execute_result"
    }
   ],
   "source": [
    "# A.format() : 문자열 A에 변수를 추가하거나 형식화 하는데 사용합니다.\n",
    "\"{0} {1}\".format(\"집에\", \"가고 싶다.\")"
   ]
  },
  {
   "cell_type": "code",
   "execution_count": 43,
   "metadata": {},
   "outputs": [
    {
     "data": {
      "text/plain": [
       "'선생님의 이름 : 진혁, 나이 : 12'"
      ]
     },
     "execution_count": 43,
     "metadata": {},
     "output_type": "execute_result"
    }
   ],
   "source": [
    "\"선생님의 이름 : {name}, 나이 : {age}\".format(name=\"진혁\", age=12)"
   ]
  },
  {
   "cell_type": "code",
   "execution_count": 46,
   "metadata": {},
   "outputs": [
    {
     "data": {
      "text/plain": [
       "\"[12, 4, 15]:['진혁', '진송', '우진']\""
      ]
     },
     "execution_count": 46,
     "metadata": {},
     "output_type": "execute_result"
    }
   ],
   "source": [
    "# locals() -> format 스코프에 들어와있는 지역변수를 딕셔너리로 변환\n",
    "# **\n",
    "name = [\"진혁\", \"진송\", \"우진\"]\n",
    "age = [12, 4, 15]\n",
    "\"{age}:{name}\".format(**locals())"
   ]
  },
  {
   "cell_type": "code",
   "execution_count": 6,
   "metadata": {},
   "outputs": [
    {
     "data": {
      "text/plain": [
       "'10 10 10 10'"
      ]
     },
     "execution_count": 6,
     "metadata": {},
     "output_type": "execute_result"
    }
   ],
   "source": [
    "import decimal\n",
    "# 문자열과 함께쓰는 '!'는 형식을 표현하기 위해서 사용합니다.\n",
    "# s : 문자열 형식\n",
    "# r : 표현 형식\n",
    "# a : 아스키 형식\n",
    "\"{0} {0!s} {0!r} {0!a}\".format(10)"
   ]
  },
  {
   "cell_type": "code",
   "execution_count": 7,
   "metadata": {},
   "outputs": [
    {
     "data": {
      "text/plain": [
       "['900001', '1231231']"
      ]
     },
     "execution_count": 7,
     "metadata": {},
     "output_type": "execute_result"
    }
   ],
   "source": [
    "# split() : 문자를 나누기 위해서 사용이 됩니다.\n",
    "p_number = \"900001-1231231\"\n",
    "p_number.split('-')"
   ]
  },
  {
   "cell_type": "code",
   "execution_count": 8,
   "metadata": {},
   "outputs": [
    {
     "data": {
      "text/plain": [
       "['Steve', 'Jobs']"
      ]
     },
     "execution_count": 8,
     "metadata": {},
     "output_type": "execute_result"
    }
   ],
   "source": [
    "# splitlines() : 개행문자를 기준으로 문자열을 나누어줍니다.\n",
    "CEO = \"Steve\\nJobs\"\n",
    "CEO.splitlines()"
   ]
  },
  {
   "cell_type": "code",
   "execution_count": 10,
   "metadata": {},
   "outputs": [
    {
     "data": {
      "text/plain": [
       "['장맛비가 다소 길게 이어지는 곳이 있습니다.',\n",
       " '전남은 오늘 밤까지 남해안과 제주는 모레까지 계속되겠는데요.',\n",
       " '우선 내일까지 남해안과 제주는 최고 60mm의 비가 더 내리겠고요.',\n",
       " '비가 그친 지역에서도 내일 새벽까지 빗방울이 떨어지는 곳이 있겠습니다.',\n",
       " '내일은 다시 전국에서 맑은 하늘이 함께 하겠습니다.',\n",
       " '낮 기온도 전국 대부분 지역이 30도를 웃돌면서 덥겠는데요.',\n",
       " '이처럼 한낮 기온이 치솟다보니 대기 상하층 간의 기온 차가 커지면서 소나기구름이 만들어집니다.',\n",
       " '오후부터 밤사이 강원 영서와 경북 내륙으로는 소나기가 내리겠습니다.',\n",
       " '강한 자외선도 주의가 필요합니다.',\n",
       " '지도에서 보시는 것처럼 내일 남부 지방을 중심으로는 자외선지수, 위험 수준까지 오르는 지역도 많겠는데요.',\n",
       " '자외선 차단제 잘 챙겨주시고요.',\n",
       " '불필요한 외출을 피하시는 게 좋겠습니다.',\n",
       " '자세한 기온도 살펴보겠습니다.',\n",
       " '내일 아침 기온 서울 22도, 청주 22도, 안동은 21도로 출발하겠고요.',\n",
       " '내일 낮 최고기온 서울 31도, 전주 30도, 대구는 31도까지 오르겠습니다.',\n",
       " '물러나 있던 장마전선이 다시 북상하면서 모레는 제주와 충청이남 지역을 중심으로 비가 내리겠고요.',\n",
       " '목요일과 금요일 사이에는 전국으로 확대될 것으로 전망됩니다.',\n",
       " '지금까지 날씨 전해드렸습니다.']"
      ]
     },
     "execution_count": 10,
     "metadata": {},
     "output_type": "execute_result"
    }
   ],
   "source": [
    "weather = \"\"\"장맛비가 다소 길게 이어지는 곳이 있습니다.\n",
    "전남은 오늘 밤까지 남해안과 제주는 모레까지 계속되겠는데요.\n",
    "우선 내일까지 남해안과 제주는 최고 60mm의 비가 더 내리겠고요.\n",
    "비가 그친 지역에서도 내일 새벽까지 빗방울이 떨어지는 곳이 있겠습니다.\n",
    "내일은 다시 전국에서 맑은 하늘이 함께 하겠습니다.\n",
    "낮 기온도 전국 대부분 지역이 30도를 웃돌면서 덥겠는데요.\n",
    "이처럼 한낮 기온이 치솟다보니 대기 상하층 간의 기온 차가 커지면서 소나기구름이 만들어집니다.\n",
    "오후부터 밤사이 강원 영서와 경북 내륙으로는 소나기가 내리겠습니다.\n",
    "강한 자외선도 주의가 필요합니다.\n",
    "지도에서 보시는 것처럼 내일 남부 지방을 중심으로는 자외선지수, 위험 수준까지 오르는 지역도 많겠는데요.\n",
    "자외선 차단제 잘 챙겨주시고요.\n",
    "불필요한 외출을 피하시는 게 좋겠습니다.\n",
    "자세한 기온도 살펴보겠습니다.\n",
    "내일 아침 기온 서울 22도, 청주 22도, 안동은 21도로 출발하겠고요.\n",
    "내일 낮 최고기온 서울 31도, 전주 30도, 대구는 31도까지 오르겠습니다.\n",
    "물러나 있던 장마전선이 다시 북상하면서 모레는 제주와 충청이남 지역을 중심으로 비가 내리겠고요.\n",
    "목요일과 금요일 사이에는 전국으로 확대될 것으로 전망됩니다.\n",
    "지금까지 날씨 전해드렸습니다.\n",
    "\"\"\"\n",
    "weather.splitlines()"
   ]
  },
  {
   "cell_type": "code",
   "execution_count": 17,
   "metadata": {},
   "outputs": [
    {
     "data": {
      "text/plain": [
       "\"it's show time!\""
      ]
     },
     "execution_count": 17,
     "metadata": {},
     "output_type": "execute_result"
    }
   ],
   "source": [
    "nar = \"IT'S SHOW TIME!\"\n",
    "# 대문자를-> 소문자로\n",
    "# 소문자 -> 대문자\n",
    "nar2 = nar.swapcase()\n",
    "nar2.swapcase()\n",
    "# 문자열의 첫글자를 대문자\n",
    "# capitalize()\n",
    "nar = \"it's show time!\"\n",
    "nar.capitalize()\n",
    "# lower() -> 전체 문자열을 소문자\n",
    "# upper() -> 전체 문자열을 대문자\n",
    "nar.upper()\n",
    "nar.lower()"
   ]
  },
  {
   "cell_type": "code",
   "execution_count": 28,
   "metadata": {},
   "outputs": [
    {
     "data": {
      "text/plain": [
       "3"
      ]
     },
     "execution_count": 28,
     "metadata": {},
     "output_type": "execute_result"
    }
   ],
   "source": [
    "# \"\".index(sub, start, end)\n",
    "# sub : 문자열의 부분 문자열의 인덱스 위치를 반환\n",
    "games = \"저는 롤을 하지 않습니다.\"\n",
    "games.index(\"저는\", 0, 3)\n",
    "# \"\".find(sub, start, end)\n",
    "games.find(\"롤을\",0, 12)"
   ]
  },
  {
   "cell_type": "code",
   "execution_count": 30,
   "metadata": {},
   "outputs": [
    {
     "data": {
      "text/plain": [
       "3"
      ]
     },
     "execution_count": 30,
     "metadata": {},
     "output_type": "execute_result"
    }
   ],
   "source": [
    "# \"\".count(sub, start, end)\n",
    "# 문자열에서 start - end 범위 내에 있는 sub가 나온 횟수를 반환\n",
    "movie = \"Harry potter\"\n",
    "movie.count('r', 0, 12)"
   ]
  },
  {
   "cell_type": "code",
   "execution_count": 33,
   "metadata": {},
   "outputs": [
    {
     "data": {
      "text/plain": [
       "4"
      ]
     },
     "execution_count": 33,
     "metadata": {},
     "output_type": "execute_result"
    }
   ],
   "source": [
    "lorem = \"\"\"Lorem Ipsum is simply dummy text of the printing and typesetting industry. Lorem Ipsum has been the industry's standard dummy text ever since the 1500s, when an unknown printer took a galley of type and scrambled it to make a type specimen book. It has survived not only five centuries, but also the leap into electronic typesetting, remaining essentially unchanged. It was popularised in the 1960s with the release of Letraset sheets containing Lorem Ipsum passages, and more recently with desktop publishing software like Aldus PageMaker including versions of Lorem Ipsum.\"\"\"\n",
    "lorem.count(\"Lorem\")"
   ]
  },
  {
   "cell_type": "code",
   "execution_count": 35,
   "metadata": {},
   "outputs": [
    {
     "data": {
      "text/plain": [
       "\"Rolem Ipsum is simply dummy text of the printing and typesetting industry. Rolem Ipsum has been the industry's standard dummy text ever since the 1500s, when an unknown printer took a galley of type and scrambled it to make a type specimen book. It has survived not only five centuries, but also the leap into electronic typesetting, remaining essentially unchanged. It was popularised in the 1960s with the release of Letraset sheets containing Rolem Ipsum passages, and more recently with desktop publishing software like Aldus PageMaker including versions of Rolem Ipsum.\""
      ]
     },
     "execution_count": 35,
     "metadata": {},
     "output_type": "execute_result"
    }
   ],
   "source": [
    "# \"\".replace(old, new, maxreplace)\n",
    "# old를 대체할 문자열 new를 maxplace만큼 변경한 문자열 복사본을 반환\n",
    "# maxreplace를 지정하지 않는다면 모든 문자열에 존재하는 old -> new로 바꾼다.\n",
    "lorem.replace(\"Lorem\", \"Rolem\")"
   ]
  },
  {
   "cell_type": "code",
   "execution_count": 37,
   "metadata": {},
   "outputs": [
    {
     "name": "stdout",
     "output_type": "stream",
     "text": [
      "저는 요리할 때 '백종원'의 레시피를 봅니다.\n",
      "저는 요리할 때 '백종원'의 레시피를 봅니다.\n"
     ]
    }
   ],
   "source": [
    "# f-string() : format 대신에 사용할 수 있습니다.\n",
    "# f를 문자열 앞에 붙여서 사용을 합니다.\n",
    "name = \"백종원\"\n",
    "print(f\"저는 요리할 때 {name!r}의 레시피를 봅니다.\")\n",
    "print(f\"저는 요리할 때 {repr(name)}의 레시피를 봅니다.\")"
   ]
  },
  {
   "cell_type": "code",
   "execution_count": 46,
   "metadata": {},
   "outputs": [
    {
     "name": "stdout",
     "output_type": "stream",
     "text": [
      "July, 19, 2020\n"
     ]
    },
    {
     "data": {
      "text/plain": [
       "datetime.datetime(2020, 7, 20, 20, 49, 41, 67710)"
      ]
     },
     "execution_count": 46,
     "metadata": {},
     "output_type": "execute_result"
    }
   ],
   "source": [
    "from datetime import datetime\n",
    "yesterday=datetime(year=2020, month=7,day=19)\n",
    "#{%B, %d, %Y}\n",
    "# 어제 날짜를 출력을 해주세요.\n",
    "# 단, f-string()을 사용해서 출력합니다.\n",
    "print(f\"{yesterday:%B, %d, %Y}\")\n",
    "datetime.today()"
   ]
  },
  {
   "cell_type": "markdown",
   "metadata": {},
   "source": [
    "# 튜플\n",
    "- ','로 구분된 값으로 이루어지는 불변 시퀸스 타입\n",
    "- 각 위치에 객체 참조를 갖습니다.\n",
    "- 튜플 -> 리스트로 변경이 가능합니다."
   ]
  },
  {
   "cell_type": "code",
   "execution_count": 49,
   "metadata": {},
   "outputs": [
    {
     "name": "stdout",
     "output_type": "stream",
     "text": [
      "3\n",
      "3\n"
     ]
    }
   ],
   "source": [
    "# count(x) : 어떤 튜플에 들어있는 x의 개수를 반환\n",
    "t = 1,2,3,4,5,6,7,8,9,4,3,4\n",
    "print(t.count(4))\n",
    "# index(x) : x의 인덱스 위치를 반환\n",
    "print(t.index(4))"
   ]
  },
  {
   "cell_type": "code",
   "execution_count": 54,
   "metadata": {},
   "outputs": [
    {
     "name": "stdout",
     "output_type": "stream",
     "text": [
      "1\n",
      "[2, 3, 4, 5, 6]\n",
      "[1, 2, 3, 4, 5, 6, 7, 8, 9]\n",
      "10\n"
     ]
    }
   ],
   "source": [
    "# unpacking -> 연산자 *\n",
    "# 변수가 할당되는 문장에서 두개 이상의 변수를 사용하고 \n",
    "# 한 변수 앞에 * 연산자가 붙으면 오른쪽 값을 할당하고 남은 값을 *변수에 할당\n",
    "# 언패킹시 언패킹한 값은 리스트형식으로 값이 전달된다.\n",
    "x, *y = (1,2,3,4,5,6)\n",
    "print(x)\n",
    "print(y)\n",
    "*a, b = (1,2,3,4,5,6,7,8,9,10)\n",
    "print(a)\n",
    "print(b)"
   ]
  },
  {
   "cell_type": "markdown",
   "metadata": {},
   "source": [
    "# Collections\n",
    "- namedtuple() : 일반 튜플과 비슷한 성능과 특성\n",
    "- 이름으로 참조가 가능합니다.\n",
    "- 첫번째 인자 : 사용자의 정의 이름\n",
    "- 두번째 인자 : 공백으로 구분된 문자열(리스트, 튜플)"
   ]
  },
  {
   "cell_type": "code",
   "execution_count": 56,
   "metadata": {},
   "outputs": [
    {
     "name": "stdout",
     "output_type": "stream",
     "text": [
      "Game(name='매지카', year='2011', score='74')\n"
     ]
    }
   ],
   "source": [
    "import collections\n",
    "# 문자열 버전\n",
    "Game = collections.namedtuple('Game', \"name year score\")\n",
    "game = Game(\"매지카\", \"2011\", \"74\")\n",
    "print(game)"
   ]
  },
  {
   "cell_type": "code",
   "execution_count": 57,
   "metadata": {},
   "outputs": [
    {
     "name": "stdout",
     "output_type": "stream",
     "text": [
      "Game(name='매지카', year='2011', score='74')\n"
     ]
    }
   ],
   "source": [
    "# 리스트 버전\n",
    "Game = collections.namedtuple('Game', [\"name\",\"year\",\"score\"])\n",
    "game = Game(\"매지카\", \"2011\", \"74\")\n",
    "print(game)"
   ]
  },
  {
   "cell_type": "code",
   "execution_count": 58,
   "metadata": {},
   "outputs": [
    {
     "name": "stdout",
     "output_type": "stream",
     "text": [
      "Game(name='매지카', year='2011', score='74')\n"
     ]
    }
   ],
   "source": [
    "# 튜플 버전\n",
    "Game = collections.namedtuple('Game', (\"name\",\"year\",\"score\"))\n",
    "game = Game(\"매지카\", \"2011\", \"74\")\n",
    "print(game)"
   ]
  },
  {
   "cell_type": "code",
   "execution_count": 61,
   "metadata": {},
   "outputs": [
    {
     "name": "stdout",
     "output_type": "stream",
     "text": [
      "매지카\n",
      "74\n"
     ]
    },
    {
     "ename": "AttributeError",
     "evalue": "can't set attribute",
     "output_type": "error",
     "traceback": [
      "\u001b[1;31m---------------------------------------------------------------------------\u001b[0m",
      "\u001b[1;31mAttributeError\u001b[0m                            Traceback (most recent call last)",
      "\u001b[1;32m<ipython-input-61-b3722c5ddade>\u001b[0m in \u001b[0;36m<module>\u001b[1;34m\u001b[0m\n\u001b[0;32m      2\u001b[0m \u001b[0mprint\u001b[0m\u001b[1;33m(\u001b[0m\u001b[0mgame\u001b[0m\u001b[1;33m.\u001b[0m\u001b[0mscore\u001b[0m\u001b[1;33m)\u001b[0m\u001b[1;33m\u001b[0m\u001b[1;33m\u001b[0m\u001b[0m\n\u001b[0;32m      3\u001b[0m \u001b[1;31m# 안되는것!\u001b[0m\u001b[1;33m\u001b[0m\u001b[1;33m\u001b[0m\u001b[1;33m\u001b[0m\u001b[0m\n\u001b[1;32m----> 4\u001b[1;33m \u001b[0mgame\u001b[0m\u001b[1;33m.\u001b[0m\u001b[0myear\u001b[0m \u001b[1;33m=\u001b[0m \u001b[1;34m'2022'\u001b[0m\u001b[1;33m\u001b[0m\u001b[1;33m\u001b[0m\u001b[0m\n\u001b[0m",
      "\u001b[1;31mAttributeError\u001b[0m: can't set attribute"
     ]
    }
   ],
   "source": [
    "print(game[0])\n",
    "print(game.score)\n",
    "# 안되는것!\n",
    "game.year = '2022'\n",
    "# 어떤 값을 수정할 수 없다."
   ]
  },
  {
   "cell_type": "code",
   "execution_count": 7,
   "metadata": {},
   "outputs": [
    {
     "name": "stdout",
     "output_type": "stream",
     "text": [
      "입력 받은 성적 : Score(Kor=100, Math=90, Eng=80, Sci=70)\n",
      "총점 : 340\n",
      "평균 : 85.0\n"
     ]
    }
   ],
   "source": [
    "# 학생의 국어, 수학, 영어, 과학 점수를 튜플로 저장하고 이 튜플을\n",
    "#  출력한 뒤 총 점수와 평균점수를 튜플로 저장한 결과값을 출력해주세요.\n",
    "# 입력받을 점수는 0 ~ 100점 사이입니다.\n",
    "\n",
    "import collections\n",
    "Scores = collections.namedtuple(\"Score\", [\"Kor\", \"Math\", \"Eng\", \"Sci\"])\n",
    "scores = Scores(100, 90, 80, 70)\n",
    "print(\"입력 받은 성적 :\", scores)\n",
    "\n",
    "total = scores.Kor + scores.Math + scores.Eng + scores.Sci\n",
    "\n",
    "print(\"총점 :\", total)\n",
    "print(\"평균 : {0}\".format(total / 4))\n",
    "\n",
    "\n"
   ]
  },
  {
   "cell_type": "markdown",
   "metadata": {},
   "source": [
    "# 리스트\n",
    "- 배열\n",
    "- 연결리스트 : 여러 노드가 서로 연결되어 있는 구조\n",
    "    - 시간복잡도 : O(1)\n",
    "    - 추상데이터 타입 : ADT(Abstract Data Type)\n",
    "    - 가변 형식"
   ]
  },
  {
   "cell_type": "code",
   "execution_count": 11,
   "metadata": {},
   "outputs": [
    {
     "name": "stdout",
     "output_type": "stream",
     "text": [
      "['핸드폰']\n",
      "['핸드폰', '이어폰']\n"
     ]
    }
   ],
   "source": [
    "# 리스트 선언 방식\n",
    "data_list = []\n",
    "# 공란의 데이터 리스트 안에 어떠한 값을 추가\n",
    "# insert, append, extend\n",
    "# append(x) : 리스트 인덱스에 x를 추가합니다.\n",
    "data_list.append(\"핸드폰\")\n",
    "print(data_list)\n",
    "data_list.append(\"이어폰\")\n",
    "print(data_list)"
   ]
  },
  {
   "cell_type": "code",
   "execution_count": 12,
   "metadata": {},
   "outputs": [
    {
     "name": "stdout",
     "output_type": "stream",
     "text": [
      "['핸드폰', '지갑', '이어폰']\n"
     ]
    }
   ],
   "source": [
    "# insert(i, x) : i-> 인덱스 번호, x -> 넣을 값\n",
    "data_list.insert(1, \"지갑\")\n",
    "print(data_list)"
   ]
  },
  {
   "cell_type": "code",
   "execution_count": 13,
   "metadata": {},
   "outputs": [
    {
     "name": "stdout",
     "output_type": "stream",
     "text": [
      "['1000원']\n",
      "['핸드폰', '지갑', '이어폰', '마', '스', '크']\n"
     ]
    }
   ],
   "source": [
    "# extend(x) : 반복이 가능한 모든 항목을 인덱스 안에 추가합니다.\n",
    "wallet = []\n",
    "wallet.extend([\"1000원\"])\n",
    "print(wallet)\n",
    "data_list.extend(\"마스크\")\n",
    "print(data_list)"
   ]
  },
  {
   "cell_type": "code",
   "execution_count": 14,
   "metadata": {},
   "outputs": [
    {
     "name": "stdout",
     "output_type": "stream",
     "text": [
      "반갑습니다."
     ]
    }
   ],
   "source": [
    "import time\n",
    "welcome = \"반갑습니다.\"\n",
    "for i in welcome:\n",
    "    time.sleep(0.5)\n",
    "    print(i, end = \"\")"
   ]
  },
  {
   "cell_type": "code",
   "execution_count": 17,
   "metadata": {},
   "outputs": [
    {
     "ename": "ValueError",
     "evalue": "list.remove(x): x not in list",
     "output_type": "error",
     "traceback": [
      "\u001b[1;31m---------------------------------------------------------------------------\u001b[0m",
      "\u001b[1;31mValueError\u001b[0m                                Traceback (most recent call last)",
      "\u001b[1;32m<ipython-input-17-afa27b207264>\u001b[0m in \u001b[0;36m<module>\u001b[1;34m\u001b[0m\n\u001b[0;32m      1\u001b[0m \u001b[1;31m# remove(x) : x를 리스트 내에서 삭제\u001b[0m\u001b[1;33m\u001b[0m\u001b[1;33m\u001b[0m\u001b[1;33m\u001b[0m\u001b[0m\n\u001b[1;32m----> 2\u001b[1;33m \u001b[0mdata_list\u001b[0m\u001b[1;33m.\u001b[0m\u001b[0mremove\u001b[0m\u001b[1;33m(\u001b[0m\u001b[1;34m\"이어폰\"\u001b[0m\u001b[1;33m)\u001b[0m\u001b[1;33m\u001b[0m\u001b[1;33m\u001b[0m\u001b[0m\n\u001b[0m",
      "\u001b[1;31mValueError\u001b[0m: list.remove(x): x not in list"
     ]
    }
   ],
   "source": [
    "# remove(x) : x를 리스트 내에서 삭제\n",
    "data_list.remove(\"이어폰\")"
   ]
  },
  {
   "cell_type": "code",
   "execution_count": 16,
   "metadata": {},
   "outputs": [
    {
     "name": "stdout",
     "output_type": "stream",
     "text": [
      "['핸드폰', '지갑', '마', '스', '크']\n"
     ]
    }
   ],
   "source": [
    "print(data_list)"
   ]
  },
  {
   "cell_type": "code",
   "execution_count": 20,
   "metadata": {},
   "outputs": [
    {
     "data": {
      "text/plain": [
       "'지갑'"
      ]
     },
     "execution_count": 20,
     "metadata": {},
     "output_type": "execute_result"
    }
   ],
   "source": [
    "# pop() : 리스트 내에 있는 x를 삭제하고 x를 반환\n",
    "data_list.pop(1)"
   ]
  },
  {
   "cell_type": "code",
   "execution_count": 21,
   "metadata": {},
   "outputs": [],
   "source": [
    "# clear() : 리스트 내부에 모든 데이터를 지웁니다.\n",
    "data_list.clear()"
   ]
  },
  {
   "cell_type": "code",
   "execution_count": 22,
   "metadata": {},
   "outputs": [
    {
     "data": {
      "text/plain": [
       "[]"
      ]
     },
     "execution_count": 22,
     "metadata": {},
     "output_type": "execute_result"
    }
   ],
   "source": [
    "data_list"
   ]
  },
  {
   "cell_type": "code",
   "execution_count": 2,
   "metadata": {},
   "outputs": [
    {
     "name": "stdout",
     "output_type": "stream",
     "text": [
      "['지갑', '핸드크림', '충전기', '차키']\n"
     ]
    }
   ],
   "source": [
    "bag = [\"지갑\", \"핸드크림\", \"충전기\", \"차키\"]\n",
    "print(bag)"
   ]
  },
  {
   "cell_type": "code",
   "execution_count": 3,
   "metadata": {},
   "outputs": [
    {
     "data": {
      "text/plain": [
       "['지갑', '핸드크림', '충전기', '차키']"
      ]
     },
     "execution_count": 3,
     "metadata": {},
     "output_type": "execute_result"
    }
   ],
   "source": [
    "bag[::]"
   ]
  },
  {
   "cell_type": "code",
   "execution_count": 4,
   "metadata": {},
   "outputs": [],
   "source": [
    "# del : 리스트의 인덱스를 지정해서 특정 항목 삭제\n",
    "del bag[0:2]"
   ]
  },
  {
   "cell_type": "code",
   "execution_count": 5,
   "metadata": {},
   "outputs": [
    {
     "data": {
      "text/plain": [
       "['충전기', '차키']"
      ]
     },
     "execution_count": 5,
     "metadata": {},
     "output_type": "execute_result"
    }
   ],
   "source": [
    "bag"
   ]
  },
  {
   "cell_type": "code",
   "execution_count": 6,
   "metadata": {},
   "outputs": [],
   "source": [
    "del bag[0]"
   ]
  },
  {
   "cell_type": "code",
   "execution_count": 7,
   "metadata": {},
   "outputs": [
    {
     "data": {
      "text/plain": [
       "['차키']"
      ]
     },
     "execution_count": 7,
     "metadata": {},
     "output_type": "execute_result"
    }
   ],
   "source": [
    "bag"
   ]
  },
  {
   "cell_type": "code",
   "execution_count": 8,
   "metadata": {},
   "outputs": [],
   "source": [
    "bag.append(\"충전기\")\n",
    "bag.append(\"핸드폰\")"
   ]
  },
  {
   "cell_type": "code",
   "execution_count": 11,
   "metadata": {},
   "outputs": [
    {
     "name": "stdout",
     "output_type": "stream",
     "text": [
      "충전기의 위치는 : 0\n"
     ]
    }
   ],
   "source": [
    "# index(x) : x의 위치 인덱스 번호를 알려주는 역할\n",
    "print(\"충전기의 위치는 :\", bag.index(\"차키\"))\n"
   ]
  },
  {
   "cell_type": "code",
   "execution_count": 12,
   "metadata": {},
   "outputs": [],
   "source": [
    "# sort(key, reverse) : reverse=True -> 내림차순으로 정렬\n",
    "# 2번째 인자를 안적으면 오름 차순으로 정렬이 됩니다.\n"
   ]
  },
  {
   "cell_type": "code",
   "execution_count": 13,
   "metadata": {},
   "outputs": [
    {
     "data": {
      "text/plain": [
       "48"
      ]
     },
     "execution_count": 13,
     "metadata": {},
     "output_type": "execute_result"
    }
   ],
   "source": [
    "# 리스트 언패킹\n",
    "num_list = [1,2,3,4]\n",
    "def num_mul(a,b,c,d):\n",
    "    return a * b * c * d\n",
    "\n",
    "num_mul(2, *num_list[1:])"
   ]
  },
  {
   "cell_type": "code",
   "execution_count": 19,
   "metadata": {},
   "outputs": [
    {
     "name": "stdout",
     "output_type": "stream",
     "text": [
      "[0, 0, 0, 0, 0, 0, 0, 0, 0, 0, 0, 0, 0, 0, 0, 0, 0, 0, 0, 0, 0, 0, 0, 0, 0, 0, 0, 0, 0, 0, 0, 0, 0, 0, 0, 0, 0, 0, 0, 0, 0, 0, 0, 0, 0, 0, 0, 0, 0, 0, 0, 0, 0, 0, 0, 0, 0, 0, 0, 0, 0, 0, 0, 0, 0, 0, 0, 0, 0, 0, 0, 0, 0, 0, 0, 0, 0, 0, 0, 0, 0, 0, 0, 0, 0, 0, 0, 0, 0, 0, 0, 0, 0, 0, 0, 0, 0, 0, 0, 0, 0]\n"
     ]
    }
   ],
   "source": [
    "# 1 ~ 100까지의 리스트 인덱스 안에다가 0이라는 값을 넣어보세요.\n",
    "a = []\n",
    "for i in range(101):\n",
    "    a.append(i - i)\n",
    "print(a)"
   ]
  },
  {
   "cell_type": "code",
   "execution_count": 21,
   "metadata": {},
   "outputs": [
    {
     "name": "stdout",
     "output_type": "stream",
     "text": [
      "[0, 0, 0, 0, 0, 0, 0, 0, 0, 0, 0, 0, 0, 0, 0, 0, 0, 0, 0, 0, 0, 0, 0, 0, 0, 0, 0, 0, 0, 0, 0, 0, 0, 0, 0, 0, 0, 0, 0, 0, 0, 0, 0, 0, 0, 0, 0, 0, 0, 0, 0, 0, 0, 0, 0, 0, 0, 0, 0, 0, 0, 0, 0, 0, 0, 0, 0, 0, 0, 0, 0, 0, 0, 0, 0, 0, 0, 0, 0, 0, 0, 0, 0, 0, 0, 0, 0, 0, 0, 0, 0, 0, 0, 0, 0, 0, 0, 0, 0]\n"
     ]
    }
   ],
   "source": [
    "a = [0 for i in range(1, 100)]\n",
    "print(a)"
   ]
  },
  {
   "cell_type": "code",
   "execution_count": 23,
   "metadata": {},
   "outputs": [
    {
     "name": "stdout",
     "output_type": "stream",
     "text": [
      "[1, 2, 4, 8, 16, 32, 64, 128, 256, 512, 1024, 2048, 4096, 8192, 16384]\n"
     ]
    }
   ],
   "source": [
    "# 2의 거듭제곱을 사용 range(15) 의 값을 출력\n",
    "# 컴프리핸션\n",
    "b = [2 ** i for i in range(15)]\n",
    "print(b)"
   ]
  },
  {
   "cell_type": "code",
   "execution_count": 29,
   "metadata": {},
   "outputs": [
    {
     "name": "stdout",
     "output_type": "stream",
     "text": [
      "[2000, 2004, 2008, 2012, 2016, 2020]\n"
     ]
    }
   ],
   "source": [
    "# 2000 ~ 2020 까지 출력을 하는데 올림픽 2000 -> 2020 4년마다 출력을 하기\n",
    "c = [year for year in range(2000, 2021) if year % 4 == 0]\n",
    "print(c)"
   ]
  },
  {
   "cell_type": "code",
   "execution_count": 31,
   "metadata": {},
   "outputs": [
    {
     "data": {
      "text/plain": [
       "[2020, 2016, 2012, 2008, 2004, 2000]"
      ]
     },
     "execution_count": 31,
     "metadata": {},
     "output_type": "execute_result"
    }
   ],
   "source": [
    "c[::-1]"
   ]
  },
  {
   "cell_type": "code",
   "execution_count": 7,
   "metadata": {},
   "outputs": [
    {
     "name": "stdout",
     "output_type": "stream",
     "text": [
      "[(3, 4), (4, 3), (4, 4), (5, 3), (5, 4), (6, 2), (6, 3), (6, 4), (7, 2), (7, 3), (7, 4), (8, 2), (8, 3), (8, 4), (9, 2), (9, 3), (9, 4)]\n"
     ]
    }
   ],
   "source": [
    "# 컴프리핸션의 좋은 예\n",
    "result = []\n",
    "for x in range(10):\n",
    "    for y in range(5):\n",
    "        if x * y > 10:\n",
    "            result.append((x,y))\n",
    "\n",
    "def match():\n",
    "    for x in range(10):\n",
    "        for y in range(5):\n",
    "            if x != y:\n",
    "                for z in range(5):\n",
    "                    if y != z:\n",
    "                        yield (x,y,z)\n",
    "\n",
    "return ((x, complicated_transform(x))\n",
    "        for x in long_generator_function(parameter)\n",
    "        if x is not None)\n",
    "\n",
    "square = [x * x for x in range(10)]"
   ]
  },
  {
   "cell_type": "code",
   "execution_count": 8,
   "metadata": {},
   "outputs": [
    {
     "data": {
      "text/plain": [
       "<generator object match at 0x00000231B5758AC8>"
      ]
     },
     "execution_count": 8,
     "metadata": {},
     "output_type": "execute_result"
    }
   ],
   "source": [
    "# 안좋은 예\n",
    "# 코드가 읽기 어렵습니다.\n",
    "# 무슨말인지 알아보기 힘듭니다.\n",
    "result = [(x,y) for x in range(10) for y in range(5) if x * y > 10]\n",
    "\n",
    "return ((x,y,z)\n",
    "       for x in xrange(5)\n",
    "       for y in yrange(5)\n",
    "       if x != y\n",
    "       for z in xrange(5)\n",
    "       if y != z)"
   ]
  },
  {
   "cell_type": "code",
   "execution_count": null,
   "metadata": {},
   "outputs": [],
   "source": [
    "# timeit 모듈 사용 -> Timer라는 객체 생성\n",
    "# timeit.Timer(측정하고자 하는 코드(테스트를 위한 설정), \n",
    "# 기본값 = 1000000, 테스트가 끝나면 문장이 수행된 시간(밀리초) 부동소수점 반환)\n",
    "def test1():\n",
    "    l = []\n",
    "    for i in range(100000):\n",
    "        l = l + [i]\n",
    "\n",
    "def test2():\n",
    "    l = []\n",
    "    for i in rnage(100000):\n",
    "        l.append(i)\n",
    "        \n",
    "def test3():\n",
    "    l = [i for i in range(100000)]\n",
    "    \n",
    "def test4():\n",
    "    l = list(range(100000))\n",
    "    \n",
    "if __name__ == \"__main__\":\n",
    "    import timeit\n",
    "    t1 = timeit.Timer(\"test1()\", \"from __main__ import test1\")\n",
    "    print(\"concat\", t1.timeit(number=100000), \"milliseconds\")\n",
    "    t2 = timeit.Timer(\"test2()\", \"from __main__ import test2\")\n",
    "    print(\"append\", t2.timeit(number=100000), \"milliseconds\")\n",
    "    t3 = timeit.Timer(\"test3()\", \"from __main__ import test3\")\n",
    "    print(\"comprehension\", t3.timeit(number=100000), \"milliseconds\")\n",
    "    t4 = timeit.Timer(\"test4()\", \"from __main__ import test4\")\n",
    "    print(\"list range\", t4.timeit(number=100000), \"milliseconds\")"
   ]
  },
  {
   "cell_type": "code",
   "execution_count": null,
   "metadata": {},
   "outputs": [],
   "source": [
    "# 바이트, 바이트 배열\n",
    "# 0 ~ 255까지 부호 없는 8비트 정수 시퀸스로 구성\n",
    "# 파이썬에서는 원시바이트를 처리하는데 사용하는 데이터 타입으로 불변형 데이터\n",
    "# 바이트 - 문자열과 유사\n",
    "\n",
    "# 바이트배열 - 리스트와 유사\n",
    "# 가변형 데이터\n",
    "blist = [1,2,3, 255]\n",
    "the_bytes = bytes(blist)\n",
    "print(the_bytes)\n",
    "\n",
    "the_byte_array = bytearray(blist)\n",
    "print(the_byte_array)\n",
    "\n",
    "# 바이트는 슬라이싱을 사용할 수 없습니다.\n",
    "# 바이트 배열은 슬라이싱 기능을 사용할 수 있습니다.\n",
    "print(the_byte_array[0])\n",
    "the_byte_array[0] = 127\n",
    "print(the_byte_array[0])"
   ]
  },
  {
   "cell_type": "code",
   "execution_count": 11,
   "metadata": {},
   "outputs": [],
   "source": [
    "# 안녕하세요!\n",
    "\n",
    "# !요세하녕안\n",
    "\n",
    "str1 = \"안녕하세요!\"\n",
    "def revert(s):\n",
    "    if s:\n",
    "        s = s[-1]  + revert(s[:-1])\n",
    "    return s\n",
    "\n",
    "def revert2(s):\n",
    "    return s[::-1]\n"
   ]
  },
  {
   "cell_type": "code",
   "execution_count": 12,
   "metadata": {},
   "outputs": [
    {
     "data": {
      "text/plain": [
       "''"
      ]
     },
     "execution_count": 12,
     "metadata": {},
     "output_type": "execute_result"
    }
   ],
   "source": [
    "revert(str1)"
   ]
  },
  {
   "cell_type": "code",
   "execution_count": 6,
   "metadata": {},
   "outputs": [
    {
     "data": {
      "text/plain": [
       "'!요세하녕안'"
      ]
     },
     "execution_count": 6,
     "metadata": {},
     "output_type": "execute_result"
    }
   ],
   "source": [
    "revert2(str1)"
   ]
  },
  {
   "cell_type": "code",
   "execution_count": 12,
   "metadata": {},
   "outputs": [
    {
     "name": "stdout",
     "output_type": "stream",
     "text": [
      "나는 파이썬이 너무 재밌다.\n",
      "재밌다. 너무 파이썬이 나는\n"
     ]
    }
   ],
   "source": [
    "# 문장을 거꾸로 출력합니다.\n",
    "# 나는 파이썬이 너무 재밌습니다.\n",
    "# 재밌습니다. 너무 파이썬이 나는\n",
    "def reverser(string, p1=0, p2=None):\n",
    "    if len(string) < 2:\n",
    "        return string\n",
    "    p2 = p2 or len(string) - 1\n",
    "    while p1 < p2:\n",
    "        string[p1], string[p2] = string[p2], string[p1]\n",
    "        p1 += 1\n",
    "        p2 -= 1\n",
    "        \n",
    "def reversing_words(string):\n",
    "    reverser(string)\n",
    "    p = 0\n",
    "    start = 0\n",
    "    while p < len(string):\n",
    "                        #u\"\\u0020\" -> \\n\n",
    "        if string[p] == u\"\\u0020\":\n",
    "            reverser(string, start, p-1)\n",
    "            start = p + 1\n",
    "        p += 1\n",
    "        \n",
    "    reverser(string, start, p-1)\n",
    "    return \"\".join(string)\n",
    "\n",
    "if __name__ == \"__main__\":\n",
    "    str1 = input()\n",
    "    str2 = reversing_words(list(str1))\n",
    "    print(str2)"
   ]
  },
  {
   "cell_type": "code",
   "execution_count": 47,
   "metadata": {},
   "outputs": [
    {
     "name": "stdout",
     "output_type": "stream",
     "text": [
      "나는 파이썬이 너무 재밌다.\n",
      "재밌다. 너무 파이썬이 나는\n"
     ]
    }
   ],
   "source": [
    "# word, sentence = [],[]\n",
    "# 조건문에서 빈 리스트는 false를 여러 공백이 있는 경우 조건문을 뛰어넘게\n",
    "def reverse_words_brute(string):\n",
    "    word, sentence = [],[]\n",
    "    # 반복문을 통해서 string으로 들어오는 문자열을 character라는 변수에 넣습니다.\n",
    "    for character in string:\n",
    "        #만약 character 가 공란이 아니라면 word에 character를 추가합니다.\n",
    "        if character != \" \":\n",
    "            word.append(character)\n",
    "            #print(word)\n",
    "        # 공란이라면\n",
    "        else :\n",
    "            # word를 검색을 했을때 word에 값이 들어있다면\n",
    "            if word:\n",
    "                # sentence에 word를 추가합니다.\n",
    "                sentence.append(\"\".join(word))\n",
    "            # 무엇인가 있다면 word에 리스트를 공란으로 만들어줍니다.\n",
    "            word = []\n",
    "# 마지막에 단어가 있다면 문장에 추가\n",
    "    if word != \"\":\n",
    "        sentence.append(\"\".join(word))\n",
    "        \n",
    "    sentence.reverse()\n",
    "    return \" \".join(sentence)\n",
    "\n",
    "# 결과값을 똑같이 내기!\n",
    "# 나는 파이썬이 너무 재밌습니다.\n",
    "#재밌습니다. 너무 파이썬이 나는\n",
    "if __name__ == \"__main__\":\n",
    "    str1 = input()\n",
    "    str2 = reverse_words_brute(str1)\n",
    "    print(str2)"
   ]
  },
  {
   "cell_type": "code",
   "execution_count": 49,
   "metadata": {},
   "outputs": [
    {
     "name": "stdout",
     "output_type": "stream",
     "text": [
      "나는 파이썬이 너무 재밌다\n",
      "재밌다 너무 파이썬이 나는\n"
     ]
    }
   ],
   "source": [
    "def reverse_word(word):\n",
    "    new_word = []\n",
    "    words = word.split( )\n",
    "    for word in words[::-1]:\n",
    "        new_word.append(word)\n",
    "    return \" \".join(new_word)\n",
    "\n",
    "if __name__ == \"__main__\":\n",
    "    str1 = input()\n",
    "    str2 = reverse_word(str1)\n",
    "    print(str2)"
   ]
  },
  {
   "cell_type": "code",
   "execution_count": 52,
   "metadata": {},
   "outputs": [
    {
     "name": "stdout",
     "output_type": "stream",
     "text": [
      "b\n",
      "c\n",
      "a\n",
      "a2b1c5a3\n"
     ]
    }
   ],
   "source": [
    "# aabcccccaaa -> a2b1c5a3 형식으로 바꿔주세요.\n",
    "def str_compression(string):\n",
    "    count, last = 1, \"\"\n",
    "    list_aux = []\n",
    "    for i, c in enumerate(string):\n",
    "        if last == c:\n",
    "            count += 1\n",
    "        else:\n",
    "            if i != 0:\n",
    "                list_aux.append(str(count))\n",
    "            list_aux.append(c)\n",
    "            count = 1\n",
    "            last = c\n",
    "    list_aux.append(str(count))\n",
    "    return \"\".join(list_aux)\n",
    "\n",
    "if __name__ == \"__main__\":\n",
    "    result = str_compression(\"aabcccccaaa\")\n",
    "    print(result)"
   ]
  },
  {
   "cell_type": "code",
   "execution_count": 45,
   "metadata": {},
   "outputs": [
    {
     "data": {
      "text/plain": [
       "'a2b1c5a3'"
      ]
     },
     "execution_count": 45,
     "metadata": {},
     "output_type": "execute_result"
    }
   ],
   "source": [
    "str_compression(\"aabcccccaaa\")"
   ]
  },
  {
   "cell_type": "code",
   "execution_count": 18,
   "metadata": {},
   "outputs": [
    {
     "name": "stdout",
     "output_type": "stream",
     "text": [
      "a\n",
      "a\n",
      "b\n",
      "b\n",
      "b\n",
      "c\n",
      "c\n",
      "c\n",
      "a\n",
      "a\n"
     ]
    }
   ],
   "source": []
  },
  {
   "cell_type": "code",
   "execution_count": null,
   "metadata": {},
   "outputs": [],
   "source": []
  }
 ],
 "metadata": {
  "kernelspec": {
   "display_name": "Python 3",
   "language": "python",
   "name": "python3"
  },
  "language_info": {
   "codemirror_mode": {
    "name": "ipython",
    "version": 3
   },
   "file_extension": ".py",
   "mimetype": "text/x-python",
   "name": "python",
   "nbconvert_exporter": "python",
   "pygments_lexer": "ipython3",
   "version": "3.7.6"
  }
 },
 "nbformat": 4,
 "nbformat_minor": 2
}
