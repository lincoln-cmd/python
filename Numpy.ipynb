{
 "cells": [
  {
   "cell_type": "markdown",
   "metadata": {},
   "source": [
    "# Numpy\n",
    "- C언어로 구현된 파이썬 라이브러리\n",
    "- 고성능의 수치 계산\n",
    "- 벡터, 행렬 연산\n",
    "   - pandas, matplotib 모듈을 기반으로 사용이 됩니다.\n",
    "-array 배열 단위 -> list"
   ]
  },
  {
   "cell_type": "code",
   "execution_count": 1,
   "metadata": {},
   "outputs": [],
   "source": [
    "import numpy as np"
   ]
  },
  {
   "cell_type": "code",
   "execution_count": 4,
   "metadata": {},
   "outputs": [],
   "source": [
    "data1 = np.array([1,2,3,4,5])"
   ]
  },
  {
   "cell_type": "code",
   "execution_count": 5,
   "metadata": {},
   "outputs": [
    {
     "data": {
      "text/plain": [
       "(5,)"
      ]
     },
     "execution_count": 5,
     "metadata": {},
     "output_type": "execute_result"
    }
   ],
   "source": [
    "data1.shape"
   ]
  },
  {
   "cell_type": "code",
   "execution_count": 10,
   "metadata": {},
   "outputs": [
    {
     "data": {
      "text/plain": [
       "(3, 3)"
      ]
     },
     "execution_count": 10,
     "metadata": {},
     "output_type": "execute_result"
    }
   ],
   "source": [
    "data2 = np.array(([1,2,3],[4,5,6],[7,8,9]))\n",
    "data2.shape"
   ]
  },
  {
   "cell_type": "code",
   "execution_count": 7,
   "metadata": {},
   "outputs": [],
   "source": [
    "# np.shape : array의 형태(크기)를 확인 할 수 있습니다.\n",
    "# 몇개의 데이터가 있는지, 몇차원으로 존재하는지를 알 수 있습니다."
   ]
  },
  {
   "cell_type": "code",
   "execution_count": 8,
   "metadata": {},
   "outputs": [
    {
     "data": {
      "text/plain": [
       "array([[0., 0., 0.],\n",
       "       [0., 0., 0.],\n",
       "       [0., 0., 0.]])"
      ]
     },
     "execution_count": 8,
     "metadata": {},
     "output_type": "execute_result"
    }
   ],
   "source": [
    "# 기본값 (0으로 넣는 경우) : np.zeros((3,3))\n",
    "np.zeros((3,3))"
   ]
  },
  {
   "cell_type": "code",
   "execution_count": 9,
   "metadata": {},
   "outputs": [
    {
     "data": {
      "text/plain": [
       "array([[1., 1., 1.],\n",
       "       [1., 1., 1.],\n",
       "       [1., 1., 1.],\n",
       "       [1., 1., 1.],\n",
       "       [1., 1., 1.]])"
      ]
     },
     "execution_count": 9,
     "metadata": {},
     "output_type": "execute_result"
    }
   ],
   "source": [
    "# 기본값 (1을 넣는 경우) : np.ones()\n",
    "np.ones((5,3))"
   ]
  },
  {
   "cell_type": "code",
   "execution_count": 3,
   "metadata": {},
   "outputs": [
    {
     "data": {
      "text/plain": [
       "array([2, 3, 4])"
      ]
     },
     "execution_count": 3,
     "metadata": {},
     "output_type": "execute_result"
    }
   ],
   "source": [
    "np.arange(5)\n",
    "np.arange(2,5)\n",
    "# 인자로 받는 값 만큼 1씩 증가하는 1차원 array를 만들고 하나의 인자만 입력한다면 0 ! 입력한 인자, 값만큼 크기를 갖게 됩니다."
   ]
  },
  {
   "cell_type": "code",
   "execution_count": 5,
   "metadata": {},
   "outputs": [],
   "source": [
    "data1 = np.array(([1,2,3],[4,5,6]))\n",
    "data2 = np.array(([7,8,9],[10,11,12]))"
   ]
  },
  {
   "cell_type": "code",
   "execution_count": 23,
   "metadata": {},
   "outputs": [
    {
     "data": {
      "text/plain": [
       "array([[ 8, 10, 12],\n",
       "       [14, 16, 18]])"
      ]
     },
     "execution_count": 23,
     "metadata": {},
     "output_type": "execute_result"
    }
   ],
   "source": [
    "data1 + data2 # 사칙 연산 가능"
   ]
  },
  {
   "cell_type": "code",
   "execution_count": 24,
   "metadata": {},
   "outputs": [
    {
     "data": {
      "text/plain": [
       "array([[-6, -6, -6],\n",
       "       [-6, -6, -6]])"
      ]
     },
     "execution_count": 24,
     "metadata": {},
     "output_type": "execute_result"
    }
   ],
   "source": [
    "data1 - data2"
   ]
  },
  {
   "cell_type": "code",
   "execution_count": 25,
   "metadata": {},
   "outputs": [
    {
     "data": {
      "text/plain": [
       "array([[ 7, 16, 27],\n",
       "       [40, 55, 72]])"
      ]
     },
     "execution_count": 25,
     "metadata": {},
     "output_type": "execute_result"
    }
   ],
   "source": [
    "data1 * data2"
   ]
  },
  {
   "cell_type": "code",
   "execution_count": 28,
   "metadata": {},
   "outputs": [
    {
     "data": {
      "text/plain": [
       "array([[0.14285714, 0.25      , 0.33333333],\n",
       "       [0.4       , 0.45454545, 0.5       ]])"
      ]
     },
     "execution_count": 28,
     "metadata": {},
     "output_type": "execute_result"
    }
   ],
   "source": [
    "data1 / data2"
   ]
  },
  {
   "cell_type": "code",
   "execution_count": 29,
   "metadata": {},
   "outputs": [
    {
     "data": {
      "text/plain": [
       "array([[11, 13, 15],\n",
       "       [14, 16, 18]])"
      ]
     },
     "execution_count": 29,
     "metadata": {},
     "output_type": "execute_result"
    }
   ],
   "source": [
    "# 브로드캐스팅\n",
    "# 서로 다른 크기의 array가 연산이 가능하도록 만들어주는 친구\n",
    "data3 = np.array([10,11,12])\n",
    "data1 + data3"
   ]
  },
  {
   "cell_type": "code",
   "execution_count": 30,
   "metadata": {},
   "outputs": [
    {
     "data": {
      "text/plain": [
       "array([[10, 22, 36],\n",
       "       [40, 55, 72]])"
      ]
     },
     "execution_count": 30,
     "metadata": {},
     "output_type": "execute_result"
    }
   ],
   "source": [
    "data1 * data3"
   ]
  },
  {
   "cell_type": "code",
   "execution_count": 31,
   "metadata": {},
   "outputs": [
    {
     "data": {
      "text/plain": [
       "array([[ 1,  4,  9],\n",
       "       [16, 25, 36]], dtype=int32)"
      ]
     },
     "execution_count": 31,
     "metadata": {},
     "output_type": "execute_result"
    }
   ],
   "source": [
    "data1 ** 2"
   ]
  },
  {
   "cell_type": "code",
   "execution_count": 7,
   "metadata": {
    "scrolled": true
   },
   "outputs": [
    {
     "data": {
      "text/plain": [
       "array([1, 2, 3])"
      ]
     },
     "execution_count": 7,
     "metadata": {},
     "output_type": "execute_result"
    }
   ],
   "source": [
    "# 슬라이싱 기능 \n",
    "# 다차원 배열\n",
    "data1[0, :]"
   ]
  },
  {
   "cell_type": "code",
   "execution_count": 9,
   "metadata": {},
   "outputs": [
    {
     "data": {
      "text/plain": [
       "array([50, 49, 48, 47, 46, 45, 44, 43, 42, 41, 40, 39, 38, 37, 36, 35, 34,\n",
       "       33, 32, 31, 30, 29, 28, 27, 26, 25, 24, 23, 22, 21, 20, 19, 18, 17,\n",
       "       16, 15, 14, 13, 12, 11, 10,  9,  8,  7,  6,  5,  4,  3,  2,  1,  0])"
      ]
     },
     "execution_count": 9,
     "metadata": {},
     "output_type": "execute_result"
    }
   ],
   "source": [
    "# numpy를 이용해 배열간격 1을 유지하면서 거꾸로 출력\n",
    "# numpy는 1차원 배열이고 숫자는 0~50\n",
    "# data1 = np.arange(-50,1)\n",
    "# data2 = data1 * -1\n",
    "# data2[:]\n",
    "# print(data2)\n",
    "n = np.arange(0,51)\n",
    "n[:: -1]"
   ]
  },
  {
   "cell_type": "code",
   "execution_count": 18,
   "metadata": {},
   "outputs": [
    {
     "name": "stdout",
     "output_type": "stream",
     "text": [
      "[[0. 0. 0. 0. 1. 0. 0. 0. 0. 0.]]\n"
     ]
    }
   ],
   "source": [
    "# 크기가 10인 배열이 있습니다.\n",
    "# 배열안에는 0이 들어있는데 그중 5번째 요소에는 1이 들어가 있습니다.\n",
    "# x = np.zeros((10,10))\n",
    "# y = np.ones((1,10))\n",
    "# z = x[4, :] + y[0, :]\n",
    "# print(z)\n",
    "x = np.zeros((1,10))\n",
    "x[0, 4] = 1\n",
    "print(x)"
   ]
  },
  {
   "cell_type": "code",
   "execution_count": 111,
   "metadata": {},
   "outputs": [
    {
     "name": "stdout",
     "output_type": "stream",
     "text": [
      "[0. 0. 0. 0. 1. 0. 0. 0. 0. 0.]\n",
      "[[[1 4 7 6 0]\n",
      "  [8 1 4 7 0]\n",
      "  [6 7 5 9 1]\n",
      "  [8 7 5 7 2]]\n",
      "\n",
      " [[9 0 1 0 3]\n",
      "  [2 4 5 6 7]\n",
      "  [7 6 2 1 1]\n",
      "  [1 7 4 5 7]]\n",
      "\n",
      " [[3 7 5 9 8]\n",
      "  [9 3 8 9 1]\n",
      "  [7 4 4 5 7]\n",
      "  [1 0 5 9 6]]]\n"
     ]
    }
   ],
   "source": [
    "# 크기가 10인 배열이 있습니다.\n",
    "# 배열안에는 0이 들어있는데 그중 5번째 요소에는 1이 들어가 있습니다.\n",
    "x = np.zeros(10)\n",
    "x[4] = 1\n",
    "print(x)\n",
    "DArray = np.random.randint(10, size=(3, 4, 5)) # 4행 5열 짜리 행렬 3개 생성\n",
    "print(DArray)"
   ]
  },
  {
   "cell_type": "code",
   "execution_count": 48,
   "metadata": {},
   "outputs": [
    {
     "data": {
      "image/png": "[encoded data removed]",
      "text/plain": [
       "<Figure size 432x288 with 1 Axes>"
      ]
     },
     "metadata": {
      "needs_background": "light"
     },
     "output_type": "display_data"
    }
   ],
   "source": [
    "import matplotlib.pyplot as plt\n",
    "table = np.linspace(0, 1, 5)\n",
    "plt.plot(table, 'x')\n",
    "plt.show()"
   ]
  },
  {
   "cell_type": "code",
   "execution_count": 53,
   "metadata": {},
   "outputs": [
    {
     "data": {
      "text/plain": [
       "array([ -1.8516299 ,   0.89805132,  -8.5215641 ,  19.96671167,\n",
       "        -1.86431782,   2.53753752,   4.21548931,  -2.97663452,\n",
       "        -5.45685461,  -6.7128287 ,  10.96448735,  11.88731176,\n",
       "         9.74684798,   2.60117504, -11.44823998,  -1.26281235,\n",
       "        -0.85808862,   8.32775821,  -7.22911542,   3.05964069,\n",
       "        -0.51109287,  -3.70450056,  -5.04123705,  -2.38803099,\n",
       "         9.30385401,  -6.5661257 ,   5.48568269,  -9.71384452,\n",
       "       -17.73563133,   8.96658374,  -1.99719166,   5.99934812,\n",
       "         1.70700483,   1.01301252,   3.18809518,   8.53444092,\n",
       "       -11.4484868 ,   5.19213699,   4.00178875,   7.45376561,\n",
       "        -9.14175225,  -0.27128782,  -9.64434452, -10.06688492,\n",
       "         2.9347158 ,  -4.35025457,  -2.31201111,   8.69060318,\n",
       "        14.61444777,  -4.89367391,   1.46735175,   2.18504242,\n",
       "        -4.74446967,   6.2609791 ,   3.54773345,   4.21946486,\n",
       "        -4.6279736 ,  -3.47228009,   2.15089962,  -4.29112262,\n",
       "        -2.4647299 ,  -2.88671286,  -2.13078277,   3.94872052,\n",
       "         3.54409912,  -0.41019507, -10.32089918,  -3.14885214,\n",
       "         2.57449069,   4.39439173,  12.71153315,  -1.8045279 ,\n",
       "         3.02064486,  -2.28429883,   1.20463053,   4.72860248,\n",
       "         5.78736561,   0.92419057,  -5.55044956,   0.2657577 ,\n",
       "         1.18247563,   0.91984816,  -1.24523091,   9.38493596,\n",
       "        -5.31979464,   6.3306176 ,  -1.31331747,   8.45161739,\n",
       "        -8.47614227,   1.23441356,   1.36956797, -14.01674627,\n",
       "         5.606216  ,  -3.33261087,   4.61280048,   4.10609667,\n",
       "         2.03965493,   6.43013807,  11.10779009,  -3.88700577])"
      ]
     },
     "execution_count": 53,
     "metadata": {},
     "output_type": "execute_result"
    }
   ],
   "source": [
    "# np.random.normal (loc, scale, size)\n",
    "# np.random.rand (d0, d1, d2 ...)\n",
    "# np.random.randn (d0, d1, d2...)\n",
    "# np.random.randint (low, high, size, dtype)\n",
    "# np.random.random (size)\n",
    "\n",
    "# np.random.normal(0, 6, 100)\n",
    "# np.random.rand(10)\n",
    "# np.random.randn(100)\n",
    "# np.random.randint(3, 4, 2)\n",
    "# np.random.random(100)"
   ]
  },
  {
   "cell_type": "code",
   "execution_count": null,
   "metadata": {},
   "outputs": [],
   "source": []
  }
 ],
 "metadata": {
  "kernelspec": {
   "display_name": "Python 3",
   "language": "python",
   "name": "python3"
  },
  "language_info": {
   "codemirror_mode": {
    "name": "ipython",
    "version": 3
   },
   "file_extension": ".py",
   "mimetype": "text/x-python",
   "name": "python",
   "nbconvert_exporter": "python",
   "pygments_lexer": "ipython3",
   "version": "3.7.6"
  }
 },
 "nbformat": 4,
 "nbformat_minor": 4
}
