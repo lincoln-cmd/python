{
 "cells": [
  {
   "cell_type": "markdown",
   "metadata": {},
   "source": [
    "# 정수\n",
    "- int로 나타냅니다.\n",
    "- 불변형입니다.\n",
    "- 불변형 객체는 변수와 객체 참조간의 차이가 없다.\n",
    "- 정수의 크기 4바이트\n",
    "- (정수).bit_length() : 정수의 크기"
   ]
  },
  {
   "cell_type": "code",
   "execution_count": 3,
   "metadata": {},
   "outputs": [
    {
     "data": {
      "text/plain": [
       "2"
      ]
     },
     "execution_count": 3,
     "metadata": {},
     "output_type": "execute_result"
    }
   ],
   "source": [
    "a = 3\n",
    "(a).bit_length()"
   ]
  },
  {
   "cell_type": "code",
   "execution_count": 4,
   "metadata": {},
   "outputs": [
    {
     "data": {
      "text/plain": [
       "28"
      ]
     },
     "execution_count": 4,
     "metadata": {},
     "output_type": "execute_result"
    }
   ],
   "source": [
    "import sys\n",
    "sys.getsizeof(a)"
   ]
  },
  {
   "cell_type": "code",
   "execution_count": 26,
   "metadata": {},
   "outputs": [
    {
     "name": "stdout",
     "output_type": "stream",
     "text": [
      "11\n",
      "3\n",
      "9\n"
     ]
    }
   ],
   "source": [
    "a = '11'\n",
    "d = int(a, 10)\n",
    "print(d)\n",
    "b = int(a, 2)\n",
    "print(b)\n",
    "o = int(a, 8)\n",
    "print(o)\n",
    "#int(문자열, 밑)\n",
    "# 2, 8, 10, 16\n",
    "# 밑은 2 ~ 36 사이의 인수여야 합니다.\n",
    "# 범위를 벗어난다면 Value Error가 납니다."
   ]
  },
  {
   "cell_type": "markdown",
   "metadata": {},
   "source": [
    "# 부동소수점\n",
    "- 파이썬에서는 float을 부동소수점이라고 부릅니다.\n",
    "- 불변형입니다.\n",
    "- 단정도\n",
    "- 특정 숫자를 32비트로 만들며 (0, 1)로 나누어져 있다.\n",
    "- 정규화 : 소수점을 왼쪽으로 이동시켜 왼쪽부분에 1만 남게 하는것\n",
    "### 부동 소수점 비교할때 주의점?\n",
    "- 부동소수점 이진수 분수로 표현이 되기 때문에 함부로 연산을 하면 안된다.\n",
    "- 이진수는 10진수로 정확하게 표현할 수 있지만 표현하기 어려운값도 있다."
   ]
  },
  {
   "cell_type": "code",
   "execution_count": 27,
   "metadata": {},
   "outputs": [
    {
     "data": {
      "text/plain": [
       "False"
      ]
     },
     "execution_count": 27,
     "metadata": {},
     "output_type": "execute_result"
    }
   ],
   "source": [
    "0.2 * 3 == 0.6"
   ]
  },
  {
   "cell_type": "code",
   "execution_count": 28,
   "metadata": {},
   "outputs": [
    {
     "data": {
      "text/plain": [
       "True"
      ]
     },
     "execution_count": 28,
     "metadata": {},
     "output_type": "execute_result"
    }
   ],
   "source": [
    "1.2 - 0.2 == 1.0"
   ]
  },
  {
   "cell_type": "code",
   "execution_count": 29,
   "metadata": {},
   "outputs": [
    {
     "data": {
      "text/plain": [
       "False"
      ]
     },
     "execution_count": 29,
     "metadata": {},
     "output_type": "execute_result"
    }
   ],
   "source": [
    "1.2 - 0.1 == 1.1"
   ]
  },
  {
   "cell_type": "code",
   "execution_count": 34,
   "metadata": {},
   "outputs": [
    {
     "data": {
      "text/plain": [
       "True"
      ]
     },
     "execution_count": 34,
     "metadata": {},
     "output_type": "execute_result"
    }
   ],
   "source": [
    "3 / 5 == 0.6\n",
    "# '/' 나누기 연산자는 항상 부동소수점을 반환"
   ]
  },
  {
   "cell_type": "code",
   "execution_count": 35,
   "metadata": {},
   "outputs": [
    {
     "data": {
      "text/plain": [
       "7.0"
      ]
     },
     "execution_count": 35,
     "metadata": {},
     "output_type": "execute_result"
    }
   ],
   "source": [
    "# 몫 연산자 '//' 정수를 반환\n",
    "# 나머지 연산자 \"%\" 정수로 반환\n"
   ]
  },
  {
   "cell_type": "code",
   "execution_count": 36,
   "metadata": {},
   "outputs": [
    {
     "name": "stdout",
     "output_type": "stream",
     "text": [
      "(7, 0)\n",
      "(9, 0)\n"
     ]
    }
   ],
   "source": [
    "# divmod(x, y)\n",
    "# x를 y로 나눌때 몫과 나머지를 반환\n",
    "print(divmod(49,7))\n",
    "print(divmod(81,9))"
   ]
  },
  {
   "cell_type": "code",
   "execution_count": 42,
   "metadata": {},
   "outputs": [
    {
     "data": {
      "text/plain": [
       "0.0"
      ]
     },
     "execution_count": 42,
     "metadata": {},
     "output_type": "execute_result"
    }
   ],
   "source": [
    "# round() 반올림을 하는 메서드\n",
    "round(111.456, 1)\n",
    "round(111.456, -3)"
   ]
  },
  {
   "cell_type": "code",
   "execution_count": 43,
   "metadata": {},
   "outputs": [
    {
     "data": {
      "text/plain": [
       "(5404319552844595, 4503599627370496)"
      ]
     },
     "execution_count": 43,
     "metadata": {},
     "output_type": "execute_result"
    }
   ],
   "source": [
    "# 부동소수점을 분수로 표현하는 방법\n",
    "# .as_integer_ratio()\n",
    "1.2.as_integer_ratio()"
   ]
  },
  {
   "cell_type": "markdown",
   "metadata": {},
   "source": [
    "# 유리수\n",
    "- 두 정수의 비율로 나타낼수 있는 수.\n",
    "- 분모는 0이 아니어야 한다.\n",
    "- 모든 정수는 유리수다\n",
    "    - 분모가 1일수 있기 때문에\n",
    "\n",
    "import fractions.Fraction"
   ]
  },
  {
   "cell_type": "code",
   "execution_count": 48,
   "metadata": {},
   "outputs": [
    {
     "data": {
      "text/plain": [
       "Fraction(3, 1)"
      ]
     },
     "execution_count": 48,
     "metadata": {},
     "output_type": "execute_result"
    }
   ],
   "source": [
    "#import fractions.Fraction\n",
    "#fractions.Fraction(분자, 분모)\n",
    "from fractions import Fraction as Frac\n",
    "Fraction(3, 1)"
   ]
  },
  {
   "cell_type": "code",
   "execution_count": 49,
   "metadata": {},
   "outputs": [
    {
     "data": {
      "text/plain": [
       "Fraction(1, 2)"
      ]
     },
     "execution_count": 49,
     "metadata": {},
     "output_type": "execute_result"
    }
   ],
   "source": [
    "Frac(2, 4)"
   ]
  },
  {
   "cell_type": "code",
   "execution_count": 53,
   "metadata": {},
   "outputs": [
    {
     "name": "stdout",
     "output_type": "stream",
     "text": [
      "분모 : 1\n",
      "분자 : 3\n"
     ]
    }
   ],
   "source": [
    "# 분모 : denominator\n",
    "# 분자 : numerator\n",
    "temp=  Frac(3, 1)\n",
    "print(\"분모 :\", temp.denominator)\n",
    "print(\"분자 :\", temp.numerator)"
   ]
  },
  {
   "cell_type": "code",
   "execution_count": 57,
   "metadata": {},
   "outputs": [
    {
     "name": "stdout",
     "output_type": "stream",
     "text": [
      "성공!\n"
     ]
    }
   ],
   "source": [
    "def Find_Numerator(n1, n2):\n",
    "    a = Frac(n1, n2)\n",
    "    return a.numerator\n",
    "def Find_denominator(n1, n2):\n",
    "    a = Frac(n1, n2)\n",
    "    return a.denominator\n",
    "\n",
    "def test():\n",
    "    number1 = 3\n",
    "    number2 = 1\n",
    "    # 조건이 True가 아니라면 에러를 일으킵니다.\n",
    "    # 사용하는 이유?\n",
    "    # 성능을 높이기 위해서 반드시 정수만 입력해서 처리하도록 만들어 논 메서드\n",
    "    # \"가정 설정문\"\n",
    "    assert(Find_Numerator(number1, number2) == number1)\n",
    "    \n",
    "    print(\"성공!\")\n",
    "    \n",
    "if __name__ == \"__main__\":\n",
    "    test()"
   ]
  },
  {
   "cell_type": "markdown",
   "metadata": {},
   "source": [
    "# decimal -> 소수\n",
    "- 정수 타입에서 부동소수점이 필요한 경우 사용\n",
    "- 10진수\n",
    "- 소수 : prime\n",
    "\n",
    "- from decimal import Decimal\n",
    "    - Decimal(인수) : 정수, 문자열"
   ]
  },
  {
   "cell_type": "code",
   "execution_count": 61,
   "metadata": {},
   "outputs": [
    {
     "data": {
      "text/plain": [
       "Decimal('110')"
      ]
     },
     "execution_count": 61,
     "metadata": {},
     "output_type": "execute_result"
    }
   ],
   "source": [
    "from decimal import Decimal\n",
    "Decimal('110')\n"
   ]
  },
  {
   "cell_type": "code",
   "execution_count": 63,
   "metadata": {},
   "outputs": [
    {
     "data": {
      "text/plain": [
       "Decimal('1.2346600000000000907363073565647937357425689697265625')"
      ]
     },
     "execution_count": 63,
     "metadata": {},
     "output_type": "execute_result"
    }
   ],
   "source": [
    "Decimal.from_float(1.23466)\n",
    "# 부동소수점을 decimal 타입으로 변환\n",
    "# 부동소수점의 반올림, 비교, 뺄셈에서 나타나는 문제점을 효율적으로 처리할 수 있음"
   ]
  },
  {
   "cell_type": "code",
   "execution_count": 64,
   "metadata": {},
   "outputs": [
    {
     "name": "stdout",
     "output_type": "stream",
     "text": [
      "0b1010\n",
      "0o12\n",
      "0xa\n"
     ]
    }
   ],
   "source": [
    "# 인자로 들어오는 값을 각 진법의 문자열로 반환을 해줄 수 있습니다.\n",
    "# 2진수 : bin(값)\n",
    "print(bin(10))\n",
    "# 8진수 : oct(값)\n",
    "print(oct(10))\n",
    "# 16진수 : hex(값)\n",
    "print(hex(10))"
   ]
  },
  {
   "cell_type": "code",
   "execution_count": 65,
   "metadata": {},
   "outputs": [
    {
     "name": "stdout",
     "output_type": "stream",
     "text": [
      "성공!\n"
     ]
    }
   ],
   "source": [
    "# 2진수를 10진수로 바꾸는 메서드 입니다.\n",
    "# 1001을 2진수를 통해 9인지 확인을 하는 메서드 입니다.\n",
    "def convert_to_decimal(number, base):\n",
    "    multiplier, result = 1, 0\n",
    "    while number > 0:\n",
    "        result += number % 10 * multiplier\n",
    "        multiplier *= base\n",
    "        number = number // 10\n",
    "    return result\n",
    "\n",
    "def main():\n",
    "    number, base = 1001, 2\n",
    "    assert(convert_to_decimal(number, base) == 9)\n",
    "    print(\"성공!\")\n",
    "    \n",
    "if __name__ == \"__main__\":\n",
    "    main()"
   ]
  },
  {
   "cell_type": "code",
   "execution_count": 1,
   "metadata": {},
   "outputs": [
    {
     "name": "stdout",
     "output_type": "stream",
     "text": [
      "성공!\n"
     ]
    }
   ],
   "source": [
    "# 10진수 -> 2진수로 변환하는 메서드 만들기\n",
    "# 9\n",
    "def convert_to_decimal(number, base):\n",
    "    multiplier, result = 1, 0\n",
    "    while number > 0:\n",
    "        result += number % base * multiplier\n",
    "        multiplier *= 10\n",
    "        number = number // base\n",
    "    return result\n",
    "\n",
    "def main():\n",
    "    number, base = 9, 2\n",
    "    assert(convert_to_decimal(number, base) == 1001)\n",
    "    print(\"성공!\")\n",
    "    \n",
    "if __name__ == \"__main__\":\n",
    "    main()"
   ]
  },
  {
   "cell_type": "code",
   "execution_count": 4,
   "metadata": {},
   "outputs": [
    {
     "name": "stdout",
     "output_type": "stream",
     "text": [
      "성공!\n"
     ]
    }
   ],
   "source": [
    "#최대공약수 함수를 만든다.\n",
    "# a, b를 비교했을때의 최대공약수\n",
    "# 21, 12 = 3\n",
    "\n",
    "def finding_gcd(a, b):\n",
    "    while b != 0:\n",
    "        result = b\n",
    "        a, b = b, a % b\n",
    "    return result\n",
    "\n",
    "def main():\n",
    "    num1 = 21\n",
    "    num2 = 12\n",
    "    assert(finding_gcd(num1, num2) == 3)\n",
    "    print(\"성공!\")\n",
    "    \n",
    "if __name__ == \"__main__\":\n",
    "    main()"
   ]
  },
  {
   "cell_type": "code",
   "execution_count": 3,
   "metadata": {},
   "outputs": [
    {
     "name": "stdout",
     "output_type": "stream",
     "text": [
      "9\n",
      "3\n",
      "0\n"
     ]
    },
    {
     "data": {
      "text/plain": [
       "3"
      ]
     },
     "execution_count": 3,
     "metadata": {},
     "output_type": "execute_result"
    }
   ],
   "source": [
    "finding_gcd(21, 12)"
   ]
  },
  {
   "cell_type": "markdown",
   "metadata": {},
   "source": [
    "# 제네레이터 : Generator\n",
    "- 파이썬의 시퀸스를 생성하는 객체입니다.\n",
    "- 전체 시퀸스를 한번에 메모리에 생성하고 정렬할 필요없이 사용할 수 있습니다.\n",
    "- yield : 시퀸스를 순회할 때 마지막으로 호출된 요소를 기억하고 리턴합니다."
   ]
  },
  {
   "cell_type": "code",
   "execution_count": 3,
   "metadata": {},
   "outputs": [
    {
     "name": "stdout",
     "output_type": "stream",
     "text": [
      "1 1 2 3 5 8 13 "
     ]
    }
   ],
   "source": [
    "def fibonacci():\n",
    "    a, b = 0, 1\n",
    "    while True:\n",
    "        yield b\n",
    "        a, b = b, a + b\n",
    "        \n",
    "if __name__ == \"__main__\":\n",
    "    fb = fibonacci()\n",
    "    for _ in range(7):\n",
    "        print(next(fb), end=\" \")"
   ]
  },
  {
   "cell_type": "code",
   "execution_count": 6,
   "metadata": {},
   "outputs": [
    {
     "name": "stdout",
     "output_type": "stream",
     "text": [
      "1 2 3 4 5 6 7 8 9 10 "
     ]
    }
   ],
   "source": [
    "def temp():\n",
    "    tmp = 0\n",
    "    while True:\n",
    "        tmp += 1\n",
    "        yield tmp\n",
    "                \n",
    "if __name__ == \"__main__\":\n",
    "    temp = temp()\n",
    "    for _ in range(10):\n",
    "        print(next(temp), end=\" \")"
   ]
  },
  {
   "cell_type": "markdown",
   "metadata": {},
   "source": [
    "# 소수\n",
    "- 1과 자기자신만으로 나누어 1이 되는 수\n",
    "- 소수인지 판단하나는 방법\n",
    "    - 브루트 포스(무차별 대입)\n",
    "    - 제곱근"
   ]
  },
  {
   "cell_type": "code",
   "execution_count": 10,
   "metadata": {},
   "outputs": [],
   "source": [
    "import math\n",
    "def find_prime(number):\n",
    "    num = abs(number)\n",
    "    if num < 4 : return True\n",
    "    for x in range(2, num):\n",
    "        if num % x == 0:\n",
    "            return False\n",
    "    return True"
   ]
  },
  {
   "cell_type": "code",
   "execution_count": 12,
   "metadata": {},
   "outputs": [
    {
     "data": {
      "text/plain": [
       "True"
      ]
     },
     "execution_count": 12,
     "metadata": {},
     "output_type": "execute_result"
    }
   ],
   "source": [
    "find_prime(13)"
   ]
  },
  {
   "cell_type": "code",
   "execution_count": 13,
   "metadata": {},
   "outputs": [],
   "source": [
    "def find_prime_sqrt(number):\n",
    "    num = abs(number)\n",
    "    if num < 4 : return True\n",
    "    for x in range(2, int(math.sqrt(num)) + 1):\n",
    "        if num % x == 0:\n",
    "            return False\n",
    "    return True"
   ]
  },
  {
   "cell_type": "code",
   "execution_count": 15,
   "metadata": {},
   "outputs": [
    {
     "data": {
      "text/plain": [
       "True"
      ]
     },
     "execution_count": 15,
     "metadata": {},
     "output_type": "execute_result"
    }
   ],
   "source": [
    "find_prime_sqrt(13)"
   ]
  },
  {
   "cell_type": "code",
   "execution_count": 23,
   "metadata": {},
   "outputs": [],
   "source": [
    "#p가 소수고 a가 p의 배수가 아니라면 a(p - 1) = 1\n",
    "# a(p - 1)를 p로 나눈다면 나머지는 1이되는게\n",
    "# 페르마의 소정리입니다.\n",
    "import random\n",
    "def find_prime_fermat(number):\n",
    "    if number <= 102:\n",
    "        for a in range(2, number):\n",
    "            if pow(a, number - 1, number) != 1:\n",
    "                return False\n",
    "        return True\n",
    "    else:\n",
    "        for i in range(100):\n",
    "            a = random.randint(2, number - 1)\n",
    "            if pow (a, number -1, number ) != 1:\n",
    "                return False\n",
    "        return True"
   ]
  },
  {
   "cell_type": "code",
   "execution_count": 26,
   "metadata": {},
   "outputs": [
    {
     "data": {
      "text/plain": [
       "True"
      ]
     },
     "execution_count": 26,
     "metadata": {},
     "output_type": "execute_result"
    }
   ],
   "source": [
    "find_prime_fermat(13)"
   ]
  }
 ],
 "metadata": {
  "kernelspec": {
   "display_name": "Python 3",
   "language": "python",
   "name": "python3"
  },
  "language_info": {
   "codemirror_mode": {
    "name": "ipython",
    "version": 3
   },
   "file_extension": ".py",
   "mimetype": "text/x-python",
   "name": "python",
   "nbconvert_exporter": "python",
   "pygments_lexer": "ipython3",
   "version": "3.7.6"
  }
 },
 "nbformat": 4,
 "nbformat_minor": 2
}
