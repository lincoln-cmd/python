{
 "cells": [
  {
   "cell_type": "markdown",
   "metadata": {},
   "source": [
    "# 알고리즘\n",
    "- 일을 처리하는 작업을 지정된 절차에 따라 수행하게 되는 업무 처리 순서도\n",
    "- 명령을 실행하면 입력 데이터가 지정된 절차에 따라 가공 및 처리 지정된 곳으로 저장, 출력\n",
    "- 유한한 단계의 지정된 절차를 걸쳐 데이터 가공 처리\n",
    "- 일정한 시간 내에 실행이 종료가 되어야 한다.\n",
    "- **만약 프로그램이 종료되지 않는다면 알고리즘 문제 **\n",
    "\n",
    "# 알고리즘 표현 방법\n",
    "- 순서도 : 논리적인 순서나 작업 순서등을 도형으로 표현\n",
    "- 유사코드(의사코드) : 소스의 기본 골격만 이해할 수 있도록 소스코드와 비슷하게 표현\n",
    "\n",
    "```python\n",
    "        int index = 0;\n",
    "        int max;\n",
    "        double sum = 0.0;\n",
    "        double avg = 0.0;\n",
    "        max = dataArray[index];\n",
    "        while index < N :\n",
    "            if dataArray[index] > max:\n",
    "                max = dataArray[index];\n",
    "            sum = sum + dataArray[index];\n",
    "            index = index + 1;\n",
    "        avg = sum / N\n",
    "        print(max, sum, avg);\n",
    "        end\n",
    "        \n",
    "```\n",
    "\n",
    "# 기본 알고리즘의 자료구조\n",
    "- 일상생활에서 편리하고 질서를 유지하며 다양한 업무를 신속하게 수행할 수 있도록 만든것이 알고리즘\n",
    "- 성능을 향상시키기 위해 데이터를 어떤식으로 보관\n",
    "- 연관성이 데이터를 쉽게 찾아 갈수 있도록 구성\n",
    "\n",
    "> 배열\n",
    "- 다양한 정보를 체계적으로 저장하고 이를 기반으로 탐색 기능을 수행하기 위해 많이 사용하는 기본 자료구조\n",
    "- 배열은 동일한 자료형의 원소들을 컴퓨터 메모리의 연속적인 주소 영역에 저장하며 원소가 저장된 위치를 순서에 따라 가르키는 인덱스를 사용하여 지정된 원소를 읽어오거나 새로운 값을 변경할 수 있습니다.\n",
    "- 인덱스는 0부터 시작해서 전체 원소가 N개 일때 N - 1개의 인덱스 값을 가지게 됩니다.\n",
    "\n",
    "> 순차 탐색\n",
    "- 탐색 대상이 데이터 개수가 많지 않고 수시로 데이터가 새롭게 추가되고 데이터가 삭제되어야 하는 상황에서 탐색 빈도수가 높지 않을 경우 '순차 탐색'을 사용해야 합니다.\n",
    "\n",
    "> 이진 탐색\n",
    "- 키 문자 주어지면 배열 중간 인덱스값과 가르키는 값을 비교해서 중간값이 동일하면 중간값을 반환\n",
    "- 탐색 키값이 중간값 보다 작으면 0 ~ 중간값 -1 인덱스 구간을 탐색, 아니라면 중간값 + N - 1 구간을 탐색한다.\n",
    "\n",
    "> 정렬\n",
    "- 기준 항목 값의 크기에 따라 차례대로 저장 위치를 조정하는 것을 정렬이라고 합니다.\n",
    "- 선택정렬 : 가장 낮은 값을 찾아서 그 인덱스를 0번째 인덱스와 바꿈으로 정렬이 완성됩니다.\n",
    "- 연결형 리스트 : 각 원소들의 개별적인 리스트 노드를 구성한 뒤 다음 또는 이전 리스트 노드를 연결 시키는 연결 포인터를 포함하여 저장한 자료구조\n",
    "- 트리 노드 : 나뭇가지 처럼 생긴 노드이며 각 트리노드는 최대 2개의 자식 노드를 가질 수 있는 자료구조\n",
    "- 이진 탐색 트리 : 기본 원칙으로 기준이 되는 트리노드의 값보다 같거나 작은 값들을 순서에 따라 구성할 수 있는 탐색\n",
    "\n",
    "> FIFO (First In First Out) - Heap\n",
    "- 선착순 처리 방식\n",
    "- 큐에 차례대로 저장이 되며 새로운 이벤트가 도착하면 맨 뒤에 저장이 된다.\n",
    "\n",
    "> LIFO (Last In First Out) - Stack\n",
    "- 후착순 처리 방식\n",
    "- 역순으로 열거할 수 있는 자료구조가 사용이 됩니다. 가장 나중에 처리할 항목을 가장 먼저 입력해줘야 합니다."
   ]
  },
  {
   "cell_type": "code",
   "execution_count": 10,
   "metadata": {},
   "outputs": [],
   "source": [
    "# 함수를 만들어서\n",
    "# 순차적으로 선택정렬이 될 수 있도록 만들어주세요.\n",
    "data = [4,8,3,7,6,2,1,9,5,10]\n",
    "\n",
    "def Swap(x, i, j):\n",
    "    x[i], x[j] = x[j], x[i]\n",
    "    \n",
    "def sort(x):\n",
    "    for index in reversed(range(len(x))):\n",
    "        max_i = 0\n",
    "        for i in range(1, index + 1):\n",
    "            if x[i] > x[max_i]:\n",
    "                max_i = i\n",
    "        Swap(x, max_i, index)"
   ]
  },
  {
   "cell_type": "code",
   "execution_count": 9,
   "metadata": {},
   "outputs": [
    {
     "name": "stdout",
     "output_type": "stream",
     "text": [
      "0\n",
      "0\n",
      "0\n",
      "0\n",
      "0\n",
      "0\n",
      "0\n",
      "0\n",
      "0\n",
      "0\n",
      "[1, 2, 3, 4, 5, 6, 7, 8, 9, 10]\n"
     ]
    }
   ],
   "source": [
    "data = [4,8,3,7,6,2,1,9,5,10]\n",
    "sort(data)\n",
    "print(data)"
   ]
  },
  {
   "cell_type": "code",
   "execution_count": 9,
   "metadata": {},
   "outputs": [],
   "source": [
    "def sel_sort(arr):\n",
    "    # 반복문을 이용해서 sel_sort로 들어오는 인자값의 길이만큼 반복합니다.\n",
    "    for i in range(len(arr)):\n",
    "        # 변수에다가 i의 값을 넣습니다.\n",
    "        max_i = i\n",
    "        # 반복문을 통해 i의 인덱스와 그 다음인덱스를 검사하기 위해 반복합니다.\n",
    "        for j in range(i + 1, len(arr)):\n",
    "            # 만약 인자로 들어오는 인덱스가 검사하고 있는 인덱스의 보다 크다면\n",
    "            if arr[max_i] > arr[j]:\n",
    "                # 인자로 들어오는 인덱스에 검사하고 있는 인덱스를 넣어줍니다.\n",
    "                max_i = j\n",
    "        # 반복문이 다 돌았다면 가지고 있는 인덱스를 교환해줍니다.\n",
    "        #  1 -> 3, 2 -> 4\n",
    "        #  1        2            3         4\n",
    "        arr[i], arr[max_i] = arr[max_i], arr[i]\n",
    "    # 마지막에 현재 배열을 다시 반환합니다.\n",
    "    return arr"
   ]
  },
  {
   "cell_type": "code",
   "execution_count": 10,
   "metadata": {},
   "outputs": [
    {
     "data": {
      "text/plain": [
       "[1, 2, 3, 4, 5, 6, 7, 8, 9, 10]"
      ]
     },
     "execution_count": 10,
     "metadata": {},
     "output_type": "execute_result"
    }
   ],
   "source": [
    "data = [4,8,3,7,6,2,1,9,5,10]\n",
    "sel_sort(data)"
   ]
  }
 ],
 "metadata": {
  "kernelspec": {
   "display_name": "Python 3",
   "language": "python",
   "name": "python3"
  },
  "language_info": {
   "codemirror_mode": {
    "name": "ipython",
    "version": 3
   },
   "file_extension": ".py",
   "mimetype": "text/x-python",
   "name": "python",
   "nbconvert_exporter": "python",
   "pygments_lexer": "ipython3",
   "version": "3.7.4"
  }
 },
 "nbformat": 4,
 "nbformat_minor": 2
}
