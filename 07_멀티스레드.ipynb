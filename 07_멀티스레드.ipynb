{
 "cells": [
  {
   "cell_type": "code",
   "execution_count": 1,
   "metadata": {},
   "outputs": [],
   "source": [
    "# 프로세스 : 어떤 운영체제에서 실행되는 프로그램\n",
    "# 각각 별도의 프로세스 -> 스레드(하나 이상)\n",
    "# 멀티 스레드 : 프로세스에 여러개의 스레드가 있다면 여러가지 작업을 동시에 수행을 하는 듯한 느낌을 받을 수 있다.\n",
    "# 멀티 프로세스 : 별도의 메모리 영역을 가지고 있다.\n",
    "# 특별한 메커니즘으로 통신할 수 있다.\n",
    "# 통신 방법?\n",
    "# - 시그널, 메시지 큐, 파이프 라인, 파일을을 통신하는 IPC 방식\n",
    "# 프로세스는 각 스레드에서 별도의 레지스터 집합을 불러오거나 저장할 수 있다.\n",
    "# 프로세스간의 데이터를 공유하거나 통신용으로 사용하는 것은효율적이지 못하다.\n",
    "# subprocess\n",
    "\n",
    "\n",
    "\n",
    "# 멀티 스레드 : 프로세스에 여러개의스레드가 있다면 여러가지 작업을 동시에 수행을 하는 듯한 느낌을 받을 수 있다.\n",
    "# 단일 프로세스 내의 멀티스레드는 동일 메모리에 접근합니다.\n",
    "# threading 모듈의 처리를 통해서 한번에 한 스레드만 메모리 영역에 접근할 수 있다.\n",
    "# 각 프로세스가 독립적인 스택, 힙, 코드, 데이터 영역을 가지게 되고, 한 프로세스에 속한 스레드는 스택 영역을 제외한 메모리 역영을 공유합니다.\n",
    "# "
   ]
  },
  {
   "cell_type": "code",
   "execution_count": 2,
   "metadata": {},
   "outputs": [],
   "source": [
    "# subprocess 모듈\n",
    "# '부모 - 자식' 프로세스 쌍을 생성을 합니다.\n",
    "# 부모 프로세스는 사용자를 통해서 실행되고 차례대로 다른 일을 처리하는 자식 프로세스의 인스턴스를 실행시킵니다.\n",
    "# 자식 프로세스는 실행이 되면서 멀티 코어의 이점을 최대로 가져오고, 동시성의 문제를 운영체제가 알아서 처리하도록 합니다.\n"
   ]
  },
  {
   "cell_type": "code",
   "execution_count": 3,
   "metadata": {},
   "outputs": [
    {
     "ename": "FileNotFoundError",
     "evalue": "[WinError 2] 지정된 파일을 찾을 수 없습니다",
     "output_type": "error",
     "traceback": [
      "\u001b[1;31m---------------------------------------------------------------------------\u001b[0m",
      "\u001b[1;31mFileNotFoundError\u001b[0m                         Traceback (most recent call last)",
      "\u001b[1;32m<ipython-input-3-00285b94abb1>\u001b[0m in \u001b[0;36m<module>\u001b[1;34m\u001b[0m\n\u001b[0;32m      1\u001b[0m \u001b[1;32mimport\u001b[0m \u001b[0msubprocess\u001b[0m\u001b[1;33m\u001b[0m\u001b[1;33m\u001b[0m\u001b[0m\n\u001b[1;32m----> 2\u001b[1;33m \u001b[0msubprocess\u001b[0m\u001b[1;33m.\u001b[0m\u001b[0mrun\u001b[0m\u001b[1;33m(\u001b[0m\u001b[1;33m[\u001b[0m\u001b[1;34m'sleep'\u001b[0m\u001b[1;33m,\u001b[0m \u001b[1;34m'10'\u001b[0m\u001b[1;33m]\u001b[0m\u001b[1;33m)\u001b[0m\u001b[1;33m\u001b[0m\u001b[1;33m\u001b[0m\u001b[0m\n\u001b[0m",
      "\u001b[1;32m~\\anaconda3\\lib\\subprocess.py\u001b[0m in \u001b[0;36mrun\u001b[1;34m(input, capture_output, timeout, check, *popenargs, **kwargs)\u001b[0m\n\u001b[0;32m    486\u001b[0m         \u001b[0mkwargs\u001b[0m\u001b[1;33m[\u001b[0m\u001b[1;34m'stderr'\u001b[0m\u001b[1;33m]\u001b[0m \u001b[1;33m=\u001b[0m \u001b[0mPIPE\u001b[0m\u001b[1;33m\u001b[0m\u001b[1;33m\u001b[0m\u001b[0m\n\u001b[0;32m    487\u001b[0m \u001b[1;33m\u001b[0m\u001b[0m\n\u001b[1;32m--> 488\u001b[1;33m     \u001b[1;32mwith\u001b[0m \u001b[0mPopen\u001b[0m\u001b[1;33m(\u001b[0m\u001b[1;33m*\u001b[0m\u001b[0mpopenargs\u001b[0m\u001b[1;33m,\u001b[0m \u001b[1;33m**\u001b[0m\u001b[0mkwargs\u001b[0m\u001b[1;33m)\u001b[0m \u001b[1;32mas\u001b[0m \u001b[0mprocess\u001b[0m\u001b[1;33m:\u001b[0m\u001b[1;33m\u001b[0m\u001b[1;33m\u001b[0m\u001b[0m\n\u001b[0m\u001b[0;32m    489\u001b[0m         \u001b[1;32mtry\u001b[0m\u001b[1;33m:\u001b[0m\u001b[1;33m\u001b[0m\u001b[1;33m\u001b[0m\u001b[0m\n\u001b[0;32m    490\u001b[0m             \u001b[0mstdout\u001b[0m\u001b[1;33m,\u001b[0m \u001b[0mstderr\u001b[0m \u001b[1;33m=\u001b[0m \u001b[0mprocess\u001b[0m\u001b[1;33m.\u001b[0m\u001b[0mcommunicate\u001b[0m\u001b[1;33m(\u001b[0m\u001b[0minput\u001b[0m\u001b[1;33m,\u001b[0m \u001b[0mtimeout\u001b[0m\u001b[1;33m=\u001b[0m\u001b[0mtimeout\u001b[0m\u001b[1;33m)\u001b[0m\u001b[1;33m\u001b[0m\u001b[1;33m\u001b[0m\u001b[0m\n",
      "\u001b[1;32m~\\anaconda3\\lib\\subprocess.py\u001b[0m in \u001b[0;36m__init__\u001b[1;34m(self, args, bufsize, executable, stdin, stdout, stderr, preexec_fn, close_fds, shell, cwd, env, universal_newlines, startupinfo, creationflags, restore_signals, start_new_session, pass_fds, encoding, errors, text)\u001b[0m\n\u001b[0;32m    798\u001b[0m                                 \u001b[0mc2pread\u001b[0m\u001b[1;33m,\u001b[0m \u001b[0mc2pwrite\u001b[0m\u001b[1;33m,\u001b[0m\u001b[1;33m\u001b[0m\u001b[1;33m\u001b[0m\u001b[0m\n\u001b[0;32m    799\u001b[0m                                 \u001b[0merrread\u001b[0m\u001b[1;33m,\u001b[0m \u001b[0merrwrite\u001b[0m\u001b[1;33m,\u001b[0m\u001b[1;33m\u001b[0m\u001b[1;33m\u001b[0m\u001b[0m\n\u001b[1;32m--> 800\u001b[1;33m                                 restore_signals, start_new_session)\n\u001b[0m\u001b[0;32m    801\u001b[0m         \u001b[1;32mexcept\u001b[0m\u001b[1;33m:\u001b[0m\u001b[1;33m\u001b[0m\u001b[1;33m\u001b[0m\u001b[0m\n\u001b[0;32m    802\u001b[0m             \u001b[1;31m# Cleanup if the child failed starting.\u001b[0m\u001b[1;33m\u001b[0m\u001b[1;33m\u001b[0m\u001b[1;33m\u001b[0m\u001b[0m\n",
      "\u001b[1;32m~\\anaconda3\\lib\\subprocess.py\u001b[0m in \u001b[0;36m_execute_child\u001b[1;34m(self, args, executable, preexec_fn, close_fds, pass_fds, cwd, env, startupinfo, creationflags, shell, p2cread, p2cwrite, c2pread, c2pwrite, errread, errwrite, unused_restore_signals, unused_start_new_session)\u001b[0m\n\u001b[0;32m   1205\u001b[0m                                          \u001b[0menv\u001b[0m\u001b[1;33m,\u001b[0m\u001b[1;33m\u001b[0m\u001b[1;33m\u001b[0m\u001b[0m\n\u001b[0;32m   1206\u001b[0m                                          \u001b[0mos\u001b[0m\u001b[1;33m.\u001b[0m\u001b[0mfspath\u001b[0m\u001b[1;33m(\u001b[0m\u001b[0mcwd\u001b[0m\u001b[1;33m)\u001b[0m \u001b[1;32mif\u001b[0m \u001b[0mcwd\u001b[0m \u001b[1;32mis\u001b[0m \u001b[1;32mnot\u001b[0m \u001b[1;32mNone\u001b[0m \u001b[1;32melse\u001b[0m \u001b[1;32mNone\u001b[0m\u001b[1;33m,\u001b[0m\u001b[1;33m\u001b[0m\u001b[1;33m\u001b[0m\u001b[0m\n\u001b[1;32m-> 1207\u001b[1;33m                                          startupinfo)\n\u001b[0m\u001b[0;32m   1208\u001b[0m             \u001b[1;32mfinally\u001b[0m\u001b[1;33m:\u001b[0m\u001b[1;33m\u001b[0m\u001b[1;33m\u001b[0m\u001b[0m\n\u001b[0;32m   1209\u001b[0m                 \u001b[1;31m# Child is launched. Close the parent's copy of those pipe\u001b[0m\u001b[1;33m\u001b[0m\u001b[1;33m\u001b[0m\u001b[1;33m\u001b[0m\u001b[0m\n",
      "\u001b[1;31mFileNotFoundError\u001b[0m: [WinError 2] 지정된 파일을 찾을 수 없습니다"
     ]
    }
   ],
   "source": [
    "import subprocess\n",
    "subprocess.run(['sleep', '10'])"
   ]
  },
  {
   "cell_type": "code",
   "execution_count": 9,
   "metadata": {},
   "outputs": [
    {
     "name": "stdout",
     "output_type": "stream",
     "text": [
      "스레드 3 : 처리 완료 0\n",
      "스레드 3 : 처리 완료 1스레드 1 : 처리 완료 2\n",
      "스레드 1 : 처리 완료 3\n",
      "스레드 1 : 처리 완료 4\n",
      "스레드 1 : 처리 완료 5스레드 5 : 처리 완료 6\n",
      "스레드 5 : 처리 완료 7\n",
      "스레드 5 : 처리 완료 8\n",
      "스레드 1 : 처리 완료 9\n",
      "스레드 1 : 처리 완료 10\n",
      "스레드 1 : 처리 완료 11\n",
      "스레드 1 : 처리 완료 12\n",
      "스레드 1 : 처리 완료 13\n",
      "스레드 4 : 처리 완료 14\n",
      "스레드 4 : 처리 완료 15\n",
      "스레드 4 : 처리 완료 16\n",
      "스레드 4 : 처리 완료 17\n",
      "스레드 4 : 처리 완료 18\n",
      "\n",
      "스레드 5 : 처리 완료 19\n",
      "\n",
      "스레드 5 : 처리 완료 20\n",
      "스레드 5 : 처리 완료 21\n",
      "스레드 5 : 처리 완료 22스레드 4 : 처리 완료 23\n",
      "스레드 4 : 처리 완료 24\n",
      "스레드 4 : 처리 완료 25\n",
      "스레드 3 : 처리 완료 26스레드 4 : 처리 완료 27\n",
      "스레드 4 : 처리 완료 28\n",
      "스레드 4 : 처리 완료 29\n",
      "스레드 2 : 처리 완료 30\n",
      "스레드 2 : 처리 완료 31\n",
      "스레드 2 : 처리 완료 32\n",
      "\n",
      "\n",
      "스레드 3 : 처리 완료 33\n",
      "스레드 3 : 처리 완료 34\n",
      "스레드 1 : 처리 완료 35스레드 5 : 처리 완료 36\n",
      "스레드 5 : 처리 완료 37\n",
      "스레드 5 : 처리 완료 38\n",
      "\n",
      "스레드 1 : 처리 완료 39\n",
      "스레드 1 : 처리 완료 40\n",
      "스레드 3 : 처리 완료 41\n",
      "스레드 3 : 처리 완료 42\n",
      "스레드 3 : 처리 완료 43\n",
      "스레드 2 : 처리 완료 44\n",
      "스레드 2 : 처리 완료 45\n",
      "스레드 2 : 처리 완료 46\n",
      "스레드 1 : 처리 완료 47\n",
      "스레드 4 : 처리 완료 48스레드 1 : 처리 완료 49\n",
      "\n"
     ]
    }
   ],
   "source": [
    "# threading 모듈\n",
    "# 스레드가 여러개 있을 때 데이터 공유의 복잡성을 증가하게 합니다.\n",
    "# 락, 데드락 회피하게 해줘야 합니다.\n",
    "# 파이썬에서는 단 하나의 메인 스레드만 존재하기 때문에 멀티 스레드를 사용하려면 threading 모듈을 사용해야 합니다.\n",
    "# 락을 관리하기 위해서 queue 모듈을 사용하게 되는데\n",
    "# 직렬화가 가능해집니다.\n",
    "\n",
    "import queue # 먼저 들어온게 먼저 나감, 선형 큐\n",
    "import threading\n",
    "q = queue.Queue()\n",
    "\n",
    "def worker(num):\n",
    "    while True:\n",
    "        item = q.get()\n",
    "        if item is None:\n",
    "            break\n",
    "        # 작업을 처리 해줍니다.\n",
    "        print('스레드 {0} : 처리 완료 {1}'.format(num+1, item))\n",
    "        q.task_done()\n",
    "        \n",
    "if __name__ == \"__main__\":\n",
    "    worker_thread = 5\n",
    "    threads = []\n",
    "    for i in range(worker_thread):\n",
    "        t = threading.Thread(target = worker, args=(i,)) # args=(i,) : worker_thread의 threads의 길이만큼 넣어줌.\n",
    "        t.start()\n",
    "        threads.append(t)\n",
    "        \n",
    "    for item in range(50):\n",
    "        q.put(item)\n",
    "    # 작업이 끝날때까지 대기\n",
    "    # worker_thread 작업이 완료되었는데, 프로그램이 종료되지 않았을때\n",
    "    # 데몬(demon)으로 변환해서 데몬 스레드가 실행되지 않으면\n",
    "    # 프로그램을 바로 종료\n",
    "    q.join()\n",
    "    for i in range(worker_thread):\n",
    "        q.put(None)\n",
    "    for i in threads:\n",
    "        t.join()"
   ]
  },
  {
   "cell_type": "code",
   "execution_count": 18,
   "metadata": {},
   "outputs": [
    {
     "name": "stdout",
     "output_type": "stream",
     "text": [
      "스레드 10248 : 0\n",
      "\n",
      "스레드 14800 : 1\n",
      "\n",
      "스레드 6400 : 2\n",
      "\n",
      "스레드 1504 : 3\n",
      "\n",
      "스레드 10812 : 4\n",
      "\n",
      "스레드 9640 : 5\n",
      "\n",
      "스레드 8344 : 6\n",
      "\n",
      "스레드 2492 : 7\n",
      "\n",
      "스레드 13224 : 8\n",
      "\n",
      "스레드 1936 : 9\n",
      "\n",
      "스레드 904 : 10\n",
      "\n",
      "스레드 10696 : 11\n",
      "\n",
      "스레드 10184 : 12\n",
      "\n",
      "스레드 15152 : 13\n",
      "\n",
      "스레드 6228 : 14\n",
      "\n",
      "스레드 10108 : 15\n",
      "\n",
      "스레드 14288 : 16\n",
      "\n",
      "스레드 15004 : 17\n",
      "\n",
      "스레드 1216 : 18\n",
      "\n",
      "스레드 10796 : 19\n",
      "\n",
      "스레드 4612 : 20\n",
      "\n",
      "스레드 14972 : 21\n",
      "\n",
      "스레드 11180 : 22\n",
      "\n",
      "스레드 4376 : 23\n",
      "\n",
      "스레드 13184 : 24\n",
      "\n",
      "스레드 860 : 25\n",
      "\n",
      "스레드 7076 : 26\n",
      "\n",
      "스레드 10128 : 27\n",
      "\n",
      "스레드 14316 : 28\n",
      "\n",
      "스레드 5124 : 29\n",
      "\n",
      "스레드 460 : 30\n",
      "\n",
      "스레드 11456 : 31\n",
      "\n",
      "스레드 15008 : 32\n",
      "\n",
      "스레드 6404 : 33\n",
      "\n",
      "스레드 14636 : 34\n",
      "\n",
      "스레드 1304 : 35\n",
      "\n",
      "스레드 10424 : 36\n",
      "\n",
      "스레드 14732 : 37\n",
      "\n",
      "스레드 13812 : 38\n",
      "\n",
      "스레드 7092 : 39\n",
      "\n",
      "스레드 4788 : 40\n",
      "\n",
      "스레드 5768 : 41\n",
      "\n",
      "스레드 10508 : 42\n",
      "\n",
      "스레드 5584 : 43\n",
      "\n",
      "스레드 5656 : 44\n",
      "\n",
      "스레드 10316 : 45\n",
      "\n",
      "스레드 3248 : 46\n",
      "\n",
      "스레드 10168 : 47\n",
      "\n",
      "스레드 13308 : 48\n",
      "\n",
      "스레드 13496 : 49\n",
      "\n"
     ]
    }
   ],
   "source": [
    "# 뮤텍스, 세마포어\n",
    "# 뮤텍스 : 락\n",
    "# 공유 리소스 한번에 하나의 스레드만 접근할 수 있도록 동시성 제어 정책을 강제시키기 위해서 설계\n",
    "# 1부터 시작되는 정수, 배열의 인덱스를 변경할 때마다 '뮤텍스를 잠근다.'라고 한다.\n",
    "from threading import Thread, Lock\n",
    "import threading\n",
    "\n",
    "def worker(mutex, data, thread_safe):\n",
    "    if thread_safe:\n",
    "        mutex.acquire()\n",
    "    try: # try, execpt, finally 구문\n",
    "        print('스레드 {0} : {1}\\n'.format(threading.get_ident(), data))\n",
    "    finally:\n",
    "        if thread_safe:\n",
    "            mutex.release()\n",
    "            \n",
    "if __name__ == \"__main__\":\n",
    "    threads = []\n",
    "    thread_safe = True # 예외 처리 부분\n",
    "    mutex = Lock()\n",
    "    for i in range(50):\n",
    "        t = Thread(target = worker, args = (mutex, i, thread_safe))\n",
    "        t.start()\n",
    "        threads.append(t)\n",
    "    for t in threads:\n",
    "        t.join()"
   ]
  },
  {
   "cell_type": "code",
   "execution_count": 13,
   "metadata": {
    "scrolled": false
   },
   "outputs": [
    {
     "name": "stdout",
     "output_type": "stream",
     "text": [
      "추가 : 스레드0 | 스레드 풀 : ['스레드0']\n",
      "추가 : 스레드1 | 스레드 풀 : ['스레드0', '스레드1']\n",
      "추가 : 스레드2 | 스레드 풀 : ['스레드0', '스레드1', '스레드2']\n",
      "반환 : 스레드0 | 스레드 풀 : ['스레드1', '스레드2']\n",
      "추가 : 스레드3 | 스레드 풀 : ['스레드1', '스레드2', '스레드3']\n",
      "반환 : 스레드1 | 스레드 풀 : ['스레드2', '스레드3']\n",
      "반환 : 스레드2 | 스레드 풀 : ['스레드3']\n",
      "추가 : 스레드4 | 스레드 풀 : ['스레드3', '스레드4']\n",
      "추가 : 스레드5 | 스레드 풀 : ['스레드3', '스레드4', '스레드5']\n",
      "반환 : 스레드3 | 스레드 풀 : ['스레드4', '스레드5']\n",
      "추가 : 스레드6 | 스레드 풀 : ['스레드4', '스레드5', '스레드6']\n",
      "반환 : 스레드4 | 스레드 풀 : ['스레드5', '스레드6']\n",
      "추가 : 스레드7 | 스레드 풀 : ['스레드5', '스레드6', '스레드7']\n",
      "반환 : 스레드5 | 스레드 풀 : ['스레드6', '스레드7']\n",
      "추가 : 스레드8 | 스레드 풀 : ['스레드6', '스레드7', '스레드8']\n",
      "반환 : 스레드6 | 스레드 풀 : ['스레드7', '스레드8']\n",
      "추가 : 스레드9 | 스레드 풀 : ['스레드7', '스레드8', '스레드9']\n",
      "반환 : 스레드7 | 스레드 풀 : ['스레드8', '스레드9']\n",
      "반환 : 스레드8 | 스레드 풀 : ['스레드9']\n",
      "반환 : 스레드9 | 스레드 풀 : []\n"
     ]
    }
   ],
   "source": [
    "# 세마포어 : 뮤텍스보다 더 일반적으로 사용되는 개념\n",
    "# 1보다 큰 수로 사용이 가능합니다.\n",
    "# 세마포어의 값은 곧 한번에 자원에 접근할 수 있는 스레드의 개수이다!\n",
    "# 세마포어는 뮤텍스의 락, 언락과 비슷한 대기 및 신호작업을 지원합니다.\n",
    "\n",
    "import threading\n",
    "import time\n",
    "\n",
    "class ThreadPool(object):\n",
    "    def __init__(self):\n",
    "        self.active = []\n",
    "        self.lock = threading.Lock()\n",
    "        \n",
    "    def acquire(self, name):\n",
    "        with self.lock:\n",
    "            self.active.append(name)\n",
    "            print('추가 : {0} | 스레드 풀 : {1}'.format(name, self.active))\n",
    "    def release(self, name):\n",
    "        with self.lock:\n",
    "            self.active.remove(name)\n",
    "            print('반환 : {0} | 스레드 풀 : {1}'.format(name, self.active))\n",
    "            \n",
    "def worker(semaphore, pool):\n",
    "    with semaphore:\n",
    "        name = threading.currentThread().getName()\n",
    "        pool.acquire(name)\n",
    "        time.sleep(1)\n",
    "        pool.release(name)\n",
    "        \n",
    "if __name__ == \"__main__\":\n",
    "    threads = []\n",
    "    pool = ThreadPool()\n",
    "    semaphore = threading.Semaphore(3)\n",
    "    for i in range(10):\n",
    "        t = threading.Thread(target = worker, name=\"스레드\" + str(i), args = (semaphore, pool))\n",
    "        t.start()\n",
    "        threads.append(t)\n",
    "    for i in threads:\n",
    "        t.join()"
   ]
  },
  {
   "cell_type": "code",
   "execution_count": 14,
   "metadata": {},
   "outputs": [],
   "source": [
    "# 데드락\n",
    "# 두개 이상의 프로세스나 스레드가 서로 상대방의 작업이 끝날때까지 대기하는 상태이기 때문에 결과적으로 어떠한 작업도 완료되지\n",
    "# 않은 상태를 의미합니다.\n",
    "# 프로그램이 락을 할당하고 순서대로 락을 획득한다면 교착상태를 막을 수 있습니다.\n",
    "# 정교한 방법은 아닙니다.\n",
    "# 하지만 필요하다.\n",
    "\n",
    "# 4개의 조건을 충족하면 데드락이 발생한다.\n",
    "# 상호 배제 : element는 한번에 한 프로세스만 사용할 수 있다.\n",
    "# 점유 대기 : 프로세스가 element를 가지고 있는 상태에서 다른 프로세스가 쓰는 element를 반납하기 기다리는 상황\n",
    "# 비선점 : 다른 프로세스가 이미 점유한 자원을 강제로 뺏어오지 못하는 상태\n",
    "# 순환 대기 : 다른 프로세스가 점유하고 있는 element를 대기하는 상태\n",
    "\n",
    "# 스핀락\n",
    "# 단일 응용프로그램 전용\n",
    "# 코어당 하나의 스레드만 사용하는 고성능 컴퓨터 상황에서 바쁜 대기(Busy waiting)\n",
    "# 프로세스의 한계점에 진입이 불가능할 때, 진입 가능할 때 까지 반복문을 돌면서 재시도 하는 락\n",
    "\n",
    "# "
   ]
  },
  {
   "cell_type": "code",
   "execution_count": null,
   "metadata": {},
   "outputs": [],
   "source": [
    "# virtualenv 설치법\n",
    "pip install virtualenv\n",
    "\n",
    "# 버전 확인\n",
    "virtualenv --version\n",
    "\n",
    "# 가상 환경 프로젝트 생성\n",
    "cd 폴더 이름\n",
    "virtualenv 폴더 이름\n",
    "\n",
    "# 가상 환경 프로젝트 활성화\n",
    "폴더 이름 activate\n",
    "\n",
    "# 비활성화\n",
    "가상환경 이름 deactivate\n"
   ]
  },
  {
   "cell_type": "code",
   "execution_count": null,
   "metadata": {},
   "outputs": [],
   "source": [
    "# virtualenvwrapper 설치법\n",
    "pip install virtualenvwrapper-win\n",
    "\n",
    "# 환경변수 설정\n",
    "setx 환경변수 폴더명원하는 디렉토리 위치\n",
    "\n",
    "# 프롬프트 껐다가 다시 킨다.\n",
    "# 원하는 가상 환경 만드는 법\n",
    "mkvirtualenv 가상환경 이름\n",
    "\n",
    "# 활성화\n",
    "가상환경이름 activate\n",
    "\n",
    "# 비활성화\n",
    "가상환경이름 deactivate\n",
    "\n",
    "# workon 커맨드 사용법\n",
    "workon 가상환경이름"
   ]
  },
  {
   "cell_type": "code",
   "execution_count": null,
   "metadata": {},
   "outputs": [],
   "source": []
  },
  {
   "cell_type": "code",
   "execution_count": null,
   "metadata": {
    "scrolled": false
   },
   "outputs": [],
   "source": [
    "# 디버깅\n",
    "# pdb를 이요하면 디버깅을 할 수 있습니다.\n",
    "# 보통 인터프리터를 사용해서 확인할 수 있습니다.\n",
    "'''\n",
    "python -i 파일명.py\n",
    "디버깅 할 수 있습니다.\n",
    "'''\n",
    "\n",
    "# cmd에서 사용할 때\n",
    "# python -m pdb 파일명.py\n",
    "\n",
    "# 중단점\n",
    "# pdb.set_trace\n",
    "\n",
    "# 노트북에서 사용할 때\n",
    "\n",
    "import pdb\n",
    "\n",
    "pdb.set_trace()"
   ]
  },
  {
   "cell_type": "code",
   "execution_count": 1,
   "metadata": {},
   "outputs": [
    {
     "ename": "ValueError",
     "evalue": "too many values to unpack (expected 2)",
     "output_type": "error",
     "traceback": [
      "\u001b[1;31m---------------------------------------------------------------------------\u001b[0m",
      "\u001b[1;31mValueError\u001b[0m                                Traceback (most recent call last)",
      "\u001b[1;32m<ipython-input-1-a162059c4a32>\u001b[0m in \u001b[0;36m<module>\u001b[1;34m\u001b[0m\n\u001b[0;32m     12\u001b[0m \u001b[0memploy\u001b[0m \u001b[1;33m=\u001b[0m \u001b[1;33m[\u001b[0m\u001b[1;34m'진혁진혁'\u001b[0m\u001b[1;33m]\u001b[0m\u001b[1;33m\u001b[0m\u001b[1;33m\u001b[0m\u001b[0m\n\u001b[0;32m     13\u001b[0m \u001b[0mitmes\u001b[0m \u001b[1;33m=\u001b[0m \u001b[1;33m[\u001b[0m\u001b[1;34m'<table>'\u001b[0m\u001b[1;33m]\u001b[0m\u001b[1;33m\u001b[0m\u001b[1;33m\u001b[0m\u001b[0m\n\u001b[1;32m---> 14\u001b[1;33m \u001b[1;32mfor\u001b[0m \u001b[0mlast\u001b[0m\u001b[1;33m,\u001b[0m \u001b[0mfirst\u001b[0m \u001b[1;32min\u001b[0m \u001b[0memploy\u001b[0m\u001b[1;33m:\u001b[0m\u001b[1;33m\u001b[0m\u001b[1;33m\u001b[0m\u001b[0m\n\u001b[0m\u001b[0;32m     15\u001b[0m     \u001b[0mitems\u001b[0m\u001b[1;33m.\u001b[0m\u001b[0mappend\u001b[0m\u001b[1;33m(\u001b[0m\u001b[1;34m'<tr><td>%s, %s</td></tr>'\u001b[0m \u001b[1;33m%\u001b[0m\u001b[1;33m(\u001b[0m\u001b[0mlast\u001b[0m\u001b[1;33m,\u001b[0m \u001b[0mfirst\u001b[0m\u001b[1;33m)\u001b[0m\u001b[1;33m)\u001b[0m\u001b[1;33m\u001b[0m\u001b[1;33m\u001b[0m\u001b[0m\n\u001b[0;32m     16\u001b[0m     \u001b[0mitems\u001b[0m\u001b[1;33m.\u001b[0m\u001b[0mappend\u001b[0m\u001b[1;33m(\u001b[0m\u001b[1;34m'</table>'\u001b[0m\u001b[1;33m)\u001b[0m\u001b[1;33m\u001b[0m\u001b[1;33m\u001b[0m\u001b[0m\n",
      "\u001b[1;31mValueError\u001b[0m: too many values to unpack (expected 2)"
     ]
    }
   ],
   "source": [
    "# 프로파일링\n",
    "# 프로그램이 매우 느리게 작동하거나\n",
    "# 또는 메모리가 사용량이 많다면\n",
    "# 보통 자료구조나 알고리즘을 잘못 짜서 그럼\n",
    "# 코드자체가 비효율적이다.\n",
    "\n",
    "# 1) 읽기 전용 데이터는 리스트보단 튜플을 사용한다.\n",
    "# 2) 반복문을 돌린다. -> 항목이 많은 튜플, 리스트를 사용하지 않고 제네레이터를 사용한다.\n",
    "# 3) 문자열 연결할 때 '+' 쓰지말고 리스트에 추가하고 리스트를 하나로 연결해라\n",
    "\n",
    "# 좋은 예\n",
    "employ = ['진혁진혁']\n",
    "itmes = ['<table>']\n",
    "for last, first in employ:\n",
    "    items.append('<tr><td>%s, %s</td></tr>' %(last, first))\n",
    "    items.append('</table>')\n",
    "    employ = \"\".join(itmes)\n",
    "\n",
    "# 안좋은 예\n",
    "employ = '<table>'\n",
    "for last, first in emply:\n",
    "    employ += '<tr><td>%s, %s</td></tr>' %(last, first)\n",
    "    employ += \"</table>\""
   ]
  },
  {
   "cell_type": "code",
   "execution_count": 2,
   "metadata": {},
   "outputs": [
    {
     "data": {
      "text/plain": [
       "['진혁진혁']"
      ]
     },
     "execution_count": 2,
     "metadata": {},
     "output_type": "execute_result"
    }
   ],
   "source": [
    "employ"
   ]
  },
  {
   "cell_type": "code",
   "execution_count": 7,
   "metadata": {
    "scrolled": true
   },
   "outputs": [
    {
     "name": "stdout",
     "output_type": "stream",
     "text": [
      "hello\n",
      "         42 function calls in 5.000 seconds\n",
      "\n",
      "   Ordered by: standard name\n",
      "\n",
      "   ncalls  tottime  percall  cumtime  percall filename:lineno(function)\n",
      "        1    0.000    0.000    0.000    0.000 <ipython-input-7-b9a661da7065>:10(print_hello)\n",
      "        1    0.000    0.000    5.000    5.000 <ipython-input-7-b9a661da7065>:13(main)\n",
      "        1    0.000    0.000    4.999    4.999 <ipython-input-7-b9a661da7065>:7(sleep)\n",
      "        1    0.000    0.000    5.000    5.000 <string>:1(<module>)\n",
      "        3    0.000    0.000    0.000    0.000 iostream.py:197(schedule)\n",
      "        2    0.000    0.000    0.000    0.000 iostream.py:309(_is_master_process)\n",
      "        2    0.000    0.000    0.000    0.000 iostream.py:322(_schedule_flush)\n",
      "        2    0.000    0.000    0.000    0.000 iostream.py:384(write)\n",
      "        3    0.000    0.000    0.000    0.000 iostream.py:93(_event_pipe)\n",
      "        3    0.000    0.000    0.000    0.000 socket.py:342(send)\n",
      "        3    0.000    0.000    0.000    0.000 threading.py:1050(_wait_for_tstate_lock)\n",
      "        3    0.000    0.000    0.000    0.000 threading.py:1092(is_alive)\n",
      "        3    0.000    0.000    0.000    0.000 threading.py:507(is_set)\n",
      "        1    0.000    0.000    5.000    5.000 {built-in method builtins.exec}\n",
      "        2    0.000    0.000    0.000    0.000 {built-in method builtins.isinstance}\n",
      "        1    0.000    0.000    0.000    0.000 {built-in method builtins.print}\n",
      "        2    0.000    0.000    0.000    0.000 {built-in method nt.getpid}\n",
      "        1    4.999    4.999    4.999    4.999 {built-in method time.sleep}\n",
      "        3    0.000    0.000    0.000    0.000 {method 'acquire' of '_thread.lock' objects}\n",
      "        3    0.000    0.000    0.000    0.000 {method 'append' of 'collections.deque' objects}\n",
      "        1    0.000    0.000    0.000    0.000 {method 'disable' of '_lsprof.Profiler' objects}\n",
      "\n",
      "\n"
     ]
    }
   ],
   "source": [
    "# cprofile 모듈\n",
    "# 호출 시간에 대한 세부 분석을 제공 합니다.\n",
    "# 병목현상을 확인할 때 사용합니다.\n",
    "import cProfile\n",
    "import time\n",
    "\n",
    "def sleep():\n",
    "    time.sleep(5)\n",
    "    \n",
    "def print_hello():\n",
    "    print('hello')\n",
    "    \n",
    "def main():\n",
    "    sleep()\n",
    "    print_hello()\n",
    "    \n",
    "cProfile.run('main()')"
   ]
  },
  {
   "cell_type": "code",
   "execution_count": 20,
   "metadata": {},
   "outputs": [
    {
     "data": {
      "text/plain": [
       "0.2971749999999247"
      ]
     },
     "execution_count": 20,
     "metadata": {},
     "output_type": "execute_result"
    }
   ],
   "source": [
    "# timeit 모듈\n",
    "# 코드 일부분의 실행 시간을 확인하는데 사용됩니다.\n",
    "import timeit\n",
    "timeit.timeit('a = 1 + 1')\n",
    "\n",
    "timeit.timeit('x = sum(range(10))')"
   ]
  },
  {
   "cell_type": "code",
   "execution_count": null,
   "metadata": {},
   "outputs": [],
   "source": []
  },
  {
   "cell_type": "code",
   "execution_count": null,
   "metadata": {},
   "outputs": [],
   "source": []
  },
  {
   "cell_type": "code",
   "execution_count": null,
   "metadata": {},
   "outputs": [],
   "source": []
  },
  {
   "cell_type": "code",
   "execution_count": null,
   "metadata": {},
   "outputs": [],
   "source": []
  },
  {
   "cell_type": "code",
   "execution_count": null,
   "metadata": {},
   "outputs": [],
   "source": []
  },
  {
   "cell_type": "code",
   "execution_count": null,
   "metadata": {},
   "outputs": [],
   "source": []
  },
  {
   "cell_type": "code",
   "execution_count": null,
   "metadata": {},
   "outputs": [],
   "source": []
  },
  {
   "cell_type": "code",
   "execution_count": null,
   "metadata": {},
   "outputs": [],
   "source": []
  },
  {
   "cell_type": "code",
   "execution_count": null,
   "metadata": {},
   "outputs": [],
   "source": []
  },
  {
   "cell_type": "code",
   "execution_count": null,
   "metadata": {},
   "outputs": [],
   "source": []
  },
  {
   "cell_type": "code",
   "execution_count": null,
   "metadata": {},
   "outputs": [],
   "source": []
  },
  {
   "cell_type": "code",
   "execution_count": null,
   "metadata": {},
   "outputs": [],
   "source": []
  },
  {
   "cell_type": "code",
   "execution_count": null,
   "metadata": {},
   "outputs": [],
   "source": []
  },
  {
   "cell_type": "code",
   "execution_count": null,
   "metadata": {},
   "outputs": [],
   "source": []
  },
  {
   "cell_type": "code",
   "execution_count": null,
   "metadata": {},
   "outputs": [],
   "source": [
    "# 고의로 데드락을 만드는 경우도 있나?"
   ]
  }
 ],
 "metadata": {
  "kernelspec": {
   "display_name": "Python 3",
   "language": "python",
   "name": "python3"
  },
  "language_info": {
   "codemirror_mode": {
    "name": "ipython",
    "version": 3
   },
   "file_extension": ".py",
   "mimetype": "text/x-python",
   "name": "python",
   "nbconvert_exporter": "python",
   "pygments_lexer": "ipython3",
   "version": "3.7.6"
  }
 },
 "nbformat": 4,
 "nbformat_minor": 4
}
