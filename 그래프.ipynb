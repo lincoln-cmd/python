{
 "cells": [
  {
   "cell_type": "code",
   "execution_count": 2,
   "metadata": {},
   "outputs": [],
   "source": [
    "# 그래프는 노드(node), 간선(edge)로 연결된 추상 네트워크를 뜻합니다.\n",
    "# G = (V, E)\n",
    "# V : 임의의 유한 집합\n",
    "# E : 노드 쌍들의 집합\n",
    "# 그래프의 방향\n",
    "# 유향그래프, 무향그래프\n",
    "# 무향 그래프 : 간선의 방향이 지정되어 있지 않는다.\n",
    "# 인접, 이웃해 있다.\n",
    "# 유향 그래프 : 간선의 방향이 지정되어 있습니다.\n",
    "# 순서가 존재한다.\n",
    "# u -> v\n",
    "# v -> u\n",
    "\n",
    "# 차수 : 한 노드에 이어져 있는 간선의 수를 차수\n",
    "# 차수가 0인 노드는 [고립]되었다고 한다.\n",
    "# 유향 그래프는 입력 차수와 출력 차수\n",
    "# 입력차수는 들어오는 간선수\n",
    "# 출력차수는 나가는 간선 수\n",
    "# 경로 -> 어느 노드도 방문하지 않고 노드가 일렬로 연결된 부분 그래프\n",
    "# 유향그래프 경로는 간선의 방향 따릅니다.\n",
    "# 보행 -> 노드와 간선을 번갈아 가며 반복적으로 방문하는 노드의 간선\n",
    "# 순환 -> 경로와 같지만 마지막에 연결된 간선의 노드가 첫번째 노드로 연결\n",
    "# 경로의 길이 : 간선의 수와 동일"
   ]
  },
  {
   "cell_type": "code",
   "execution_count": 3,
   "metadata": {},
   "outputs": [],
   "source": [
    "# 가중 그래프\n",
    "# 간선화 가중치가 있는 그래프입니다.\n",
    "# 경로 또는 순환의 가중치는 해당하는 간선들의 가중치의 총합\n",
    "# 평면 그래프 : 간선을 서로 횡단하지 않고 평면에 그릴 수 있는 그래프\n",
    "# 경계면을 가진다.\n",
    "# 오일러 공식을 따른다.\n",
    "\n",
    "# 순회 : 그래프에 연결된 모든 요소를 탐색합니다.\n",
    "# 가장 중요한 것은 노드의 순회순서!\n",
    "\n",
    "# 연결 요소!\n",
    "# 다른 모든 노드로 갈 때 경로가 존재하면 연결되어있다고 한다.\n",
    "# 연결 요소 : 모든 노드가 연결된 최대 부분 그래프\n",
    "\n",
    "# 트리와 포레스트\n",
    "# 포레스트는 순환이 없는 그래프\n",
    "# 트리는 비순환적이고 연결되어 있는 유향 그래프\n",
    "# 포레스트는 하나 이상의 트리로 구성되어 있다.\n",
    "# "
   ]
  },
  {
   "cell_type": "code",
   "execution_count": 7,
   "metadata": {},
   "outputs": [
    {
     "data": {
      "text/plain": [
       "3"
      ]
     },
     "execution_count": 7,
     "metadata": {},
     "output_type": "execute_result"
    }
   ],
   "source": [
    "# 인접리스트\n",
    "# 각 노드에서 이웃리스트(셋, 컨테이너 같이 반복 가능한 객체)에 접근할 수 있다.\n",
    "# 각 노드는 인접 리스트는 단순한 숫자 리스트\n",
    "# 셋 버전\n",
    "a,b,c,d,e,f = range(6)\n",
    "N = [{b,c,d,f}, {a,d,f},{a,b,d,e},{a,e},{a,b,c},{b,c,d,e}]\n",
    "b in N[a]\n",
    "len(N[e])"
   ]
  },
  {
   "cell_type": "code",
   "execution_count": 8,
   "metadata": {},
   "outputs": [
    {
     "name": "stdout",
     "output_type": "stream",
     "text": [
      "[{1, 2, 3, 5}, {0, 3, 5}, {0, 1, 3, 4}, {0, 4}, {0, 1, 2}, {1, 2, 3, 4}]\n"
     ]
    }
   ],
   "source": [
    "print(N)"
   ]
  },
  {
   "cell_type": "code",
   "execution_count": 26,
   "metadata": {},
   "outputs": [
    {
     "data": {
      "text/plain": [
       "True"
      ]
     },
     "execution_count": 26,
     "metadata": {},
     "output_type": "execute_result"
    }
   ],
   "source": [
    "# 리스트 버전\n",
    "a,b,c,d,e,f = range(6)\n",
    "N = [[b,c,d],[a,c,d],[a,b,d,e,f],[a,b,c,e,f],[c,d,f],[c,d,e]]\n",
    "f in N[d]"
   ]
  },
  {
   "cell_type": "code",
   "execution_count": null,
   "metadata": {},
   "outputs": [],
   "source": []
  }
 ],
 "metadata": {
  "kernelspec": {
   "display_name": "Python 3",
   "language": "python",
   "name": "python3"
  },
  "language_info": {
   "codemirror_mode": {
    "name": "ipython",
    "version": 3
   },
   "file_extension": ".py",
   "mimetype": "text/x-python",
   "name": "python",
   "nbconvert_exporter": "python",
   "pygments_lexer": "ipython3",
   "version": "3.7.6"
  }
 },
 "nbformat": 4,
 "nbformat_minor": 4
}
