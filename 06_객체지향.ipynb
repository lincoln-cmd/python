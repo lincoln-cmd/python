{
 "cells": [
  {
   "cell_type": "code",
   "execution_count": 2,
   "metadata": {},
   "outputs": [
    {
     "data": {
      "text/plain": [
       "Circle(x=13, y=84, radius=9)"
      ]
     },
     "execution_count": 2,
     "metadata": {},
     "output_type": "execute_result"
    }
   ],
   "source": [
    "# 원을 나타내는 객체를 정의할 때\n",
    "# namedtuple()\n",
    "import collections\n",
    "# 원을 만듭니다.\n",
    "circle = collections.namedtuple(\"Circle\", \"x y radius\")\n",
    "circle\n",
    "circle = circle(13, 84, 9)\n",
    "# 서클값을 출력\n",
    "circle"
   ]
  },
  {
   "cell_type": "code",
   "execution_count": null,
   "metadata": {},
   "outputs": [],
   "source": [
    "# 여러가지 문제가 생겼을 때 해결하는 방법\n",
    "# 1) 기대하는 속성만 가진 객체를 만든다. -> ex) def\n",
    "# 2) 데이터를 패키지화 해서 메서드를 제한 -> ex) class\n",
    "# -> 객체 지향 프로그래밍이라고 한다."
   ]
  },
  {
   "cell_type": "code",
   "execution_count": 6,
   "metadata": {},
   "outputs": [],
   "source": [
    "# 클래스, 객체\n",
    "# 클래스란?\n",
    "# 사전에 이미 정의된 특별한 데이커를 가지고 있거나 혹은 메서드의 집합\n",
    "# 클래스에 선언된 실체(메서드) -> '객체'라고 부른다.\n",
    "# 메모리에 할다오디어서 사용될 때 인스턴스가 된다.(객체화 된다.)\n",
    "# 객체는 인스턴스에 포함되며, 전체적으로 포괄적인 의미\n",
    "\n",
    "class A:\n",
    "    # 문장\n",
    "    # 메서드\n",
    "    pass"
   ]
  },
  {
   "cell_type": "code",
   "execution_count": 7,
   "metadata": {},
   "outputs": [
    {
     "data": {
      "text/plain": [
       "<__main__.A at 0x1bd4f79c808>"
      ]
     },
     "execution_count": 7,
     "metadata": {},
     "output_type": "execute_result"
    }
   ],
   "source": [
    "a = A()\n",
    "a"
   ]
  },
  {
   "cell_type": "code",
   "execution_count": 13,
   "metadata": {},
   "outputs": [
    {
     "data": {
      "text/plain": [
       "<slot wrapper '__init__' of 'object' objects>"
      ]
     },
     "execution_count": 13,
     "metadata": {},
     "output_type": "execute_result"
    }
   ],
   "source": [
    "# 클래스 인스턴스 생성?\n",
    "# 함수 표기법을 사용해서 초기 상태의 객체를 만들어줍니다.\n",
    "# 어떤 특징을 가진 비어있는 객체를 만들어주는 작엄\n",
    "# 여러 이름을 같은 객체에 바인딩(에일리어싱) 할 수 있습니다.\n",
    "# 처음에 클래스를 호출했을 때 객체가 생성이 됩니다. 이때, 그 클래스를 생성자\n",
    "# __new__() : 특수 메서드가 호출된 뒤 객체를 할당하고\n",
    "# __init__() : 메서드가 객체를 초기화를 합니다.\n",
    "A.__new__\n",
    "A.__init__"
   ]
  },
  {
   "cell_type": "code",
   "execution_count": 14,
   "metadata": {},
   "outputs": [],
   "source": [
    "# 속성 = 어트리뷰트(attribute), getattr\n",
    "# 데이터, 메서드로 이루어진 클래스가 가진 속성\n",
    "# 메서드의 속성은 함수이며 첫번째 인수 호출된 인스턴스 자신(self)\n",
    "# 속성은 점(.) 뒤에 나오는 모듈의 이름이며 모듈의 모든 이름의 참조는 속성 참조\n",
    "# 모듈명.함수명 -> 모듈명 :  모듈객체, 함수명 : 객체의 속성\n",
    "# 속성의 특이사항\n",
    "# 속성은 읽기 또는 쓰기 전용이거나 혹은 둘다 일 수 있다.\n",
    "# 쓰기 가능한 속성은 del을 사용해서 삭제를 할 수 있다."
   ]
  },
  {
   "cell_type": "code",
   "execution_count": 15,
   "metadata": {},
   "outputs": [
    {
     "data": {
      "text/plain": [
       "<__main__.A at 0x1bd4f954248>"
      ]
     },
     "execution_count": 15,
     "metadata": {},
     "output_type": "execute_result"
    }
   ],
   "source": [
    "# 네임스페이스\n",
    "# 이름을 객체로 매핑하는 것을 말합니다.\n",
    "# 파이썬내의 대부분 네임스페이스는 파이썬 딕셔너리 구현이 되어있다.\n",
    "# 네임스페이스 -> set, 모듈의 전역이름, 함수의 지역이름\n",
    "# 스크립트 파일 또는 대화식 인터프리터의 최상위 호출에 의해 실행되는 명령문은\n",
    "# __main__으로 모듈의 일부로 간주되어 고유의 전역 네임 스페이스를 갖는다.\n",
    "a = A()\n",
    "a"
   ]
  },
  {
   "cell_type": "code",
   "execution_count": 16,
   "metadata": {},
   "outputs": [],
   "source": [
    "# tensorflow, keras, pytorch"
   ]
  },
  {
   "cell_type": "code",
   "execution_count": 17,
   "metadata": {},
   "outputs": [],
   "source": [
    "# 스코프\n",
    "# 네임스페이스에 직접 접근할 수 있는 텍스트 영역\n",
    "# 주로 정적으로 결정되지만 동적으로 사용할 수 있다.\n",
    "# 스코프는 텍스트에 따라 결정이 된다.\n",
    "# 모듈에 정의된 적역 스코프는 해당 모듈의 네임스페이스 입니다.\n",
    "# 클래스 정의가 실행된다면 새로운 네임스페이스가 만들어지고 지역스코프로 사용\n"
   ]
  },
  {
   "cell_type": "code",
   "execution_count": 1,
   "metadata": {},
   "outputs": [],
   "source": [
    "# super() -> base : 특수화\n",
    "# 모든 속성을 상속해서 새 클래스를 만드는 절차\n",
    "# 자식에서 속성을 재정의 할 수 있다.\n",
    "# 'is-a'관계\n",
    "# Bear is an animal.\n",
    "# 모든 메서드는 가상이다."
   ]
  },
  {
   "cell_type": "code",
   "execution_count": 4,
   "metadata": {},
   "outputs": [
    {
     "name": "stdout",
     "output_type": "stream",
     "text": [
      "False\n",
      "False\n",
      "2\n"
     ]
    }
   ],
   "source": [
    "# 다형성?\n",
    "# 동적 메서드 바인딩\n",
    "# 메서드가 서브클래스 내에서 재정의 될 수 있는 원리\n",
    "# 서브클래스 객체에서 슈퍼 클래스의 같은 이름의 메서드를 호출해서 파이썬은 서브 클래스에 정의된 메서드를 사용한다.\n",
    "class Symbol(object):\n",
    "    def __init__(self, value):\n",
    "        self.value = value\n",
    "        \n",
    "if __name__ == \"__main__\":\n",
    "    x = Symbol('python')\n",
    "    y = Symbol('python')\n",
    "    \n",
    "    symbols = set()\n",
    "    symbols.add(x)\n",
    "    symbols.add(y)\n",
    "    \n",
    "    # x와 y가 같은 객체인지 확인\n",
    "    print(x is y) # False\n",
    "    # x에 값과 y의 값이 같은지 확인\n",
    "    print(x == y) # False\n",
    "    # symbols의 길이가 1인지 확인\n",
    "    print(len(symbols)) # 2"
   ]
  },
  {
   "cell_type": "code",
   "execution_count": 5,
   "metadata": {},
   "outputs": [
    {
     "ename": "TypeError",
     "evalue": "unhashable type: 'Symbol'",
     "output_type": "error",
     "traceback": [
      "\u001b[1;31m---------------------------------------------------------------------------\u001b[0m",
      "\u001b[1;31mTypeError\u001b[0m                                 Traceback (most recent call last)",
      "\u001b[1;32m<ipython-input-5-5274b7a10ae4>\u001b[0m in \u001b[0;36m<module>\u001b[1;34m\u001b[0m\n\u001b[0;32m     13\u001b[0m \u001b[1;33m\u001b[0m\u001b[0m\n\u001b[0;32m     14\u001b[0m     \u001b[0msymbols\u001b[0m \u001b[1;33m=\u001b[0m \u001b[0mset\u001b[0m\u001b[1;33m(\u001b[0m\u001b[1;33m)\u001b[0m\u001b[1;33m\u001b[0m\u001b[1;33m\u001b[0m\u001b[0m\n\u001b[1;32m---> 15\u001b[1;33m     \u001b[0msymbols\u001b[0m\u001b[1;33m.\u001b[0m\u001b[0madd\u001b[0m\u001b[1;33m(\u001b[0m\u001b[0mx\u001b[0m\u001b[1;33m)\u001b[0m\u001b[1;33m\u001b[0m\u001b[1;33m\u001b[0m\u001b[0m\n\u001b[0m\u001b[0;32m     16\u001b[0m     \u001b[0msymbols\u001b[0m\u001b[1;33m.\u001b[0m\u001b[0madd\u001b[0m\u001b[1;33m(\u001b[0m\u001b[0my\u001b[0m\u001b[1;33m)\u001b[0m\u001b[1;33m\u001b[0m\u001b[1;33m\u001b[0m\u001b[0m\n\u001b[0;32m     17\u001b[0m \u001b[1;33m\u001b[0m\u001b[0m\n",
      "\u001b[1;31mTypeError\u001b[0m: unhashable type: 'Symbol'"
     ]
    }
   ],
   "source": [
    "class Symbol(object):\n",
    "    def __init__(self, value):\n",
    "        self.value = value\n",
    "    def __eq__(self, other):\n",
    "        if isinstance(self, other.__class__):\n",
    "            return self.value == other.value\n",
    "        else:\n",
    "            return NotImplemented\n",
    "        \n",
    "if __name__ == \"__main__\":\n",
    "    x = Symbol('python')\n",
    "    y = Symbol('python')\n",
    "    \n",
    "    symbols = set()\n",
    "    symbols.add(x)\n",
    "    symbols.add(y)\n",
    "    \n",
    "    # x와 y가 같은 객체인지 확인\n",
    "    print(x is y) # False\n",
    "    # x에 값과 y의 값이 같은지 확인\n",
    "    print(x == y) # False\n",
    "    # symbols의 길이가 1인지 확인\n",
    "    print(len(symbols)) # 2"
   ]
  },
  {
   "cell_type": "code",
   "execution_count": 6,
   "metadata": {},
   "outputs": [
    {
     "name": "stdout",
     "output_type": "stream",
     "text": [
      "False\n",
      "True\n",
      "1\n"
     ]
    }
   ],
   "source": [
    "class Symbol(object):\n",
    "    def __init__(self, value):\n",
    "        self.value = value\n",
    "    def __eq__(self, other):\n",
    "        if isinstance(self, other.__class__):\n",
    "            return self.value == other.value\n",
    "        else:\n",
    "            return NotImplemented\n",
    "    def __hash__(self):\n",
    "        # 고정된 길이의 hash값을 가지고 있다.\n",
    "        # hash값을 가지고 서로 같은지 다른지 판단할 수 있다.\n",
    "        return hash(self.value)\n",
    "        \n",
    "if __name__ == \"__main__\":\n",
    "    x = Symbol('python')\n",
    "    y = Symbol('python')\n",
    "    \n",
    "    symbols = set()\n",
    "    symbols.add(x)\n",
    "    symbols.add(y)\n",
    "    \n",
    "    # x와 y가 같은 객체인지 확인\n",
    "    print(x is y) # False\n",
    "    # x에 값과 y의 값이 같은지 확인\n",
    "    print(x == y) # False\n",
    "    # symbols의 길이가 1인지 확인\n",
    "    print(len(symbols)) # 2"
   ]
  },
  {
   "cell_type": "code",
   "execution_count": 9,
   "metadata": {},
   "outputs": [
    {
     "data": {
      "text/plain": [
       "-532096284149657402"
      ]
     },
     "execution_count": 9,
     "metadata": {},
     "output_type": "execute_result"
    }
   ],
   "source": [
    "hash(x)"
   ]
  },
  {
   "cell_type": "code",
   "execution_count": 10,
   "metadata": {},
   "outputs": [
    {
     "data": {
      "text/plain": [
       "-532096284149657402"
      ]
     },
     "execution_count": 10,
     "metadata": {},
     "output_type": "execute_result"
    }
   ],
   "source": [
    "hash(y)"
   ]
  },
  {
   "cell_type": "code",
   "execution_count": 11,
   "metadata": {},
   "outputs": [],
   "source": [
    "# 합성, 집합화\n",
    "# 한 클래스에서 다른 클래스의 인스턴스 변수를 포함하는 것을 의미한다.\n",
    "# 클래스 간의 관계를 나타내며 파이썬의 모든 클래스는 상속을 사용한다.\n",
    "# Object 배이스 클르새에서 상속을 받는다.\n",
    "# 합성 : 강한 연관 관계, 의존성이 강하다.\n",
    "# 집합화 : 약한 연관 관계, 독립성이 강하다."
   ]
  },
  {
   "cell_type": "code",
   "execution_count": 25,
   "metadata": {},
   "outputs": [
    {
     "ename": "TypeError",
     "evalue": "Area() missing 1 required positional argument: 'y'",
     "output_type": "error",
     "traceback": [
      "\u001b[1;31m---------------------------------------------------------------------------\u001b[0m",
      "\u001b[1;31mTypeError\u001b[0m                                 Traceback (most recent call last)",
      "\u001b[1;32m<ipython-input-25-abfd3c40a662>\u001b[0m in \u001b[0;36m<module>\u001b[1;34m\u001b[0m\n\u001b[0;32m     49\u001b[0m     \u001b[0ma\u001b[0m \u001b[1;33m=\u001b[0m \u001b[0mCircle\u001b[0m\u001b[1;33m(\u001b[0m\u001b[1;36m3\u001b[0m\u001b[1;33m,\u001b[0m\u001b[1;36m4\u001b[0m\u001b[1;33m)\u001b[0m\u001b[1;33m\u001b[0m\u001b[1;33m\u001b[0m\u001b[0m\n\u001b[0;32m     50\u001b[0m     \u001b[0mb\u001b[0m \u001b[1;33m=\u001b[0m \u001b[0mCircle\u001b[0m\u001b[1;33m.\u001b[0m\u001b[0mRadius\u001b[0m\u001b[1;33m(\u001b[0m\u001b[1;36m3\u001b[0m\u001b[1;33m,\u001b[0m\u001b[1;36m4\u001b[0m\u001b[1;33m)\u001b[0m\u001b[1;33m\u001b[0m\u001b[1;33m\u001b[0m\u001b[0m\n\u001b[1;32m---> 51\u001b[1;33m     \u001b[0mc\u001b[0m \u001b[1;33m=\u001b[0m \u001b[0mCircle\u001b[0m\u001b[1;33m.\u001b[0m\u001b[0mArea\u001b[0m\u001b[1;33m(\u001b[0m\u001b[1;36m3\u001b[0m\u001b[1;33m,\u001b[0m\u001b[1;36m4\u001b[0m\u001b[1;33m)\u001b[0m\u001b[1;33m\u001b[0m\u001b[1;33m\u001b[0m\u001b[0m\n\u001b[0m\u001b[0;32m     52\u001b[0m     \u001b[0md\u001b[0m \u001b[1;33m=\u001b[0m \u001b[0mCircle\u001b[0m\u001b[1;33m.\u001b[0m\u001b[0mCir\u001b[0m\u001b[1;33m(\u001b[0m\u001b[1;36m3\u001b[0m\u001b[1;33m,\u001b[0m\u001b[1;36m4\u001b[0m\u001b[1;33m)\u001b[0m\u001b[1;33m\u001b[0m\u001b[1;33m\u001b[0m\u001b[0m\n\u001b[0;32m     53\u001b[0m \u001b[1;33m\u001b[0m\u001b[0m\n",
      "\u001b[1;31mTypeError\u001b[0m: Area() missing 1 required positional argument: 'y'"
     ]
    }
   ],
   "source": [
    "# 좌표\n",
    "import math\n",
    "\n",
    "class Point(object):\n",
    "    def __init__(self, x=0, y=0):\n",
    "        self.x = x\n",
    "        self.y = y\n",
    "    def distance_from_origin(self):\n",
    "        # math.hypot : 유클리드 표준 제곱근 공식\n",
    "        # (x * x + y * y)\n",
    "        return math.hypot(self.x, self.y)\n",
    "    def __eq__(self, other):\n",
    "        return self.x == other.x and self.y == other.y\n",
    "    def __repr__(self):\n",
    "        return \"Point ({0.x!r}{0.y!r})\".format(self)\n",
    "    def __str__(self):\n",
    "        return \"({0.x!r}, {0.y!r})\".format(self)\n",
    "    \n",
    "# 초기화, 초기점에서 원끝까지의 길이\n",
    "# 넓이, 둘레, eq, repr, str\n",
    "\n",
    "class Circle(Point):\n",
    "    def __init__(self, x, y):\n",
    "        self.x = x\n",
    "        self.y = y\n",
    "    def __eq__(self, other):\n",
    "        return self.x == other.x and self.y == other.y\n",
    "    def __repr__(self):\n",
    "        return \"Point ({0.x!r}, {0.y!r})\".format(self)\n",
    "    def __str__(self):\n",
    "        return \"({0.x!r}, {0.y!r})\".format(self)\n",
    "    def __hash__(self):\n",
    "        return hash(x, y)\n",
    "    \n",
    "        \n",
    "    def Radius(self, x, y):\n",
    "        r = math.sqrt(self.x**2 + self.y**2)\n",
    "        return r\n",
    "    \n",
    "    def Area(self, x, y):\n",
    "        r = math.sqrt(self.x**2 + self.y**2)\n",
    "        A = math.pi * (r**2)\n",
    "        return A\n",
    "    \n",
    "    def Cir(self, x, y):\n",
    "        r = math.hypot(self.x, self.y)\n",
    "        l = 2 * math.pi * r\n",
    "        return l\n",
    "    \n",
    "if __name__ == \"__main__\":\n",
    "    a = Circle(3,4)\n",
    "    b = Circle.Radius(3,4)\n",
    "    c = Circle.Area(3,4)\n",
    "    d = Circle.Cir(3,4)\n",
    "    \n",
    "    print(a)\n",
    "    print(b)\n",
    "    print(c)\n",
    "    print(d)"
   ]
  },
  {
   "cell_type": "code",
   "execution_count": 49,
   "metadata": {},
   "outputs": [
    {
     "name": "stdout",
     "output_type": "stream",
     "text": [
      "(4, 0)\n",
      "5.0\n",
      "78.53981633974483\n",
      "31.41592653589793\n",
      "False\n",
      "False\n"
     ]
    },
    {
     "ename": "AttributeError",
     "evalue": "type object 'Circle' has no attribute 'x'",
     "output_type": "error",
     "traceback": [
      "\u001b[1;31m---------------------------------------------------------------------------\u001b[0m",
      "\u001b[1;31mAttributeError\u001b[0m                            Traceback (most recent call last)",
      "\u001b[1;32m<ipython-input-49-6ea3e9999d9f>\u001b[0m in \u001b[0;36m<module>\u001b[1;34m\u001b[0m\n\u001b[0;32m     69\u001b[0m \u001b[1;33m\u001b[0m\u001b[0m\n\u001b[0;32m     70\u001b[0m     \u001b[0mi\u001b[0m \u001b[1;33m=\u001b[0m \u001b[0mCircle\u001b[0m\u001b[1;33m(\u001b[0m\u001b[1;36m3\u001b[0m\u001b[1;33m,\u001b[0m\u001b[1;36m4\u001b[0m\u001b[1;33m)\u001b[0m\u001b[1;33m\u001b[0m\u001b[1;33m\u001b[0m\u001b[0m\n\u001b[1;32m---> 71\u001b[1;33m     \u001b[0mprint\u001b[0m\u001b[1;33m(\u001b[0m\u001b[0mCircle\u001b[0m\u001b[1;33m.\u001b[0m\u001b[0mx\u001b[0m\u001b[1;33m,\u001b[0m \u001b[0mCircle\u001b[0m\u001b[1;33m.\u001b[0m\u001b[0my\u001b[0m\u001b[1;33m)\u001b[0m\u001b[1;33m\u001b[0m\u001b[1;33m\u001b[0m\u001b[0m\n\u001b[0m",
      "\u001b[1;31mAttributeError\u001b[0m: type object 'Circle' has no attribute 'x'"
     ]
    }
   ],
   "source": [
    "import math\n",
    "\n",
    "class Point(object):\n",
    "    def __init__(self, x=0, y=0):\n",
    "        self.x = x\n",
    "        self.y = y\n",
    "    def distance_from_origin(self):\n",
    "        # math.hypot : 유클리드 표준 제곱근 공식\n",
    "        # (x * x + y * y)\n",
    "        return math.hypot(self.x, self.y)\n",
    "    def __eq__(self, other):\n",
    "        return self.x == other.x and self.y == other.y\n",
    "    def __repr__(self):\n",
    "        return \"Point ({0.x!r}{0.y!r})\".format(self)\n",
    "    def __str__(self):\n",
    "        return \"({0.x!r}, {0.y!r})\".format(self)\n",
    "    \n",
    "    \n",
    "\n",
    "    \n",
    "    \n",
    "class Circle(Point):\n",
    "    def __init__(self, radius, x=0, y=0):\n",
    "        super().__init__(x,y)\n",
    "        self.radius = radius\n",
    "        self.x = x\n",
    "        self.y = y\n",
    "    def __eq__(self, other):\n",
    "        return self.x == other.x and self.y == other.y\n",
    "    def __repr__(self):\n",
    "        return \"Point ({0.x!r}, {0.y!r})\".format(self)\n",
    "    def __str__(self):\n",
    "        return \"({0.x!r}, {0.y!r})\".format(self)\n",
    "    \n",
    "        \n",
    "    def Radius(x, y):\n",
    "        r = math.sqrt(x**2 + y**2)\n",
    "        return r\n",
    "    \n",
    "    def Area(x, y):\n",
    "        r = math.sqrt(x**2 + y**2)\n",
    "        A = math.pi * (r**2)\n",
    "        return A\n",
    "    \n",
    "    def Cir(x, y):\n",
    "        r = math.hypot(x, y)\n",
    "        l = 2 * math.pi * r\n",
    "        return l\n",
    "    \n",
    "if __name__ == \"__main__\":\n",
    "    a = Circle(3,4)\n",
    "    b = Circle.Radius(3,4)\n",
    "    c = Circle.Area(3,4)\n",
    "    d = Circle.Cir(3,4)\n",
    "    \n",
    "    print(a)\n",
    "    print(b)\n",
    "    print(c)\n",
    "    print(d)\n",
    "    \n",
    "    e = Point(3,4)\n",
    "    f = Circle(3,4)\n",
    "    print(e is f)\n",
    "    \n",
    "    g = Point()\n",
    "    g.value = 3,4\n",
    "    h = Circle(3, 4)\n",
    "    print(g == h)\n",
    "    \n",
    "    i = Circle(3,4)\n",
    "    print(Circle.x, Circle.y)"
   ]
  },
  {
   "cell_type": "code",
   "execution_count": 50,
   "metadata": {},
   "outputs": [
    {
     "data": {
      "text/plain": [
       "Point (2, 1)"
      ]
     },
     "execution_count": 50,
     "metadata": {},
     "output_type": "execute_result"
    }
   ],
   "source": [
    "Circle(3,2,1)"
   ]
  },
  {
   "cell_type": "code",
   "execution_count": 2,
   "metadata": {},
   "outputs": [],
   "source": [
    "import math\n",
    "\n",
    "class Point(object):\n",
    "    def __init__(self, x=0, y=0):\n",
    "        self.x = x\n",
    "        self.y = y\n",
    "    def distance_from_origin(self):\n",
    "        # math.hypot : 유클리드 표준 제곱근 공식\n",
    "        # (x * x + y * y)\n",
    "        return math.hypot(self.x, self.y)\n",
    "    def __eq__(self, other):\n",
    "        return self.x == other.x and self.y == other.y\n",
    "    def __repr__(self):\n",
    "        return \"Point ({0.x!r}{0.y!r})\".format(self)\n",
    "    def __str__(self):\n",
    "        return \"({0.x!r}, {0.y!r})\".format(self)\n",
    "\n",
    "# answer\n",
    "\n",
    "class Circle(Point):\n",
    "    def __init__(self, radius, x=0, y=0): # 초기화 함수\n",
    "        super().__init__(x,y) # 부모클래스의 초기화 함수\n",
    "        self.radius = radius #Circle클래스로 들어온 radius값을 self.radius로\n",
    "    def edge_distance_from_origin(self): # 반지름 구하는 함수\n",
    "        return abs(self.distance_from_origin() - self. radius) # abs-> 절대값 구하는 메서드 // 부모클래스에서 정의된 distance_from_origin의 값에서 radius값을 빼고 절댓값\n",
    "    def area(self): # 넓이 구하는 함수\n",
    "        return math.pi * (self.radius**2)\n",
    "    def circumference(self): #둘레 구하는 함수\n",
    "        return 2*math.pi*self.radius\n",
    "    def __eq__(self, other):\n",
    "        return self.radius == other.radius and super().__eq__(other) # Circle클래스의 radius값과 Point클래스의 radius값이 같은지 확인. 부모클래스의 __eq__함수???\n",
    "    def __repr__(self):\n",
    "        # 객체를 나타내는 공식적으로 사용할 수 있는 문자열\n",
    "        return 'circle ({0.radius!r}, {0.x!r})'.format(self) # Circle함수의 radius값과 x값 반환\n",
    "    def __str__(self):\n",
    "        # 비공식적으로 사용할 수 있는 문자열\n",
    "        return repr(self) # Circle클래스의 __repr__함수 반환"
   ]
  },
  {
   "cell_type": "code",
   "execution_count": 10,
   "metadata": {},
   "outputs": [
    {
     "name": "stdout",
     "output_type": "stream",
     "text": [
      "(3.4, 0)\n",
      "Point (3.40)\n",
      "(3.4, 0)\n",
      "3.4\n",
      "circle (3, 2)\n",
      "circle (3, 2)\n",
      "18.84955592153876\n",
      "0.7639320225002102\n",
      "3 2 1\n"
     ]
    }
   ],
   "source": [
    "a= Point(3.4)\n",
    "print(a)\n",
    "print(repr(a))\n",
    "print(str(a))\n",
    "print(a.distance_from_origin())\n",
    "c = Circle(3,2,1)\n",
    "print(repr(c))\n",
    "print(str(c))\n",
    "print(c.circumference())\n",
    "print(c.edge_distance_from_origin())"
   ]
  },
  {
   "cell_type": "code",
   "execution_count": 12,
   "metadata": {},
   "outputs": [],
   "source": [
    "# 디자인 패턴\n",
    "# 잘 설계된 구조의 형식적인 정의를 소프트웨어의 엔지니어링으로 옮긴 것\n",
    "# 데커레이터 패턴\n",
    "\n",
    "\n",
    "## 데커레이터 패턴을 사용하지 않을 때\n",
    "# class C(object):\n",
    "#     def method(self):\n",
    "#         pass\n",
    "    \n",
    "#     method = decorate(method)\n",
    "\n",
    "\n",
    "## 데커레이터 패턴\n",
    "# class C(object):\n",
    "#     def decorate(self):\n",
    "#         pass\n",
    "#     @decorate\n",
    "#     def method(self):\n",
    "#         pass\n",
    "    \n",
    "#     method()"
   ]
  },
  {
   "cell_type": "code",
   "execution_count": 16,
   "metadata": {},
   "outputs": [
    {
     "name": "stdout",
     "output_type": "stream",
     "text": [
      "sample1 함수가 호출되기전\n",
      "\n",
      "sample2 함수가 호출되기전\n"
     ]
    },
    {
     "data": {
      "text/plain": [
       "<function __main__.sample2()>"
      ]
     },
     "execution_count": 16,
     "metadata": {},
     "output_type": "execute_result"
    }
   ],
   "source": [
    "# 데커레이터 패턴\n",
    "def decorator(ori_func):\n",
    "    def wrapper():\n",
    "        print('{} 함수가 호출되기전'.format(ori_func.__name__))\n",
    "        return ori_func\n",
    "    return wrapper\n",
    "\n",
    "def sample1():\n",
    "    print('sample1이 실행되었습니다.')\n",
    "    \n",
    "def sample2():\n",
    "    print('sample2가 실행되었습니다.')\n",
    "    \n",
    "sample1 = decorator(sample1)\n",
    "sample2 = decorator(sample2)\n",
    "\n",
    "sample1()\n",
    "print()\n",
    "sample2()"
   ]
  },
  {
   "cell_type": "code",
   "execution_count": 18,
   "metadata": {},
   "outputs": [
    {
     "name": "stdout",
     "output_type": "stream",
     "text": [
      "sample1 함수가 호출되기전\n",
      "\n",
      "sample2 함수가 호출되기전\n"
     ]
    },
    {
     "data": {
      "text/plain": [
       "<function __main__.sample2()>"
      ]
     },
     "execution_count": 18,
     "metadata": {},
     "output_type": "execute_result"
    }
   ],
   "source": [
    "# 데커레이터 패턴\n",
    "# '@' 표시를 통해 함수 또는 메서드의 변환을 편안하게 지정을 해주는 도구\n",
    "# 실제 업무에서 많이 사용된다.\n",
    "# 함수 객체의 함수를 변경하는 다른 객체의 래핑을 허용\n",
    "def decorator(ori_func):\n",
    "    def wrapper():\n",
    "        print('{} 함수가 호출되기전'.format(ori_func.__name__))\n",
    "        return ori_func\n",
    "    return wrapper\n",
    "\n",
    "@decorator\n",
    "def sample1():\n",
    "    print('sample1이 실행되었습니다.')\n",
    "@decorator\n",
    "def sample2():\n",
    "    print('sample2가 실행되었습니다.')\n",
    "    \n",
    "\n",
    "sample1()\n",
    "print()\n",
    "sample2()"
   ]
  },
  {
   "cell_type": "code",
   "execution_count": 11,
   "metadata": {},
   "outputs": [
    {
     "name": "stdout",
     "output_type": "stream",
     "text": [
      "random_tree 0.001047599999992599\n",
      "[344, 598, 858, 3, 75, 338, 776, 7, 8, 457, 414, 11, 9, 792, 14, 354, 16, 17, 18, 47, 914, 494, 833, 91, 125, 204, 26, 621, 890, 832, 386, 751, 32, 271, 91, 575, 36, 55, 38, 39, 788, 467, 299, 567, 121, 364, 231, 47, 59, 428, 20, 960, 141, 994, 54, 661, 518, 922, 217, 699, 335, 58, 62, 63, 64, 41, 66, 723, 848, 69, 708, 71, 102, 135, 74, 453, 76, 781, 78, 72, 842, 665, 82, 933, 84, 297, 511, 10, 88, 668, 996, 781, 829, 267, 272, 9, 955, 960, 98, 99, 437, 426, 486, 326, 855, 105, 458, 554, 874, 512, 631, 10, 72, 113, 486, 997, 828, 144, 892, 589, 606, 656, 804, 904, 155, 125, 521, 604, 987, 124, 300, 300, 785, 861, 134, 613, 504, 137, 307, 113, 659, 930, 142, 708, 144, 145, 101, 147, 120, 10, 549, 254, 152, 153, 726, 222, 758, 157, 502, 159, 809, 161, 258, 631, 164, 955, 307, 73, 297, 795, 469, 989, 426, 961, 174, 175, 176, 616, 178, 179, 407, 181, 182, 72, 809, 185, 538, 283, 188, 78, 426, 955, 17, 193, 194, 195, 640, 197, 198, 814, 342, 730, 51, 203, 204, 731, 782, 207, 208, 354, 793, 124, 132, 593, 380, 194, 875, 785, 788, 458, 220, 779, 222, 809, 300, 499, 760, 51, 731, 151, 9, 859, 232, 410, 589, 383, 608, 718, 238, 35, 240, 115, 916, 938, 776, 502, 246, 476, 631, 249, 965, 251, 934, 253, 674, 255, 848, 825, 258, 257, 260, 186, 262, 120, 264, 265, 825, 267, 563, 310, 270, 65, 578, 809, 719, 941, 276, 988, 850, 955, 922, 307, 994, 960, 348, 154, 451, 320, 288, 155, 290, 158, 121, 293, 10, 295, 77, 788, 788, 186, 969, 36, 222, 793, 930, 683, 609, 926, 308, 879, 548, 300, 55, 688, 73, 961, 589, 317, 233, 745, 688, 780, 181, 323, 324, 861, 416, 508, 708, 890, 670, 955, 986, 93, 334, 785, 738, 904, 338, 404, 285, 102, 302, 343, 344, 345, 346, 752, 905, 283, 350, 713, 352, 353, 665, 247, 101, 731, 335, 359, 331, 120, 645, 930, 643, 867, 578, 657, 368, 9, 611, 371, 874, 486, 764, 375, 814, 467, 924, 379, 811, 75, 382, 383, 126, 101, 323, 387, 28, 123, 271, 293, 392, 283, 575, 228, 822, 397, 874, 240, 901, 401, 363, 403, 808, 919, 406, 609, 914, 988, 631, 411, 706, 413, 172, 669, 125, 631, 706, 419, 203, 657, 68, 982, 424, 521, 151, 325, 502, 702, 851, 392, 432, 416, 656, 330, 436, 549, 869, 93, 219, 961, 442, 676, 231, 499, 792, 727, 548, 783, 216, 435, 452, 453, 454, 599, 604, 457, 842, 9, 706, 841, 821, 892, 307, 297, 466, 476, 609, 469, 470, 471, 472, 151, 586, 73, 502, 200, 224, 851, 480, 132, 598, 31, 991, 485, 217, 919, 488, 511, 380, 574, 492, 828, 616, 414, 496, 855, 440, 499, 549, 609, 494, 70, 676, 712, 506, 499, 982, 509, 617, 929, 966, 930, 514, 820, 626, 517, 970, 998, 520, 708, 217, 42, 285, 202, 545, 811, 850, 529, 530, 970, 532, 463, 671, 521, 881, 68, 538, 158, 997, 541, 499, 228, 111, 91, 331, 453, 548, 511, 926, 242, 617, 622, 658, 556, 51, 380, 813, 460, 560, 930, 405, 930, 564, 865, 566, 567, 788, 731, 570, 15, 448, 573, 502, 575, 367, 577, 578, 382, 955, 120, 130, 75, 338, 110, 586, 662, 951, 580, 590, 935, 270, 217, 594, 421, 841, 987, 253, 665, 848, 204, 65, 367, 604, 102, 606, 699, 608, 845, 638, 814, 772, 404, 139, 753, 9, 47, 618, 753, 706, 621, 267, 623, 828, 430, 778, 627, 628, 168, 630, 620, 606, 821, 337, 635, 636, 122, 922, 328, 640, 641, 587, 424, 242, 17, 65, 246, 648, 649, 650, 651, 589, 222, 654, 851, 364, 410, 448, 307, 386, 661, 405, 981, 55, 788, 310, 667, 955, 172, 961, 998, 672, 208, 869, 675, 914, 344, 678, 155, 680, 435, 265, 869, 161, 580, 804, 955, 451, 120, 12, 883, 761, 693, 486, 335, 696, 256, 698, 28, 764, 258, 405, 458, 948, 866, 271, 521, 662, 857, 307, 631, 300, 713, 124, 883, 15, 858, 857, 467, 50, 367, 155, 955, 532, 593, 726, 730, 728, 110, 405, 233, 453, 598, 645, 386, 587, 833, 935, 739, 670, 741, 274, 132, 857, 936, 955, 994, 676, 749, 731, 706, 299, 240, 841, 6, 72, 757, 779, 805, 984, 46, 711, 329, 643, 782, 172, 299, 392, 769, 770, 364, 772, 279, 774, 883, 776, 531, 181, 955, 780, 783, 881, 162, 71, 785, 786, 315, 788, 75, 790, 783, 256, 793, 186, 499, 796, 797, 798, 494, 800, 122, 127, 548, 804, 772, 598, 653, 808, 91, 386, 480, 338, 299, 940, 815, 504, 962, 545, 497, 139, 238, 822, 802, 83, 708, 656, 15, 198, 310, 830, 553, 929, 511, 834, 809, 788, 271, 338, 961, 840, 991, 214, 938, 120, 845, 589, 874, 892, 858, 962, 792, 909, 556, 994, 855, 333, 382, 9, 859, 638, 317, 767, 863, 864, 865, 866, 867, 919, 869, 961, 871, 62, 416, 359, 875, 876, 877, 670, 879, 880, 9, 811, 455, 735, 885, 87, 72, 809, 468, 890, 891, 809, 412, 955, 895, 896, 688, 919, 144, 233, 416, 276, 342, 811, 905, 519, 386, 93, 435, 879, 613, 451, 961, 998, 731, 916, 662, 918, 533, 123, 380, 845, 752, 842, 338, 984, 927, 850, 929, 753, 50, 476, 208, 87, 935, 936, 937, 130, 858, 940, 779, 595, 928, 883, 945, 946, 745, 151, 216, 512, 283, 952, 953, 632, 871, 72, 93, 849, 599, 307, 51, 962, 963, 964, 926, 675, 467, 968, 969, 970, 971, 661, 973, 109, 55, 300, 977, 861, 161, 909, 708, 480, 983, 208, 985, 986, 788, 829, 756, 22, 202, 628, 892, 781, 650, 120, 792, 496, 512]\n"
     ]
    }
   ],
   "source": [
    "import random\n",
    "import time\n",
    "\n",
    "def benchmark(func):\n",
    "    def wrapper(*lol, **kaka):\n",
    "        t = time.perf_counter() # 처음에 실행됐을 때의 시간을 넣는다.\n",
    "        res = func(*lol, **kaka) # *args : 복수개의 인자를 함수로 받는다.(이름은 바꿔도 됨), 일반 변수보다 뒤에 위치해야 한다.\n",
    "                                    # **kwargs : 특정 형태의 값으로 함수를 호출(이름은 바꿔도 됨)\n",
    "                                    # 순서 : 일반 변수들, *args, **kwargs (순서 바뀌면 에러)\n",
    "        print('{0} {1}'.format(func.__name__, time.perf_counter() - t)) # 함수의 이름, 걸린시간 - 처음 시간 프린트\n",
    "        print(res)\n",
    "        return res\n",
    "    return wrapper\n",
    "\n",
    "@benchmark # benchmark라는 함수를 계속해서 참조\n",
    "def random_tree(n):\n",
    "    temp = [n for n in range(n)] # temp객체 안에 함수로 입력된 수 n을 0~n-1까지 리스트 형태로 넣는다.(컴프리핸션)\n",
    "    for i in range(n+1):\n",
    "        temp[random.choice(temp)] = random.choice(temp) # temp객체 안의 입력된 수들 중 랜덤으로 하나의 수를 정해 그 숫자 만큼의 인덱스를\n",
    "                                                        # temp객안에 입력된 수들을 그 상한치값을 최대로 주고 랜덤의 수만큼 넣는다.\n",
    "                                                        # ex) temp[10] = 435 -> 10번 인덱스에 435번 넣음,\n",
    "                                                        # temp[749] = 15 -> 749번 인덱스에 15번 넣음\n",
    "    return temp\n",
    "\n",
    "if __name__ == \"__main__\":\n",
    "    random_tree(1000)"
   ]
  },
  {
   "cell_type": "code",
   "execution_count": null,
   "metadata": {},
   "outputs": [],
   "source": [
    "# 숙제 : 주석처리, *args, **kwargs이름 바꾸기, 위치 바꿔보기"
   ]
  },
  {
   "cell_type": "code",
   "execution_count": 41,
   "metadata": {},
   "outputs": [],
   "source": [
    "# 클래스 매서드\n",
    "# @classmethod\n",
    "# 어려운 버전 : 첫번째 인수로 class를 사용한다.\n",
    "# 쉬운 버전 : 클래스의 특정 인스턴스에 상관하지 않고 사용된다.\n",
    "# 첫번째 매서드는 그 클래스의 이름으로 설정된다.\n",
    "\n",
    "# 스태틱 매서드\n",
    "# @staticmethod\n",
    "# 어려운 버전 : 첫번째 인수에 self, cls인수를 사용할 수 없다.\n",
    "# 쉬운 버전 : 클래스로부터 생성된 모든 인스턴스가 공통적으로 사용할 수 있다.\n",
    "class Greet(object):\n",
    "    _hello = True\n",
    "    \n",
    "    def inner(self, x):\n",
    "        print('inner{0}, {1} 실행'.format(self, x))\n",
    "    \n",
    "    @classmethod # 클래스가 가진 정보를 그대로 가져온다.\n",
    "    def class_inner(cls, x):\n",
    "        print('class_inner{0}, {1} 실행 : {2}'.format(cls, x, cls._hello))\n",
    "        \n",
    "    @staticmethod # 부모클래스 객체의 정보를 가져온다.\n",
    "    def static_inner(x):\n",
    "        print('static_inner {0} 실행'.format(x))"
   ]
  },
  {
   "cell_type": "code",
   "execution_count": 42,
   "metadata": {},
   "outputs": [],
   "source": [
    "g = Greet()"
   ]
  },
  {
   "cell_type": "code",
   "execution_count": 43,
   "metadata": {},
   "outputs": [
    {
     "name": "stdout",
     "output_type": "stream",
     "text": [
      "inner<__main__.Greet object at 0x0000019AED969B08>, 1 실행\n",
      "class_inner<class '__main__.Greet'>, 2 실행 : True\n",
      "static_inner 3 실행\n"
     ]
    }
   ],
   "source": [
    "g.inner(1)\n",
    "g.class_inner(2)\n",
    "g.static_inner(3)"
   ]
  },
  {
   "cell_type": "code",
   "execution_count": 3,
   "metadata": {},
   "outputs": [],
   "source": [
    "# 옵저버패턴\n",
    "# Observer Pattern\n",
    "# 특정값을 유지하는 핵심 객체를 가지고 있다.\n",
    "# 객체의 일대다 의존 관계에서 한 객체의 상태가 변경된다고 하면 \n",
    "# 그 객체에 종속된 모든 객체에 그 내용을 통지하여 자동으로 상태를 갱신\n",
    "# 옵저버 패턴 @property 데커레이터를 사용해서 구현할 수 있다.\n",
    "# 속성을 읽기 전용으로 설정하는 것과 같은 속성 접근제어를 할 수 있습니다.\n",
    "# 속성은 프로퍼티 메서드 대신 사용합니다.\n",
    "class B():\n",
    "    def __init__(self, name):\n",
    "        self._name = name\n",
    "    @property\n",
    "    def name(self):\n",
    "        return self._name\n",
    "    @name.setter\n",
    "    def name(self, new_name):\n",
    "        self._name = '{0} >> {1}'.format(self._name, new_name)"
   ]
  },
  {
   "cell_type": "code",
   "execution_count": 4,
   "metadata": {},
   "outputs": [
    {
     "data": {
      "text/plain": [
       "'Donghun'"
      ]
     },
     "execution_count": 4,
     "metadata": {},
     "output_type": "execute_result"
    }
   ],
   "source": [
    "b = B('Donghun')\n",
    "b.name"
   ]
  },
  {
   "cell_type": "code",
   "execution_count": 5,
   "metadata": {},
   "outputs": [],
   "source": [
    "b.name = 'lincoln'"
   ]
  },
  {
   "cell_type": "code",
   "execution_count": 6,
   "metadata": {},
   "outputs": [
    {
     "data": {
      "text/plain": [
       "'Donghun >> lincoln'"
      ]
     },
     "execution_count": 6,
     "metadata": {},
     "output_type": "execute_result"
    }
   ],
   "source": [
    "b.name"
   ]
  },
  {
   "cell_type": "code",
   "execution_count": 13,
   "metadata": {},
   "outputs": [
    {
     "name": "stdout",
     "output_type": "stream",
     "text": [
      "의표 책을 읽습니다.\n",
      "창수 책을 읽습니다.\n",
      "담이 책을 읽습니다.\n",
      "창수 책을 다 읽었습니다.\n",
      "담이 책을 다 읽었습니다.\n"
     ]
    }
   ],
   "source": [
    "# set이용해서 옵저버 패턴 구현\n",
    "class Reader(object):\n",
    "    def __init__(self, name):\n",
    "        self.name = name\n",
    "    def read(self, message):\n",
    "        print('{0} {1}'.format(self.name, message))\n",
    "        \n",
    "class Writer(object):\n",
    "    def __init__(self):\n",
    "        self.readers = set() # readers라는 객체를 set형태로 생성\n",
    "    def buy(self, who):\n",
    "        self.readers.add(who) # readers객체에 입력된 인자(who)를 추가\n",
    "    def throw(self, who):\n",
    "        self.readers.discard(who) # readers객체에 입력된 인자(who)를 제거\n",
    "    def message(self, message):\n",
    "        for reader in self.readers: # for문을 통해 readers객체 순회 -> reader라는 변수에 할당\n",
    "            reader.read(message) # 할당된 reader에 read함수를 통해 message 입력 -> Reader 클래스의 read 함수\n",
    "                                    # -> ex) '창수' : readers객체 안에 담겨짐 -> for문을 돌며 reader에 할당 -> Reader.read 함수를 통해\n",
    "                                    # message인수('읽다') 할당 -> 창수 읽다\n",
    "            \n",
    "if __name__ == \"__main__\":\n",
    "    wr = Writer()\n",
    "    \n",
    "    a = Reader('창수') # Reader클래스의 name에 '창수', '의표', '담이'를 넣어줌\n",
    "    b = Reader('의표') # 각각 a,b,c 변수에 감김\n",
    "    c = Reader('담이')\n",
    "    \n",
    "    wr.buy(a) # Writer클래스의 buy함수에 a,b,c를 who인자로 넣어줌\n",
    "    wr.buy(b) # a,b,c는 Reader클래스의 name에 입력된 '창수','의표','담이'\n",
    "    wr.buy(c)\n",
    "    \n",
    "    wr.message('책을 읽습니다.') # Writer클래스의 message에 '책을 읽습니다.'를 넣어줌 -> Writer클래스의 readers안으로 \n",
    "                                # a,b,c('창수','의표','담이')가 들어가 있고, message함수를 통해 Reader클래스의 read함수의 message\n",
    "                                # 인자로 '책을 읽습니다.'를 넣어준다. -> a+message, b+message, c+message 출력\n",
    "    wr.throw(b) # b -> Reader클래스의 '의표'를 Writer클래스의 throw에 넣우줌 -> set에서 제거 -> 현재 Writer의 readers안에는\n",
    "                # '의표' 없음.\n",
    "    wr.message('책을 다 읽었습니다.') # Writer클래스의 message에 '책을 다 읽었습니다.'를 넣어줌\n",
    "                                    # readers안에 '창수', '담이'가 들어있는 상태로 message에 '책을 다 읽었습니다.'를 넣어줌\n",
    "                                    # Reader의 read함수에 a,c가 self.name으로, message와 함께 입력되고 출력\n",
    "                                    # Writer의 message함수를 통해 for문을 돌며 a+message, b+message출력\n",
    "    \n",
    "    # 출력결과가 창수->의표->담이 순서x\n",
    "    # 의표->창수->담이 순서 -> set이라서 순서가 바뀜"
   ]
  },
  {
   "cell_type": "code",
   "execution_count": 39,
   "metadata": {},
   "outputs": [
    {
     "name": "stdout",
     "output_type": "stream",
     "text": [
      "창수, 책을 읽습니다.\n",
      "담이, 책을 읽습니다.\n",
      "의표, 책을 읽습니다.\n",
      "창수, 책을 다 읽었습니다.\n",
      "의표, 책을 다 읽었습니다.\n"
     ]
    }
   ],
   "source": [
    "class ReaderOne(object):\n",
    "    def __init__(self, name):\n",
    "        self.name = name\n",
    "    def read(self, message):\n",
    "        print('{0}, {1}'.format(self.name, message))\n",
    "        \n",
    "class ReaderTwo(object):\n",
    "    def __init__(self, name):\n",
    "        self.name = name\n",
    "    def leer(self, message):\n",
    "        print('{0}, {1}'.format(self.name, message))\n",
    "        \n",
    "class Writer(object):\n",
    "    def __init__(self):\n",
    "        self.readers = dict()\n",
    "    def buy(self, who, callback = None):\n",
    "        if callback is None:\n",
    "            callback = getattr(who, 'read') # getattr로 who에 담긴 read의 속성을 가져온다.\n",
    "                                            # ex) '창수'(ReaderOne클래스로 넣어줬을 때) ReaderOne클래스의 read(함수)를 가져온다.\n",
    "                                            # '의표'의 겨우 ReaderTwo클래스에 넣어줬기 때문에 read함수가 없다.\n",
    "        self.readers[who] = callback # callback 값에 None을 넣어줬기 때문에 readers의 딕셔너리 안의 value값은 message함수의 for문이 돌기\n",
    "                                     # 전까지, 즉, message함수의 message인자가 value로 들어오기 전까지는 None값으로 넣어준다.\n",
    "    def throw(self, who):\n",
    "        del self.readers[who]\n",
    "    def message(self, message):\n",
    "        for reader, callback in self.readers.items():\n",
    "            callback(message)\n",
    "            \n",
    "if __name__ == \"__main__\":\n",
    "    wr = Writer()\n",
    "    \n",
    "    a = ReaderOne('창수')\n",
    "    b = ReaderTwo('의표')\n",
    "    c = ReaderOne('담이')\n",
    "    \n",
    "    wr.buy(a)\n",
    "    wr.buy(c)\n",
    "    \n",
    "    wr.message('책을 읽습니다.')\n",
    "    b.leer('책을 읽습니다.')\n",
    "    \n",
    "    wr.throw(c)\n",
    "    \n",
    "    wr.message('책을 다 읽었습니다.')\n",
    "    b.leer('책을 다 읽었습니다.')"
   ]
  },
  {
   "cell_type": "code",
   "execution_count": 42,
   "metadata": {},
   "outputs": [
    {
     "name": "stdout",
     "output_type": "stream",
     "text": [
      "창수, 책을 읽습니다.\n",
      "의표, 책을 읽습니다.\n",
      "담이, 책을 읽습니다.\n",
      "창수, 책을 다 읽었습니다.\n",
      "의표, 책을 다 읽었습니다.\n"
     ]
    }
   ],
   "source": [
    "class ReaderOne(object):\n",
    "    def __init__(self, name):\n",
    "        self.name = name\n",
    "    def read(self, message):\n",
    "        print('{0}, {1}'.format(self.name, message))\n",
    "        \n",
    "class ReaderTwo(object):\n",
    "    def __init__(self, name):\n",
    "        self.name = name\n",
    "    def leer(self, message):\n",
    "        print('{0}, {1}'.format(self.name, message))\n",
    "        \n",
    "class Writer(object):\n",
    "    def __init__(self):\n",
    "        self.readers = dict()\n",
    "    def buy(self, who, callback = None):\n",
    "        if callback is None: # 예외처리 부분\n",
    "            callback = getattr(who, 'read') \n",
    "        self.readers[who] = callback\n",
    "    def throw(self, who):\n",
    "        del self.readers[who]\n",
    "    def message(self, message):\n",
    "        for reader, callback in self.readers.items():\n",
    "            callback(message)\n",
    "            \n",
    "if __name__ == \"__main__\":\n",
    "    wr = Writer()\n",
    "    \n",
    "    a = ReaderOne('창수')\n",
    "    b = ReaderTwo('의표')\n",
    "    c = ReaderOne('담이')\n",
    "    \n",
    "    wr.buy(a, a.read) # a.read = read의 message값을 Writer클래스의 buy함수의 callback 값(value값)으로 넣어줌\n",
    "    wr.buy(b, b.leer) # ReaderTwo에는 read함수가 없으므로 leer함수의 message값을 value값으로 넣어준다.\n",
    "    wr.buy(c, c.read) # c도 ReaderOne클래스라서 read값이 있음. -> who : c, self.name : c, message : c.read의 message의 message인자\n",
    "                      # -> for문에서 callbck(value, message) 값\n",
    "    \n",
    "    wr.message('책을 읽습니다.')\n",
    "    \n",
    "    wr.throw(c)\n",
    "    \n",
    "    wr.message('책을 다 읽었습니다.')"
   ]
  },
  {
   "cell_type": "code",
   "execution_count": 43,
   "metadata": {},
   "outputs": [],
   "source": [
    "# 싱글톤 패턴\n",
    "# 초기화된 객체의 인스턴스를 전역에서 사용하기 위해 만들어졌다.\n",
    "# 인스턴스가 단 하나만 존재\n",
    "# private 접근제어자가 없다.\n",
    "# __new__ 클래스 메서드를 통해서 하나의 인스턴스만 생성\n",
    "# 싱글턴 인스턴스가 생성됐는지 확인\n",
    "# 만약 싱글톤이 없다면 슈퍼 클래스를 호출해서 싱글톤 인스턴스 생성\n",
    "class Single:\n",
    "    _sing = None\n",
    "    def __new__(self, *args, **kwargs):\n",
    "        if not self._sing: # 싱글톤 인스턴스가 있는지 확인 현재 _sing은 None값\n",
    "            self._sing = super(Single, self).__new__(self, *args, **kwargs) # 싱글톤 인스턴스가 없다면 슈퍼클래스에서 호출해서\n",
    "                                                                            # 싱글톤 인스턴스 생성\n",
    "                                                                            # 여기서 슈퍼클래스가 Single\n",
    "        return self._sing"
   ]
  },
  {
   "cell_type": "code",
   "execution_count": 44,
   "metadata": {},
   "outputs": [
    {
     "data": {
      "text/plain": [
       "<__main__.Single at 0x1d25e21ccc8>"
      ]
     },
     "execution_count": 44,
     "metadata": {},
     "output_type": "execute_result"
    }
   ],
   "source": [
    "x = Single()\n",
    "x"
   ]
  },
  {
   "cell_type": "code",
   "execution_count": 45,
   "metadata": {},
   "outputs": [
    {
     "data": {
      "text/plain": [
       "True"
      ]
     },
     "execution_count": 45,
     "metadata": {},
     "output_type": "execute_result"
    }
   ],
   "source": [
    "y = Single()\n",
    "x == y"
   ]
  },
  {
   "cell_type": "code",
   "execution_count": 46,
   "metadata": {},
   "outputs": [
    {
     "data": {
      "text/plain": [
       "<__main__.Single at 0x1d25e21ccc8>"
      ]
     },
     "execution_count": 46,
     "metadata": {},
     "output_type": "execute_result"
    }
   ],
   "source": [
    "y"
   ]
  },
  {
   "cell_type": "code",
   "execution_count": null,
   "metadata": {},
   "outputs": [],
   "source": [
    "# 숙제 : 싱글톤 함수에 주석"
   ]
  }
 ],
 "metadata": {
  "kernelspec": {
   "display_name": "Python 3",
   "language": "python",
   "name": "python3"
  },
  "language_info": {
   "codemirror_mode": {
    "name": "ipython",
    "version": 3
   },
   "file_extension": ".py",
   "mimetype": "text/x-python",
   "name": "python",
   "nbconvert_exporter": "python",
   "pygments_lexer": "ipython3",
   "version": "3.7.6"
  }
 },
 "nbformat": 4,
 "nbformat_minor": 4
}
