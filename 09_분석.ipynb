{
 "cells": [
  {
   "cell_type": "markdown",
   "metadata": {},
   "source": [
    "# 분석!\n",
    "- 점근적 분석(asymptotic analysis)\n",
    "    - 어떤 알고리즘에 큰 입력 데이터셋을 적용할 때, 알고리즘의 제한 동작과 성능을 설명을 하기 위한 방법입니다.\n",
    "    - 어떤 컴퓨터에 10억개 숫자를 정렬\n",
    "    - 숫자 1개당 1바이트\n",
    "    - 1GHZ -> 10^9 -> O(n) 10억초 걸림"
   ]
  },
  {
   "cell_type": "code",
   "execution_count": 1,
   "metadata": {},
   "outputs": [],
   "source": [
    "# 복잡도 종류\n",
    "# 복잡도 환산(변환) : 한 문제를 원래 문제만큼 어렵게 다른 문제로 변환\n",
    "# 곱셈 문제 -> 어려운 공식으로 변환\n",
    "# 다항 시간 환산\n",
    "# 환산 절차가 다항 시간이 걸린다.\n",
    "\n",
    "# 복잡도 P\n",
    "# 결정론적 튜링 기계로 다항시간안에 풀 수 있는 판정 문제를 모아둔 복잡도 종류\n",
    "# 계의 각 단계에서 단 한가지 가능성만을 고려할 수 있는 알고리즘으로 다항 시간 안에 풀 수 있는 문제입니다.\n",
    "\n",
    "# 복잡도 NP\n",
    "# 비결정론적 튜링 기계로 다항시간안에 풀 수 있는 판정 문제의 집합니다.\n",
    "# P와 구분되는 것은 비결정론적이라는 점입니다.\n",
    "# 각 단계에서 여러 가능성을 동시에 고려할 수 있는 알고리즘을 통해 다항 시간안에 풀 수 있다는 뜻 입니다.\n",
    "# NP에 속하는 어떤 문제만큼 어렵다면 [NP-난해]라고 한다.\n",
    "# 모든 NP문제가 다항 시간에 어떤 문제로 환산할 수 있다면 NP-난해\n",
    "# NP 난해 문제 자체는 NP 문제가 아닐 수도 있다. -> NP 문제보다 더 어려운 문제일 수도 있다.\n",
    "# NP문제이자 NP-난해 문제를 [NP-완전]이라고 부릅니다."
   ]
  },
  {
   "cell_type": "code",
   "execution_count": 2,
   "metadata": {},
   "outputs": [],
   "source": [
    "# 재귀 알고리즘\n",
    "# 3가지 법칙\n",
    "# 1) 재귀 알고리즘은 베이스 케이스(재귀 호출을 유발하지 않는 종료 시나리오)가 필요\n",
    "# 2) 재귀 알고리즘은 상태를 변경하고 베이스 케이스로 이동한다.\n",
    "# 3) 재귀 알고리즘은 재귀적으로 자신을 호출한다.\n",
    "# 재귀 호출에 대해 재귀 함수는 인수, 반환 주소, 지역변수를 메모리의 스택에 할당\n",
    "# 스택에 넣고 꺼내는 데 시간을 소비\n",
    "# O(n) -> n은 재귀의 깊이\n",
    "# 재귀 : 비용이 굉장히 비싸다.\n",
    "# 어떤 경우에는 오버플로우가 날 수도 있다.\n",
    "# 반복문을 사용하는게 더 좋은 방법이 될 때 도 있습니다.\n"
   ]
  },
  {
   "cell_type": "code",
   "execution_count": null,
   "metadata": {},
   "outputs": [],
   "source": []
  },
  {
   "cell_type": "code",
   "execution_count": null,
   "metadata": {},
   "outputs": [],
   "source": []
  },
  {
   "cell_type": "code",
   "execution_count": null,
   "metadata": {},
   "outputs": [],
   "source": []
  },
  {
   "cell_type": "code",
   "execution_count": null,
   "metadata": {},
   "outputs": [],
   "source": []
  }
 ],
 "metadata": {
  "kernelspec": {
   "display_name": "Python 3",
   "language": "python",
   "name": "python3"
  },
  "language_info": {
   "codemirror_mode": {
    "name": "ipython",
    "version": 3
   },
   "file_extension": ".py",
   "mimetype": "text/x-python",
   "name": "python",
   "nbconvert_exporter": "python",
   "pygments_lexer": "ipython3",
   "version": "3.7.6"
  }
 },
 "nbformat": 4,
 "nbformat_minor": 4
}
