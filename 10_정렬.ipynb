{
 "cells": [
  {
   "cell_type": "code",
   "execution_count": 1,
   "metadata": {},
   "outputs": [],
   "source": [
    "# 어떤 항목들로 이루어진 한 그룹의 크기가 작은 순서대로 정렬을 하고 싶을 때!\n",
    "# 가장 작은 항목을 그룹에서 맨 앞으로 이동하고\n",
    "# 그 다음 작은 항목을 두번째로 이동, 그 다음 항목도 똑같이 이동시킨다.\n",
    "# 시간복잡도 O(n^2)\n",
    "\n",
    "# 제자리 정렬\n",
    "# 정렬한 항목의 수에 비해 아주 작은 저장 공간을 더 사용하는 정렬 알고리즘을 뜻한다.\n",
    "# 삽입 정렬 : 주어진 원소들을 옮긴 뒤 적절한 위치에 원소를 삽입하는 연산을 반복.\n",
    "# 이 과정에서 항목을 담는 공간 외에 추가로 사용될 수 있는 공간을 옮겨지는 항목이 저장하는 공간과 반복문 변수이다.\n",
    "\n",
    "# 안정적 정렬\n",
    "# 데이터 요소의 상대적인 순서를 보존한다. 데이터의 두 항목의 크기가 같을 때, 정렬 전의 위치 상태를 똑같이 유지합니다.\n",
    "# 비교 정렬 : 키가 정렬 순서를 결정하는 값을 뜻한다.\n",
    "# 키가 다른 키보다 작은지 같은지 큰지 판별하는 방법을 같주면 됩니다.\n",
    "# 비교 정렬 O(n logn) 효율이 떨어지는 경우가 있다. (최악의 경우)\n"
   ]
  },
  {
   "cell_type": "code",
   "execution_count": 14,
   "metadata": {},
   "outputs": [
    {
     "name": "stdout",
     "output_type": "stream",
     "text": [
      "[3, 5, 7, 10, 11, 37, 42]\n"
     ]
    }
   ],
   "source": [
    "# 거품 정렬(bubble sort)\n",
    "class Bubble(object):\n",
    "    def __init__(self, b_list):\n",
    "        self.b_list = b_list\n",
    "        \n",
    "    def __repr__(self):\n",
    "        return self.b_list\n",
    "    \n",
    "    def _print(self):\n",
    "        return self.b_list\n",
    "    \n",
    "    def _sort(self):\n",
    "        i = 0\n",
    "        for i in range(len(self.b_list) - 1):\n",
    "            if self.b_list[i] > self.b_list[i + 1]:\n",
    "                self.b_list[i], self.b_list[i + 1] = self.b_list[i + 1], self.b_list[i]\n",
    "            i += 1\n",
    "        if self.b_list != self.b_list.sort():\n",
    "            for i in range(len(self.b_list) - 1):\n",
    "                if self.b_list[i] > self.b_list[i + 1]:\n",
    "                    self.b_list[i], self.b_list[i + 1] = self.b_list[i + 1], self.b_list[i]\n",
    "                i += 1\n",
    "        return self.b_list\n",
    "\n",
    "                \n",
    "if __name__ == \"__main__\":\n",
    "    li = [11,7,37,42,5,3,10]\n",
    "    b = Bubble(li)\n",
    "    print(b._sort())"
   ]
  },
  {
   "cell_type": "code",
   "execution_count": 15,
   "metadata": {},
   "outputs": [],
   "source": [
    "# answer\n",
    "def bubble_sort(seq):\n",
    "    length = len(seq) - 1\n",
    "    for num in range(length, 0, -1):\n",
    "        for i in range(num):\n",
    "            if (seq[i] > seq[i + 1]):\n",
    "                seq[i], seq[i + 1] = seq[i + 1], seq[i]\n",
    "    return seq"
   ]
  },
  {
   "cell_type": "code",
   "execution_count": 16,
   "metadata": {},
   "outputs": [
    {
     "data": {
      "text/plain": [
       "[3, 5, 7, 10, 11, 37, 42]"
      ]
     },
     "execution_count": 16,
     "metadata": {},
     "output_type": "execute_result"
    }
   ],
   "source": [
    "bubble_sort([11,7,37,42,5,3,10])"
   ]
  },
  {
   "cell_type": "code",
   "execution_count": 33,
   "metadata": {},
   "outputs": [
    {
     "name": "stdout",
     "output_type": "stream",
     "text": [
      "[27, 27, 27, 27, 27, 27, 27, 12, 9, 7, 24, 8, 1, 27]\n"
     ]
    }
   ],
   "source": [
    "# 선택정렬\n",
    "# 가장 작거나 큰 항목을 찾아서 첫번째 항목과 위치를 바꿉니다.\n",
    "# 그 다음 항목을 찾아서 두번째 항목과 위치를 바꿉니다.\n",
    "# 리스트의 끝까지 도달할 때까지 이 과정을 반복합니다.\n",
    "\n",
    "'''\n",
    "class Select_sort(object):\n",
    "    def __init__(self, s_list):\n",
    "        self.s_list = s_list\n",
    "        \n",
    "    def _print(self):\n",
    "        return self.s_list\n",
    "    \n",
    "    def _sort(self):\n",
    "        for i in range(len(self.s_list)):\n",
    "            k = sorted(self.s_list)\n",
    "            if i == 0:\n",
    "                l = k[-1]\n",
    "                self.s_list.insert(i, l)\n",
    "            else:\n",
    "                l = k[i - (i + 2)]\n",
    "                self.s_list.insert(i, l)\n",
    "        return self.s_list\n",
    "    \n",
    "if __name__ == \"__main__\":\n",
    "    li = [12,9,7,24,8,1,27]\n",
    "    s = Select_sort(li)\n",
    "    print(s._sort())\n",
    "'''"
   ]
  },
  {
   "cell_type": "code",
   "execution_count": 40,
   "metadata": {},
   "outputs": [
    {
     "name": "stdout",
     "output_type": "stream",
     "text": [
      "[27, 24, 12, 9, 8, 7, 1]\n"
     ]
    }
   ],
   "source": [
    "class S_sort(object):\n",
    "    def __init__(self, s_list):\n",
    "        self.s_list = s_list\n",
    "        \n",
    "    def _sort(self):\n",
    "        a = sorted(self.s_list)\n",
    "        b = []\n",
    "        for i in range(len(self.s_list)):\n",
    "            if i == 0:\n",
    "                c = a[-1]\n",
    "                b.insert(i, c)\n",
    "            else:\n",
    "                c = a[-1 * i - 1]\n",
    "                b.insert(i, c)\n",
    "        return b\n",
    "    \n",
    "if __name__ == \"__main__\":\n",
    "    li = [12,9,7,24,8,1,27]\n",
    "    s = S_sort(li)\n",
    "    print(s._sort())"
   ]
  },
  {
   "cell_type": "code",
   "execution_count": 42,
   "metadata": {},
   "outputs": [
    {
     "name": "stdout",
     "output_type": "stream",
     "text": [
      "[4, 9, 14, 16, 27, 35, 38, 79]\n"
     ]
    }
   ],
   "source": [
    "class S_sort2(object):\n",
    "    def __init__(self, s_list):\n",
    "        self.s_list = s_list\n",
    "        \n",
    "    def _sort(self):\n",
    "        a = sorted(self.s_list)\n",
    "        b = []\n",
    "        for i in range(len(self.s_list)):\n",
    "            c = a[i]\n",
    "            b.append(c)\n",
    "        return b\n",
    "    \n",
    "if __name__ == \"__main__\":\n",
    "    li = [4,9,16,27,14,35,79,38]\n",
    "    s = S_sort2(li)\n",
    "    print(s._sort())"
   ]
  },
  {
   "cell_type": "code",
   "execution_count": null,
   "metadata": {},
   "outputs": [],
   "source": []
  }
 ],
 "metadata": {
  "kernelspec": {
   "display_name": "Python 3",
   "language": "python",
   "name": "python3"
  },
  "language_info": {
   "codemirror_mode": {
    "name": "ipython",
    "version": 3
   },
   "file_extension": ".py",
   "mimetype": "text/x-python",
   "name": "python",
   "nbconvert_exporter": "python",
   "pygments_lexer": "ipython3",
   "version": "3.7.6"
  }
 },
 "nbformat": 4,
 "nbformat_minor": 4
}
