{
 "cells": [
  {
   "cell_type": "code",
   "execution_count": 1,
   "metadata": {},
   "outputs": [],
   "source": [
    "# 어떤 항목들로 이루어진 한 그룹의 크기가 작은 순서대로 정렬을 하고 싶을 때!\n",
    "# 가장 작은 항목을 그룹에서 맨 앞으로 이동하고\n",
    "# 그 다음 작은 항목을 두번째로 이동, 그 다음 항목도 똑같이 이동시킨다.\n",
    "# 시간복잡도 O(n^2)\n",
    "\n",
    "# 제자리 정렬\n",
    "# 정렬한 항목의 수에 비해 아주 작은 저장 공간을 더 사용하는 정렬 알고리즘을 뜻한다.\n",
    "# 삽입 정렬 : 주어진 원소들을 옮긴 뒤 적절한 위치에 원소를 삽입하는 연산을 반복.\n",
    "# 이 과정에서 항목을 담는 공간 외에 추가로 사용될 수 있는 공간을 옮겨지는 항목이 저장하는 공간과 반복문 변수이다.\n",
    "\n",
    "# 안정적 정렬\n",
    "# 데이터 요소의 상대적인 순서를 보존한다. 데이터의 두 항목의 크기가 같을 때, 정렬 전의 위치 상태를 똑같이 유지합니다.\n",
    "# 비교 정렬 : 키가 정렬 순서를 결정하는 값을 뜻한다.\n",
    "# 키가 다른 키보다 작은지 같은지 큰지 판별하는 방법을 같주면 됩니다.\n",
    "# 비교 정렬 O(n logn) 효율이 떨어지는 경우가 있다. (최악의 경우)\n"
   ]
  },
  {
   "cell_type": "code",
   "execution_count": 14,
   "metadata": {},
   "outputs": [
    {
     "name": "stdout",
     "output_type": "stream",
     "text": [
      "[3, 5, 7, 10, 11, 37, 42]\n"
     ]
    }
   ],
   "source": [
    "# 거품 정렬(bubble sort)\n",
    "class Bubble(object):\n",
    "    def __init__(self, b_list):\n",
    "        self.b_list = b_list\n",
    "        \n",
    "    def __repr__(self):\n",
    "        return self.b_list\n",
    "    \n",
    "    def _print(self):\n",
    "        return self.b_list\n",
    "    \n",
    "    def _sort(self):\n",
    "        i = 0\n",
    "        for i in range(len(self.b_list) - 1):\n",
    "            if self.b_list[i] > self.b_list[i + 1]:\n",
    "                self.b_list[i], self.b_list[i + 1] = self.b_list[i + 1], self.b_list[i]\n",
    "            i += 1\n",
    "        if self.b_list != self.b_list.sort():\n",
    "            for i in range(len(self.b_list) - 1):\n",
    "                if self.b_list[i] > self.b_list[i + 1]:\n",
    "                    self.b_list[i], self.b_list[i + 1] = self.b_list[i + 1], self.b_list[i]\n",
    "                i += 1\n",
    "        return self.b_list\n",
    "\n",
    "                \n",
    "if __name__ == \"__main__\":\n",
    "    li = [11,7,37,42,5,3,10]\n",
    "    b = Bubble(li)\n",
    "    print(b._sort())"
   ]
  },
  {
   "cell_type": "code",
   "execution_count": 15,
   "metadata": {},
   "outputs": [],
   "source": [
    "# answer\n",
    "def bubble_sort(seq):\n",
    "    length = len(seq) - 1\n",
    "    for num in range(length, 0, -1):\n",
    "        for i in range(num):\n",
    "            if (seq[i] > seq[i + 1]):\n",
    "                seq[i], seq[i + 1] = seq[i + 1], seq[i]\n",
    "    return seq"
   ]
  },
  {
   "cell_type": "code",
   "execution_count": 16,
   "metadata": {},
   "outputs": [
    {
     "data": {
      "text/plain": [
       "[3, 5, 7, 10, 11, 37, 42]"
      ]
     },
     "execution_count": 16,
     "metadata": {},
     "output_type": "execute_result"
    }
   ],
   "source": [
    "bubble_sort([11,7,37,42,5,3,10])"
   ]
  },
  {
   "cell_type": "code",
   "execution_count": 33,
   "metadata": {},
   "outputs": [
    {
     "name": "stdout",
     "output_type": "stream",
     "text": [
      "[27, 27, 27, 27, 27, 27, 27, 12, 9, 7, 24, 8, 1, 27]\n"
     ]
    }
   ],
   "source": [
    "# 선택정렬\n",
    "# 가장 작거나 큰 항목을 찾아서 첫번째 항목과 위치를 바꿉니다.\n",
    "# 그 다음 항목을 찾아서 두번째 항목과 위치를 바꿉니다.\n",
    "# 리스트의 끝까지 도달할 때까지 이 과정을 반복합니다.\n",
    "\n",
    "'''\n",
    "class Selection_sort(object):\n",
    "    def __init__(self, s_list):\n",
    "        self.s_list = s_list\n",
    "        \n",
    "    def _print(self):\n",
    "        return self.s_list\n",
    "    \n",
    "    def _sort(self):\n",
    "        for i in range(len(self.s_list)):\n",
    "            k = sorted(self.s_list)\n",
    "            if i == 0:\n",
    "                l = k[-1]\n",
    "                self.s_list.insert(i, l)\n",
    "            else:\n",
    "                l = k[i - (i + 2)]\n",
    "                self.s_list.insert(i, l)\n",
    "        return self.s_list\n",
    "    \n",
    "if __name__ == \"__main__\":\n",
    "    li = [12,9,7,24,8,1,27]\n",
    "    s = Select_sort(li)\n",
    "    print(s._sort())\n",
    "'''"
   ]
  },
  {
   "cell_type": "code",
   "execution_count": 40,
   "metadata": {},
   "outputs": [
    {
     "name": "stdout",
     "output_type": "stream",
     "text": [
      "[27, 24, 12, 9, 8, 7, 1]\n"
     ]
    }
   ],
   "source": [
    "class S_sort(object):\n",
    "    def __init__(self, s_list):\n",
    "        self.s_list = s_list\n",
    "        \n",
    "    def _sort(self):\n",
    "        a = sorted(self.s_list)\n",
    "        b = []\n",
    "        for i in range(len(self.s_list)):\n",
    "            if i == 0:\n",
    "                c = a[-1]\n",
    "                b.insert(i, c)\n",
    "            else:\n",
    "                c = a[-1 * i - 1]\n",
    "                b.insert(i, c)\n",
    "        return b\n",
    "    \n",
    "if __name__ == \"__main__\":\n",
    "    li = [12,9,7,24,8,1,27]\n",
    "    s = S_sort(li)\n",
    "    print(s._sort())"
   ]
  },
  {
   "cell_type": "code",
   "execution_count": 42,
   "metadata": {},
   "outputs": [
    {
     "name": "stdout",
     "output_type": "stream",
     "text": [
      "[4, 9, 14, 16, 27, 35, 38, 79]\n"
     ]
    }
   ],
   "source": [
    "class S_sort2(object):\n",
    "    def __init__(self, s_list):\n",
    "        self.s_list = s_list\n",
    "        \n",
    "    def _sort(self):\n",
    "        a = sorted(self.s_list)\n",
    "        b = []\n",
    "        for i in range(len(self.s_list)):\n",
    "            c = a[i]\n",
    "            b.append(c)\n",
    "        return b\n",
    "    \n",
    "if __name__ == \"__main__\":\n",
    "    li = [4,9,16,27,14,35,79,38]\n",
    "    s = S_sort2(li)\n",
    "    print(s._sort())"
   ]
  },
  {
   "cell_type": "code",
   "execution_count": 88,
   "metadata": {},
   "outputs": [
    {
     "name": "stdout",
     "output_type": "stream",
     "text": [
      "[4, 17, 75, 13, 5, 21, 25, 44, 10]\n",
      "[4, 17, 13, 5, 21, 25, 44, 10]\n",
      "[4, 17, 13, 5, 21, 25, 10]\n",
      "[4, 17, 13, 5, 21, 10]\n",
      "[4, 17, 13, 5, 10]\n",
      "[87, 75, 44, 25, 21]\n"
     ]
    }
   ],
   "source": [
    "class S_sort3(object):\n",
    "    def __init__(self, s_list):\n",
    "        self.s_list = s_list\n",
    "        \n",
    "    def _sort(self):\n",
    "        x = []\n",
    "        k = len(self.s_list)\n",
    "        for i in self.s_list:\n",
    "            a = i\n",
    "            for j in self.s_list:\n",
    "                b = j\n",
    "#                 print('a :{0}, b:{1}'.format(a,b))\n",
    "                if a < b:\n",
    "                    a, b = b, a\n",
    "            x.append(a)\n",
    "            self.s_list.remove(a)\n",
    "            print(self.s_list)\n",
    "        return x\n",
    "                \n",
    "                \n",
    "if __name__ == \"__main__\":\n",
    "    li = [4,17,87,75,13,5,21,25,44,10]\n",
    "    s = S_sort3(li)\n",
    "    print(s._sort())"
   ]
  },
  {
   "cell_type": "code",
   "execution_count": 109,
   "metadata": {},
   "outputs": [
    {
     "name": "stdout",
     "output_type": "stream",
     "text": [
      "[87, 75, 44, 25, 21, 17, 13, 10, 5, 4]\n"
     ]
    }
   ],
   "source": [
    "class S_sort4(object):\n",
    "    def __init__(self, s_list):\n",
    "        self.s_list = s_list\n",
    "        \n",
    "    def _sort(self):\n",
    "        a = []\n",
    "        for i in self.s_list:\n",
    "            b = i\n",
    "            for j in self.s_list:\n",
    "                c = j\n",
    "                if b < c:\n",
    "                    b, c = c, b\n",
    "            a.append(b)\n",
    "            d = self.s_list.index(b)\n",
    "            self.s_list[d] = 0\n",
    "        return a\n",
    "                \n",
    "    \n",
    "if __name__ == \"__main__\":\n",
    "    li = [4,17,87,75,13,5,21,25,44,10]\n",
    "    s = S_sort4(li)\n",
    "    print(s._sort())"
   ]
  },
  {
   "cell_type": "code",
   "execution_count": 180,
   "metadata": {},
   "outputs": [
    {
     "name": "stdout",
     "output_type": "stream",
     "text": [
      "[1, 5, 12, 14, 17, 24, 26, 37, 42, 49, 66]\n"
     ]
    }
   ],
   "source": [
    "class S_sort5(object):\n",
    "    def __init__(self, s_list):\n",
    "        self.s_list = s_list\n",
    "        \n",
    "    def _sort(self):\n",
    "        length = len(self.s_list)\n",
    "        for i in range(0,length-1):\n",
    "            a = i\n",
    "            for j in range(i + 1, length):\n",
    "                if self.s_list[a] > self.s_list[j]:\n",
    "                    a = j\n",
    "            self.s_list[i], self.s_list[a] = self.s_list[a], self.s_list[i]\n",
    "        return self.s_list\n",
    "            \n",
    "if __name__ == \"__main__\":\n",
    "    li = [1,5,26,37,49,24,12,17,42,14,66]\n",
    "    s = S_sort5(li)\n",
    "    print(s._sort())"
   ]
  },
  {
   "cell_type": "code",
   "execution_count": 181,
   "metadata": {},
   "outputs": [
    {
     "name": "stdout",
     "output_type": "stream",
     "text": [
      "[76, 53, 48, 34, 33, 19, 18, 13, 9, 3]\n"
     ]
    }
   ],
   "source": [
    "class S_sort6(object):\n",
    "    def __init__(self, s_list):\n",
    "        self.s_list = s_list\n",
    "        \n",
    "    def _sort(self):\n",
    "        length = len(self.s_list)\n",
    "        for i in range(length - 1):\n",
    "            a = i\n",
    "            for j in range(i + 1, length):\n",
    "                if self.s_list[a] < self.s_list[j]:\n",
    "                    a = j\n",
    "            self.s_list[i], self.s_list[a] = self.s_list[a], self.s_list[i]\n",
    "        return self.s_list\n",
    "    \n",
    "if __name__ == \"__main__\":\n",
    "    li = [48,13,33,3,9,18,19,76,34,53]\n",
    "    s = S_sort6(li)\n",
    "    print(s._sort())"
   ]
  },
  {
   "cell_type": "code",
   "execution_count": 235,
   "metadata": {},
   "outputs": [
    {
     "name": "stdout",
     "output_type": "stream",
     "text": [
      "[3, 17, 42, 66, 99, 128, 74, 54, 24, 9]\n"
     ]
    }
   ],
   "source": [
    "class mid_sort(object):\n",
    "    def __init__(self, m_list):\n",
    "        self.m_list = m_list\n",
    "        \n",
    "    def _sort(self):\n",
    "        length = len(self.m_list)\n",
    "        mid = length // 2\n",
    "        _list = []\n",
    "        for i in range(length):\n",
    "            _list.append(0)\n",
    "            \n",
    "        for i in range(length - 1):\n",
    "            a = i\n",
    "            for j in range(i + 1, length):\n",
    "                if self.m_list[a] < self.m_list[j]:\n",
    "                    a = j\n",
    "            \n",
    "            self.m_list[i], self.m_list[a] = self.m_list[a], self.m_list[i]\n",
    "            \n",
    "            \n",
    "            num = self.m_list[i]\n",
    "            \n",
    "            \n",
    "            if i == 0:\n",
    "                _list[mid] = self.m_list[i]\n",
    "            else:\n",
    "                _list[(mid + (((-1) ** i) * i))] = self.m_list[i]\n",
    "                \n",
    "            mid = _list.index(num)\n",
    "            \n",
    "        if len(_list) % 2 == 1:\n",
    "            del _list[-1]\n",
    "            _list.append(self.m_list[-1])\n",
    "        else:\n",
    "            del _list[0]\n",
    "            _list.insert(0, self.m_list[-1])\n",
    "            \n",
    "           \n",
    "        return _list\n",
    "    \n",
    "    \n",
    "if __name__ == \"__main__\":\n",
    "    li = [128,54,17,3,9,24,66,42,99,74]\n",
    "    m = mid_sort(li)\n",
    "    print(m._sort())"
   ]
  },
  {
   "cell_type": "code",
   "execution_count": 237,
   "metadata": {},
   "outputs": [
    {
     "name": "stdout",
     "output_type": "stream",
     "text": [
      "[1, 4, 7, 8, 12, 16, 19, 22, 34]\n"
     ]
    }
   ],
   "source": [
    "class S_sort7(object):\n",
    "    def __init__(self, s_list):\n",
    "        self.s_list = s_list\n",
    "        \n",
    "    def _sort(self):\n",
    "        leng = len(self.s_list)\n",
    "        for i in range(leng):\n",
    "            a = i\n",
    "            for j in range(i + 1, leng):\n",
    "                if self.s_list[a] > self.s_list[j]:\n",
    "                    a = j\n",
    "            self.s_list[i], self.s_list[a] = self.s_list[a], self.s_list[i]\n",
    "            \n",
    "        return self.s_list\n",
    "    \n",
    "if __name__ == \"__main__\":\n",
    "    li = [12,8,7,16,4,1,19,22,34]\n",
    "    s = S_sort7(li)\n",
    "    print(s._sort())"
   ]
  },
  {
   "cell_type": "code",
   "execution_count": 250,
   "metadata": {},
   "outputs": [
    {
     "name": "stdout",
     "output_type": "stream",
     "text": [
      "[1, 4, 9, 12, 16, 17, 22, 34]\n"
     ]
    }
   ],
   "source": [
    "class S_sort8(object):\n",
    "    def __init__(self, s_list):\n",
    "        self.s_list = s_list\n",
    "        \n",
    "    def _sort(self):\n",
    "        a = []\n",
    "        b = len(self.s_list)\n",
    "        for i in range(b):\n",
    "            c = i\n",
    "            for j in range(i + 1, b):\n",
    "                d = j\n",
    "                if self.s_list[c] > self.s_list[d]:\n",
    "                    self.s_list[c], self.s_list[d] = self.s_list[d], self.s_list[c]\n",
    "            a.append(self.s_list[c])\n",
    "            \n",
    "        return a\n",
    "    \n",
    "if __name__ == \"__main__\":\n",
    "    li = [9,12,17,4,1,22,34,16]\n",
    "    s = S_sort8(li)\n",
    "    print(s._sort())"
   ]
  },
  {
   "cell_type": "code",
   "execution_count": 255,
   "metadata": {},
   "outputs": [
    {
     "name": "stdout",
     "output_type": "stream",
     "text": [
      "[3, 4, 9, 10, 11, 14, 28, 43]\n"
     ]
    }
   ],
   "source": [
    "def selection_sort(seq):\n",
    "    length = len(seq)\n",
    "    for i in range(length - 1):\n",
    "        min_j = i\n",
    "        for j in range(i + 1, length):\n",
    "            if seq[min_j] > seq[j]:\n",
    "                min_j = j\n",
    "        seq[i], seq[min_j] = seq[min_j], seq[i]\n",
    "    return seq\n",
    "\n",
    "if __name__ == \"__main__\":\n",
    "    seq = [11,3,28,43,9,4,10,14,]\n",
    "    ss = selection_sort(seq)\n",
    "    print(ss)"
   ]
  },
  {
   "cell_type": "code",
   "execution_count": 264,
   "metadata": {},
   "outputs": [
    {
     "ename": "TypeError",
     "evalue": "'>' not supported between instances of 'int' and 'list'",
     "output_type": "error",
     "traceback": [
      "\u001b[1;31m---------------------------------------------------------------------------\u001b[0m",
      "\u001b[1;31mTypeError\u001b[0m                                 Traceback (most recent call last)",
      "\u001b[1;32m<ipython-input-264-599c92e9809a>\u001b[0m in \u001b[0;36m<module>\u001b[1;34m\u001b[0m\n\u001b[0;32m     18\u001b[0m     \u001b[0mli\u001b[0m \u001b[1;33m=\u001b[0m \u001b[1;33m[\u001b[0m\u001b[1;36m11\u001b[0m\u001b[1;33m,\u001b[0m\u001b[1;36m9\u001b[0m\u001b[1;33m,\u001b[0m\u001b[1;36m7\u001b[0m\u001b[1;33m,\u001b[0m\u001b[1;36m13\u001b[0m\u001b[1;33m,\u001b[0m\u001b[1;36m22\u001b[0m\u001b[1;33m,\u001b[0m\u001b[1;36m4\u001b[0m\u001b[1;33m,\u001b[0m\u001b[1;36m6\u001b[0m\u001b[1;33m,\u001b[0m\u001b[1;36m27\u001b[0m\u001b[1;33m,\u001b[0m\u001b[1;36m10\u001b[0m\u001b[1;33m]\u001b[0m\u001b[1;33m\u001b[0m\u001b[1;33m\u001b[0m\u001b[0m\n\u001b[0;32m     19\u001b[0m     \u001b[0mi\u001b[0m \u001b[1;33m=\u001b[0m \u001b[0mInsertion_sort\u001b[0m\u001b[1;33m(\u001b[0m\u001b[0mli\u001b[0m\u001b[1;33m)\u001b[0m\u001b[1;33m\u001b[0m\u001b[1;33m\u001b[0m\u001b[0m\n\u001b[1;32m---> 20\u001b[1;33m     \u001b[0mprint\u001b[0m\u001b[1;33m(\u001b[0m\u001b[0mi\u001b[0m\u001b[1;33m.\u001b[0m\u001b[0m_sort\u001b[0m\u001b[1;33m(\u001b[0m\u001b[1;33m)\u001b[0m\u001b[1;33m)\u001b[0m\u001b[1;33m\u001b[0m\u001b[1;33m\u001b[0m\u001b[0m\n\u001b[0m",
      "\u001b[1;32m<ipython-input-264-599c92e9809a>\u001b[0m in \u001b[0;36m_sort\u001b[1;34m(self)\u001b[0m\n\u001b[0;32m      9\u001b[0m             \u001b[0mmin_j\u001b[0m \u001b[1;33m=\u001b[0m \u001b[0mi\u001b[0m\u001b[1;33m\u001b[0m\u001b[1;33m\u001b[0m\u001b[0m\n\u001b[0;32m     10\u001b[0m             \u001b[0mr\u001b[0m \u001b[1;33m=\u001b[0m \u001b[0mself\u001b[0m\u001b[1;33m.\u001b[0m\u001b[0mi_list\u001b[0m\u001b[1;33m[\u001b[0m\u001b[1;33m:\u001b[0m\u001b[0mi\u001b[0m\u001b[1;33m]\u001b[0m\u001b[1;33m\u001b[0m\u001b[1;33m\u001b[0m\u001b[0m\n\u001b[1;32m---> 11\u001b[1;33m             \u001b[1;32mwhile\u001b[0m \u001b[0mself\u001b[0m\u001b[1;33m.\u001b[0m\u001b[0mi_list\u001b[0m\u001b[1;33m[\u001b[0m\u001b[0mi\u001b[0m\u001b[1;33m]\u001b[0m \u001b[1;33m>\u001b[0m \u001b[0mr\u001b[0m\u001b[1;33m:\u001b[0m\u001b[1;33m\u001b[0m\u001b[1;33m\u001b[0m\u001b[0m\n\u001b[0m\u001b[0;32m     12\u001b[0m                 \u001b[1;32mif\u001b[0m \u001b[0mself\u001b[0m\u001b[1;33m.\u001b[0m\u001b[0mi_list\u001b[0m\u001b[1;33m[\u001b[0m\u001b[0mmin_j\u001b[0m\u001b[1;33m]\u001b[0m \u001b[1;33m<\u001b[0m \u001b[0mself\u001b[0m\u001b[1;33m.\u001b[0m\u001b[0mi_list\u001b[0m\u001b[1;33m[\u001b[0m\u001b[0mj\u001b[0m\u001b[1;33m]\u001b[0m\u001b[1;33m:\u001b[0m\u001b[1;33m\u001b[0m\u001b[1;33m\u001b[0m\u001b[0m\n\u001b[0;32m     13\u001b[0m                     \u001b[0mmin_j\u001b[0m \u001b[1;33m=\u001b[0m \u001b[0mj\u001b[0m\u001b[1;33m\u001b[0m\u001b[1;33m\u001b[0m\u001b[0m\n",
      "\u001b[1;31mTypeError\u001b[0m: '>' not supported between instances of 'int' and 'list'"
     ]
    }
   ],
   "source": [
    "# 삽입 정렬 만들기\n",
    "class Insertion_sort(object):\n",
    "    def __init__(self, i_list):\n",
    "        self.i_list = i_list\n",
    "        \n",
    "    def _sort(self):\n",
    "        length = len(self.i_list)\n",
    "        for i in range(1, length - 1):\n",
    "            min_j = i\n",
    "            r = self.i_list[:i]\n",
    "            while self.i_list[i] > r:\n",
    "                if self.i_list[min_j] < self.i_list[j]:\n",
    "                    min_j = j\n",
    "            self.i_list[i], self.i_list[min_j] = self.i_list[min_j], self.i_list[j]\n",
    "        return self.i_list\n",
    "            \n",
    "if __name__ == \"__main__\":\n",
    "    li = [11,9,7,13,22,4,6,27,10]\n",
    "    i = Insertion_sort(li)\n",
    "    print(i._sort())"
   ]
  },
  {
   "cell_type": "code",
   "execution_count": 274,
   "metadata": {},
   "outputs": [
    {
     "ename": "KeyboardInterrupt",
     "evalue": "",
     "output_type": "error",
     "traceback": [
      "\u001b[1;31m---------------------------------------------------------------------------\u001b[0m",
      "\u001b[1;31mKeyboardInterrupt\u001b[0m                         Traceback (most recent call last)",
      "\u001b[1;32m<ipython-input-274-76ec29839980>\u001b[0m in \u001b[0;36m<module>\u001b[1;34m\u001b[0m\n\u001b[0;32m     18\u001b[0m     \u001b[0mli\u001b[0m \u001b[1;33m=\u001b[0m \u001b[1;33m[\u001b[0m\u001b[1;36m11\u001b[0m\u001b[1;33m,\u001b[0m\u001b[1;36m9\u001b[0m\u001b[1;33m,\u001b[0m\u001b[1;36m7\u001b[0m\u001b[1;33m,\u001b[0m\u001b[1;36m13\u001b[0m\u001b[1;33m,\u001b[0m\u001b[1;36m22\u001b[0m\u001b[1;33m,\u001b[0m\u001b[1;36m4\u001b[0m\u001b[1;33m,\u001b[0m\u001b[1;36m6\u001b[0m\u001b[1;33m,\u001b[0m\u001b[1;36m27\u001b[0m\u001b[1;33m,\u001b[0m\u001b[1;36m10\u001b[0m\u001b[1;33m]\u001b[0m\u001b[1;33m\u001b[0m\u001b[1;33m\u001b[0m\u001b[0m\n\u001b[0;32m     19\u001b[0m     \u001b[0mi\u001b[0m \u001b[1;33m=\u001b[0m \u001b[0mInsertion_sort2\u001b[0m\u001b[1;33m(\u001b[0m\u001b[0mli\u001b[0m\u001b[1;33m)\u001b[0m\u001b[1;33m\u001b[0m\u001b[1;33m\u001b[0m\u001b[0m\n\u001b[1;32m---> 20\u001b[1;33m     \u001b[0mprint\u001b[0m\u001b[1;33m(\u001b[0m\u001b[0mi\u001b[0m\u001b[1;33m.\u001b[0m\u001b[0m_sort\u001b[0m\u001b[1;33m(\u001b[0m\u001b[1;33m)\u001b[0m\u001b[1;33m)\u001b[0m\u001b[1;33m\u001b[0m\u001b[1;33m\u001b[0m\u001b[0m\n\u001b[0m",
      "\u001b[1;32m<ipython-input-274-76ec29839980>\u001b[0m in \u001b[0;36m_sort\u001b[1;34m(self)\u001b[0m\n\u001b[0;32m      8\u001b[0m             \u001b[0mmin_j\u001b[0m \u001b[1;33m=\u001b[0m \u001b[0mi\u001b[0m\u001b[1;33m\u001b[0m\u001b[1;33m\u001b[0m\u001b[0m\n\u001b[0;32m      9\u001b[0m             \u001b[1;32mfor\u001b[0m \u001b[0mj\u001b[0m \u001b[1;32min\u001b[0m \u001b[0mrange\u001b[0m\u001b[1;33m(\u001b[0m\u001b[0mi\u001b[0m \u001b[1;33m-\u001b[0m \u001b[1;36m1\u001b[0m\u001b[1;33m,\u001b[0m \u001b[0mi\u001b[0m\u001b[1;33m)\u001b[0m\u001b[1;33m:\u001b[0m\u001b[1;33m\u001b[0m\u001b[1;33m\u001b[0m\u001b[0m\n\u001b[1;32m---> 10\u001b[1;33m                 \u001b[1;32mwhile\u001b[0m \u001b[0mself\u001b[0m\u001b[1;33m.\u001b[0m\u001b[0mi_list\u001b[0m\u001b[1;33m[\u001b[0m\u001b[0mj\u001b[0m\u001b[1;33m]\u001b[0m \u001b[1;33m>\u001b[0m \u001b[0mself\u001b[0m\u001b[1;33m.\u001b[0m\u001b[0mi_list\u001b[0m\u001b[1;33m[\u001b[0m\u001b[0mmin_j\u001b[0m\u001b[1;33m]\u001b[0m\u001b[1;33m:\u001b[0m\u001b[1;33m\u001b[0m\u001b[1;33m\u001b[0m\u001b[0m\n\u001b[0m\u001b[0;32m     11\u001b[0m                     \u001b[1;32mif\u001b[0m \u001b[0mself\u001b[0m\u001b[1;33m.\u001b[0m\u001b[0mi_list\u001b[0m\u001b[1;33m[\u001b[0m\u001b[0mmin_j\u001b[0m\u001b[1;33m]\u001b[0m \u001b[1;33m>\u001b[0m \u001b[0mself\u001b[0m\u001b[1;33m.\u001b[0m\u001b[0mi_list\u001b[0m\u001b[1;33m[\u001b[0m\u001b[0mj\u001b[0m\u001b[1;33m]\u001b[0m\u001b[1;33m:\u001b[0m\u001b[1;33m\u001b[0m\u001b[1;33m\u001b[0m\u001b[0m\n\u001b[0;32m     12\u001b[0m                         \u001b[0mmin_j\u001b[0m \u001b[1;33m=\u001b[0m \u001b[0mj\u001b[0m\u001b[1;33m\u001b[0m\u001b[1;33m\u001b[0m\u001b[0m\n",
      "\u001b[1;31mKeyboardInterrupt\u001b[0m: "
     ]
    }
   ],
   "source": [
    "class Insertion_sort2(object):\n",
    "    def __init__(self, i_list):\n",
    "        self.i_list = i_list\n",
    "        \n",
    "    def _sort(self):\n",
    "        length = len(self.i_list)\n",
    "        for i in range(1, length):\n",
    "            min_j = i\n",
    "            for j in range(i - 1, i):\n",
    "                while self.i_list[j] > self.i_list[min_j]:\n",
    "                    if self.i_list[min_j] > self.i_list[j]:\n",
    "                        min_j = j\n",
    "            self.i_list[j], self.i_list[min_j] = self.i_list[min_j], self.i_list[j]\n",
    "            print(self.i_list)\n",
    "        return self.i_list\n",
    "    \n",
    "if __name__ == \"__main__\":\n",
    "    li = [11,9,7,13,22,4,6,27,10]\n",
    "    i = Insertion_sort2(li)\n",
    "    print(i._sort())"
   ]
  },
  {
   "cell_type": "code",
   "execution_count": 1,
   "metadata": {},
   "outputs": [
    {
     "ename": "SyntaxError",
     "evalue": "unexpected EOF while parsing (<ipython-input-1-d3752bd98a9f>, line 6)",
     "output_type": "error",
     "traceback": [
      "\u001b[1;36m  File \u001b[1;32m\"<ipython-input-1-d3752bd98a9f>\"\u001b[1;36m, line \u001b[1;32m6\u001b[0m\n\u001b[1;33m    \u001b[0m\n\u001b[1;37m    ^\u001b[0m\n\u001b[1;31mSyntaxError\u001b[0m\u001b[1;31m:\u001b[0m unexpected EOF while parsing\n"
     ]
    }
   ],
   "source": [
    "class Insertion_sort3(object):\n",
    "    def __init__(self, i_list):\n",
    "        self.i_list = i_list\n",
    "        \n",
    "    def _sort(self):\n",
    "        length = len(self.i_list)\n",
    "        for i in range(1,length):\n",
    "            min_j = i\n",
    "            while self.i_list[min_j] > self.i_list[i]:\n",
    "                if self.i_list[min_j] < self.i_list[i]:\n",
    "                    min_j = i\n",
    "            self.i_list[i], self.i_list"
   ]
  },
  {
   "cell_type": "code",
   "execution_count": 6,
   "metadata": {},
   "outputs": [
    {
     "name": "stdout",
     "output_type": "stream",
     "text": [
      "[9, 11, 7, 13, 22, 4, 6, 27, 10]\n",
      "[7, 9, 11, 13, 22, 4, 6, 27, 10]\n",
      "[7, 9, 11, 13, 22, 4, 6, 27, 10]\n",
      "[7, 9, 11, 13, 22, 4, 6, 27, 10]\n",
      "[4, 7, 9, 11, 13, 22, 6, 27, 10]\n",
      "[4, 6, 7, 9, 11, 13, 22, 27, 10]\n",
      "[4, 6, 7, 9, 11, 13, 22, 27, 10]\n",
      "[4, 6, 7, 9, 10, 11, 13, 22, 27]\n",
      "[4, 6, 7, 9, 10, 11, 13, 22, 27]\n"
     ]
    }
   ],
   "source": [
    "def insertion_sort(seq):\n",
    "    for i in range(1, len(seq)):\n",
    "        j = i\n",
    "        while j > 0 and seq[j - 1] > seq[j]:\n",
    "            seq[j-1],seq[j] = seq[j], seq[j-1]\n",
    "            j -= 1\n",
    "        print(seq)\n",
    "    return seq\n",
    "\n",
    "def insertion_sort_rec(seq, i= None):\n",
    "    if i is None:\n",
    "        i = len(seq) - 1\n",
    "    if i == 0:\n",
    "        return i\n",
    "    insertion_sort_rec(seq, i-1)\n",
    "    j = i\n",
    "    while j > 0 and seq[j-i] > seq[j]:\n",
    "        seq[j-1], seq[j] = seq[j], seq[j-1]\n",
    "        j -= 1\n",
    "    return seq\n",
    "\n",
    "if __name__ == \"__main__\":\n",
    "    seq = [11,9,7,13,22,4,6,27,10]\n",
    "    s = insertion_sort(seq)\n",
    "    print(s)"
   ]
  },
  {
   "cell_type": "code",
   "execution_count": 43,
   "metadata": {},
   "outputs": [
    {
     "name": "stdout",
     "output_type": "stream",
     "text": [
      "i : 1\n",
      "[9, 11, 7, 13, 22, 4, 6, 27, 10, 18, 2]\n",
      "i : 2\n",
      "[7, 9, 11, 13, 22, 4, 6, 27, 10, 18, 2]\n",
      "i : 3\n",
      "i : 4\n",
      "i : 5\n",
      "[4, 7, 9, 11, 13, 22, 6, 27, 10, 18, 2]\n",
      "i : 6\n",
      "[4, 6, 7, 9, 11, 13, 22, 27, 10, 18, 2]\n",
      "i : 7\n",
      "i : 8\n",
      "[4, 6, 7, 9, 10, 11, 13, 22, 27, 18, 2]\n",
      "i : 9\n",
      "[4, 6, 7, 9, 10, 11, 13, 18, 22, 27, 2]\n",
      "i : 10\n"
     ]
    },
    {
     "ename": "IndexError",
     "evalue": "list index out of range",
     "output_type": "error",
     "traceback": [
      "\u001b[1;31m---------------------------------------------------------------------------\u001b[0m",
      "\u001b[1;31mIndexError\u001b[0m                                Traceback (most recent call last)",
      "\u001b[1;32m<ipython-input-43-46f02d2566fa>\u001b[0m in \u001b[0;36m<module>\u001b[1;34m\u001b[0m\n\u001b[0;32m     19\u001b[0m     \u001b[0mli\u001b[0m \u001b[1;33m=\u001b[0m \u001b[1;33m[\u001b[0m\u001b[1;36m11\u001b[0m\u001b[1;33m,\u001b[0m\u001b[1;36m9\u001b[0m\u001b[1;33m,\u001b[0m\u001b[1;36m7\u001b[0m\u001b[1;33m,\u001b[0m\u001b[1;36m13\u001b[0m\u001b[1;33m,\u001b[0m\u001b[1;36m22\u001b[0m\u001b[1;33m,\u001b[0m\u001b[1;36m4\u001b[0m\u001b[1;33m,\u001b[0m\u001b[1;36m6\u001b[0m\u001b[1;33m,\u001b[0m\u001b[1;36m27\u001b[0m\u001b[1;33m,\u001b[0m\u001b[1;36m10\u001b[0m\u001b[1;33m,\u001b[0m\u001b[1;36m18\u001b[0m\u001b[1;33m,\u001b[0m\u001b[1;36m2\u001b[0m\u001b[1;33m]\u001b[0m\u001b[1;33m\u001b[0m\u001b[1;33m\u001b[0m\u001b[0m\n\u001b[0;32m     20\u001b[0m     \u001b[0mg\u001b[0m \u001b[1;33m=\u001b[0m \u001b[0mgnome_sort\u001b[0m\u001b[1;33m(\u001b[0m\u001b[0mli\u001b[0m\u001b[1;33m)\u001b[0m\u001b[1;33m\u001b[0m\u001b[1;33m\u001b[0m\u001b[0m\n\u001b[1;32m---> 21\u001b[1;33m     \u001b[0mprint\u001b[0m\u001b[1;33m(\u001b[0m\u001b[0mg\u001b[0m\u001b[1;33m.\u001b[0m\u001b[0m_sort\u001b[0m\u001b[1;33m(\u001b[0m\u001b[1;33m)\u001b[0m\u001b[1;33m)\u001b[0m\u001b[1;33m\u001b[0m\u001b[1;33m\u001b[0m\u001b[0m\n\u001b[0m",
      "\u001b[1;32m<ipython-input-43-46f02d2566fa>\u001b[0m in \u001b[0;36m_sort\u001b[1;34m(self)\u001b[0m\n\u001b[0;32m     10\u001b[0m             \u001b[0mprint\u001b[0m\u001b[1;33m(\u001b[0m\u001b[1;34m'i : {0}'\u001b[0m\u001b[1;33m.\u001b[0m\u001b[0mformat\u001b[0m\u001b[1;33m(\u001b[0m\u001b[0mi\u001b[0m\u001b[1;33m)\u001b[0m\u001b[1;33m)\u001b[0m\u001b[1;33m\u001b[0m\u001b[1;33m\u001b[0m\u001b[0m\n\u001b[0;32m     11\u001b[0m             \u001b[1;32mif\u001b[0m \u001b[0mself\u001b[0m\u001b[1;33m.\u001b[0m\u001b[0mg_list\u001b[0m\u001b[1;33m[\u001b[0m\u001b[0mmin_j\u001b[0m \u001b[1;33m-\u001b[0m \u001b[1;36m1\u001b[0m\u001b[1;33m]\u001b[0m \u001b[1;33m>\u001b[0m \u001b[0mself\u001b[0m\u001b[1;33m.\u001b[0m\u001b[0mg_list\u001b[0m\u001b[1;33m[\u001b[0m\u001b[0mmin_j\u001b[0m\u001b[1;33m]\u001b[0m\u001b[1;33m:\u001b[0m\u001b[1;33m\u001b[0m\u001b[1;33m\u001b[0m\u001b[0m\n\u001b[1;32m---> 12\u001b[1;33m                 \u001b[1;32mwhile\u001b[0m \u001b[0mself\u001b[0m\u001b[1;33m.\u001b[0m\u001b[0mg_list\u001b[0m\u001b[1;33m[\u001b[0m\u001b[0mmin_j\u001b[0m \u001b[1;33m-\u001b[0m \u001b[1;36m1\u001b[0m\u001b[1;33m]\u001b[0m \u001b[1;33m>\u001b[0m \u001b[0mself\u001b[0m\u001b[1;33m.\u001b[0m\u001b[0mg_list\u001b[0m\u001b[1;33m[\u001b[0m\u001b[0mmin_j\u001b[0m\u001b[1;33m]\u001b[0m\u001b[1;33m:\u001b[0m\u001b[1;33m\u001b[0m\u001b[1;33m\u001b[0m\u001b[0m\n\u001b[0m\u001b[0;32m     13\u001b[0m                     \u001b[0mself\u001b[0m\u001b[1;33m.\u001b[0m\u001b[0mg_list\u001b[0m\u001b[1;33m[\u001b[0m\u001b[0mmin_j\u001b[0m \u001b[1;33m-\u001b[0m \u001b[1;36m1\u001b[0m\u001b[1;33m]\u001b[0m\u001b[1;33m,\u001b[0m \u001b[0mself\u001b[0m\u001b[1;33m.\u001b[0m\u001b[0mg_list\u001b[0m\u001b[1;33m[\u001b[0m\u001b[0mmin_j\u001b[0m\u001b[1;33m]\u001b[0m \u001b[1;33m=\u001b[0m \u001b[0mself\u001b[0m\u001b[1;33m.\u001b[0m\u001b[0mg_list\u001b[0m\u001b[1;33m[\u001b[0m\u001b[0mmin_j\u001b[0m\u001b[1;33m]\u001b[0m\u001b[1;33m,\u001b[0m \u001b[0mself\u001b[0m\u001b[1;33m.\u001b[0m\u001b[0mg_list\u001b[0m\u001b[1;33m[\u001b[0m\u001b[0mmin_j\u001b[0m \u001b[1;33m-\u001b[0m \u001b[1;36m1\u001b[0m\u001b[1;33m]\u001b[0m\u001b[1;33m\u001b[0m\u001b[1;33m\u001b[0m\u001b[0m\n\u001b[0;32m     14\u001b[0m                     \u001b[0mmin_j\u001b[0m \u001b[1;33m-=\u001b[0m \u001b[1;36m1\u001b[0m\u001b[1;33m\u001b[0m\u001b[1;33m\u001b[0m\u001b[0m\n",
      "\u001b[1;31mIndexError\u001b[0m: list index out of range"
     ]
    }
   ],
   "source": [
    "# 놈 정렬(gnome sort)\n",
    "class gnome_sort(object):\n",
    "    def __init__(self, g_list):\n",
    "        self.g_list = g_list\n",
    "        \n",
    "    def _sort(self):\n",
    "        length = len(self.g_list)\n",
    "        for i in range(1, length):\n",
    "            min_j = i\n",
    "            print('i : {0}'.format(i))\n",
    "            if self.g_list[min_j - 1] > self.g_list[min_j]:\n",
    "                while self.g_list[min_j - 1] > self.g_list[min_j]:\n",
    "                    self.g_list[min_j - 1], self.g_list[min_j] = self.g_list[min_j], self.g_list[min_j - 1]\n",
    "                    min_j -= 1\n",
    "                print(self.g_list)\n",
    "        return self.g_list\n",
    "    \n",
    "if __name__ == \"__main__\":\n",
    "    li = [11,9,7,13,22,4,6,27,10,18,2]\n",
    "    g = gnome_sort(li)\n",
    "    print(g._sort())"
   ]
  },
  {
   "cell_type": "code",
   "execution_count": 48,
   "metadata": {},
   "outputs": [
    {
     "ename": "IndexError",
     "evalue": "list index out of range",
     "output_type": "error",
     "traceback": [
      "\u001b[1;31m---------------------------------------------------------------------------\u001b[0m",
      "\u001b[1;31mIndexError\u001b[0m                                Traceback (most recent call last)",
      "\u001b[1;32m<ipython-input-48-926fc33e1af0>\u001b[0m in \u001b[0;36m<module>\u001b[1;34m\u001b[0m\n\u001b[0;32m     20\u001b[0m     \u001b[0mli\u001b[0m \u001b[1;33m=\u001b[0m \u001b[1;33m[\u001b[0m\u001b[1;36m2\u001b[0m\u001b[1;33m,\u001b[0m\u001b[1;36m4\u001b[0m\u001b[1;33m,\u001b[0m\u001b[1;36m7\u001b[0m\u001b[1;33m,\u001b[0m\u001b[1;36m11\u001b[0m\u001b[1;33m,\u001b[0m\u001b[1;36m1\u001b[0m\u001b[1;33m,\u001b[0m\u001b[1;36m10\u001b[0m\u001b[1;33m,\u001b[0m\u001b[1;36m19\u001b[0m\u001b[1;33m,\u001b[0m\u001b[1;36m13\u001b[0m\u001b[1;33m]\u001b[0m\u001b[1;33m\u001b[0m\u001b[1;33m\u001b[0m\u001b[0m\n\u001b[0;32m     21\u001b[0m     \u001b[0mg\u001b[0m \u001b[1;33m=\u001b[0m \u001b[0mgnome_sort2\u001b[0m\u001b[1;33m(\u001b[0m\u001b[0mli\u001b[0m\u001b[1;33m)\u001b[0m\u001b[1;33m\u001b[0m\u001b[1;33m\u001b[0m\u001b[0m\n\u001b[1;32m---> 22\u001b[1;33m     \u001b[0mprint\u001b[0m\u001b[1;33m(\u001b[0m\u001b[0mg\u001b[0m\u001b[1;33m.\u001b[0m\u001b[0m_sort\u001b[0m\u001b[1;33m(\u001b[0m\u001b[1;33m)\u001b[0m\u001b[1;33m)\u001b[0m\u001b[1;33m\u001b[0m\u001b[1;33m\u001b[0m\u001b[0m\n\u001b[0m",
      "\u001b[1;32m<ipython-input-48-926fc33e1af0>\u001b[0m in \u001b[0;36m_sort\u001b[1;34m(self)\u001b[0m\n\u001b[0;32m     10\u001b[0m                 \u001b[1;32mpass\u001b[0m\u001b[1;33m\u001b[0m\u001b[1;33m\u001b[0m\u001b[0m\n\u001b[0;32m     11\u001b[0m             \u001b[1;32melse\u001b[0m\u001b[1;33m:\u001b[0m\u001b[1;33m\u001b[0m\u001b[1;33m\u001b[0m\u001b[0m\n\u001b[1;32m---> 12\u001b[1;33m                 \u001b[1;32mwhile\u001b[0m \u001b[0mself\u001b[0m\u001b[1;33m.\u001b[0m\u001b[0mg_list\u001b[0m\u001b[1;33m[\u001b[0m\u001b[0mmin_j\u001b[0m \u001b[1;33m-\u001b[0m \u001b[1;36m1\u001b[0m\u001b[1;33m]\u001b[0m \u001b[1;33m>\u001b[0m \u001b[0mself\u001b[0m\u001b[1;33m.\u001b[0m\u001b[0mg_list\u001b[0m\u001b[1;33m[\u001b[0m\u001b[0mmin_j\u001b[0m\u001b[1;33m]\u001b[0m\u001b[1;33m:\u001b[0m\u001b[1;33m\u001b[0m\u001b[1;33m\u001b[0m\u001b[0m\n\u001b[0m\u001b[0;32m     13\u001b[0m                     \u001b[0mself\u001b[0m\u001b[1;33m.\u001b[0m\u001b[0mg_list\u001b[0m\u001b[1;33m[\u001b[0m\u001b[0mmin_j\u001b[0m \u001b[1;33m-\u001b[0m \u001b[1;36m1\u001b[0m\u001b[1;33m]\u001b[0m\u001b[1;33m,\u001b[0m \u001b[0mself\u001b[0m\u001b[1;33m.\u001b[0m\u001b[0mg_list\u001b[0m\u001b[1;33m[\u001b[0m\u001b[0mmin_j\u001b[0m\u001b[1;33m]\u001b[0m \u001b[1;33m=\u001b[0m \u001b[0mself\u001b[0m\u001b[1;33m.\u001b[0m\u001b[0mg_list\u001b[0m\u001b[1;33m[\u001b[0m\u001b[0mmin_j\u001b[0m\u001b[1;33m]\u001b[0m\u001b[1;33m,\u001b[0m \u001b[0mself\u001b[0m\u001b[1;33m.\u001b[0m\u001b[0mg_list\u001b[0m\u001b[1;33m[\u001b[0m\u001b[0mmin_j\u001b[0m \u001b[1;33m-\u001b[0m \u001b[1;36m1\u001b[0m\u001b[1;33m]\u001b[0m\u001b[1;33m\u001b[0m\u001b[1;33m\u001b[0m\u001b[0m\n\u001b[0;32m     14\u001b[0m                     \u001b[0mmin_j\u001b[0m \u001b[1;33m-=\u001b[0m \u001b[1;36m1\u001b[0m\u001b[1;33m\u001b[0m\u001b[1;33m\u001b[0m\u001b[0m\n",
      "\u001b[1;31mIndexError\u001b[0m: list index out of range"
     ]
    }
   ],
   "source": [
    "class gnome_sort2(object):\n",
    "    def __init__(self, g_list):\n",
    "        self.g_list = g_list\n",
    "        \n",
    "    def _sort(self):\n",
    "        length = len(self.g_list)\n",
    "        for i in range(length - 1):\n",
    "            min_j = i\n",
    "            if i == 0 or self.g_list[min_j - 1] < self.g_list[min_j]:\n",
    "                pass\n",
    "            else:\n",
    "                while self.g_list[min_j - 1] > self.g_list[min_j]:\n",
    "                    self.g_list[min_j - 1], self.g_list[min_j] = self.g_list[min_j], self.g_list[min_j - 1]\n",
    "                    min_j -= 1\n",
    "                    if min_j == 0:\n",
    "                        pass\n",
    "        return self.g_list\n",
    "    \n",
    "if __name__ == \"__main__\":\n",
    "    li = [2,4,7,11,1,10,19,13]\n",
    "    g = gnome_sort2(li)\n",
    "    print(g._sort())"
   ]
  },
  {
   "cell_type": "code",
   "execution_count": 50,
   "metadata": {},
   "outputs": [
    {
     "name": "stdout",
     "output_type": "stream",
     "text": [
      "[1, 8, 13, 4, 3, 5, 10, 9]\n"
     ]
    }
   ],
   "source": [
    "class gnome_sort3(object):\n",
    "    def __init__(self, g_list):\n",
    "        self.g_list = g_list\n",
    "        \n",
    "    def _sort(self):\n",
    "        length = len(self.g_list)\n",
    "        for i in range(length):\n",
    "            if i == 0 or self.g_list[i - 1] - self.g_list[i]:\n",
    "                pass\n",
    "            else:\n",
    "                self.g_list[i - 1], self.g_list[i] = self.g_list[i], self.g_list[i - 1]\n",
    "                i -= 1\n",
    "        return self.g_list\n",
    "    \n",
    "if __name__ == \"__main__\":\n",
    "    li = [1,8,13,4,3,5,10,9]\n",
    "    g = gnome_sort3(li)\n",
    "    print(g._sort())"
   ]
  },
  {
   "cell_type": "code",
   "execution_count": 2,
   "metadata": {},
   "outputs": [
    {
     "name": "stdout",
     "output_type": "stream",
     "text": [
      "[3, 4, 9, 10, 11, 14, 28, 43]\n"
     ]
    }
   ],
   "source": [
    "def gnome_sort4(seq):\n",
    "    i = 0\n",
    "    while i < len(seq):\n",
    "        if i == 0 or seq[i - 1] <= seq[i]:\n",
    "            i += 1\n",
    "        else:\n",
    "            seq[i], seq[i - 1] = seq[i - 1], seq[i]\n",
    "            i -= 1\n",
    "    return seq\n",
    "    \n",
    "if __name__ == \"__main__\":\n",
    "    seq = [11,3,28,43,9,4,10,14]\n",
    "    ss = gnome_sort4(seq)\n",
    "    print(ss)"
   ]
  },
  {
   "cell_type": "code",
   "execution_count": 16,
   "metadata": {},
   "outputs": [
    {
     "name": "stdout",
     "output_type": "stream",
     "text": [
      "[0, 1, 2, 3, 4]\n"
     ]
    }
   ],
   "source": [
    "class Count_sort(object):\n",
    "    def __init__(self, c_list):\n",
    "        self.c_list = c_list\n",
    "        \n",
    "    def _sort(self):\n",
    "        from collections import defaultdict\n",
    "        a = defaultdict(int)\n",
    "        b = []\n",
    "        c = set()\n",
    "        for i in self.c_list:\n",
    "            a[i] += 1\n",
    "        \n",
    "        for j in a.keys():\n",
    "            c.add(j)\n",
    "        \n",
    "        for k in c:\n",
    "            b.append(k)\n",
    "            \n",
    "            \n",
    "        return b\n",
    "    \n",
    "if __name__ == \"__main__\":\n",
    "    li = [4,0,0,1,2,2,3,3,3]\n",
    "    c = Count_sort(li)\n",
    "    print(c._sort())"
   ]
  },
  {
   "cell_type": "code",
   "execution_count": 18,
   "metadata": {},
   "outputs": [
    {
     "name": "stdout",
     "output_type": "stream",
     "text": [
      "[0, 1, 1, 2, 2, 3, 3, 3, 4, 5, 5, 5, 5, 6, 6, 8]\n"
     ]
    }
   ],
   "source": [
    "from collections import defaultdict\n",
    "def count_sort_dict(a):\n",
    "    b, c = [], defaultdict(list)\n",
    "    for x in a:\n",
    "        c[x].append(x)\n",
    "    for k in range(min(c), max(c) + 1):\n",
    "        b.extend(c[k])\n",
    "    return b\n",
    "if __name__ == \"__main__\":\n",
    "    seq = [3,5,2,6,8,1,0,3,5,6,2,5,4,1,5,3]\n",
    "    ss = count_sort_dict(seq)\n",
    "    print(ss)"
   ]
  },
  {
   "cell_type": "code",
   "execution_count": 21,
   "metadata": {},
   "outputs": [
    {
     "name": "stdout",
     "output_type": "stream",
     "text": [
      "[1, 2, 2, 3, 4, 4, 5, 6, 6, 7, 8]\n"
     ]
    }
   ],
   "source": [
    "# 로그 선형 정렬\n",
    "# sort(), sorted()\n",
    "# sort() : 원본 리스트를 정렬된 상태로 변환\n",
    "# sorted() : 원본의 변경없이 새로운 리스트를 반환한다.\n",
    "# 선택적 인수가 있어 다양하게 사용할 수 있습니다.\n",
    "# reversed, key=len(문자열 길이를 기준), 대소문자(key=str.lower)\n",
    "\n",
    "# 병합정렬(합병정렬)\n",
    "# 리스트를 반으로 나눕니다.\n",
    "# 정렬되지 않은 리스트를 만듭니다.\n",
    "# 정렬되지 않은 두 리스트의 크기가 1이 될 때까지\n",
    "# 계속 리스트를 반으로 나누어 병합 정렬 알고리즘을 호출해서 리스트를 정렬합니다.\n",
    "# 안정적이고, 대규모 데이터에서 속도도 빠릅니다.\n",
    "\n",
    "def merge(left, right):\n",
    "    # 아무것도 병합하지 않는다.\n",
    "    if not left or not right: return left or right\n",
    "    result = []\n",
    "    while left and right:\n",
    "        if left[-1] >= right[-1]:\n",
    "            result.append(left.pop())\n",
    "        else:\n",
    "            result.append(right.pop())\n",
    "    result.reverse()\n",
    "    return (left or right) + result\n",
    "\n",
    "if __name__ == \"__main__\":\n",
    "    l1 = [1,2,3,4,5,6,7]\n",
    "    l2 = [2,4,6,8]\n",
    "    print(merge(l1,l2))"
   ]
  },
  {
   "cell_type": "code",
   "execution_count": 30,
   "metadata": {},
   "outputs": [
    {
     "name": "stdout",
     "output_type": "stream",
     "text": [
      "[1, 5, 8, 10, 13, 15, 19, 2, 6, 14, 7, 4]\n"
     ]
    }
   ],
   "source": [
    "class merge_sort(object):\n",
    "    def __init__(self, m_list):\n",
    "        self.m_list = m_list\n",
    "        \n",
    "    def _sort(self):\n",
    "        length = len(self.m_list) // 2\n",
    "        result = []\n",
    "        while length > 1:\n",
    "            l1 = range(length)\n",
    "            l2 = range(length, self.m_list[-1])\n",
    "            result = self.m_list\n",
    "            for i in l1:\n",
    "                if self.m_list[i - 1] > self.m_list[i]:\n",
    "                    self.m_list[i - 1], self.m_list[i] = self.m_list[i], self.m_list[i - 1]\n",
    "                for j in l2:\n",
    "                    if self.m_list[j + 1] < self.m_list[j]:\n",
    "                        self.m_list[j], self.m_list[j + 1] = self.m_list[j + 1], self.m_list[j]\n",
    "            length = length // 2\n",
    "        return result\n",
    "    \n",
    "if __name__ == \"__main__\":\n",
    "    li = [4,8,1,13,10,15,19,2,6,14,7,5]\n",
    "    m = merge_sort(li)\n",
    "    print(m._sort())"
   ]
  },
  {
   "cell_type": "code",
   "execution_count": 32,
   "metadata": {},
   "outputs": [
    {
     "name": "stdout",
     "output_type": "stream",
     "text": [
      "[0, 1, 2, 3, 4, 5, 6, 7, 8, 9]\n"
     ]
    }
   ],
   "source": [
    "def merge_sort(seq):\n",
    "    if len(seq) < 2:\n",
    "        return seq\n",
    "    mid = len(seq) // 2\n",
    "    left, right = seq[:mid], seq[mid:]\n",
    "    if len(left) > 1:\n",
    "        left = merge_sort(left)\n",
    "    if len(right) > 1:\n",
    "        right = merge_sort(right)\n",
    "        \n",
    "    res = []\n",
    "    while left and right:\n",
    "        if left[-1] >= right[-1]:\n",
    "            res.append(left.pop())\n",
    "        else:\n",
    "            res.append(right.pop())\n",
    "    res.reverse()\n",
    "    return (left or right) + res\n",
    "\n",
    "if __name__ == \"__main__\":\n",
    "    l1 = [7,4,5,6,8,2,3,1,0,9]\n",
    "    print(merge_sort(l1))"
   ]
  },
  {
   "cell_type": "code",
   "execution_count": 56,
   "metadata": {},
   "outputs": [
    {
     "ename": "NameError",
     "evalue": "name 'res' is not defined",
     "output_type": "error",
     "traceback": [
      "\u001b[1;31m---------------------------------------------------------------------------\u001b[0m",
      "\u001b[1;31mNameError\u001b[0m                                 Traceback (most recent call last)",
      "\u001b[1;32m<ipython-input-56-6ccf1a806f84>\u001b[0m in \u001b[0;36m<module>\u001b[1;34m\u001b[0m\n\u001b[0;32m     21\u001b[0m \u001b[1;32mif\u001b[0m \u001b[0m__name__\u001b[0m \u001b[1;33m==\u001b[0m \u001b[1;34m\"__main__\"\u001b[0m\u001b[1;33m:\u001b[0m\u001b[1;33m\u001b[0m\u001b[1;33m\u001b[0m\u001b[0m\n\u001b[0;32m     22\u001b[0m     \u001b[0ml1\u001b[0m \u001b[1;33m=\u001b[0m \u001b[1;33m[\u001b[0m\u001b[1;36m8\u001b[0m\u001b[1;33m,\u001b[0m\u001b[1;36m4\u001b[0m\u001b[1;33m,\u001b[0m\u001b[1;36m6\u001b[0m\u001b[1;33m,\u001b[0m\u001b[1;36m5\u001b[0m\u001b[1;33m,\u001b[0m\u001b[1;36m1\u001b[0m\u001b[1;33m,\u001b[0m\u001b[1;36m3\u001b[0m\u001b[1;33m,\u001b[0m\u001b[1;36m7\u001b[0m\u001b[1;33m,\u001b[0m\u001b[1;36m2\u001b[0m\u001b[1;33m,\u001b[0m\u001b[1;36m0\u001b[0m\u001b[1;33m,\u001b[0m\u001b[1;36m9\u001b[0m\u001b[1;33m]\u001b[0m\u001b[1;33m\u001b[0m\u001b[1;33m\u001b[0m\u001b[0m\n\u001b[1;32m---> 23\u001b[1;33m     \u001b[0mprint\u001b[0m\u001b[1;33m(\u001b[0m\u001b[0mmerge_sort_3\u001b[0m\u001b[1;33m(\u001b[0m\u001b[0ml1\u001b[0m\u001b[1;33m)\u001b[0m\u001b[1;33m)\u001b[0m\u001b[1;33m\u001b[0m\u001b[1;33m\u001b[0m\u001b[0m\n\u001b[0m",
      "\u001b[1;32m<ipython-input-56-6ccf1a806f84>\u001b[0m in \u001b[0;36mmerge_sort_3\u001b[1;34m(seq)\u001b[0m\n\u001b[0;32m     16\u001b[0m \u001b[1;32mdef\u001b[0m \u001b[0mmerge_sort_3\u001b[0m\u001b[1;33m(\u001b[0m\u001b[0mseq\u001b[0m\u001b[1;33m)\u001b[0m\u001b[1;33m:\u001b[0m\u001b[1;33m\u001b[0m\u001b[1;33m\u001b[0m\u001b[0m\n\u001b[0;32m     17\u001b[0m     \u001b[0mres\u001b[0m \u001b[1;33m=\u001b[0m \u001b[1;33m[\u001b[0m\u001b[1;33m]\u001b[0m\u001b[1;33m\u001b[0m\u001b[1;33m\u001b[0m\u001b[0m\n\u001b[1;32m---> 18\u001b[1;33m     \u001b[0ma\u001b[0m \u001b[1;33m=\u001b[0m \u001b[0mmerge_sort_2\u001b[0m\u001b[1;33m(\u001b[0m\u001b[0mseq\u001b[0m\u001b[1;33m)\u001b[0m\u001b[1;33m\u001b[0m\u001b[1;33m\u001b[0m\u001b[0m\n\u001b[0m\u001b[0;32m     19\u001b[0m     \u001b[1;32mreturn\u001b[0m \u001b[0ma\u001b[0m\u001b[1;33m\u001b[0m\u001b[1;33m\u001b[0m\u001b[0m\n\u001b[0;32m     20\u001b[0m \u001b[1;33m\u001b[0m\u001b[0m\n",
      "\u001b[1;32m<ipython-input-56-6ccf1a806f84>\u001b[0m in \u001b[0;36mmerge_sort_2\u001b[1;34m(seq)\u001b[0m\n\u001b[0;32m      5\u001b[0m     \u001b[0mleft\u001b[0m\u001b[1;33m,\u001b[0m \u001b[0mright\u001b[0m \u001b[1;33m=\u001b[0m \u001b[0mseq\u001b[0m\u001b[1;33m[\u001b[0m\u001b[1;33m:\u001b[0m\u001b[0mmid\u001b[0m\u001b[1;33m]\u001b[0m\u001b[1;33m,\u001b[0m \u001b[0mseq\u001b[0m\u001b[1;33m[\u001b[0m\u001b[0mmid\u001b[0m\u001b[1;33m:\u001b[0m\u001b[1;33m]\u001b[0m\u001b[1;33m\u001b[0m\u001b[1;33m\u001b[0m\u001b[0m\n\u001b[0;32m      6\u001b[0m     \u001b[1;32mwhile\u001b[0m \u001b[0mleft\u001b[0m \u001b[1;32mand\u001b[0m \u001b[0mright\u001b[0m\u001b[1;33m:\u001b[0m\u001b[1;33m\u001b[0m\u001b[1;33m\u001b[0m\u001b[0m\n\u001b[1;32m----> 7\u001b[1;33m         \u001b[0mleft\u001b[0m \u001b[1;33m=\u001b[0m \u001b[0mmerge_sort_2\u001b[0m\u001b[1;33m(\u001b[0m\u001b[0mleft\u001b[0m\u001b[1;33m)\u001b[0m\u001b[1;33m\u001b[0m\u001b[1;33m\u001b[0m\u001b[0m\n\u001b[0m\u001b[0;32m      8\u001b[0m         \u001b[0mright\u001b[0m \u001b[1;33m=\u001b[0m \u001b[0mmerge_sort_2\u001b[0m\u001b[1;33m(\u001b[0m\u001b[0mright\u001b[0m\u001b[1;33m)\u001b[0m\u001b[1;33m\u001b[0m\u001b[1;33m\u001b[0m\u001b[0m\n\u001b[0;32m      9\u001b[0m \u001b[1;31m#         print(left, right, res)\u001b[0m\u001b[1;33m\u001b[0m\u001b[1;33m\u001b[0m\u001b[1;33m\u001b[0m\u001b[0m\n",
      "\u001b[1;32m<ipython-input-56-6ccf1a806f84>\u001b[0m in \u001b[0;36mmerge_sort_2\u001b[1;34m(seq)\u001b[0m\n\u001b[0;32m      5\u001b[0m     \u001b[0mleft\u001b[0m\u001b[1;33m,\u001b[0m \u001b[0mright\u001b[0m \u001b[1;33m=\u001b[0m \u001b[0mseq\u001b[0m\u001b[1;33m[\u001b[0m\u001b[1;33m:\u001b[0m\u001b[0mmid\u001b[0m\u001b[1;33m]\u001b[0m\u001b[1;33m,\u001b[0m \u001b[0mseq\u001b[0m\u001b[1;33m[\u001b[0m\u001b[0mmid\u001b[0m\u001b[1;33m:\u001b[0m\u001b[1;33m]\u001b[0m\u001b[1;33m\u001b[0m\u001b[1;33m\u001b[0m\u001b[0m\n\u001b[0;32m      6\u001b[0m     \u001b[1;32mwhile\u001b[0m \u001b[0mleft\u001b[0m \u001b[1;32mand\u001b[0m \u001b[0mright\u001b[0m\u001b[1;33m:\u001b[0m\u001b[1;33m\u001b[0m\u001b[1;33m\u001b[0m\u001b[0m\n\u001b[1;32m----> 7\u001b[1;33m         \u001b[0mleft\u001b[0m \u001b[1;33m=\u001b[0m \u001b[0mmerge_sort_2\u001b[0m\u001b[1;33m(\u001b[0m\u001b[0mleft\u001b[0m\u001b[1;33m)\u001b[0m\u001b[1;33m\u001b[0m\u001b[1;33m\u001b[0m\u001b[0m\n\u001b[0m\u001b[0;32m      8\u001b[0m         \u001b[0mright\u001b[0m \u001b[1;33m=\u001b[0m \u001b[0mmerge_sort_2\u001b[0m\u001b[1;33m(\u001b[0m\u001b[0mright\u001b[0m\u001b[1;33m)\u001b[0m\u001b[1;33m\u001b[0m\u001b[1;33m\u001b[0m\u001b[0m\n\u001b[0;32m      9\u001b[0m \u001b[1;31m#         print(left, right, res)\u001b[0m\u001b[1;33m\u001b[0m\u001b[1;33m\u001b[0m\u001b[1;33m\u001b[0m\u001b[0m\n",
      "\u001b[1;32m<ipython-input-56-6ccf1a806f84>\u001b[0m in \u001b[0;36mmerge_sort_2\u001b[1;34m(seq)\u001b[0m\n\u001b[0;32m      9\u001b[0m \u001b[1;31m#         print(left, right, res)\u001b[0m\u001b[1;33m\u001b[0m\u001b[1;33m\u001b[0m\u001b[1;33m\u001b[0m\u001b[0m\n\u001b[0;32m     10\u001b[0m         \u001b[1;32mif\u001b[0m \u001b[0mleft\u001b[0m\u001b[1;33m[\u001b[0m\u001b[1;33m-\u001b[0m\u001b[1;36m1\u001b[0m\u001b[1;33m]\u001b[0m \u001b[1;33m>\u001b[0m \u001b[0mright\u001b[0m\u001b[1;33m[\u001b[0m\u001b[1;33m-\u001b[0m\u001b[1;36m1\u001b[0m\u001b[1;33m]\u001b[0m\u001b[1;33m:\u001b[0m\u001b[1;33m\u001b[0m\u001b[1;33m\u001b[0m\u001b[0m\n\u001b[1;32m---> 11\u001b[1;33m             \u001b[0mres\u001b[0m\u001b[1;33m.\u001b[0m\u001b[0mappend\u001b[0m\u001b[1;33m(\u001b[0m\u001b[0mright\u001b[0m\u001b[1;33m.\u001b[0m\u001b[0mpop\u001b[0m\u001b[1;33m(\u001b[0m\u001b[1;33m)\u001b[0m\u001b[1;33m)\u001b[0m\u001b[1;33m\u001b[0m\u001b[1;33m\u001b[0m\u001b[0m\n\u001b[0m\u001b[0;32m     12\u001b[0m         \u001b[1;32melse\u001b[0m\u001b[1;33m:\u001b[0m\u001b[1;33m\u001b[0m\u001b[1;33m\u001b[0m\u001b[0m\n\u001b[0;32m     13\u001b[0m             \u001b[0mres\u001b[0m\u001b[1;33m.\u001b[0m\u001b[0mappend\u001b[0m\u001b[1;33m(\u001b[0m\u001b[0mleft\u001b[0m\u001b[1;33m.\u001b[0m\u001b[0mpop\u001b[0m\u001b[1;33m(\u001b[0m\u001b[1;33m)\u001b[0m\u001b[1;33m)\u001b[0m\u001b[1;33m\u001b[0m\u001b[1;33m\u001b[0m\u001b[0m\n",
      "\u001b[1;31mNameError\u001b[0m: name 'res' is not defined"
     ]
    }
   ],
   "source": [
    "def merge_sort_2(seq):\n",
    "    if len(seq) < 2:\n",
    "        return seq\n",
    "    mid = len(seq) // 2\n",
    "    left, right = seq[:mid], seq[mid:]\n",
    "    while left and right:\n",
    "        left = merge_sort_2(left)\n",
    "        right = merge_sort_2(right)\n",
    "#         print(left, right, res)\n",
    "        if left[-1] > right[-1]:\n",
    "            res.append(right.pop())\n",
    "        else:\n",
    "            res.append(left.pop())\n",
    "    return res\n",
    "\n",
    "def merge_sort_3(seq):\n",
    "    res = []\n",
    "    a = merge_sort_2(seq)\n",
    "    return a\n",
    "\n",
    "if __name__ == \"__main__\":\n",
    "    l1 = [8,4,6,5,1,3,7,2,0,9]\n",
    "    print(merge_sort_3(l1))"
   ]
  },
  {
   "cell_type": "code",
   "execution_count": 58,
   "metadata": {},
   "outputs": [
    {
     "ename": "AttributeError",
     "evalue": "'merge_sort' object has no attribute 'seq'",
     "output_type": "error",
     "traceback": [
      "\u001b[1;31m---------------------------------------------------------------------------\u001b[0m",
      "\u001b[1;31mAttributeError\u001b[0m                            Traceback (most recent call last)",
      "\u001b[1;32m<ipython-input-58-3bfc429c09db>\u001b[0m in \u001b[0;36m<module>\u001b[1;34m\u001b[0m\n\u001b[0;32m     21\u001b[0m     \u001b[0ml1\u001b[0m \u001b[1;33m=\u001b[0m \u001b[1;33m[\u001b[0m\u001b[1;36m9\u001b[0m\u001b[1;33m,\u001b[0m\u001b[1;36m4\u001b[0m\u001b[1;33m,\u001b[0m\u001b[1;36m5\u001b[0m\u001b[1;33m,\u001b[0m\u001b[1;36m3\u001b[0m\u001b[1;33m,\u001b[0m\u001b[1;36m1\u001b[0m\u001b[1;33m,\u001b[0m\u001b[1;36m2\u001b[0m\u001b[1;33m,\u001b[0m\u001b[1;36m6\u001b[0m\u001b[1;33m,\u001b[0m\u001b[1;36m7\u001b[0m\u001b[1;33m,\u001b[0m\u001b[1;36m8\u001b[0m\u001b[1;33m,\u001b[0m\u001b[1;36m0\u001b[0m\u001b[1;33m]\u001b[0m\u001b[1;33m\u001b[0m\u001b[1;33m\u001b[0m\u001b[0m\n\u001b[0;32m     22\u001b[0m     \u001b[0mm\u001b[0m \u001b[1;33m=\u001b[0m \u001b[0mmerge_sort\u001b[0m\u001b[1;33m(\u001b[0m\u001b[0ml1\u001b[0m\u001b[1;33m)\u001b[0m\u001b[1;33m\u001b[0m\u001b[1;33m\u001b[0m\u001b[0m\n\u001b[1;32m---> 23\u001b[1;33m     \u001b[0mprint\u001b[0m\u001b[1;33m(\u001b[0m\u001b[0mm\u001b[0m\u001b[1;33m.\u001b[0m\u001b[0m_sort\u001b[0m\u001b[1;33m(\u001b[0m\u001b[1;33m)\u001b[0m\u001b[1;33m)\u001b[0m\u001b[1;33m\u001b[0m\u001b[1;33m\u001b[0m\u001b[0m\n\u001b[0m",
      "\u001b[1;32m<ipython-input-58-3bfc429c09db>\u001b[0m in \u001b[0;36m_sort\u001b[1;34m(self)\u001b[0m\n\u001b[0;32m      5\u001b[0m \u001b[1;33m\u001b[0m\u001b[0m\n\u001b[0;32m      6\u001b[0m     \u001b[1;32mdef\u001b[0m \u001b[0m_sort\u001b[0m\u001b[1;33m(\u001b[0m\u001b[0mself\u001b[0m\u001b[1;33m)\u001b[0m\u001b[1;33m:\u001b[0m\u001b[1;33m\u001b[0m\u001b[1;33m\u001b[0m\u001b[0m\n\u001b[1;32m----> 7\u001b[1;33m         \u001b[1;32mif\u001b[0m \u001b[0mlen\u001b[0m\u001b[1;33m(\u001b[0m\u001b[0mself\u001b[0m\u001b[1;33m.\u001b[0m\u001b[0mseq\u001b[0m\u001b[1;33m)\u001b[0m \u001b[1;33m<\u001b[0m \u001b[1;36m2\u001b[0m\u001b[1;33m:\u001b[0m\u001b[1;33m\u001b[0m\u001b[1;33m\u001b[0m\u001b[0m\n\u001b[0m\u001b[0;32m      8\u001b[0m             \u001b[1;32mreturn\u001b[0m \u001b[0mself\u001b[0m\u001b[1;33m.\u001b[0m\u001b[0mseq\u001b[0m\u001b[1;33m\u001b[0m\u001b[1;33m\u001b[0m\u001b[0m\n\u001b[0;32m      9\u001b[0m         \u001b[0mmid\u001b[0m \u001b[1;33m=\u001b[0m \u001b[0mlen\u001b[0m\u001b[1;33m(\u001b[0m\u001b[0mself\u001b[0m\u001b[1;33m.\u001b[0m\u001b[0mseq\u001b[0m\u001b[1;33m)\u001b[0m \u001b[1;33m//\u001b[0m \u001b[1;36m2\u001b[0m\u001b[1;33m\u001b[0m\u001b[1;33m\u001b[0m\u001b[0m\n",
      "\u001b[1;31mAttributeError\u001b[0m: 'merge_sort' object has no attribute 'seq'"
     ]
    }
   ],
   "source": [
    "class merge_sort(object):\n",
    "    def __init__(self, m_list):\n",
    "        self.m_list = m_list\n",
    "        self.res = []\n",
    "        \n",
    "    def _sort(self):\n",
    "        if len(self.seq) < 2:\n",
    "            return self.seq\n",
    "        mid = len(self.seq) // 2\n",
    "        left, right = self.seq[:mid], self.seq[mid:]\n",
    "        while left and right:\n",
    "            left = merge_sort_2(left)\n",
    "            right = merge_sort_2(right)\n",
    "            if left[-1] > right[-1]:\n",
    "                self.res.append(right.pop())\n",
    "            else:\n",
    "                self.res.append(left.pop())\n",
    "        return self.res\n",
    "    \n",
    "if __name__ == \"__main__\":\n",
    "    l1 = [9,4,5,3,1,2,6,7,8,0]\n",
    "    m = merge_sort(l1)\n",
    "    print(m._sort())"
   ]
  },
  {
   "cell_type": "code",
   "execution_count": 60,
   "metadata": {},
   "outputs": [
    {
     "name": "stdout",
     "output_type": "stream",
     "text": [
      "[0, 1, 2, 3, 4, 5, 6, 7, 8, 9]\n"
     ]
    }
   ],
   "source": [
    "def merge_sort_seq(seq):\n",
    "    if len(seq) < 2:\n",
    "        return seq\n",
    "    mid = len(seq) // 2\n",
    "    left = merge_sort_seq(seq[:mid])\n",
    "    right = merge_sort_seq(seq[mid:])\n",
    "    return merge(left, right)\n",
    "if __name__ == \"__main__\":\n",
    "    l1 = [8,4,6,9,1,2,7,3,5,0]\n",
    "    print(merge_sort_seq(l1))"
   ]
  },
  {
   "cell_type": "code",
   "execution_count": 61,
   "metadata": {},
   "outputs": [
    {
     "name": "stderr",
     "output_type": "stream",
     "text": [
      "ERROR:root:Internal Python error in the inspect module.\n",
      "Below is the traceback from this internal error.\n",
      "\n"
     ]
    },
    {
     "name": "stdout",
     "output_type": "stream",
     "text": [
      "Traceback (most recent call last):\n",
      "  File \"C:\\anaconda\\lib\\site-packages\\IPython\\core\\interactiveshell.py\", line 3331, in run_code\n",
      "    exec(code_obj, self.user_global_ns, self.user_ns)\n",
      "  File \"<ipython-input-61-19f65502fe93>\", line 31, in <module>\n",
      "    print(quick_sort(l1))\n",
      "  File \"<ipython-input-61-19f65502fe93>\", line 18, in quick_sort\n",
      "    p = quick_sort(seq)\n",
      "  File \"<ipython-input-61-19f65502fe93>\", line 18, in quick_sort\n",
      "    p = quick_sort(seq)\n",
      "  File \"<ipython-input-61-19f65502fe93>\", line 18, in quick_sort\n",
      "    p = quick_sort(seq)\n",
      "  [Previous line repeated 2956 more times]\n",
      "  File \"<ipython-input-61-19f65502fe93>\", line 12, in quick_sort\n",
      "    for i in range(1,len(left)):\n",
      "RecursionError: maximum recursion depth exceeded in comparison\n",
      "\n",
      "During handling of the above exception, another exception occurred:\n",
      "\n",
      "Traceback (most recent call last):\n",
      "  File \"C:\\anaconda\\lib\\site-packages\\IPython\\core\\interactiveshell.py\", line 2044, in showtraceback\n",
      "    stb = value._render_traceback_()\n",
      "AttributeError: 'RecursionError' object has no attribute '_render_traceback_'\n",
      "\n",
      "During handling of the above exception, another exception occurred:\n",
      "\n",
      "Traceback (most recent call last):\n",
      "  File \"C:\\anaconda\\lib\\genericpath.py\", line 19, in exists\n",
      "    os.stat(path)\n",
      "OSError: [WinError 123] 파일 이름, 디렉터리 이름 또는 볼륨 레이블 구문이 잘못되었습니다: '<ipython-input-61-19f65502fe93>'\n",
      "\n",
      "During handling of the above exception, another exception occurred:\n",
      "\n",
      "Traceback (most recent call last):\n",
      "  File \"C:\\anaconda\\lib\\site-packages\\IPython\\core\\ultratb.py\", line 1151, in get_records\n",
      "    return _fixed_getinnerframes(etb, number_of_lines_of_context, tb_offset)\n",
      "  File \"C:\\anaconda\\lib\\site-packages\\IPython\\core\\ultratb.py\", line 319, in wrapped\n",
      "    return f(*args, **kwargs)\n",
      "  File \"C:\\anaconda\\lib\\site-packages\\IPython\\core\\ultratb.py\", line 353, in _fixed_getinnerframes\n",
      "    records = fix_frame_records_filenames(inspect.getinnerframes(etb, context))\n",
      "  File \"C:\\anaconda\\lib\\inspect.py\", line 1502, in getinnerframes\n",
      "    frameinfo = (tb.tb_frame,) + getframeinfo(tb, context)\n",
      "  File \"C:\\anaconda\\lib\\inspect.py\", line 1464, in getframeinfo\n",
      "    lines, lnum = findsource(frame)\n",
      "  File \"C:\\anaconda\\lib\\site-packages\\IPython\\core\\ultratb.py\", line 173, in findsource\n",
      "    file = getsourcefile(object) or getfile(object)\n",
      "  File \"C:\\anaconda\\lib\\inspect.py\", line 693, in getsourcefile\n",
      "    if os.path.exists(filename):\n",
      "  File \"C:\\anaconda\\lib\\genericpath.py\", line 19, in exists\n",
      "    os.stat(path)\n",
      "KeyboardInterrupt\n"
     ]
    },
    {
     "ename": "RecursionError",
     "evalue": "maximum recursion depth exceeded in comparison",
     "output_type": "error",
     "traceback": [
      "\u001b[1;31m---------------------------------------------------------------------------\u001b[0m"
     ]
    }
   ],
   "source": [
    "# 퀵정렬\n",
    "# 피봇 값을 잘 선택하는게 핵심이다.\n",
    "# 리스트에서 기준이 되는 하나의 요소가 피벗\n",
    "# 피벗 앞에는 피벗보다 더 작은 값이 오고\n",
    "# 피벗 뒤에는 피벗보다 더 큰 값이\n",
    "def quick_sort(seq):\n",
    "    if len(seq) < 2:\n",
    "        return seq\n",
    "    p = len(seq) // 2\n",
    "    left, right = seq[:p], seq[p:]\n",
    "    while p > 1:\n",
    "        for i in range(1,len(left)):\n",
    "            min_j = i\n",
    "            if left[min_j] > left[min_j]:\n",
    "                left[min_j - 1], left[min_j] = left[min_j], left[min_j - 1]\n",
    "                min_j -= 1\n",
    "        for j in range(1, len(right), -1):\n",
    "            min_i = j\n",
    "            if right[i] < right[i + 1]:\n",
    "                right[i], right[i + 1] = right[i + 1], right[i]\n",
    "        p = quick_sort(seq)\n",
    "    \n",
    "    res = []\n",
    "    while left and right:\n",
    "        if left[-1] > right[-1]:\n",
    "            res.append(right.pop())\n",
    "        else:\n",
    "            res.append(left.pop())\n",
    "            \n",
    "    return res\n",
    "\n",
    "if __name__ == \"__main__\":\n",
    "    l1 = [9,4,2,1,6,7,5,3,8,0]\n",
    "    print(quick_sort(l1))"
   ]
  },
  {
   "cell_type": "code",
   "execution_count": 70,
   "metadata": {},
   "outputs": [
    {
     "name": "stdout",
     "output_type": "stream",
     "text": [
      "5 [1, 2, 2, 3, 0, 3, 8, 6, 5, 6, 5]\n",
      "1 [0, 1, 2, 3, 2, 3, 8, 6, 5, 6, 5]\n",
      "3 [0, 1, 2, 2, 3, 3, 8, 6, 5, 6, 5]\n",
      "10 [0, 1, 2, 2, 3, 3, 5, 6, 5, 6, 8]\n",
      "7 [0, 1, 2, 2, 3, 3, 5, 5, 6, 6, 8]\n",
      "9 [0, 1, 2, 2, 3, 3, 5, 5, 6, 6, 8]\n"
     ]
    }
   ],
   "source": [
    "def quick_sort(seq, start, end):\n",
    "    if start < end:\n",
    "        pivot = partition(seq, start, end) # partition 함수\n",
    "        quick_sort(seq, start, pivot - 1)\n",
    "        quick_sort(seq, pivot + 1, end)\n",
    "    return seq\n",
    "\n",
    "def partition(seq, start, end):\n",
    "    pivot = seq[start]\n",
    "    left = start + 1\n",
    "    right = end\n",
    "    done = False\n",
    "    while not done:\n",
    "        while left <= right and seq[left] <= pivot:\n",
    "            left += 1\n",
    "        while left <= right and pivot < seq[right]:\n",
    "            right -= 1\n",
    "        if right < left:\n",
    "            done = True\n",
    "        else:\n",
    "            seq[left], seq[right] = seq[right], seq[left]\n",
    "    seq[start], seq[right] = seq[right], seq[start]\n",
    "    print(right, seq)\n",
    "    return right\n",
    "\n",
    "if __name__ == \"__main__\":\n",
    "    seq = [3,5,2,6,8,1,0,3,5,6,2]\n",
    "    quick_sort(seq, 0, len(seq)-1)"
   ]
  },
  {
   "cell_type": "code",
   "execution_count": 81,
   "metadata": {},
   "outputs": [
    {
     "ename": "IndexError",
     "evalue": "tuple index out of range",
     "output_type": "error",
     "traceback": [
      "\u001b[1;31m---------------------------------------------------------------------------\u001b[0m",
      "\u001b[1;31mIndexError\u001b[0m                                Traceback (most recent call last)",
      "\u001b[1;32m<ipython-input-81-5e36583f11f8>\u001b[0m in \u001b[0;36m<module>\u001b[1;34m\u001b[0m\n\u001b[0;32m     21\u001b[0m \u001b[1;32mif\u001b[0m \u001b[0m__name__\u001b[0m \u001b[1;33m==\u001b[0m \u001b[1;34m\"__main__\"\u001b[0m\u001b[1;33m:\u001b[0m\u001b[1;33m\u001b[0m\u001b[1;33m\u001b[0m\u001b[0m\n\u001b[0;32m     22\u001b[0m     \u001b[0mli\u001b[0m \u001b[1;33m=\u001b[0m \u001b[1;33m[\u001b[0m\u001b[1;36m3\u001b[0m\u001b[1;33m,\u001b[0m\u001b[1;36m5\u001b[0m\u001b[1;33m,\u001b[0m\u001b[1;36m2\u001b[0m\u001b[1;33m,\u001b[0m\u001b[1;36m6\u001b[0m\u001b[1;33m,\u001b[0m\u001b[1;36m8\u001b[0m\u001b[1;33m,\u001b[0m\u001b[1;36m1\u001b[0m\u001b[1;33m,\u001b[0m\u001b[1;36m0\u001b[0m\u001b[1;33m,\u001b[0m\u001b[1;36m3\u001b[0m\u001b[1;33m,\u001b[0m\u001b[1;36m5\u001b[0m\u001b[1;33m,\u001b[0m\u001b[1;36m6\u001b[0m\u001b[1;33m,\u001b[0m\u001b[1;36m2\u001b[0m\u001b[1;33m]\u001b[0m\u001b[1;33m\u001b[0m\u001b[1;33m\u001b[0m\u001b[0m\n\u001b[1;32m---> 23\u001b[1;33m     \u001b[0mquick_sort\u001b[0m\u001b[1;33m(\u001b[0m\u001b[0mli\u001b[0m\u001b[1;33m)\u001b[0m\u001b[1;33m\u001b[0m\u001b[1;33m\u001b[0m\u001b[0m\n\u001b[0m",
      "\u001b[1;32m<ipython-input-81-5e36583f11f8>\u001b[0m in \u001b[0;36mquick_sort\u001b[1;34m(seq)\u001b[0m\n\u001b[0;32m     17\u001b[0m     \u001b[0mleft\u001b[0m \u001b[1;33m=\u001b[0m \u001b[0mpartition\u001b[0m\u001b[1;33m(\u001b[0m\u001b[0mseq\u001b[0m\u001b[1;33m)\u001b[0m\u001b[1;33m\u001b[0m\u001b[1;33m\u001b[0m\u001b[0m\n\u001b[0;32m     18\u001b[0m     \u001b[0mright\u001b[0m \u001b[1;33m=\u001b[0m \u001b[0mpartition\u001b[0m\u001b[1;33m(\u001b[0m\u001b[0mseq\u001b[0m\u001b[1;33m)\u001b[0m\u001b[1;33m\u001b[0m\u001b[1;33m\u001b[0m\u001b[0m\n\u001b[1;32m---> 19\u001b[1;33m     \u001b[1;32mreturn\u001b[0m \u001b[0mquick_sort\u001b[0m\u001b[1;33m(\u001b[0m\u001b[0mleft\u001b[0m\u001b[1;33m)\u001b[0m \u001b[1;33m+\u001b[0m \u001b[1;33m[\u001b[0m\u001b[0mpivot\u001b[0m\u001b[1;33m]\u001b[0m \u001b[1;33m+\u001b[0m \u001b[0mquick_sort\u001b[0m\u001b[1;33m(\u001b[0m\u001b[0mright\u001b[0m\u001b[1;33m)\u001b[0m\u001b[1;33m\u001b[0m\u001b[1;33m\u001b[0m\u001b[0m\n\u001b[0m\u001b[0;32m     20\u001b[0m \u001b[1;33m\u001b[0m\u001b[0m\n\u001b[0;32m     21\u001b[0m \u001b[1;32mif\u001b[0m \u001b[0m__name__\u001b[0m \u001b[1;33m==\u001b[0m \u001b[1;34m\"__main__\"\u001b[0m\u001b[1;33m:\u001b[0m\u001b[1;33m\u001b[0m\u001b[1;33m\u001b[0m\u001b[0m\n",
      "\u001b[1;32m<ipython-input-81-5e36583f11f8>\u001b[0m in \u001b[0;36mquick_sort\u001b[1;34m(seq)\u001b[0m\n\u001b[0;32m     14\u001b[0m     \u001b[1;32mif\u001b[0m \u001b[0mlen\u001b[0m\u001b[1;33m(\u001b[0m\u001b[0mseq\u001b[0m\u001b[1;33m)\u001b[0m \u001b[1;33m<\u001b[0m \u001b[1;36m2\u001b[0m\u001b[1;33m:\u001b[0m\u001b[1;33m\u001b[0m\u001b[1;33m\u001b[0m\u001b[0m\n\u001b[0;32m     15\u001b[0m         \u001b[1;32mreturn\u001b[0m \u001b[0mseq\u001b[0m\u001b[1;33m\u001b[0m\u001b[1;33m\u001b[0m\u001b[0m\n\u001b[1;32m---> 16\u001b[1;33m     \u001b[0mpivot\u001b[0m \u001b[1;33m=\u001b[0m \u001b[0mpartition\u001b[0m\u001b[1;33m(\u001b[0m\u001b[0mseq\u001b[0m\u001b[1;33m)\u001b[0m\u001b[1;33m\u001b[0m\u001b[1;33m\u001b[0m\u001b[0m\n\u001b[0m\u001b[0;32m     17\u001b[0m     \u001b[0mleft\u001b[0m \u001b[1;33m=\u001b[0m \u001b[0mpartition\u001b[0m\u001b[1;33m(\u001b[0m\u001b[0mseq\u001b[0m\u001b[1;33m)\u001b[0m\u001b[1;33m\u001b[0m\u001b[1;33m\u001b[0m\u001b[0m\n\u001b[0;32m     18\u001b[0m     \u001b[0mright\u001b[0m \u001b[1;33m=\u001b[0m \u001b[0mpartition\u001b[0m\u001b[1;33m(\u001b[0m\u001b[0mseq\u001b[0m\u001b[1;33m)\u001b[0m\u001b[1;33m\u001b[0m\u001b[1;33m\u001b[0m\u001b[0m\n",
      "\u001b[1;32m<ipython-input-81-5e36583f11f8>\u001b[0m in \u001b[0;36mpartition\u001b[1;34m(seq)\u001b[0m\n\u001b[0;32m      5\u001b[0m     \u001b[0mright\u001b[0m \u001b[1;33m=\u001b[0m \u001b[1;33m[\u001b[0m\u001b[1;33m]\u001b[0m\u001b[1;33m\u001b[0m\u001b[1;33m\u001b[0m\u001b[0m\n\u001b[0;32m      6\u001b[0m     \u001b[1;32mfor\u001b[0m \u001b[0mi\u001b[0m \u001b[1;32min\u001b[0m \u001b[0mseq\u001b[0m\u001b[1;33m:\u001b[0m\u001b[1;33m\u001b[0m\u001b[1;33m\u001b[0m\u001b[0m\n\u001b[1;32m----> 7\u001b[1;33m         \u001b[1;32mif\u001b[0m \u001b[0mseq\u001b[0m\u001b[1;33m[\u001b[0m\u001b[0mi\u001b[0m\u001b[1;33m]\u001b[0m \u001b[1;33m<=\u001b[0m \u001b[0mpivot\u001b[0m\u001b[1;33m:\u001b[0m\u001b[1;33m\u001b[0m\u001b[1;33m\u001b[0m\u001b[0m\n\u001b[0m\u001b[0;32m      8\u001b[0m             \u001b[0mleft\u001b[0m\u001b[1;33m.\u001b[0m\u001b[0mappend\u001b[0m\u001b[1;33m(\u001b[0m\u001b[0mseq\u001b[0m\u001b[1;33m[\u001b[0m\u001b[0mi\u001b[0m\u001b[1;33m]\u001b[0m\u001b[1;33m)\u001b[0m\u001b[1;33m\u001b[0m\u001b[1;33m\u001b[0m\u001b[0m\n\u001b[0;32m      9\u001b[0m         \u001b[1;32melse\u001b[0m\u001b[1;33m:\u001b[0m\u001b[1;33m\u001b[0m\u001b[1;33m\u001b[0m\u001b[0m\n",
      "\u001b[1;31mIndexError\u001b[0m: tuple index out of range"
     ]
    }
   ],
   "source": [
    "# quick sort 2\n",
    "def partition(seq):\n",
    "    pivot = seq[0]\n",
    "    seq = seq[1:]\n",
    "    left = []\n",
    "    right = []\n",
    "    for i in seq:\n",
    "        if seq[i] <= pivot:\n",
    "            left.append(seq[i])\n",
    "        else:\n",
    "            right.append(seq[i])\n",
    "    return left, pivot, right\n",
    "            \n",
    "def quick_sort(seq):\n",
    "    if len(seq) < 2:\n",
    "        return seq\n",
    "    pivot = partition(seq)\n",
    "    left = partition(seq)\n",
    "    right = partition(seq)\n",
    "    return quick_sort(left) + [pivot] + quick_sort(right)\n",
    "    \n",
    "if __name__ == \"__main__\":\n",
    "    li = [3,5,2,6,8,1,0,3,5,6,2]\n",
    "    quick_sort(li)"
   ]
  },
  {
   "cell_type": "code",
   "execution_count": 82,
   "metadata": {},
   "outputs": [],
   "source": [
    "# quick sort 2 answer\n",
    "def quick_sort_cache(seq):\n",
    "    if len(seq) < 2:\n",
    "        return seq\n",
    "    ipivot = len(seq) // 2\n",
    "    pivot = seq[ipivot]\n",
    "    \n",
    "    before = [x for i, x in enumerate(seq) if x <= pivot and i != ipivot]\n",
    "    after = [x for i, x in enumerate(seq) if x > pivot and i != ipivot]\n",
    "    return quick_sort_cache(before) + [pivot] + quick_sort_cache(after)\n",
    "\n",
    "if __name__ == \"__main__\":\n",
    "    seq = [3,5,2,6,8,1,0,3,5,6,2]\n",
    "    quick_sort_cache(seq)"
   ]
  },
  {
   "cell_type": "code",
   "execution_count": 86,
   "metadata": {},
   "outputs": [
    {
     "name": "stdout",
     "output_type": "stream",
     "text": [
      "[2, 3, 3, 4, 4, 5, 5, 6, 6, 9, 10]\n",
      "성공!\n"
     ]
    }
   ],
   "source": [
    "# 힙정렬\n",
    "import heapq\n",
    "def heap_sort(seq):\n",
    "    h = []\n",
    "    for value in seq:\n",
    "        heapq.heappush(h, value)\n",
    "    return [heapq.heappop(h) for i in range(len(h))]\n",
    "\n",
    "if __name__ == \"__main__\":\n",
    "    seq = [3,6,5,4,2,10,4,3,5,6,9]\n",
    "    h = heap_sort(seq)\n",
    "    assert(h == sorted(seq))\n",
    "    print(sorted(seq))\n",
    "    print('성공!')"
   ]
  },
  {
   "cell_type": "code",
   "execution_count": 89,
   "metadata": {},
   "outputs": [
    {
     "data": {
      "text/plain": [
       "['__about__',\n",
       " '__all__',\n",
       " '__builtins__',\n",
       " '__cached__',\n",
       " '__doc__',\n",
       " '__file__',\n",
       " '__loader__',\n",
       " '__name__',\n",
       " '__package__',\n",
       " '__spec__',\n",
       " '_heapify_max',\n",
       " '_heappop_max',\n",
       " '_heapreplace_max',\n",
       " '_siftdown',\n",
       " '_siftdown_max',\n",
       " '_siftup',\n",
       " '_siftup_max',\n",
       " 'heapify',\n",
       " 'heappop',\n",
       " 'heappush',\n",
       " 'heappushpop',\n",
       " 'heapreplace',\n",
       " 'merge',\n",
       " 'nlargest',\n",
       " 'nsmallest']"
      ]
     },
     "execution_count": 89,
     "metadata": {},
     "output_type": "execute_result"
    }
   ],
   "source": [
    "import heapq\n",
    "dir(heapq)"
   ]
  },
  {
   "cell_type": "code",
   "execution_count": 91,
   "metadata": {},
   "outputs": [
    {
     "name": "stdout",
     "output_type": "stream",
     "text": [
      "[1, 2, 3, 4, 5, 6, 7, 8, 9]\n"
     ]
    }
   ],
   "source": [
    "import heapq\n",
    "def heap_sort_2(seq):\n",
    "    res = []\n",
    "    length = len(seq) - 1\n",
    "    for i in range(length):\n",
    "        min_j = i\n",
    "        for j in range(i + 1, length + 1):\n",
    "            if seq[min_j] > seq[j]:\n",
    "                min_j = j\n",
    "        seq[i], seq[min_j] = seq[min_j], seq[i]\n",
    "    for k in seq:\n",
    "        res.append(k)\n",
    "    return res\n",
    "\n",
    "if __name__ == \"__main__\":\n",
    "    li = [4,1,6,9,5,8,2,3,7]\n",
    "    h = heap_sort_2(li)\n",
    "    print(h)"
   ]
  },
  {
   "cell_type": "code",
   "execution_count": 109,
   "metadata": {},
   "outputs": [
    {
     "name": "stdout",
     "output_type": "stream",
     "text": [
      "[0, 1, 2, 3, 4, 5, 6, 7, 8, 9]\n"
     ]
    }
   ],
   "source": [
    "import heapq\n",
    "def heap_sort_3(seq):\n",
    "    heapq._heapify_max(seq)\n",
    "    res = []\n",
    "    for i in seq:\n",
    "        res.append(i)\n",
    "    return res\n",
    "\n",
    "def heap_sort_4(seq):\n",
    "    seq = heap_sort_3(seq)\n",
    "    length = len(seq) - 1\n",
    "    for i in range(length):\n",
    "        min_j = i\n",
    "        for j in range(i + 1, length + 1):\n",
    "            if seq[min_j] > seq[j]:\n",
    "                min_j = j\n",
    "        seq[i], seq[min_j] = seq[min_j], seq[i]\n",
    "    return seq\n",
    "\n",
    "if __name__ == \"__main__\":\n",
    "    li = [8,1,9,5,6,2,7,3,4,0]\n",
    "    h = heap_sort_4(li)\n",
    "    print(h)"
   ]
  },
  {
   "cell_type": "code",
   "execution_count": 110,
   "metadata": {},
   "outputs": [],
   "source": [
    "def heap_sort_5(seq):\n",
    "    s = list(seq)\n",
    "    heap = Heap(s)\n",
    "    res = []\n",
    "    for _ in range(len(s)):\n",
    "        res.insert(0, heap.extract_max())\n",
    "    return res"
   ]
  },
  {
   "cell_type": "code",
   "execution_count": 113,
   "metadata": {},
   "outputs": [
    {
     "ename": "AttributeError",
     "evalue": "'list' object has no attribute 'h_list'",
     "output_type": "error",
     "traceback": [
      "\u001b[1;31m---------------------------------------------------------------------------\u001b[0m",
      "\u001b[1;31mAttributeError\u001b[0m                            Traceback (most recent call last)",
      "\u001b[1;32m<ipython-input-113-c03767bd0b38>\u001b[0m in \u001b[0;36m<module>\u001b[1;34m\u001b[0m\n\u001b[0;32m     50\u001b[0m     \u001b[0mli\u001b[0m \u001b[1;33m=\u001b[0m \u001b[1;33m[\u001b[0m\u001b[1;36m7\u001b[0m\u001b[1;33m,\u001b[0m\u001b[1;36m6\u001b[0m\u001b[1;33m,\u001b[0m\u001b[1;36m1\u001b[0m\u001b[1;33m,\u001b[0m\u001b[1;36m9\u001b[0m\u001b[1;33m,\u001b[0m\u001b[1;36m8\u001b[0m\u001b[1;33m,\u001b[0m\u001b[1;36m0\u001b[0m\u001b[1;33m,\u001b[0m\u001b[1;36m3\u001b[0m\u001b[1;33m,\u001b[0m\u001b[1;36m5\u001b[0m\u001b[1;33m,\u001b[0m\u001b[1;36m4\u001b[0m\u001b[1;33m,\u001b[0m\u001b[1;36m2\u001b[0m\u001b[1;33m]\u001b[0m\u001b[1;33m\u001b[0m\u001b[1;33m\u001b[0m\u001b[0m\n\u001b[0;32m     51\u001b[0m     \u001b[0mh\u001b[0m \u001b[1;33m=\u001b[0m \u001b[0mHeap\u001b[0m\u001b[1;33m(\u001b[0m\u001b[0mli\u001b[0m\u001b[1;33m)\u001b[0m\u001b[1;33m\u001b[0m\u001b[1;33m\u001b[0m\u001b[0m\n\u001b[1;32m---> 52\u001b[1;33m     \u001b[0mprint\u001b[0m\u001b[1;33m(\u001b[0m\u001b[0mh\u001b[0m\u001b[1;33m.\u001b[0m\u001b[0mheap_sort\u001b[0m\u001b[1;33m(\u001b[0m\u001b[1;33m)\u001b[0m\u001b[1;33m)\u001b[0m\u001b[1;33m\u001b[0m\u001b[1;33m\u001b[0m\u001b[0m\n\u001b[0m",
      "\u001b[1;32m<ipython-input-113-c03767bd0b38>\u001b[0m in \u001b[0;36mheap_sort\u001b[1;34m(self)\u001b[0m\n\u001b[0;32m     38\u001b[0m \u001b[1;33m\u001b[0m\u001b[0m\n\u001b[0;32m     39\u001b[0m     \u001b[1;32mdef\u001b[0m \u001b[0mheap_sort\u001b[0m\u001b[1;33m(\u001b[0m\u001b[0mself\u001b[0m\u001b[1;33m)\u001b[0m\u001b[1;33m:\u001b[0m\u001b[1;33m\u001b[0m\u001b[1;33m\u001b[0m\u001b[0m\n\u001b[1;32m---> 40\u001b[1;33m         \u001b[0mlength\u001b[0m \u001b[1;33m=\u001b[0m \u001b[0mlen\u001b[0m\u001b[1;33m(\u001b[0m\u001b[0mHeap\u001b[0m\u001b[1;33m.\u001b[0m\u001b[0mheap_max\u001b[0m\u001b[1;33m(\u001b[0m\u001b[0mself\u001b[0m\u001b[1;33m.\u001b[0m\u001b[0mh_list\u001b[0m\u001b[1;33m)\u001b[0m\u001b[1;33m)\u001b[0m \u001b[1;33m-\u001b[0m \u001b[1;36m1\u001b[0m\u001b[1;33m\u001b[0m\u001b[1;33m\u001b[0m\u001b[0m\n\u001b[0m\u001b[0;32m     41\u001b[0m         \u001b[1;32mfor\u001b[0m \u001b[0mi\u001b[0m \u001b[1;32min\u001b[0m \u001b[0mrange\u001b[0m\u001b[1;33m(\u001b[0m\u001b[0mlength\u001b[0m\u001b[1;33m)\u001b[0m\u001b[1;33m:\u001b[0m\u001b[1;33m\u001b[0m\u001b[1;33m\u001b[0m\u001b[0m\n\u001b[0;32m     42\u001b[0m             \u001b[0mmin_j\u001b[0m \u001b[1;33m=\u001b[0m \u001b[0mi\u001b[0m\u001b[1;33m\u001b[0m\u001b[1;33m\u001b[0m\u001b[0m\n",
      "\u001b[1;32m<ipython-input-113-c03767bd0b38>\u001b[0m in \u001b[0;36mheap_max\u001b[1;34m(self)\u001b[0m\n\u001b[0;32m     28\u001b[0m \u001b[1;33m\u001b[0m\u001b[0m\n\u001b[0;32m     29\u001b[0m     \u001b[1;32mdef\u001b[0m \u001b[0mheap_max\u001b[0m\u001b[1;33m(\u001b[0m\u001b[0mself\u001b[0m\u001b[1;33m)\u001b[0m\u001b[1;33m:\u001b[0m\u001b[1;33m\u001b[0m\u001b[1;33m\u001b[0m\u001b[0m\n\u001b[1;32m---> 30\u001b[1;33m         \u001b[1;32mfor\u001b[0m \u001b[0mi\u001b[0m \u001b[1;32min\u001b[0m \u001b[0mself\u001b[0m\u001b[1;33m.\u001b[0m\u001b[0mh_list\u001b[0m\u001b[1;33m:\u001b[0m\u001b[1;33m\u001b[0m\u001b[1;33m\u001b[0m\u001b[0m\n\u001b[0m\u001b[0;32m     31\u001b[0m             \u001b[1;32mfor\u001b[0m \u001b[0mj\u001b[0m \u001b[1;32min\u001b[0m \u001b[0mself\u001b[0m\u001b[1;33m.\u001b[0m\u001b[0mleft\u001b[0m\u001b[1;33m:\u001b[0m\u001b[1;33m\u001b[0m\u001b[1;33m\u001b[0m\u001b[0m\n\u001b[0;32m     32\u001b[0m                 \u001b[1;32mif\u001b[0m \u001b[0mself\u001b[0m\u001b[1;33m.\u001b[0m\u001b[0mh_list\u001b[0m\u001b[1;33m[\u001b[0m\u001b[0mi\u001b[0m\u001b[1;33m]\u001b[0m \u001b[1;33m<\u001b[0m \u001b[0mself\u001b[0m\u001b[1;33m.\u001b[0m\u001b[0mleft_child\u001b[0m\u001b[1;33m(\u001b[0m\u001b[0mj\u001b[0m\u001b[1;33m)\u001b[0m\u001b[1;33m:\u001b[0m\u001b[1;33m\u001b[0m\u001b[1;33m\u001b[0m\u001b[0m\n",
      "\u001b[1;31mAttributeError\u001b[0m: 'list' object has no attribute 'h_list'"
     ]
    }
   ],
   "source": [
    "class Heap(object):\n",
    "    def __init__(self, h_list):\n",
    "        self.h_list = h_list\n",
    "        self.mid = len(self.h_list) // 2\n",
    "        self.left = self.h_list[:self.mid]\n",
    "        self.right = self.h_list[self.mid:]\n",
    "        \n",
    "    def __repr__(self):\n",
    "        return self.h_list\n",
    "        \n",
    "    def left_child(self):\n",
    "        child = []\n",
    "        for c in self.mid:\n",
    "            if self.mid // 2 == 0:\n",
    "                child.append(c)\n",
    "        for i in child:\n",
    "            self.left.append(self.h_list[i])\n",
    "        return self.left\n",
    "        \n",
    "    def right_child(self, n):\n",
    "        child = []\n",
    "        for c in self.mid:\n",
    "            if self.mid // 2 == 1:\n",
    "                child.append(c)\n",
    "        for i in child:\n",
    "            self.right.append(self.h_list[i])\n",
    "        return self.right\n",
    "        \n",
    "    def heap_max(self):\n",
    "        for i in self.h_list:\n",
    "            for j in self.left:\n",
    "                if self.h_list[i] < self.left_child(j):\n",
    "                    self.h_list[i], self.left_child[j] = self.left_child[j], self.h_list[i]\n",
    "            for k in self.right:\n",
    "                if self.h_list[i] < self.right(j):\n",
    "                    self.h_list[i], self.right_child[j] = self.right_child[j], self.h_list[i]\n",
    "        return self.h_list\n",
    "    \n",
    "    def heap_sort(self):\n",
    "        length = len(Heap.heap_max(self.h_list)) - 1\n",
    "        for i in range(length):\n",
    "            min_j = i\n",
    "            for j in range(i + 1, length + 1):\n",
    "                if self.h_list[min_j] > self.h_list[j]:\n",
    "                    min_j = j\n",
    "            self.h_list[i], self.h_list[min_j] = self.h_list[min_j], self.h_list[i]\n",
    "        return self.h_list\n",
    "                \n",
    "if __name__ == \"__main__\":\n",
    "    li = [7,6,1,9,8,0,3,5,4,2]\n",
    "    h = Heap(li)\n",
    "    print(h.heap_sort())"
   ]
  },
  {
   "cell_type": "code",
   "execution_count": null,
   "metadata": {},
   "outputs": [],
   "source": []
  }
 ],
 "metadata": {
  "kernelspec": {
   "display_name": "Python 3",
   "language": "python",
   "name": "python3"
  },
  "language_info": {
   "codemirror_mode": {
    "name": "ipython",
    "version": 3
   },
   "file_extension": ".py",
   "mimetype": "text/x-python",
   "name": "python",
   "nbconvert_exporter": "python",
   "pygments_lexer": "ipython3",
   "version": "3.7.6"
  }
 },
 "nbformat": 4,
 "nbformat_minor": 4
}
