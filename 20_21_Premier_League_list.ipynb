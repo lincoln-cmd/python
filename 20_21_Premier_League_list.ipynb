{
 "cells": [
  {
   "cell_type": "code",
   "execution_count": 28,
   "metadata": {
    "scrolled": false
   },
   "outputs": [
    {
     "name": "stdout",
     "output_type": "stream",
     "text": [
      "<Response [200]>\n",
      "[<span>10</span>, <span>9</span>, <span>8</span>, <span>8</span>, <span>7</span>, <span>7</span>, <span>6</span>, <span>6</span>, <span>6</span>, <span>5</span>, <span>5</span>, <span>4</span>, <span>4</span>, <span>4</span>, <span>4</span>, <span>4</span>, <span>4</span>, <span>3</span>, <span>3</span>, <span>3</span>]\n",
      "[<span class=\"name\">도미닉 칼버트 르윈</span>, <span class=\"name\">손흥민</span>, <span class=\"name\">모하메드 살라</span>, <span class=\"name\">제이미 바디</span>, <span class=\"name\">패트릭 뱀포드</span>, <span class=\"name\">해리 케인</span>, <span class=\"name\">브루노 페르난데스</span>, <span class=\"name\">올리 왓킨스</span>, <span class=\"name\">칼럼 윌슨</span>, <span class=\"name\">대니 잉스</span>, <span class=\"name\">윌프레드 자하</span>, <span class=\"name\">닐 무파이</span>, <span class=\"name\">디오고 조타</span>, <span class=\"name\">라울 히메네즈</span>, <span class=\"name\">사디오 마네</span>, <span class=\"name\">잭 그릴리쉬</span>, <span class=\"name\">티모 베르너</span>, <span class=\"name\">미카일 안토니오</span>, <span class=\"name\">보비 레이드</span>, <span class=\"name\">알렉상드르 라카제트</span>]\n"
     ]
    }
   ],
   "source": [
    "import requests\n",
    "from bs4 import BeautifulSoup\n",
    "\n",
    "res = requests.get('https://sports.news.naver.com/wfootball/record/index.nhn?category=epl&league=100&tab=player')\n",
    "print(res)\n",
    "\n",
    "soup = BeautifulSoup(res.content, 'html.parser')\n",
    "# print(soup)\n",
    "data = soup.select('div#wrap > div#container > div#content > div#wfootballPlayerRecordBody.record_tbl.double_line > table > tbody > tr > td.selected > div.inner > span')\n",
    "data2 = soup.select('div#wrap > div#container > div#content > div#wfootballPlayerRecordBody.record_tbl.double_line > table > tbody > tr > td.align_l > div.inner > span.name')\n",
    "print(data)\n",
    "print(data2)"
   ]
  },
  {
   "cell_type": "code",
   "execution_count": 32,
   "metadata": {},
   "outputs": [
    {
     "name": "stdout",
     "output_type": "stream",
     "text": [
      "[10, 9, 8, 8, 7, 7, 6, 6, 6, 5, 5, 4, 4, 4, 4, 4, 4, 3, 3, 3]\n",
      "['도미닉 칼버트 르윈', '손흥민', '모하메드 살라', '제이미 바디', '패트릭 뱀포드', '해리 케인', '브루노 페르난데스', '올리 왓킨스', '칼럼 윌슨', '대니 잉스', '윌프레드 자하', '닐 무파이', '디오고 조타', '라울 히메네즈', '사디오 마네', '잭 그릴리쉬', '티모 베르너', '미카일 안토니오', '보비 레이드', '알렉상드르 라카제트']\n"
     ]
    }
   ],
   "source": [
    "li = []\n",
    "li2 = []\n",
    "for i in data:\n",
    "    a = i.get_text()\n",
    "    li.append(int(a))\n",
    "print(li)\n",
    "for j in data2:\n",
    "    b = j.get_text()\n",
    "    li2.append(b)\n",
    "print(li2)"
   ]
  },
  {
   "cell_type": "code",
   "execution_count": 41,
   "metadata": {
    "scrolled": true
   },
   "outputs": [
    {
     "name": "stdout",
     "output_type": "stream",
     "text": [
      "1위. 도미닉 칼버트 르윈 : 10득점\n",
      "2위. 손흥민 : 9득점\n",
      "3위. 모하메드 살라 : 8득점\n",
      "4위. 제이미 바디 : 8득점\n",
      "5위. 패트릭 뱀포드 : 7득점\n",
      "6위. 해리 케인 : 7득점\n",
      "7위. 브루노 페르난데스 : 6득점\n",
      "8위. 올리 왓킨스 : 6득점\n",
      "9위. 칼럼 윌슨 : 6득점\n",
      "10위. 대니 잉스 : 5득점\n",
      "11위. 윌프레드 자하 : 5득점\n",
      "12위. 닐 무파이 : 4득점\n",
      "13위. 디오고 조타 : 4득점\n",
      "14위. 라울 히메네즈 : 4득점\n",
      "15위. 사디오 마네 : 4득점\n",
      "16위. 잭 그릴리쉬 : 4득점\n",
      "17위. 티모 베르너 : 4득점\n",
      "18위. 미카일 안토니오 : 3득점\n",
      "19위. 보비 레이드 : 3득점\n",
      "20위. 알렉상드르 라카제트 : 3득점\n",
      "{'도미닉 칼버트 르윈': 10, '손흥민': 9, '모하메드 살라': 8, '제이미 바디': 8, '패트릭 뱀포드': 7, '해리 케인': 7, '브루노 페르난데스': 6, '올리 왓킨스': 6, '칼럼 윌슨': 6, '대니 잉스': 5, '윌프레드 자하': 5, '닐 무파이': 4, '디오고 조타': 4, '라울 히메네즈': 4, '사디오 마네': 4, '잭 그릴리쉬': 4, '티모 베르너': 4, '미카일 안토니오': 3, '보비 레이드': 3, '알렉상드르 라카제트': 3}\n"
     ]
    }
   ],
   "source": [
    "for i in range(len(li)):\n",
    "    print('{0}위. {1} : {2}득점'.format(i+1, li2[i], li[i]))\n",
    "\n",
    "dic = {}\n",
    "for j in range(len(li2)):\n",
    "    dic[li2[j]] = li[j]\n",
    "print(dic)"
   ]
  },
  {
   "cell_type": "code",
   "execution_count": 64,
   "metadata": {},
   "outputs": [
    {
     "name": "stdout",
     "output_type": "stream",
     "text": [
      "['도미닉 칼버트 르윈', '손흥민', '모하메드 살라', '제이미 바디', '패트릭 뱀포드', '해리 케인', '브루노 페르난데스', '올리 왓킨스', '칼럼 윌슨', '대니 잉스', '윌프레드 자하', '닐 무파이', '디오고 조타', '라울 히메네즈', '사디오 마네', '잭 그릴리쉬', '티모 베르너', '미카일 안토니오', '보비 레이드', '알렉상드르 라카제트']\n",
      "[10, 9, 8, 8, 7, 7, 6, 6, 6, 5, 5, 4, 4, 4, 4, 4, 4, 3, 3, 3]\n"
     ]
    }
   ],
   "source": [
    "import numpy as np\n",
    "import pandas as pd\n",
    "import matplotlib.pyplot as plt\n",
    "\n",
    "li3 = []\n",
    "li4 = []\n",
    "# print(dic)\n",
    "\n",
    "for i in dic:\n",
    "    li3.append(i)\n",
    "    li4.append(dic[i])\n",
    "    \n",
    "print(li3)\n",
    "print(li4)"
   ]
  },
  {
   "cell_type": "code",
   "execution_count": 74,
   "metadata": {},
   "outputs": [
    {
     "data": {
      "image/png": "[encoded data removed]",
      "text/plain": [
       "<Figure size 432x288 with 1 Axes>"
      ]
     },
     "metadata": {
      "needs_background": "light"
     },
     "output_type": "display_data"
    }
   ],
   "source": [
    "#-*- coding:utf-8 -*-\n",
    "# import sys \n",
    "# reload(sys) \n",
    "# sys.setdefaultencoding('cp949')\n",
    "\n",
    "plt.bar(li3, li4)\n",
    "plt.show()"
   ]
  },
  {
   "cell_type": "code",
   "execution_count": null,
   "metadata": {},
   "outputs": [],
   "source": []
  },
  {
   "cell_type": "code",
   "execution_count": null,
   "metadata": {},
   "outputs": [],
   "source": []
  }
 ],
 "metadata": {
  "kernelspec": {
   "display_name": "Python 3",
   "language": "python",
   "name": "python3"
  },
  "language_info": {
   "codemirror_mode": {
    "name": "ipython",
    "version": 3
   },
   "file_extension": ".py",
   "mimetype": "text/x-python",
   "name": "python",
   "nbconvert_exporter": "python",
   "pygments_lexer": "ipython3",
   "version": "3.7.9"
  }
 },
 "nbformat": 4,
 "nbformat_minor": 4
}
