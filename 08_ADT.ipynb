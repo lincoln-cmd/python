{
 "cells": [
  {
   "cell_type": "code",
   "execution_count": 1,
   "metadata": {},
   "outputs": [],
   "source": [
    "# ADT : 추상데이터타입\n",
    "# Abstract Data Type\n",
    "# 기본적인 수학적 모델\n",
    "# 각기 클래스는 다르지만 기능적으로 동일하게 구현된 자료구조\n",
    "# 배열기반, 포인터 기반\n",
    "# 배열 기반 추상 데이터 타입\n",
    "# 문자열, 리스트, 튜플, 딕셔너리\n",
    "\n"
   ]
  },
  {
   "cell_type": "code",
   "execution_count": 8,
   "metadata": {},
   "outputs": [
    {
     "name": "stdout",
     "output_type": "stream",
     "text": [
      "스택이 비어있습니까? True\n",
      "스택에 값을 추갑합니다.\n",
      "스택이 비어있습니까? False\n",
      "peek : 10\n",
      "스택의 크기 : 11\n",
      "pop : 10\n",
      "peek : 9\n",
      "[0, 1, 2, 3, 4, 5, 6, 7, 8, 9]\n"
     ]
    }
   ],
   "source": [
    "# Stack : 쌓아놓을 수 있는 물건\n",
    "# LIFO(Last In, First Out : 후입선출)\n",
    "# push : 스택에 맨 끝에 항목을 삽입(맨 위)\n",
    "# pop : 스택의 맨 끝 항목을 반환하는 동시에 제거\n",
    "# top / peek : 스택의 맨 끝 항목을 조회\n",
    "# size : 스택의 크기를 확인\n",
    "# empty : 스택이 비어있는지 확인\n",
    "\n",
    "class Stack(object):\n",
    "    def __init__(self):\n",
    "        self.items = []\n",
    "        \n",
    "    def isEmpty(self):\n",
    "        return not bool(self.items)\n",
    "    \n",
    "    def push(self, value):\n",
    "        self.items.append(value)\n",
    "        \n",
    "    def pop(self):\n",
    "        value = self.items.pop()\n",
    "        if value is not None:\n",
    "            return value\n",
    "        else:\n",
    "            print('Stack is Empty')\n",
    "        \n",
    "    def size(self):\n",
    "        return len(self.items)\n",
    "    \n",
    "    def peek(self):\n",
    "        if self.items:\n",
    "            return self.items[-1]\n",
    "        else:\n",
    "            print('Stack is Empty')\n",
    "            \n",
    "    def __repr__(self):\n",
    "        return repr(self.items)\n",
    "    \n",
    "if __name__ == \"__main__\":\n",
    "    stack = Stack()\n",
    "    print('스택이 비어있습니까? {0}'.format(stack.isEmpty()))\n",
    "    print('스택에 값을 추갑합니다.')\n",
    "    for i in range(11):\n",
    "        stack.push(i)\n",
    "    print('스택이 비어있습니까? {0}'.format(stack.isEmpty()))\n",
    "    print('peek : {0}'.format(stack.peek()))\n",
    "    print('스택의 크기 : {0}'.format(stack.size()))\n",
    "    print('pop : {0}'.format(stack.pop()))\n",
    "    print('peek : {0}'.format(stack.peek()))\n",
    "    print(stack)"
   ]
  },
  {
   "cell_type": "code",
   "execution_count": 7,
   "metadata": {},
   "outputs": [
    {
     "name": "stdout",
     "output_type": "stream",
     "text": [
      "스택이 비어있습니까? True\n",
      "스택에 값을 추가합니다.\n",
      "스택이 비어있습니까? False\n"
     ]
    },
    {
     "ename": "AttributeError",
     "evalue": "'Stack' object has no attribute 'value'",
     "output_type": "error",
     "traceback": [
      "\u001b[1;31m---------------------------------------------------------------------------\u001b[0m",
      "\u001b[1;31mAttributeError\u001b[0m                            Traceback (most recent call last)",
      "\u001b[1;32m<ipython-input-7-67266b1ecc18>\u001b[0m in \u001b[0;36m<module>\u001b[1;34m\u001b[0m\n\u001b[0;32m     48\u001b[0m         \u001b[0mstack\u001b[0m\u001b[1;33m.\u001b[0m\u001b[0mpush\u001b[0m\u001b[1;33m(\u001b[0m\u001b[0mi\u001b[0m\u001b[1;33m)\u001b[0m\u001b[1;33m\u001b[0m\u001b[1;33m\u001b[0m\u001b[0m\n\u001b[0;32m     49\u001b[0m     \u001b[0mprint\u001b[0m\u001b[1;33m(\u001b[0m\u001b[1;34m'스택이 비어있습니까? {0}'\u001b[0m\u001b[1;33m.\u001b[0m\u001b[0mformat\u001b[0m\u001b[1;33m(\u001b[0m\u001b[0mstack\u001b[0m\u001b[1;33m.\u001b[0m\u001b[0misEmpty\u001b[0m\u001b[1;33m(\u001b[0m\u001b[1;33m)\u001b[0m\u001b[1;33m)\u001b[0m\u001b[1;33m)\u001b[0m\u001b[1;33m\u001b[0m\u001b[1;33m\u001b[0m\u001b[0m\n\u001b[1;32m---> 50\u001b[1;33m     \u001b[0mprint\u001b[0m\u001b[1;33m(\u001b[0m\u001b[1;34m'peek : {0}'\u001b[0m\u001b[1;33m.\u001b[0m\u001b[0mformat\u001b[0m\u001b[1;33m(\u001b[0m\u001b[0mstack\u001b[0m\u001b[1;33m.\u001b[0m\u001b[0mpeek\u001b[0m\u001b[1;33m(\u001b[0m\u001b[1;33m)\u001b[0m\u001b[1;33m)\u001b[0m\u001b[1;33m)\u001b[0m\u001b[1;33m\u001b[0m\u001b[1;33m\u001b[0m\u001b[0m\n\u001b[0m\u001b[0;32m     51\u001b[0m     \u001b[0mprint\u001b[0m\u001b[1;33m(\u001b[0m\u001b[1;34m'스택의 크기 : {0}'\u001b[0m\u001b[1;33m.\u001b[0m\u001b[0mformat\u001b[0m\u001b[1;33m(\u001b[0m\u001b[0mstack\u001b[0m\u001b[1;33m.\u001b[0m\u001b[0msize\u001b[0m\u001b[1;33m(\u001b[0m\u001b[1;33m)\u001b[0m\u001b[1;33m)\u001b[0m\u001b[1;33m)\u001b[0m\u001b[1;33m\u001b[0m\u001b[1;33m\u001b[0m\u001b[0m\n\u001b[0;32m     52\u001b[0m     \u001b[0mprint\u001b[0m\u001b[1;33m(\u001b[0m\u001b[1;34m'pop : {0}'\u001b[0m\u001b[1;33m.\u001b[0m\u001b[0mformat\u001b[0m\u001b[1;33m(\u001b[0m\u001b[0mstack\u001b[0m\u001b[1;33m.\u001b[0m\u001b[0mpop\u001b[0m\u001b[1;33m(\u001b[0m\u001b[1;33m)\u001b[0m\u001b[1;33m)\u001b[0m\u001b[1;33m)\u001b[0m\u001b[1;33m\u001b[0m\u001b[1;33m\u001b[0m\u001b[0m\n",
      "\u001b[1;32m<ipython-input-7-67266b1ecc18>\u001b[0m in \u001b[0;36mpeek\u001b[1;34m(self)\u001b[0m\n\u001b[0;32m     28\u001b[0m \u001b[1;33m\u001b[0m\u001b[0m\n\u001b[0;32m     29\u001b[0m     \u001b[1;32mdef\u001b[0m \u001b[0mpeek\u001b[0m\u001b[1;33m(\u001b[0m\u001b[0mself\u001b[0m\u001b[1;33m)\u001b[0m\u001b[1;33m:\u001b[0m\u001b[1;33m\u001b[0m\u001b[1;33m\u001b[0m\u001b[0m\n\u001b[1;32m---> 30\u001b[1;33m         \u001b[1;32mreturn\u001b[0m \u001b[0mself\u001b[0m\u001b[1;33m.\u001b[0m\u001b[0mvalue\u001b[0m\u001b[1;33m[\u001b[0m\u001b[1;33m-\u001b[0m\u001b[1;36m1\u001b[0m\u001b[1;33m]\u001b[0m\u001b[1;33m\u001b[0m\u001b[1;33m\u001b[0m\u001b[0m\n\u001b[0m\u001b[0;32m     31\u001b[0m \u001b[1;33m\u001b[0m\u001b[0m\n\u001b[0;32m     32\u001b[0m \u001b[1;33m\u001b[0m\u001b[0m\n",
      "\u001b[1;31mAttributeError\u001b[0m: 'Stack' object has no attribute 'value'"
     ]
    }
   ],
   "source": [
    "# 컨테이너를 이용해서 스택을 구현\n",
    "class Node(object):\n",
    "    def __init__(self, value = None, pointer = None):\n",
    "        self.value = value # head가 가지고 있는 값\n",
    "        self.pointer = pointer\n",
    "        \n",
    "class Stack(object):\n",
    "    def __init__(self):\n",
    "        self.head = None\n",
    "        self.count = 0 # 스택 수?\n",
    "        \n",
    "    def isEmpty(self):\n",
    "        return not bool(self.head)\n",
    "    \n",
    "    def push(self, item):\n",
    "        self.head = Node(item, self.head) # value에 item, self.head에 pointer를 넣어줘서 연결\n",
    "        self.count += 1\n",
    "        \n",
    "    def size(self):\n",
    "        return self.count\n",
    "    \n",
    "    # pop, peek\n",
    "    def pop(self):\n",
    "        value = self.value.pop()\n",
    "        if value is not None:\n",
    "            return value\n",
    "        \n",
    "        \n",
    "    def peek(self):\n",
    "        return self.value[-1]\n",
    "        \n",
    "    \n",
    "    \n",
    "    \n",
    "    # stack출력\n",
    "    def _print(self):\n",
    "        node = self.head\n",
    "        while node:\n",
    "            print(node.value, end='')\n",
    "            node = node.pointer\n",
    "        print()\n",
    "        \n",
    "if __name__ == \"__main__\":\n",
    "    stack = Stack()\n",
    "    print(\"스택이 비어있습니까? {0}\".format(stack.isEmpty()))\n",
    "    print('스택에 값을 추가합니다.')\n",
    "    for i in range(11):\n",
    "        stack.push(i)\n",
    "    print('스택이 비어있습니까? {0}'.format(stack.isEmpty()))\n",
    "    print('peek : {0}'.format(stack.peek()))\n",
    "    print('스택의 크기 : {0}'.format(stack.size()))\n",
    "    print('pop : {0}'.format(stack.pop()))\n",
    "    print('peek : {0}'.format(stack.peek()))\n",
    "    print(stack)"
   ]
  },
  {
   "cell_type": "code",
   "execution_count": null,
   "metadata": {},
   "outputs": [],
   "source": [
    "# 과제 : 컨테이너를 이용해서 스택 구현 만들기"
   ]
  },
  {
   "cell_type": "code",
   "execution_count": 17,
   "metadata": {},
   "outputs": [
    {
     "name": "stdout",
     "output_type": "stream",
     "text": [
      "스택이 비어있습니까? True\n",
      "스택에 값을 추가합니다.\n",
      "0\n",
      "None\n",
      "10\n",
      "None\n",
      "210\n",
      "None\n",
      "3210\n",
      "None\n",
      "43210\n",
      "None\n",
      "543210\n",
      "None\n",
      "6543210\n",
      "None\n",
      "76543210\n",
      "None\n",
      "876543210\n",
      "None\n",
      "9876543210\n",
      "None\n",
      "109876543210\n",
      "None\n",
      "109876543210\n",
      "pop : 10\n",
      "peek : 9\n",
      "size : 10\n"
     ]
    }
   ],
   "source": [
    "# 답\n",
    "class Node(object):\n",
    "    def __init__(self, value = None, pointer = None):\n",
    "        self.value = value # head가 가지고 있는 값\n",
    "        self.pointer = pointer\n",
    "        \n",
    "class Stack(object):\n",
    "    def __init__(self):\n",
    "        self.head = None\n",
    "        self.count = 0 # 스택 수?\n",
    "        \n",
    "    def isEmpty(self):\n",
    "        return not bool(self.head)\n",
    "    \n",
    "    def push(self, item):\n",
    "        self.head = Node(item, self.head) # value에 item, self.head에 pointer를 넣어줘서 연결\n",
    "        self.count += 1\n",
    "        \n",
    "    def size(self):\n",
    "        return self.count\n",
    "    \n",
    "\n",
    "    def pop(self):\n",
    "        # count의 개수, self.head 유무\n",
    "        if self.count > 0 and self.head:\n",
    "            node = self.head\n",
    "            self.head = node.pointer\n",
    "            self.count -= 1\n",
    "            return node.value\n",
    "        else:\n",
    "            return ('Stack is Empty')\n",
    "        \n",
    "        \n",
    "    def peek(self):\n",
    "        if self.count > 0 and self.head:\n",
    "            return self.head.value\n",
    "            \n",
    "        \n",
    "\n",
    "    def _print(self):\n",
    "        node = self.head\n",
    "        while node:\n",
    "            print(node.value, end='')\n",
    "            node = node.pointer\n",
    "        print()\n",
    "        \n",
    "\n",
    "if __name__ == \"__main__\":\n",
    "    stack = Stack()\n",
    "    print(\"스택이 비어있습니까? {0}\".format(stack.isEmpty()))\n",
    "    print('스택에 값을 추가합니다.')\n",
    "    for i in range(11):\n",
    "        stack.push(i)\n",
    "        stack._print()\n",
    "    stack._print()\n",
    "    print('pop : {0}'.format(stack.pop()))\n",
    "    print('peek : {0}'.format(stack.peek()))\n",
    "    print('size : {0}'.format(stack.size()))"
   ]
  },
  {
   "cell_type": "code",
   "execution_count": 18,
   "metadata": {},
   "outputs": [],
   "source": [
    "# 노드의 장점\n",
    "# 삽입, 삭제가 쉽다.\n",
    "# 연속된 메모리의 공간이 필요없다.\n",
    "# 크기 제한도 없다.\n",
    "\n",
    "\n",
    "# 노드의 단점\n",
    "# 구현이 어려움\n",
    "# 오류가 발생하기 쉽다."
   ]
  },
  {
   "cell_type": "code",
   "execution_count": 10,
   "metadata": {
    "scrolled": true
   },
   "outputs": [
    {
     "name": "stdout",
     "output_type": "stream",
     "text": [
      "큐가 비었는지 확인 : True\n",
      "큐에 값을 넣습니다.\n",
      "큐의 크기 : 3\n",
      "[3, 2, 1]\n",
      "dequeue를 통해 삭제합니다.\n",
      "[3, 2]\n",
      "queue에 값을 넣습니다.\n",
      "[10, 3]\n",
      "peek : 3\n"
     ]
    }
   ],
   "source": [
    "# Queue(큐)\n",
    "# 스택과는 다르게 들어온 순서대로 접근이 가능합니다.\n",
    "# stack -> LIFO(Last In, First Out)\n",
    "# queue -> FiFO(First In, First Out)\n",
    "# 배열의 인덱스의 접근이 제한\n",
    "\n",
    "# enqueue : 큐 뒤쪽에 항목을 삽입\n",
    "# dequeue : 큐 앞쪽에 항목을 반환하고 삭제\n",
    "# peek / front : 큐 앞쪽의 항목을 조회\n",
    "# empty : 큐가 비어있는지 확인\n",
    "# size : 큐의 크기를 확인\n",
    "\n",
    "\n",
    "class Queue(object):\n",
    "    def __init__(self):\n",
    "        self.items = []\n",
    "        \n",
    "    def isEmpty(self):\n",
    "        return not bool(self.items)\n",
    "    \n",
    "    def enqueue(self, item): # 큐는 -1부터 시작\n",
    "        self.items.insert(0, item)\n",
    "#         self.items.append(item)\n",
    "        \n",
    "    def dequeue(self):\n",
    "        value = self.items.pop()\n",
    "        if value is not None:\n",
    "            return value\n",
    "        else:\n",
    "            print('Queue is Empty')\n",
    "            \n",
    "    def size(self):\n",
    "        return len(self.items)\n",
    "            \n",
    "    def peek(self):\n",
    "        if self.items:\n",
    "            return self.items[-1]\n",
    "        else:\n",
    "            print('Queue is Empty')\n",
    "            \n",
    "    def __repr__(self):\n",
    "        return repr(self.items)\n",
    "        \n",
    "        \n",
    "if __name__ == \"__main__\":\n",
    "    queue = Queue()\n",
    "    print('큐가 비었는지 확인 : {0}'.format(queue.isEmpty()))\n",
    "    print('큐에 값을 넣습니다.')\n",
    "    for i in range(1,4):\n",
    "        queue.enqueue(i)\n",
    "    print('큐의 크기 : {0}'.format(queue.size()))\n",
    "    print(queue)\n",
    "    print('dequeue를 통해 삭제합니다.')\n",
    "    queue.dequeue()\n",
    "    print(queue)\n",
    "    queue.dequeue()\n",
    "    print('queue에 값을 넣습니다.')\n",
    "    queue.enqueue(10)\n",
    "    print(queue)\n",
    "    print('peek : {0}'.format(queue.peek()))"
   ]
  },
  {
   "cell_type": "code",
   "execution_count": 8,
   "metadata": {},
   "outputs": [
    {
     "name": "stdout",
     "output_type": "stream",
     "text": [
      "큐가 비었는지 확인 합니다. : Queue is Empty;\n",
      "큐에 값을 추가합니다.\n",
      "큐가 비었는지 확인 합니다. : Queue is Empty;\n",
      "count : 10\n",
      "큐에 값을 제거합니다\n",
      "count : 8\n"
     ]
    },
    {
     "ename": "NameError",
     "evalue": "name 'value' is not defined",
     "output_type": "error",
     "traceback": [
      "\u001b[1;31m---------------------------------------------------------------------------\u001b[0m",
      "\u001b[1;31mNameError\u001b[0m                                 Traceback (most recent call last)",
      "\u001b[1;32m<ipython-input-8-e62d541e8b3f>\u001b[0m in \u001b[0;36m<module>\u001b[1;34m\u001b[0m\n\u001b[0;32m     56\u001b[0m     \u001b[0mlink\u001b[0m\u001b[1;33m.\u001b[0m\u001b[0mdequeue\u001b[0m\u001b[1;33m(\u001b[0m\u001b[1;33m)\u001b[0m\u001b[1;33m\u001b[0m\u001b[1;33m\u001b[0m\u001b[0m\n\u001b[0;32m     57\u001b[0m     \u001b[0mprint\u001b[0m\u001b[1;33m(\u001b[0m\u001b[1;34m'count : {0}'\u001b[0m\u001b[1;33m.\u001b[0m\u001b[0mformat\u001b[0m\u001b[1;33m(\u001b[0m\u001b[0mlink\u001b[0m\u001b[1;33m.\u001b[0m\u001b[0msize\u001b[0m\u001b[1;33m(\u001b[0m\u001b[1;33m)\u001b[0m\u001b[1;33m)\u001b[0m\u001b[1;33m)\u001b[0m\u001b[1;33m\u001b[0m\u001b[1;33m\u001b[0m\u001b[0m\n\u001b[1;32m---> 58\u001b[1;33m     \u001b[0mprint\u001b[0m\u001b[1;33m(\u001b[0m\u001b[0mlink\u001b[0m\u001b[1;33m)\u001b[0m\u001b[1;33m\u001b[0m\u001b[1;33m\u001b[0m\u001b[0m\n\u001b[0m",
      "\u001b[1;32m<ipython-input-8-e62d541e8b3f>\u001b[0m in \u001b[0;36m__repr__\u001b[1;34m(self)\u001b[0m\n\u001b[0;32m     36\u001b[0m \u001b[1;33m\u001b[0m\u001b[0m\n\u001b[0;32m     37\u001b[0m     \u001b[1;32mdef\u001b[0m \u001b[0m__repr__\u001b[0m\u001b[1;33m(\u001b[0m\u001b[0mself\u001b[0m\u001b[1;33m)\u001b[0m\u001b[1;33m:\u001b[0m\u001b[1;33m\u001b[0m\u001b[1;33m\u001b[0m\u001b[0m\n\u001b[1;32m---> 38\u001b[1;33m         \u001b[1;32mreturn\u001b[0m \u001b[0mrepr\u001b[0m\u001b[1;33m(\u001b[0m\u001b[0mvalue\u001b[0m\u001b[1;33m)\u001b[0m\u001b[1;33m\u001b[0m\u001b[1;33m\u001b[0m\u001b[0m\n\u001b[0m\u001b[0;32m     39\u001b[0m \u001b[1;33m\u001b[0m\u001b[0m\n\u001b[0;32m     40\u001b[0m     \u001b[1;32mdef\u001b[0m \u001b[0misEmpty\u001b[0m\u001b[1;33m(\u001b[0m\u001b[0mself\u001b[0m\u001b[1;33m)\u001b[0m\u001b[1;33m:\u001b[0m\u001b[1;33m\u001b[0m\u001b[1;33m\u001b[0m\u001b[0m\n",
      "\u001b[1;31mNameError\u001b[0m: name 'value' is not defined"
     ]
    }
   ],
   "source": [
    "# assignment\n",
    "class Node(object):\n",
    "    def __init__(self, value=None, pointer=None):\n",
    "        self.value = value\n",
    "        self.pointer = pointer\n",
    "        \n",
    "class LinkedQueue(object):\n",
    "    def __init__(self):\n",
    "        self.head = None\n",
    "        self.tail = None\n",
    "        self.count = 0\n",
    "        self.values = []\n",
    "        \n",
    "    def dequeue(self):\n",
    "        if self.head:\n",
    "            value = self.head.value\n",
    "            self.head = self.head.pointer\n",
    "            self.count -= 1\n",
    "            return value\n",
    "        else:\n",
    "            print('Queue is Empty')\n",
    "            \n",
    "    def enqueue(self, value):\n",
    "        node = Node(value)\n",
    "        if not self.head:\n",
    "            self.head = node\n",
    "            self.tail = node\n",
    "        else:\n",
    "            if self.tail:\n",
    "                self.tail.pointer = node\n",
    "            self.tail = node\n",
    "        self.count += 1\n",
    "        \n",
    "    def size(self):\n",
    "        return self.count\n",
    "        \n",
    "    def __repr__(self):\n",
    "        return repr(value)\n",
    "        \n",
    "    def isEmpty(self):\n",
    "        if self.count < 1:\n",
    "            return('Queue is Empty')\n",
    "        else:\n",
    "            return self.value\n",
    "        \n",
    "if __name__ == \"__main__\":\n",
    "    link = LinkedQueue()\n",
    "    print('큐가 비었는지 확인 합니다. : {0};'.format(link.isEmpty()))\n",
    "    print('큐에 값을 추가합니다.')\n",
    "    print('큐가 비었는지 확인 합니다. : {0};'.format(link.isEmpty()))\n",
    "    for i in range(1,11):\n",
    "        link.enqueue(i)\n",
    "    print('count : {0}'.format(link.size()))\n",
    "    print('큐에 값을 제거합니다')\n",
    "    link.dequeue()\n",
    "    link.dequeue()\n",
    "    print('count : {0}'.format(link.size()))\n",
    "    print(link)"
   ]
  },
  {
   "cell_type": "code",
   "execution_count": 5,
   "metadata": {
    "scrolled": true
   },
   "outputs": [
    {
     "name": "stdout",
     "output_type": "stream",
     "text": [
      "큐가 비어있는지 확인 : True\n",
      "큐에값을 추가\n",
      "h :  <__main__.Node object at 0x0000018875562E48>\n",
      "tail :  <__main__.Node object at 0x0000018875562E48>\n",
      "h :  <__main__.Node object at 0x0000018875562E48>\n",
      "tail :  <__main__.Node object at 0x00000188756A5788>\n",
      "h :  <__main__.Node object at 0x0000018875562E48>\n",
      "tail :  <__main__.Node object at 0x00000188756A5748>\n",
      "h :  <__main__.Node object at 0x0000018875562E48>\n",
      "tail :  <__main__.Node object at 0x00000188756AF248>\n",
      "h :  <__main__.Node object at 0x0000018875562E48>\n",
      "tail :  <__main__.Node object at 0x00000188756A5F48>\n",
      "1 2 3 4 5 \n",
      "peek : 1\n",
      "dequeue : 1\n",
      "peek : 2\n",
      "2 3 4 5 \n"
     ]
    }
   ],
   "source": [
    "# answer\n",
    "class Node(object):\n",
    "    def __init__(self, value=None, pointer=None):\n",
    "        self.value = value\n",
    "        self.pointer = pointer\n",
    "        \n",
    "class LinkedQueue(object):\n",
    "    def __init__(self):\n",
    "        self.head = None\n",
    "        self.tail = None\n",
    "        self.count = 0\n",
    "        \n",
    "    def dequeue(self):\n",
    "        if self.head:\n",
    "            value = self.head.value\n",
    "            self.head = self.head.pointer\n",
    "            self.count -= 1\n",
    "            return value\n",
    "        else:\n",
    "            print('Queue is Empty')\n",
    "            \n",
    "    def enqueue(self, value):\n",
    "        node = Node(value)\n",
    "        if not self.head:\n",
    "            self.head = node # Node의 value와 tail을 LinkedQueue의 head와 tail에 각각 연결\n",
    "            self.tail = node # 4\\\n",
    "        else:\n",
    "            if self.tail:\n",
    "                self.tail.pointer = node\n",
    "            self.tail = node\n",
    "        self.count += 1\n",
    "        \n",
    "    def size(self):\n",
    "        return self.count\n",
    "        \n",
    "#     def __repr__(self):\n",
    "#         return repr(self.head.value)\n",
    "        \n",
    "    def isEmpty(self):\n",
    "        return not bool(self.head)\n",
    "        \n",
    "    def peek(self):\n",
    "        return self.head.value\n",
    "    \n",
    "    def _print(self):\n",
    "        node = self.head\n",
    "        while node:\n",
    "            print(node.value, end=' ')\n",
    "            node = node.pointer\n",
    "        print()\n",
    "        \n",
    "if __name__ == \"__main__\":\n",
    "    queue = LinkedQueue()\n",
    "    print('큐가 비어있는지 확인 : {0}'.format(queue.isEmpty()))\n",
    "    print('큐에값을 추가')\n",
    "    for i in range(1,6):\n",
    "        queue.enqueue(i)\n",
    "        print('h : ', queue.head)\n",
    "        print('tail : ',queue.tail)\n",
    "    queue._print()\n",
    "    print('peek : {0}'.format(queue.peek()))\n",
    "    print('dequeue : {0}'.format(queue.dequeue()))\n",
    "    print('peek : {0}'.format(queue.peek()))\n",
    "    queue._print()"
   ]
  },
  {
   "cell_type": "code",
   "execution_count": 22,
   "metadata": {},
   "outputs": [
    {
     "name": "stdout",
     "output_type": "stream",
     "text": [
      "Deque이 비어있는지 확인 True\n",
      "값을 넣습니다.\n",
      "Deque : 0\n",
      "[4, 3, 2, 1]\n",
      "[4, 3, 2, 1, 0]\n",
      "[3, 2, 1, 0]\n"
     ]
    }
   ],
   "source": [
    "# Deque(덱)\n",
    "# 스택과 큐의 집합체\n",
    "# 덱은 양족 끝에서 항목의 조회, 삽입, 삭제가 가능\n",
    "\n",
    "class Deque(Queue):\n",
    "    def enqueue_back(self, item):\n",
    "        self.items.append(item)\n",
    "    def dequeue_front(self):\n",
    "        value = self.items.pop(0)\n",
    "        if value is not None:\n",
    "            return value\n",
    "        else:\n",
    "            print('Deque is Empty')\n",
    "            \n",
    "if __name__ == \"__main__\":\n",
    "    deque = Deque()\n",
    "    print('Deque이 비어있는지 확인 {0}'.format(deque.isEmpty()))\n",
    "    print('값을 넣습니다.')\n",
    "    for i in range(5):\n",
    "        deque.enqueue(i)\n",
    "    print('Deque : {0}'.format(deque.dequeue()))\n",
    "    print(deque)\n",
    "    deque.enqueue_back(0)\n",
    "    print(deque)\n",
    "    deque.dequeue_front()\n",
    "    print(deque)"
   ]
  },
  {
   "cell_type": "code",
   "execution_count": 56,
   "metadata": {},
   "outputs": [
    {
     "name": "stdout",
     "output_type": "stream",
     "text": [
      "['__add__', '__bool__', '__class__', '__contains__', '__copy__', '__delattr__', '__delitem__', '__dir__', '__doc__', '__eq__', '__format__', '__ge__', '__getattribute__', '__getitem__', '__gt__', '__hash__', '__iadd__', '__imul__', '__init__', '__init_subclass__', '__iter__', '__le__', '__len__', '__lt__', '__mul__', '__ne__', '__new__', '__reduce__', '__reduce_ex__', '__repr__', '__reversed__', '__rmul__', '__setattr__', '__setitem__', '__sizeof__', '__str__', '__subclasshook__', 'append', 'appendleft', 'clear', 'copy', 'count', 'extend', 'extendleft', 'index', 'insert', 'maxlen', 'pop', 'popleft', 'remove', 'reverse', 'rotate']\n",
      "Help on method_descriptor:\n",
      "\n",
      "append(...)\n",
      "    Add an element to the right side of the deque.\n",
      "\n",
      "None\n",
      "Help on method_descriptor:\n",
      "\n",
      "insert(...)\n",
      "    D.insert(index, object) -- insert object before index\n",
      "\n",
      "None\n"
     ]
    },
    {
     "data": {
      "text/plain": [
       "[['한성', '진성', '대성']]"
      ]
     },
     "execution_count": 56,
     "metadata": {},
     "output_type": "execute_result"
    }
   ],
   "source": [
    "from collections import deque\n",
    "# 어떤 값을 넣고 출력\n",
    "# 덱을 선얼할 때 한성, 진성, 대성이라는 값을 넣고\n",
    "# 추가로 금성이라는 값을 넣습니다.\n",
    "# popleft를 사용한 뒤 덱을 호출하고\n",
    "# 그다음에 pop을 사용해서 다시한번 덱을 호출합니다.\n",
    "\n",
    "\n",
    "print(dir(deque))\n",
    "print(help(deque.append))\n",
    "print(help(deque.insert))\n",
    "a = ['한성','진성','대성']\n",
    "deque1 = []\n",
    "deque1.append(a)\n",
    "deque1"
   ]
  },
  {
   "cell_type": "code",
   "execution_count": 58,
   "metadata": {},
   "outputs": [
    {
     "name": "stdout",
     "output_type": "stream",
     "text": [
      "deque(['한성', '진성', '대성', '금성'])\n",
      "deque(['진성', '대성', '금성'])\n",
      "deque(['진성', '대성'])\n"
     ]
    }
   ],
   "source": [
    "from collections import deque\n",
    "q = deque(['한성','진성','대성'])\n",
    "q.append('금성')\n",
    "print(q)\n",
    "q.popleft()\n",
    "print(q)\n",
    "q.pop()\n",
    "print(q)"
   ]
  },
  {
   "cell_type": "code",
   "execution_count": 3,
   "metadata": {},
   "outputs": [
    {
     "data": {
      "text/plain": [
       "['__about__',\n",
       " '__all__',\n",
       " '__builtins__',\n",
       " '__cached__',\n",
       " '__doc__',\n",
       " '__file__',\n",
       " '__loader__',\n",
       " '__name__',\n",
       " '__package__',\n",
       " '__spec__',\n",
       " '_heapify_max',\n",
       " '_heappop_max',\n",
       " '_heapreplace_max',\n",
       " '_siftdown',\n",
       " '_siftdown_max',\n",
       " '_siftup',\n",
       " '_siftup_max',\n",
       " 'heapify',\n",
       " 'heappop',\n",
       " 'heappush',\n",
       " 'heappushpop',\n",
       " 'heapreplace',\n",
       " 'merge',\n",
       " 'nlargest',\n",
       " 'nsmallest']"
      ]
     },
     "execution_count": 3,
     "metadata": {},
     "output_type": "execute_result"
    }
   ],
   "source": [
    "# 우선순위 큐\n",
    "# 일반적인 스택, 큐와 비슷한 추상 데이터 타입\n",
    "# 각 항목마다 연관된 우선순위가 있다.\n",
    "# 두 항목의 우선순위가 같으면 큐의 순서에 따라 진행이 됩니다.\n",
    "# 힙이라는 추상 데이터 타입에 따라 구현이 됩니다.\n",
    "\n",
    "# 힙은 각 노드가 하위 노드보다 작은 이진 트리일때 사용합니다.\n",
    "import heapq\n",
    "dir(heapq)"
   ]
  },
  {
   "cell_type": "code",
   "execution_count": 6,
   "metadata": {},
   "outputs": [
    {
     "data": {
      "text/plain": [
       "[1, 4, 2, 7]"
      ]
     },
     "execution_count": 6,
     "metadata": {},
     "output_type": "execute_result"
    }
   ],
   "source": [
    "list1 = [4,7,2,1]\n",
    "# heapify : 우선순위 큐로 만들어주는 역할(힙으로 만들어 줌)\n",
    "heapq.heapify(list1)\n",
    "list1"
   ]
  },
  {
   "cell_type": "code",
   "execution_count": 7,
   "metadata": {},
   "outputs": [
    {
     "name": "stdout",
     "output_type": "stream",
     "text": [
      "Help on built-in function heapify in module _heapq:\n",
      "\n",
      "heapify(...)\n",
      "    Transform list into a heap, in-place, in O(len(heap)) time.\n",
      "\n"
     ]
    }
   ],
   "source": [
    "help(heapq.heapify)"
   ]
  },
  {
   "cell_type": "code",
   "execution_count": 10,
   "metadata": {},
   "outputs": [
    {
     "data": {
      "text/plain": [
       "[(1, 2, 3, 4, 5)]"
      ]
     },
     "execution_count": 10,
     "metadata": {},
     "output_type": "execute_result"
    }
   ],
   "source": [
    "# heapq.heappush(heap, (값))\n",
    "h = []\n",
    "heapq.heappush(h, (1,'stack'))\n",
    "heapq.heappush(h, (2,'queue'))\n",
    "l = []\n",
    "h\n",
    "# heapq.heappush(l, (1,2,3,4,5))\n",
    "# l"
   ]
  },
  {
   "cell_type": "code",
   "execution_count": 12,
   "metadata": {},
   "outputs": [
    {
     "data": {
      "text/plain": [
       "[(2, 'queue')]"
      ]
     },
     "execution_count": 12,
     "metadata": {},
     "output_type": "execute_result"
    }
   ],
   "source": [
    "# heapq.heappop(heap)\n",
    "# 힙에서가장 작은 항목을 제거하고 반환\n",
    "heapq.heappop(h)\n",
    "h"
   ]
  },
  {
   "cell_type": "code",
   "execution_count": null,
   "metadata": {},
   "outputs": [],
   "source": [
    "# heap : \n",
    "# 1. 최대힙(최대이진트리) : 부모노드가 자식노드보다 큰 완전이진트리\n",
    "# 2. 최소힙(최소이진트리) : 자식노드가 부모노드보다 큰 완전이진트리\n",
    "\n",
    "# 힙 구현 방법 : 완전이진트리. 노드에 번호를 붙인다.(인덱스)\n",
    "# L : 부모인덱스 x 2, R : 부모인덱스 x 2 + 1\n",
    "# 비선형구조, 선형구조??"
   ]
  }
 ],
 "metadata": {
  "kernelspec": {
   "display_name": "Python 3",
   "language": "python",
   "name": "python3"
  },
  "language_info": {
   "codemirror_mode": {
    "name": "ipython",
    "version": 3
   },
   "file_extension": ".py",
   "mimetype": "text/x-python",
   "name": "python",
   "nbconvert_exporter": "python",
   "pygments_lexer": "ipython3",
   "version": "3.7.6"
  }
 },
 "nbformat": 4,
 "nbformat_minor": 4
}
