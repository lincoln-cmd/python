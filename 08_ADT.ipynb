{
 "cells": [
  {
   "cell_type": "code",
   "execution_count": 1,
   "metadata": {},
   "outputs": [],
   "source": [
    "# ADT : 추상데이터타입\n",
    "# Abstract Data Type\n",
    "# 기본적인 수학적 모델\n",
    "# 각기 클래스는 다르지만 기능적으로 동일하게 구현된 자료구조\n",
    "# 배열기반, 포인터 기반\n",
    "# 배열 기반 추상 데이터 타입\n",
    "# 문자열, 리스트, 튜플, 딕셔너리\n",
    "\n"
   ]
  },
  {
   "cell_type": "code",
   "execution_count": 8,
   "metadata": {},
   "outputs": [
    {
     "name": "stdout",
     "output_type": "stream",
     "text": [
      "스택이 비어있습니까? True\n",
      "스택에 값을 추갑합니다.\n",
      "스택이 비어있습니까? False\n",
      "peek : 10\n",
      "스택의 크기 : 11\n",
      "pop : 10\n",
      "peek : 9\n",
      "[0, 1, 2, 3, 4, 5, 6, 7, 8, 9]\n"
     ]
    }
   ],
   "source": [
    "# Stack : 쌓아놓을 수 있는 물건\n",
    "# LIFO(Last In, First Out : 후입선출)\n",
    "# push : 스택에 맨 끝에 항목을 삽입(맨 위)\n",
    "# pop : 스택의 맨 끝 항목을 반환하는 동시에 제거\n",
    "# top / peek : 스택의 맨 끝 항목을 조회\n",
    "# size : 스택의 크기를 확인\n",
    "# empty : 스택이 비어있는지 확인\n",
    "\n",
    "class Stack(object):\n",
    "    def __init__(self):\n",
    "        self.items = []\n",
    "        \n",
    "    def isEmpty(self):\n",
    "        return not bool(self.items)\n",
    "    \n",
    "    def push(self, value):\n",
    "        self.items.append(value)\n",
    "        \n",
    "    def pop(self):\n",
    "        value = self.items.pop()\n",
    "        if value is not None:\n",
    "            return value\n",
    "        else:\n",
    "            print('Stack is Empty')\n",
    "        \n",
    "    def size(self):\n",
    "        return len(self.items)\n",
    "    \n",
    "    def peek(self):\n",
    "        if self.items:\n",
    "            return self.items[-1]\n",
    "        else:\n",
    "            print('Stack is Empty')\n",
    "            \n",
    "    def __repr__(self):\n",
    "        return repr(self.items)\n",
    "    \n",
    "if __name__ == \"__main__\":\n",
    "    stack = Stack()\n",
    "    print('스택이 비어있습니까? {0}'.format(stack.isEmpty()))\n",
    "    print('스택에 값을 추갑합니다.')\n",
    "    for i in range(11):\n",
    "        stack.push(i)\n",
    "    print('스택이 비어있습니까? {0}'.format(stack.isEmpty()))\n",
    "    print('peek : {0}'.format(stack.peek()))\n",
    "    print('스택의 크기 : {0}'.format(stack.size()))\n",
    "    print('pop : {0}'.format(stack.pop()))\n",
    "    print('peek : {0}'.format(stack.peek()))\n",
    "    print(stack)"
   ]
  },
  {
   "cell_type": "code",
   "execution_count": 16,
   "metadata": {},
   "outputs": [
    {
     "ename": "SyntaxError",
     "evalue": "unexpected EOF while parsing (<ipython-input-16-6f64b51c0efc>, line 34)",
     "output_type": "error",
     "traceback": [
      "\u001b[1;36m  File \u001b[1;32m\"<ipython-input-16-6f64b51c0efc>\"\u001b[1;36m, line \u001b[1;32m34\u001b[0m\n\u001b[1;33m    if __name__ == \"__main__\":\u001b[0m\n\u001b[1;37m                              ^\u001b[0m\n\u001b[1;31mSyntaxError\u001b[0m\u001b[1;31m:\u001b[0m unexpected EOF while parsing\n"
     ]
    }
   ],
   "source": [
    "# 컨테이너를 이용해서 스택을 구현\n",
    "class Node(object):\n",
    "    def __init__(self, value = None, pointer = None):\n",
    "        self.value = value # head가 가지고 있는 값\n",
    "        self.pointer = pointer\n",
    "        \n",
    "class Stack(object):\n",
    "    def __init__(self):\n",
    "        self.head = None\n",
    "        self.count = 0\n",
    "        \n",
    "    def isEmpty(self):\n",
    "        return not bool(self.head)\n",
    "    \n",
    "    def push(self, item):\n",
    "        self.head = Node(item, self.head) # value에 item, self.head에 pointer를 넣어줘서 연결\n",
    "        self.count += 1\n",
    "        \n",
    "    def size(self):\n",
    "        return self.count\n",
    "    \n",
    "    # pop, peek\n",
    "    \n",
    "    \n",
    "    \n",
    "    # stack출력\n",
    "    def _print(self):\n",
    "        node = self.head\n",
    "        while node:\n",
    "            print(node.value, end='')\n",
    "            node = node.pointer\n",
    "        print()\n",
    "        \n",
    "if __name__ == \"__main__\":"
   ]
  },
  {
   "cell_type": "code",
   "execution_count": null,
   "metadata": {},
   "outputs": [],
   "source": [
    "# 과제 : 컨테이너를 이용해서 스택 구현 만들기"
   ]
  }
 ],
 "metadata": {
  "kernelspec": {
   "display_name": "Python 3",
   "language": "python",
   "name": "python3"
  },
  "language_info": {
   "codemirror_mode": {
    "name": "ipython",
    "version": 3
   },
   "file_extension": ".py",
   "mimetype": "text/x-python",
   "name": "python",
   "nbconvert_exporter": "python",
   "pygments_lexer": "ipython3",
   "version": "3.7.6"
  }
 },
 "nbformat": 4,
 "nbformat_minor": 4
}
